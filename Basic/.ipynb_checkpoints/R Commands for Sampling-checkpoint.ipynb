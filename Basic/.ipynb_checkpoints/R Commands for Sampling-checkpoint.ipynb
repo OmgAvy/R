{
 "cells": [
  {
   "cell_type": "markdown",
   "metadata": {},
   "source": [
    "**(a) R- commands for Sampling methods: Drawing a sample from population using SRSWR,\n",
    "SRSWOR, stratified random sampling, systematic sampling<br>\n",
    "(b) R- commands for t-distribution<br>\n",
    "(c) R- commands for Plots to check Normality**"
   ]
  },
  {
   "attachments": {
    "1.png": {
     "image/png": "[encoded data removed]"
    }
   },
   "cell_type": "markdown",
   "metadata": {},
   "source": [
    "#### R- Commands for sampling methods:\n",
    "We often need to actually draw a random sample from a sample frame (Population).\n",
    "##### simple random sample:\n",
    "sample(x, size, replace=FALSE).\n",
    "\n",
    "Its arguments are:\n",
    "![1.png](attachment:1.png)"
   ]
  },
  {
   "cell_type": "markdown",
   "metadata": {},
   "source": [
    "By default the sample function uses the internal clock value to initialize the random\n",
    "number stream that it uses to obtain a random sample from x."
   ]
  },
  {
   "cell_type": "code",
   "execution_count": 90,
   "metadata": {},
   "outputs": [
    {
     "data": {
      "text/html": [
       "<style>\n",
       ".list-inline {list-style: none; margin:0; padding: 0}\n",
       ".list-inline>li {display: inline-block}\n",
       ".list-inline>li:not(:last-child)::after {content: \"\\00b7\"; padding: 0 .5ex}\n",
       "</style>\n",
       "<ol class=list-inline><li>1</li><li>2</li><li>3</li><li>4</li><li>5</li><li>6</li><li>7</li><li>8</li><li>9</li><li>10</li></ol>\n"
      ],
      "text/latex": [
       "\\begin{enumerate*}\n",
       "\\item 1\n",
       "\\item 2\n",
       "\\item 3\n",
       "\\item 4\n",
       "\\item 5\n",
       "\\item 6\n",
       "\\item 7\n",
       "\\item 8\n",
       "\\item 9\n",
       "\\item 10\n",
       "\\end{enumerate*}\n"
      ],
      "text/markdown": [
       "1. 1\n",
       "2. 2\n",
       "3. 3\n",
       "4. 4\n",
       "5. 5\n",
       "6. 6\n",
       "7. 7\n",
       "8. 8\n",
       "9. 9\n",
       "10. 10\n",
       "\n",
       "\n"
      ],
      "text/plain": [
       " [1]  1  2  3  4  5  6  7  8  9 10"
      ]
     },
     "metadata": {},
     "output_type": "display_data"
    }
   ],
   "source": [
    "x <- 1:10\n",
    "x"
   ]
  },
  {
   "cell_type": "markdown",
   "metadata": {},
   "source": [
    "There are a total of 10 C 3 = 120 possible simple random samples (without replacement) of\n",
    "size 3 that can be drawn from a population of 10 units."
   ]
  },
  {
   "cell_type": "code",
   "execution_count": 91,
   "metadata": {},
   "outputs": [
    {
     "data": {
      "text/html": [
       "120"
      ],
      "text/latex": [
       "120"
      ],
      "text/markdown": [
       "120"
      ],
      "text/plain": [
       "[1] 120"
      ]
     },
     "metadata": {},
     "output_type": "display_data"
    }
   ],
   "source": [
    "choose(10,3)"
   ]
  },
  {
   "cell_type": "markdown",
   "metadata": {},
   "source": [
    "To produce one of these samples in R we can use the sample function as follows."
   ]
  },
  {
   "cell_type": "code",
   "execution_count": 92,
   "metadata": {},
   "outputs": [
    {
     "data": {
      "text/html": [
       "<style>\n",
       ".list-inline {list-style: none; margin:0; padding: 0}\n",
       ".list-inline>li {display: inline-block}\n",
       ".list-inline>li:not(:last-child)::after {content: \"\\00b7\"; padding: 0 .5ex}\n",
       "</style>\n",
       "<ol class=list-inline><li>2</li><li>6</li><li>5</li></ol>\n"
      ],
      "text/latex": [
       "\\begin{enumerate*}\n",
       "\\item 2\n",
       "\\item 6\n",
       "\\item 5\n",
       "\\end{enumerate*}\n"
      ],
      "text/markdown": [
       "1. 2\n",
       "2. 6\n",
       "3. 5\n",
       "\n",
       "\n"
      ],
      "text/plain": [
       "[1] 2 6 5"
      ]
     },
     "metadata": {},
     "output_type": "display_data"
    }
   ],
   "source": [
    "sample(x,3)"
   ]
  },
  {
   "cell_type": "code",
   "execution_count": 93,
   "metadata": {},
   "outputs": [
    {
     "data": {
      "text/html": [
       "<style>\n",
       ".list-inline {list-style: none; margin:0; padding: 0}\n",
       ".list-inline>li {display: inline-block}\n",
       ".list-inline>li:not(:last-child)::after {content: \"\\00b7\"; padding: 0 .5ex}\n",
       "</style>\n",
       "<ol class=list-inline><li>8</li><li>9</li><li>1</li></ol>\n"
      ],
      "text/latex": [
       "\\begin{enumerate*}\n",
       "\\item 8\n",
       "\\item 9\n",
       "\\item 1\n",
       "\\end{enumerate*}\n"
      ],
      "text/markdown": [
       "1. 8\n",
       "2. 9\n",
       "3. 1\n",
       "\n",
       "\n"
      ],
      "text/plain": [
       "[1] 8 9 1"
      ]
     },
     "metadata": {},
     "output_type": "display_data"
    }
   ],
   "source": [
    "sample(x,3)"
   ]
  },
  {
   "cell_type": "code",
   "execution_count": 94,
   "metadata": {},
   "outputs": [
    {
     "data": {
      "text/html": [
       "<style>\n",
       ".list-inline {list-style: none; margin:0; padding: 0}\n",
       ".list-inline>li {display: inline-block}\n",
       ".list-inline>li:not(:last-child)::after {content: \"\\00b7\"; padding: 0 .5ex}\n",
       "</style>\n",
       "<ol class=list-inline><li>9</li><li>4</li><li>2</li><li>10</li><li>3</li></ol>\n"
      ],
      "text/latex": [
       "\\begin{enumerate*}\n",
       "\\item 9\n",
       "\\item 4\n",
       "\\item 2\n",
       "\\item 10\n",
       "\\item 3\n",
       "\\end{enumerate*}\n"
      ],
      "text/markdown": [
       "1. 9\n",
       "2. 4\n",
       "3. 2\n",
       "4. 10\n",
       "5. 3\n",
       "\n",
       "\n"
      ],
      "text/plain": [
       "[1]  9  4  2 10  3"
      ]
     },
     "metadata": {},
     "output_type": "display_data"
    }
   ],
   "source": [
    "sample(x,5)"
   ]
  },
  {
   "cell_type": "markdown",
   "metadata": {},
   "source": [
    "While drawing a sample with replacement, additional argument replace = T is used in\n",
    "above sample command"
   ]
  },
  {
   "cell_type": "code",
   "execution_count": 95,
   "metadata": {},
   "outputs": [
    {
     "data": {
      "text/html": [
       "<style>\n",
       ".list-inline {list-style: none; margin:0; padding: 0}\n",
       ".list-inline>li {display: inline-block}\n",
       ".list-inline>li:not(:last-child)::after {content: \"\\00b7\"; padding: 0 .5ex}\n",
       "</style>\n",
       "<ol class=list-inline><li>4</li><li>8</li><li>10</li><li>9</li><li>9</li></ol>\n"
      ],
      "text/latex": [
       "\\begin{enumerate*}\n",
       "\\item 4\n",
       "\\item 8\n",
       "\\item 10\n",
       "\\item 9\n",
       "\\item 9\n",
       "\\end{enumerate*}\n"
      ],
      "text/markdown": [
       "1. 4\n",
       "2. 8\n",
       "3. 10\n",
       "4. 9\n",
       "5. 9\n",
       "\n",
       "\n"
      ],
      "text/plain": [
       "[1]  4  8 10  9  9"
      ]
     },
     "metadata": {},
     "output_type": "display_data"
    }
   ],
   "source": [
    "sample(x,5, replace = T)"
   ]
  },
  {
   "cell_type": "code",
   "execution_count": 96,
   "metadata": {},
   "outputs": [
    {
     "data": {
      "text/html": [
       "<style>\n",
       ".list-inline {list-style: none; margin:0; padding: 0}\n",
       ".list-inline>li {display: inline-block}\n",
       ".list-inline>li:not(:last-child)::after {content: \"\\00b7\"; padding: 0 .5ex}\n",
       "</style>\n",
       "<ol class=list-inline><li>9</li><li>1</li><li>2</li><li>4</li><li>10</li></ol>\n"
      ],
      "text/latex": [
       "\\begin{enumerate*}\n",
       "\\item 9\n",
       "\\item 1\n",
       "\\item 2\n",
       "\\item 4\n",
       "\\item 10\n",
       "\\end{enumerate*}\n"
      ],
      "text/markdown": [
       "1. 9\n",
       "2. 1\n",
       "3. 2\n",
       "4. 4\n",
       "5. 10\n",
       "\n",
       "\n"
      ],
      "text/plain": [
       "[1]  9  1  2  4 10"
      ]
     },
     "metadata": {},
     "output_type": "display_data"
    }
   ],
   "source": [
    "sample(x,5, replace = T)"
   ]
  },
  {
   "attachments": {
    "2.png": {
     "image/png": "[encoded data removed]"
    },
    "3.png": {
     "image/png": "[encoded data removed]"
    }
   },
   "cell_type": "markdown",
   "metadata": {},
   "source": [
    "#### Stratified Random Sample:\n",
    "In a stratified sample, the population is assumed to consist of multiple subpopulations,\n",
    "called strata, and we take random samples separately from each. \n",
    "\n",
    "  Assume that population units from 1–10 make up stratum 1, elements from 11–18 make up stratum 2 and elements from 19–30 make up stratum 3. We will take our random sample of size 12 in a way that\n",
    "guarantees that a portion of the sample comes from each stratum.\n",
    "\n",
    "There are a number of methods for deciding how many elements to select from the\n",
    "different strata.\n",
    "\n",
    "1. Equal allocation: we select equal numbers of sample elements from each stratum.\n",
    "2. Proportional allocation: we choose elements in such a way that the proportion of elements that make up the various strata in our sample is identical to the proportion ofelements that make up the various strata in the population i.e. n h = n h/N\n",
    "3. Neyman allocation: choose elements based on the sizes of the population strata and their variances.\n",
    "![2.png](attachment:2.png)\n",
    "4. Optimal allocation: choose elements based on the sizes of the population strata, the variances of the population strata, and the costs of obtaining observations from each stratum\n",
    "![3.png](attachment:3.png)\n",
    "\n",
    "Consider proportional allocation\n",
    "\n",
    "Consider sample of size n = 15\n",
    "\n",
    "n1 = 15(10/30) = 5; n2 = 15(8/30) = 4;\n",
    "n3 = 15(12/30) = 6"
   ]
  },
  {
   "cell_type": "code",
   "execution_count": 97,
   "metadata": {},
   "outputs": [],
   "source": [
    "N1 = 10; N2 = 8; N3 = 12\n",
    "N = N1 + N2 + N3\n",
    "n = 15\n",
    "n1 = n*(N1/N); n2 = n*(N2/N); n3 = n*(N3/N)"
   ]
  },
  {
   "cell_type": "code",
   "execution_count": 98,
   "metadata": {},
   "outputs": [
    {
     "data": {
      "text/html": [
       "5"
      ],
      "text/latex": [
       "5"
      ],
      "text/markdown": [
       "5"
      ],
      "text/plain": [
       "[1] 5"
      ]
     },
     "metadata": {},
     "output_type": "display_data"
    },
    {
     "data": {
      "text/html": [
       "4"
      ],
      "text/latex": [
       "4"
      ],
      "text/markdown": [
       "4"
      ],
      "text/plain": [
       "[1] 4"
      ]
     },
     "metadata": {},
     "output_type": "display_data"
    },
    {
     "data": {
      "text/html": [
       "6"
      ],
      "text/latex": [
       "6"
      ],
      "text/markdown": [
       "6"
      ],
      "text/plain": [
       "[1] 6"
      ]
     },
     "metadata": {},
     "output_type": "display_data"
    }
   ],
   "source": [
    "n1; n2; n3"
   ]
  },
  {
   "cell_type": "code",
   "execution_count": 99,
   "metadata": {},
   "outputs": [],
   "source": [
    "stratum1 <- sample(1:10,n1)\n",
    "stratum2 <- sample(11:18,n2)\n",
    "stratum3 <- sample(19:30,n3)"
   ]
  },
  {
   "cell_type": "code",
   "execution_count": 100,
   "metadata": {},
   "outputs": [
    {
     "data": {
      "text/html": [
       "<style>\n",
       ".list-inline {list-style: none; margin:0; padding: 0}\n",
       ".list-inline>li {display: inline-block}\n",
       ".list-inline>li:not(:last-child)::after {content: \"\\00b7\"; padding: 0 .5ex}\n",
       "</style>\n",
       "<ol class=list-inline><li>1</li><li>2</li><li>4</li><li>3</li><li>9</li></ol>\n"
      ],
      "text/latex": [
       "\\begin{enumerate*}\n",
       "\\item 1\n",
       "\\item 2\n",
       "\\item 4\n",
       "\\item 3\n",
       "\\item 9\n",
       "\\end{enumerate*}\n"
      ],
      "text/markdown": [
       "1. 1\n",
       "2. 2\n",
       "3. 4\n",
       "4. 3\n",
       "5. 9\n",
       "\n",
       "\n"
      ],
      "text/plain": [
       "[1] 1 2 4 3 9"
      ]
     },
     "metadata": {},
     "output_type": "display_data"
    }
   ],
   "source": [
    "stratum1"
   ]
  },
  {
   "cell_type": "code",
   "execution_count": 101,
   "metadata": {},
   "outputs": [
    {
     "data": {
      "text/html": [
       "<style>\n",
       ".list-inline {list-style: none; margin:0; padding: 0}\n",
       ".list-inline>li {display: inline-block}\n",
       ".list-inline>li:not(:last-child)::after {content: \"\\00b7\"; padding: 0 .5ex}\n",
       "</style>\n",
       "<ol class=list-inline><li>15</li><li>17</li><li>16</li><li>18</li></ol>\n"
      ],
      "text/latex": [
       "\\begin{enumerate*}\n",
       "\\item 15\n",
       "\\item 17\n",
       "\\item 16\n",
       "\\item 18\n",
       "\\end{enumerate*}\n"
      ],
      "text/markdown": [
       "1. 15\n",
       "2. 17\n",
       "3. 16\n",
       "4. 18\n",
       "\n",
       "\n"
      ],
      "text/plain": [
       "[1] 15 17 16 18"
      ]
     },
     "metadata": {},
     "output_type": "display_data"
    }
   ],
   "source": [
    "stratum2"
   ]
  },
  {
   "cell_type": "code",
   "execution_count": 102,
   "metadata": {},
   "outputs": [
    {
     "data": {
      "text/html": [
       "<style>\n",
       ".list-inline {list-style: none; margin:0; padding: 0}\n",
       ".list-inline>li {display: inline-block}\n",
       ".list-inline>li:not(:last-child)::after {content: \"\\00b7\"; padding: 0 .5ex}\n",
       "</style>\n",
       "<ol class=list-inline><li>24</li><li>25</li><li>21</li><li>22</li><li>27</li><li>29</li></ol>\n"
      ],
      "text/latex": [
       "\\begin{enumerate*}\n",
       "\\item 24\n",
       "\\item 25\n",
       "\\item 21\n",
       "\\item 22\n",
       "\\item 27\n",
       "\\item 29\n",
       "\\end{enumerate*}\n"
      ],
      "text/markdown": [
       "1. 24\n",
       "2. 25\n",
       "3. 21\n",
       "4. 22\n",
       "5. 27\n",
       "6. 29\n",
       "\n",
       "\n"
      ],
      "text/plain": [
       "[1] 24 25 21 22 27 29"
      ]
     },
     "metadata": {},
     "output_type": "display_data"
    }
   ],
   "source": [
    "stratum3"
   ]
  },
  {
   "cell_type": "markdown",
   "metadata": {},
   "source": [
    "### Systematic Random Sample:\n",
    "After a random starting point in the sample frame, a systematic sample selects additional sample units at regular intervals.\n",
    "\n",
    "To obtain a systematic sample of size 12 from population of size 36, we randomly choose a value from 1, 2, or 3 as a starting place (sampling interval k = N/n =36/12 =3) and then select every third value from that starting point until we cycle through the population.\n",
    "\n",
    "Observe that in this instance there are only three possible starting points and hence only\n",
    "three possible systematic samples of size 12 from this population."
   ]
  },
  {
   "cell_type": "code",
   "execution_count": 103,
   "metadata": {},
   "outputs": [
    {
     "data": {
      "text/html": [
       "12"
      ],
      "text/latex": [
       "12"
      ],
      "text/markdown": [
       "12"
      ],
      "text/plain": [
       "[1] 12"
      ]
     },
     "metadata": {},
     "output_type": "display_data"
    },
    {
     "data": {
      "text/html": [
       "36"
      ],
      "text/latex": [
       "36"
      ],
      "text/markdown": [
       "36"
      ],
      "text/plain": [
       "[1] 36"
      ]
     },
     "metadata": {},
     "output_type": "display_data"
    },
    {
     "data": {
      "text/html": [
       "3"
      ],
      "text/latex": [
       "3"
      ],
      "text/markdown": [
       "3"
      ],
      "text/plain": [
       "[1] 3"
      ]
     },
     "metadata": {},
     "output_type": "display_data"
    }
   ],
   "source": [
    "n=12;N=36;k=N/n\n",
    "n; N; k"
   ]
  },
  {
   "cell_type": "code",
   "execution_count": 104,
   "metadata": {},
   "outputs": [
    {
     "data": {
      "text/html": [
       "1"
      ],
      "text/latex": [
       "1"
      ],
      "text/markdown": [
       "1"
      ],
      "text/plain": [
       "[1] 1"
      ]
     },
     "metadata": {},
     "output_type": "display_data"
    }
   ],
   "source": [
    "rnd <- sample(1:k,1)\n",
    "rnd"
   ]
  },
  {
   "cell_type": "code",
   "execution_count": 105,
   "metadata": {},
   "outputs": [
    {
     "data": {
      "text/html": [
       "<style>\n",
       ".list-inline {list-style: none; margin:0; padding: 0}\n",
       ".list-inline>li {display: inline-block}\n",
       ".list-inline>li:not(:last-child)::after {content: \"\\00b7\"; padding: 0 .5ex}\n",
       "</style>\n",
       "<ol class=list-inline><li>1</li><li>4</li><li>7</li><li>10</li><li>13</li><li>16</li><li>19</li><li>22</li><li>25</li><li>28</li><li>31</li><li>34</li></ol>\n"
      ],
      "text/latex": [
       "\\begin{enumerate*}\n",
       "\\item 1\n",
       "\\item 4\n",
       "\\item 7\n",
       "\\item 10\n",
       "\\item 13\n",
       "\\item 16\n",
       "\\item 19\n",
       "\\item 22\n",
       "\\item 25\n",
       "\\item 28\n",
       "\\item 31\n",
       "\\item 34\n",
       "\\end{enumerate*}\n"
      ],
      "text/markdown": [
       "1. 1\n",
       "2. 4\n",
       "3. 7\n",
       "4. 10\n",
       "5. 13\n",
       "6. 16\n",
       "7. 19\n",
       "8. 22\n",
       "9. 25\n",
       "10. 28\n",
       "11. 31\n",
       "12. 34\n",
       "\n",
       "\n"
      ],
      "text/plain": [
       " [1]  1  4  7 10 13 16 19 22 25 28 31 34"
      ]
     },
     "metadata": {},
     "output_type": "display_data"
    }
   ],
   "source": [
    "sy <- seq(rnd,N,k)\n",
    "sy"
   ]
  },
  {
   "cell_type": "code",
   "execution_count": 106,
   "metadata": {},
   "outputs": [
    {
     "data": {
      "text/html": [
       "<style>\n",
       ".list-inline {list-style: none; margin:0; padding: 0}\n",
       ".list-inline>li {display: inline-block}\n",
       ".list-inline>li:not(:last-child)::after {content: \"\\00b7\"; padding: 0 .5ex}\n",
       "</style>\n",
       "<ol class=list-inline><li>2</li><li>5</li><li>8</li><li>11</li><li>14</li><li>17</li><li>20</li><li>23</li><li>26</li><li>29</li><li>32</li><li>35</li></ol>\n"
      ],
      "text/latex": [
       "\\begin{enumerate*}\n",
       "\\item 2\n",
       "\\item 5\n",
       "\\item 8\n",
       "\\item 11\n",
       "\\item 14\n",
       "\\item 17\n",
       "\\item 20\n",
       "\\item 23\n",
       "\\item 26\n",
       "\\item 29\n",
       "\\item 32\n",
       "\\item 35\n",
       "\\end{enumerate*}\n"
      ],
      "text/markdown": [
       "1. 2\n",
       "2. 5\n",
       "3. 8\n",
       "4. 11\n",
       "5. 14\n",
       "6. 17\n",
       "7. 20\n",
       "8. 23\n",
       "9. 26\n",
       "10. 29\n",
       "11. 32\n",
       "12. 35\n",
       "\n",
       "\n"
      ],
      "text/plain": [
       " [1]  2  5  8 11 14 17 20 23 26 29 32 35"
      ]
     },
     "metadata": {},
     "output_type": "display_data"
    }
   ],
   "source": [
    "seq(sample(1:3,1),36,3)"
   ]
  },
  {
   "cell_type": "code",
   "execution_count": 107,
   "metadata": {},
   "outputs": [
    {
     "data": {
      "text/html": [
       "<style>\n",
       ".list-inline {list-style: none; margin:0; padding: 0}\n",
       ".list-inline>li {display: inline-block}\n",
       ".list-inline>li:not(:last-child)::after {content: \"\\00b7\"; padding: 0 .5ex}\n",
       "</style>\n",
       "<ol class=list-inline><li>1</li><li>4</li><li>7</li><li>10</li><li>13</li><li>16</li><li>19</li><li>22</li><li>25</li><li>28</li><li>31</li><li>34</li></ol>\n"
      ],
      "text/latex": [
       "\\begin{enumerate*}\n",
       "\\item 1\n",
       "\\item 4\n",
       "\\item 7\n",
       "\\item 10\n",
       "\\item 13\n",
       "\\item 16\n",
       "\\item 19\n",
       "\\item 22\n",
       "\\item 25\n",
       "\\item 28\n",
       "\\item 31\n",
       "\\item 34\n",
       "\\end{enumerate*}\n"
      ],
      "text/markdown": [
       "1. 1\n",
       "2. 4\n",
       "3. 7\n",
       "4. 10\n",
       "5. 13\n",
       "6. 16\n",
       "7. 19\n",
       "8. 22\n",
       "9. 25\n",
       "10. 28\n",
       "11. 31\n",
       "12. 34\n",
       "\n",
       "\n"
      ],
      "text/plain": [
       " [1]  1  4  7 10 13 16 19 22 25 28 31 34"
      ]
     },
     "metadata": {},
     "output_type": "display_data"
    }
   ],
   "source": [
    "seq(sample(1:3,1),36,3)"
   ]
  },
  {
   "cell_type": "code",
   "execution_count": 108,
   "metadata": {},
   "outputs": [
    {
     "data": {
      "text/html": [
       "<style>\n",
       ".list-inline {list-style: none; margin:0; padding: 0}\n",
       ".list-inline>li {display: inline-block}\n",
       ".list-inline>li:not(:last-child)::after {content: \"\\00b7\"; padding: 0 .5ex}\n",
       "</style>\n",
       "<ol class=list-inline><li>2</li><li>5</li><li>8</li><li>11</li><li>14</li><li>17</li><li>20</li><li>23</li><li>26</li><li>29</li><li>32</li><li>35</li></ol>\n"
      ],
      "text/latex": [
       "\\begin{enumerate*}\n",
       "\\item 2\n",
       "\\item 5\n",
       "\\item 8\n",
       "\\item 11\n",
       "\\item 14\n",
       "\\item 17\n",
       "\\item 20\n",
       "\\item 23\n",
       "\\item 26\n",
       "\\item 29\n",
       "\\item 32\n",
       "\\item 35\n",
       "\\end{enumerate*}\n"
      ],
      "text/markdown": [
       "1. 2\n",
       "2. 5\n",
       "3. 8\n",
       "4. 11\n",
       "5. 14\n",
       "6. 17\n",
       "7. 20\n",
       "8. 23\n",
       "9. 26\n",
       "10. 29\n",
       "11. 32\n",
       "12. 35\n",
       "\n",
       "\n"
      ],
      "text/plain": [
       " [1]  2  5  8 11 14 17 20 23 26 29 32 35"
      ]
     },
     "metadata": {},
     "output_type": "display_data"
    }
   ],
   "source": [
    "seq(sample(1:3,1),36,3)"
   ]
  },
  {
   "attachments": {
    "4.png": {
     "image/png": "[encoded data removed]"
    }
   },
   "cell_type": "markdown",
   "metadata": {},
   "source": [
    "##### Problem: Draw SRSWR and SRSWOR of size 8 from the following population of 20 observations.\n",
    "![4.png](attachment:4.png)"
   ]
  },
  {
   "cell_type": "code",
   "execution_count": 109,
   "metadata": {},
   "outputs": [
    {
     "data": {
      "text/html": [
       "<style>\n",
       ".list-inline {list-style: none; margin:0; padding: 0}\n",
       ".list-inline>li {display: inline-block}\n",
       ".list-inline>li:not(:last-child)::after {content: \"\\00b7\"; padding: 0 .5ex}\n",
       "</style>\n",
       "<ol class=list-inline><li>8</li><li>6</li><li>5</li><li>2</li><li>10</li><li>4</li><li>7</li><li>1</li></ol>\n"
      ],
      "text/latex": [
       "\\begin{enumerate*}\n",
       "\\item 8\n",
       "\\item 6\n",
       "\\item 5\n",
       "\\item 2\n",
       "\\item 10\n",
       "\\item 4\n",
       "\\item 7\n",
       "\\item 1\n",
       "\\end{enumerate*}\n"
      ],
      "text/markdown": [
       "1. 8\n",
       "2. 6\n",
       "3. 5\n",
       "4. 2\n",
       "5. 10\n",
       "6. 4\n",
       "7. 7\n",
       "8. 1\n",
       "\n",
       "\n"
      ],
      "text/plain": [
       "[1]  8  6  5  2 10  4  7  1"
      ]
     },
     "metadata": {},
     "output_type": "display_data"
    }
   ],
   "source": [
    "srswor <- sample(x,8)\n",
    "srswor"
   ]
  },
  {
   "cell_type": "code",
   "execution_count": 110,
   "metadata": {},
   "outputs": [],
   "source": [
    "srswr <- sample(x,8,replace=T)"
   ]
  },
  {
   "cell_type": "code",
   "execution_count": 111,
   "metadata": {},
   "outputs": [
    {
     "data": {
      "text/html": [
       "<style>\n",
       ".list-inline {list-style: none; margin:0; padding: 0}\n",
       ".list-inline>li {display: inline-block}\n",
       ".list-inline>li:not(:last-child)::after {content: \"\\00b7\"; padding: 0 .5ex}\n",
       "</style>\n",
       "<ol class=list-inline><li>6</li><li>10</li><li>2</li><li>7</li><li>2</li><li>4</li><li>3</li><li>4</li></ol>\n"
      ],
      "text/latex": [
       "\\begin{enumerate*}\n",
       "\\item 6\n",
       "\\item 10\n",
       "\\item 2\n",
       "\\item 7\n",
       "\\item 2\n",
       "\\item 4\n",
       "\\item 3\n",
       "\\item 4\n",
       "\\end{enumerate*}\n"
      ],
      "text/markdown": [
       "1. 6\n",
       "2. 10\n",
       "3. 2\n",
       "4. 7\n",
       "5. 2\n",
       "6. 4\n",
       "7. 3\n",
       "8. 4\n",
       "\n",
       "\n"
      ],
      "text/plain": [
       "[1]  6 10  2  7  2  4  3  4"
      ]
     },
     "metadata": {},
     "output_type": "display_data"
    }
   ],
   "source": [
    "srswr <- sample(x,8,replace=TRUE)\n",
    "srswr"
   ]
  },
  {
   "cell_type": "markdown",
   "metadata": {},
   "source": [
    "#### R – Commands for various probability distributions:\n",
    "For every distribution there are four commands. \n",
    "\n",
    "The commands for each distribution are prepended with a letter to indicate the functionality:\n",
    "\n",
    "- “r”returns randomly generated numbers\n",
    "- “d”returns the height of the probability density -function\n",
    "- “p”returns the cumulative density function\n",
    "- “q”returns the inverse cumulative density function (quantiles)\n",
    "\n",
    "\n",
    "\n"
   ]
  },
  {
   "cell_type": "markdown",
   "metadata": {},
   "source": [
    "##### R- Commands for Normal distribution:\n",
    "- **rnorm(n, mean, sd) :**\n",
    "This command is used for generating random sample of\n",
    "size n from normal distribution with the specified values of mean and sd.\n",
    "- **dnorm(x, mean, sd):**\n",
    "Given a set of values it returns the height of the\n",
    "probability distribution at each point of normal distribution with specified values\n",
    "of mean and sd.\n",
    "- **pnorm(x, mean, sd):**\n",
    "This command is to determine CDF at x of normal\n",
    "distribution with specified values of mean and sd. This gives area left of x.\n",
    "- **qnorm(p, mean, sd):**\n",
    "This command is used to obtain p th quantile (x) of\n",
    "normal distribution with specified values of mean and sd"
   ]
  },
  {
   "cell_type": "markdown",
   "metadata": {},
   "source": [
    "##### Following command generates 5 random numbers from standard normal distribution"
   ]
  },
  {
   "cell_type": "code",
   "execution_count": 112,
   "metadata": {},
   "outputs": [
    {
     "data": {
      "text/html": [
       "<style>\n",
       ".list-inline {list-style: none; margin:0; padding: 0}\n",
       ".list-inline>li {display: inline-block}\n",
       ".list-inline>li:not(:last-child)::after {content: \"\\00b7\"; padding: 0 .5ex}\n",
       "</style>\n",
       "<ol class=list-inline><li>-0.390445287781182</li><li>0.0201714048285601</li><li>-0.337595267935002</li><li>1.32052874344965</li><li>0.0695353525745732</li></ol>\n"
      ],
      "text/latex": [
       "\\begin{enumerate*}\n",
       "\\item -0.390445287781182\n",
       "\\item 0.0201714048285601\n",
       "\\item -0.337595267935002\n",
       "\\item 1.32052874344965\n",
       "\\item 0.0695353525745732\n",
       "\\end{enumerate*}\n"
      ],
      "text/markdown": [
       "1. -0.390445287781182\n",
       "2. 0.0201714048285601\n",
       "3. -0.337595267935002\n",
       "4. 1.32052874344965\n",
       "5. 0.0695353525745732\n",
       "\n",
       "\n"
      ],
      "text/plain": [
       "[1] -0.39044529  0.02017140 -0.33759527  1.32052874  0.06953535"
      ]
     },
     "metadata": {},
     "output_type": "display_data"
    }
   ],
   "source": [
    "rnorm(5)"
   ]
  },
  {
   "cell_type": "markdown",
   "metadata": {},
   "source": [
    "##### Following command generates 5 random numbers from normal distribution with mean 15 and sd 4."
   ]
  },
  {
   "cell_type": "code",
   "execution_count": 113,
   "metadata": {},
   "outputs": [
    {
     "data": {
      "text/html": [
       "<style>\n",
       ".list-inline {list-style: none; margin:0; padding: 0}\n",
       ".list-inline>li {display: inline-block}\n",
       ".list-inline>li:not(:last-child)::after {content: \"\\00b7\"; padding: 0 .5ex}\n",
       "</style>\n",
       "<ol class=list-inline><li>10.364421066204</li><li>9.2641025107493</li><li>12.9509211937038</li><li>21.1270219906158</li><li>11.5325328160201</li></ol>\n"
      ],
      "text/latex": [
       "\\begin{enumerate*}\n",
       "\\item 10.364421066204\n",
       "\\item 9.2641025107493\n",
       "\\item 12.9509211937038\n",
       "\\item 21.1270219906158\n",
       "\\item 11.5325328160201\n",
       "\\end{enumerate*}\n"
      ],
      "text/markdown": [
       "1. 10.364421066204\n",
       "2. 9.2641025107493\n",
       "3. 12.9509211937038\n",
       "4. 21.1270219906158\n",
       "5. 11.5325328160201\n",
       "\n",
       "\n"
      ],
      "text/plain": [
       "[1] 10.364421  9.264103 12.950921 21.127022 11.532533"
      ]
     },
     "metadata": {},
     "output_type": "display_data"
    }
   ],
   "source": [
    "rnorm(5,15,4)"
   ]
  },
  {
   "cell_type": "markdown",
   "metadata": {},
   "source": [
    "##### Following command gives height of standard normal probability distribution at the point x = 0."
   ]
  },
  {
   "cell_type": "code",
   "execution_count": 114,
   "metadata": {},
   "outputs": [
    {
     "data": {
      "text/html": [
       "0.398942280401433"
      ],
      "text/latex": [
       "0.398942280401433"
      ],
      "text/markdown": [
       "0.398942280401433"
      ],
      "text/plain": [
       "[1] 0.3989423"
      ]
     },
     "metadata": {},
     "output_type": "display_data"
    }
   ],
   "source": [
    "dnorm(0)"
   ]
  },
  {
   "cell_type": "code",
   "execution_count": 115,
   "metadata": {},
   "outputs": [
    {
     "data": {
      "text/html": [
       "0.0368270140303323"
      ],
      "text/latex": [
       "0.0368270140303323"
      ],
      "text/markdown": [
       "0.0368270140303323"
      ],
      "text/plain": [
       "[1] 0.03682701"
      ]
     },
     "metadata": {},
     "output_type": "display_data"
    }
   ],
   "source": [
    "dnorm(0,mean=4,sd=10)"
   ]
  },
  {
   "cell_type": "code",
   "execution_count": 116,
   "metadata": {},
   "outputs": [
    {
     "data": {
      "text/html": [
       "<style>\n",
       ".list-inline {list-style: none; margin:0; padding: 0}\n",
       ".list-inline>li {display: inline-block}\n",
       ".list-inline>li:not(:last-child)::after {content: \"\\00b7\"; padding: 0 .5ex}\n",
       "</style>\n",
       "<ol class=list-inline><li>0</li><li>1</li><li>2</li></ol>\n"
      ],
      "text/latex": [
       "\\begin{enumerate*}\n",
       "\\item 0\n",
       "\\item 1\n",
       "\\item 2\n",
       "\\end{enumerate*}\n"
      ],
      "text/markdown": [
       "1. 0\n",
       "2. 1\n",
       "3. 2\n",
       "\n",
       "\n"
      ],
      "text/plain": [
       "[1] 0 1 2"
      ]
     },
     "metadata": {},
     "output_type": "display_data"
    }
   ],
   "source": [
    "v <- c(0,1,2)\n",
    "v"
   ]
  },
  {
   "cell_type": "markdown",
   "metadata": {},
   "source": [
    "##### Following command gives height of standard normal probability distribution at the point x = 0, 1, 2."
   ]
  },
  {
   "cell_type": "code",
   "execution_count": 117,
   "metadata": {},
   "outputs": [
    {
     "data": {
      "text/html": [
       "<style>\n",
       ".list-inline {list-style: none; margin:0; padding: 0}\n",
       ".list-inline>li {display: inline-block}\n",
       ".list-inline>li:not(:last-child)::after {content: \"\\00b7\"; padding: 0 .5ex}\n",
       "</style>\n",
       "<ol class=list-inline><li>0.398942280401433</li><li>0.241970724519143</li><li>0.0539909665131881</li></ol>\n"
      ],
      "text/latex": [
       "\\begin{enumerate*}\n",
       "\\item 0.398942280401433\n",
       "\\item 0.241970724519143\n",
       "\\item 0.0539909665131881\n",
       "\\end{enumerate*}\n"
      ],
      "text/markdown": [
       "1. 0.398942280401433\n",
       "2. 0.241970724519143\n",
       "3. 0.0539909665131881\n",
       "\n",
       "\n"
      ],
      "text/plain": [
       "[1] 0.39894228 0.24197072 0.05399097"
      ]
     },
     "metadata": {},
     "output_type": "display_data"
    }
   ],
   "source": [
    "dnorm(v)"
   ]
  },
  {
   "cell_type": "markdown",
   "metadata": {},
   "source": [
    "##### Following commands plots standard normal probability curve"
   ]
  },
  {
   "cell_type": "code",
   "execution_count": 118,
   "metadata": {},
   "outputs": [
    {
     "data": {
      "image/png": "[encoded data removed]",
      "text/plain": [
       "plot without title"
      ]
     },
     "metadata": {
      "image/png": {
       "height": 420,
       "width": 420
      },
      "text/plain": {
       "height": 420,
       "width": 420
      }
     },
     "output_type": "display_data"
    }
   ],
   "source": [
    "x <- seq(-20,20,by=.1)\n",
    "y <- dnorm(x)\n",
    "plot(x,y)"
   ]
  },
  {
   "cell_type": "markdown",
   "metadata": {},
   "source": [
    "##### Following commands plot normal probability curve with (μ = 2.5, σ = 5)"
   ]
  },
  {
   "cell_type": "code",
   "execution_count": 119,
   "metadata": {},
   "outputs": [
    {
     "data": {
      "image/png": "[encoded data removed]",
      "text/plain": [
       "plot without title"
      ]
     },
     "metadata": {
      "image/png": {
       "height": 420,
       "width": 420
      },
      "text/plain": {
       "height": 420,
       "width": 420
      }
     },
     "output_type": "display_data"
    }
   ],
   "source": [
    "y <- dnorm(x,mean=2.5,sd=5)\n",
    "plot(x,y)"
   ]
  },
  {
   "cell_type": "markdown",
   "metadata": {},
   "source": [
    "##### Following command gives P(Z ≤ 1.96) and P(Z ≤ 1.645)"
   ]
  },
  {
   "cell_type": "code",
   "execution_count": 120,
   "metadata": {},
   "outputs": [
    {
     "data": {
      "text/html": [
       "0.97500210485178"
      ],
      "text/latex": [
       "0.97500210485178"
      ],
      "text/markdown": [
       "0.97500210485178"
      ],
      "text/plain": [
       "[1] 0.9750021"
      ]
     },
     "metadata": {},
     "output_type": "display_data"
    }
   ],
   "source": [
    "pnorm(1.96)"
   ]
  },
  {
   "cell_type": "code",
   "execution_count": 121,
   "metadata": {},
   "outputs": [
    {
     "data": {
      "text/html": [
       "0.950015094460879"
      ],
      "text/latex": [
       "0.950015094460879"
      ],
      "text/markdown": [
       "0.950015094460879"
      ],
      "text/plain": [
       "[1] 0.9500151"
      ]
     },
     "metadata": {},
     "output_type": "display_data"
    }
   ],
   "source": [
    "pnorm(1.645)"
   ]
  },
  {
   "cell_type": "markdown",
   "metadata": {},
   "source": [
    "##### Following command gives P(x ≤ 18)   where X ∼ N(μ = 20, σ = 3)"
   ]
  },
  {
   "cell_type": "code",
   "execution_count": 122,
   "metadata": {},
   "outputs": [
    {
     "data": {
      "text/html": [
       "0.252492537546923"
      ],
      "text/latex": [
       "0.252492537546923"
      ],
      "text/markdown": [
       "0.252492537546923"
      ],
      "text/plain": [
       "[1] 0.2524925"
      ]
     },
     "metadata": {},
     "output_type": "display_data"
    }
   ],
   "source": [
    "pnorm(18, 20, 3)"
   ]
  },
  {
   "cell_type": "markdown",
   "metadata": {},
   "source": [
    "##### Following commands displays values of a and b such that P(Z ≤ a) = 0.25; P(Z ≤ b) = 0.5"
   ]
  },
  {
   "cell_type": "code",
   "execution_count": 123,
   "metadata": {},
   "outputs": [
    {
     "data": {
      "text/html": [
       "-0.674489750196082"
      ],
      "text/latex": [
       "-0.674489750196082"
      ],
      "text/markdown": [
       "-0.674489750196082"
      ],
      "text/plain": [
       "[1] -0.6744898"
      ]
     },
     "metadata": {},
     "output_type": "display_data"
    }
   ],
   "source": [
    "qnorm(0.25)"
   ]
  },
  {
   "cell_type": "code",
   "execution_count": 124,
   "metadata": {},
   "outputs": [
    {
     "data": {
      "text/html": [
       "0"
      ],
      "text/latex": [
       "0"
      ],
      "text/markdown": [
       "0"
      ],
      "text/plain": [
       "[1] 0"
      ]
     },
     "metadata": {},
     "output_type": "display_data"
    }
   ],
   "source": [
    "qnorm(0.5)"
   ]
  },
  {
   "cell_type": "markdown",
   "metadata": {},
   "source": [
    "###### Following command displays the value c such that P(X ≤ c) = 0.30 where X ∼ N(μ=15, σ=4)"
   ]
  },
  {
   "cell_type": "code",
   "execution_count": 125,
   "metadata": {},
   "outputs": [
    {
     "data": {
      "text/html": [
       "12.9023979491678"
      ],
      "text/latex": [
       "12.9023979491678"
      ],
      "text/markdown": [
       "12.9023979491678"
      ],
      "text/plain": [
       "[1] 12.9024"
      ]
     },
     "metadata": {},
     "output_type": "display_data"
    }
   ],
   "source": [
    "qnorm(0.30,15,4)"
   ]
  },
  {
   "cell_type": "markdown",
   "metadata": {},
   "source": [
    "#### R- Commands for t distribution:\n",
    "The commands follow the same kind of naming convention, and the names of the\n",
    "commands are dt, pt, qt, and rt.\n",
    "\n",
    "- rt(n,df): This function is used to draw a random sample of size n from t distribution with specified degrees of freedom\n",
    "- dt(n,df): This function is used to obtain density function of t distribution for vector x and with specified degrees of freedom\n",
    "- pt(x,df): This function is used to obtain cumulative distribution function of t distribution for vector x and with specified degrees of freedom\n",
    "- qt(p,df): This function is used to obtain p th quantile of t distribution with specified degrees of freedom\n",
    "\n"
   ]
  },
  {
   "cell_type": "markdown",
   "metadata": {},
   "source": [
    "##### Following commands generates random numbers according to t-distribution"
   ]
  },
  {
   "cell_type": "code",
   "execution_count": 126,
   "metadata": {},
   "outputs": [
    {
     "data": {
      "text/html": [
       "<style>\n",
       ".list-inline {list-style: none; margin:0; padding: 0}\n",
       ".list-inline>li {display: inline-block}\n",
       ".list-inline>li:not(:last-child)::after {content: \"\\00b7\"; padding: 0 .5ex}\n",
       "</style>\n",
       "<ol class=list-inline><li>0.965735296956832</li><li>2.42649294127859</li><li>-0.956200016873983</li></ol>\n"
      ],
      "text/latex": [
       "\\begin{enumerate*}\n",
       "\\item 0.965735296956832\n",
       "\\item 2.42649294127859\n",
       "\\item -0.956200016873983\n",
       "\\end{enumerate*}\n"
      ],
      "text/markdown": [
       "1. 0.965735296956832\n",
       "2. 2.42649294127859\n",
       "3. -0.956200016873983\n",
       "\n",
       "\n"
      ],
      "text/plain": [
       "[1]  0.9657353  2.4264929 -0.9562000"
      ]
     },
     "metadata": {},
     "output_type": "display_data"
    }
   ],
   "source": [
    "rt(3,df=10)"
   ]
  },
  {
   "cell_type": "code",
   "execution_count": 127,
   "metadata": {},
   "outputs": [
    {
     "data": {
      "text/html": [
       "<style>\n",
       ".list-inline {list-style: none; margin:0; padding: 0}\n",
       ".list-inline>li {display: inline-block}\n",
       ".list-inline>li:not(:last-child)::after {content: \"\\00b7\"; padding: 0 .5ex}\n",
       "</style>\n",
       "<ol class=list-inline><li>0.0418227134856068</li><li>1.36181729962687</li><li>-1.17999420466791</li></ol>\n"
      ],
      "text/latex": [
       "\\begin{enumerate*}\n",
       "\\item 0.0418227134856068\n",
       "\\item 1.36181729962687\n",
       "\\item -1.17999420466791\n",
       "\\end{enumerate*}\n"
      ],
      "text/markdown": [
       "1. 0.0418227134856068\n",
       "2. 1.36181729962687\n",
       "3. -1.17999420466791\n",
       "\n",
       "\n"
      ],
      "text/plain": [
       "[1]  0.04182271  1.36181730 -1.17999420"
      ]
     },
     "metadata": {},
     "output_type": "display_data"
    }
   ],
   "source": [
    "rt(3,df=10)"
   ]
  },
  {
   "cell_type": "code",
   "execution_count": 128,
   "metadata": {},
   "outputs": [
    {
     "data": {
      "text/html": [
       "<style>\n",
       ".list-inline {list-style: none; margin:0; padding: 0}\n",
       ".list-inline>li {display: inline-block}\n",
       ".list-inline>li:not(:last-child)::after {content: \"\\00b7\"; padding: 0 .5ex}\n",
       "</style>\n",
       "<ol class=list-inline><li>0.776139167380197</li><li>1.25404913177423</li><li>-1.39843439828142</li><li>0.968938866276924</li><li>-1.71858115125689</li></ol>\n"
      ],
      "text/latex": [
       "\\begin{enumerate*}\n",
       "\\item 0.776139167380197\n",
       "\\item 1.25404913177423\n",
       "\\item -1.39843439828142\n",
       "\\item 0.968938866276924\n",
       "\\item -1.71858115125689\n",
       "\\end{enumerate*}\n"
      ],
      "text/markdown": [
       "1. 0.776139167380197\n",
       "2. 1.25404913177423\n",
       "3. -1.39843439828142\n",
       "4. 0.968938866276924\n",
       "5. -1.71858115125689\n",
       "\n",
       "\n"
      ],
      "text/plain": [
       "[1]  0.7761392  1.2540491 -1.3984344  0.9689389 -1.7185812"
      ]
     },
     "metadata": {},
     "output_type": "display_data"
    }
   ],
   "source": [
    "rt(5,df=12)"
   ]
  },
  {
   "cell_type": "code",
   "execution_count": 129,
   "metadata": {},
   "outputs": [
    {
     "data": {
      "text/html": [
       "<style>\n",
       ".list-inline {list-style: none; margin:0; padding: 0}\n",
       ".list-inline>li {display: inline-block}\n",
       ".list-inline>li:not(:last-child)::after {content: \"\\00b7\"; padding: 0 .5ex}\n",
       "</style>\n",
       "<ol class=list-inline><li>0.693489059648182</li><li>-1.5623065484384</li><li>1.41052341175496</li><li>0.0994415680789952</li><li>0.733414216359748</li></ol>\n"
      ],
      "text/latex": [
       "\\begin{enumerate*}\n",
       "\\item 0.693489059648182\n",
       "\\item -1.5623065484384\n",
       "\\item 1.41052341175496\n",
       "\\item 0.0994415680789952\n",
       "\\item 0.733414216359748\n",
       "\\end{enumerate*}\n"
      ],
      "text/markdown": [
       "1. 0.693489059648182\n",
       "2. -1.5623065484384\n",
       "3. 1.41052341175496\n",
       "4. 0.0994415680789952\n",
       "5. 0.733414216359748\n",
       "\n",
       "\n"
      ],
      "text/plain": [
       "[1]  0.69348906 -1.56230655  1.41052341  0.09944157  0.73341422"
      ]
     },
     "metadata": {},
     "output_type": "display_data"
    }
   ],
   "source": [
    "rt(5,df=12)"
   ]
  },
  {
   "cell_type": "markdown",
   "metadata": {},
   "source": [
    "##### Following command displays y-coordinate of t-probability curve with degrees of freedom 10 at t = 4 i.e. f(t) n=10 = f(4) n=10 = 0.002031034"
   ]
  },
  {
   "cell_type": "code",
   "execution_count": 130,
   "metadata": {},
   "outputs": [
    {
     "data": {
      "text/html": [
       "0.00203103391104122"
      ],
      "text/latex": [
       "0.00203103391104122"
      ],
      "text/markdown": [
       "0.00203103391104122"
      ],
      "text/plain": [
       "[1] 0.002031034"
      ]
     },
     "metadata": {},
     "output_type": "display_data"
    }
   ],
   "source": [
    "y <- dt(4,10)\n",
    "y"
   ]
  },
  {
   "cell_type": "markdown",
   "metadata": {},
   "source": [
    "##### Following commands plot t-probability curve with degrees of freedom 50"
   ]
  },
  {
   "cell_type": "code",
   "execution_count": 131,
   "metadata": {},
   "outputs": [
    {
     "data": {
      "image/png": "[encoded data removed]",
      "text/plain": [
       "plot without title"
      ]
     },
     "metadata": {
      "image/png": {
       "height": 420,
       "width": 420
      },
      "text/plain": {
       "height": 420,
       "width": 420
      }
     },
     "output_type": "display_data"
    }
   ],
   "source": [
    "x <- seq(-20,20,by=.5)\n",
    "y <- dt(x,df=50)\n",
    "plot(x,y)"
   ]
  },
  {
   "cell_type": "markdown",
   "metadata": {},
   "source": [
    "##### Following command displays cumulative probability of t-distribution with 10 degrees of freedom i.e. P(t n=10 ≤ -3)"
   ]
  },
  {
   "cell_type": "code",
   "execution_count": 132,
   "metadata": {},
   "outputs": [
    {
     "data": {
      "text/html": [
       "0.00667182751128479"
      ],
      "text/latex": [
       "0.00667182751128479"
      ],
      "text/markdown": [
       "0.00667182751128479"
      ],
      "text/plain": [
       "[1] 0.006671828"
      ]
     },
     "metadata": {},
     "output_type": "display_data"
    }
   ],
   "source": [
    "pt(-3,df=10)"
   ]
  },
  {
   "cell_type": "markdown",
   "metadata": {},
   "source": [
    "##### Following command displays cumulative probability of t-distribution with 10 degrees of freedom i.e. P(t n=10 ≤ -3), P(t n=10 ≤ -4), P(t n=10 ≤ -2), P(t n=10 ≤ -1),"
   ]
  },
  {
   "cell_type": "code",
   "execution_count": 133,
   "metadata": {},
   "outputs": [],
   "source": [
    "x = c(-3,-4,-2,-1)"
   ]
  },
  {
   "cell_type": "code",
   "execution_count": 134,
   "metadata": {},
   "outputs": [
    {
     "data": {
      "text/html": [
       "<style>\n",
       ".list-inline {list-style: none; margin:0; padding: 0}\n",
       ".list-inline>li {display: inline-block}\n",
       ".list-inline>li:not(:last-child)::after {content: \"\\00b7\"; padding: 0 .5ex}\n",
       "</style>\n",
       "<ol class=list-inline><li>0.00667182751128479</li><li>0.00125916631236835</li><li>0.0366940173853702</li><li>0.17044656615103</li></ol>\n"
      ],
      "text/latex": [
       "\\begin{enumerate*}\n",
       "\\item 0.00667182751128479\n",
       "\\item 0.00125916631236835\n",
       "\\item 0.0366940173853702\n",
       "\\item 0.17044656615103\n",
       "\\end{enumerate*}\n"
      ],
      "text/markdown": [
       "1. 0.00667182751128479\n",
       "2. 0.00125916631236835\n",
       "3. 0.0366940173853702\n",
       "4. 0.17044656615103\n",
       "\n",
       "\n"
      ],
      "text/plain": [
       "[1] 0.006671828 0.001259166 0.036694017 0.170446566"
      ]
     },
     "metadata": {},
     "output_type": "display_data"
    }
   ],
   "source": [
    "pt(x,10)"
   ]
  },
  {
   "cell_type": "markdown",
   "metadata": {},
   "source": [
    "##### Following command displays inverse cumulative probability distribution i.e. P(t n=10 ≤ a) =0.05"
   ]
  },
  {
   "cell_type": "code",
   "execution_count": 135,
   "metadata": {},
   "outputs": [
    {
     "data": {
      "text/html": [
       "-1.81246112281168"
      ],
      "text/latex": [
       "-1.81246112281168"
      ],
      "text/markdown": [
       "-1.81246112281168"
      ],
      "text/plain": [
       "[1] -1.812461"
      ]
     },
     "metadata": {},
     "output_type": "display_data"
    }
   ],
   "source": [
    "qt(0.05,df=10)"
   ]
  },
  {
   "cell_type": "markdown",
   "metadata": {},
   "source": [
    "##### Following command displays values of b, c and d i.e. inverse cumulative probabilities such that P(t n=7 ≤ b) = 0.005, P(t n=7 ≤ c) = 0.025, P(t n=7 ≤ d) = 0.05"
   ]
  },
  {
   "cell_type": "code",
   "execution_count": 136,
   "metadata": {},
   "outputs": [],
   "source": [
    "v <- c(0.005,.025,.05)"
   ]
  },
  {
   "cell_type": "code",
   "execution_count": 137,
   "metadata": {},
   "outputs": [
    {
     "data": {
      "text/html": [
       "<style>\n",
       ".list-inline {list-style: none; margin:0; padding: 0}\n",
       ".list-inline>li {display: inline-block}\n",
       ".list-inline>li:not(:last-child)::after {content: \"\\00b7\"; padding: 0 .5ex}\n",
       "</style>\n",
       "<ol class=list-inline><li>-3.49948329735049</li><li>-2.36462425159278</li><li>-1.89457860509001</li></ol>\n"
      ],
      "text/latex": [
       "\\begin{enumerate*}\n",
       "\\item -3.49948329735049\n",
       "\\item -2.36462425159278\n",
       "\\item -1.89457860509001\n",
       "\\end{enumerate*}\n"
      ],
      "text/markdown": [
       "1. -3.49948329735049\n",
       "2. -2.36462425159278\n",
       "3. -1.89457860509001\n",
       "\n",
       "\n"
      ],
      "text/plain": [
       "[1] -3.499483 -2.364624 -1.894579"
      ]
     },
     "metadata": {},
     "output_type": "display_data"
    }
   ],
   "source": [
    "qt(v,df=7)"
   ]
  },
  {
   "attachments": {
    "5.png": {
     "image/png": "[encoded data removed]"
    }
   },
   "cell_type": "markdown",
   "metadata": {},
   "source": [
    "#### R- Commands for χ 2 distribution:\n",
    "There are four functions that can be used to generate the values associated with the Chi-Squared distribution.\n",
    "\n",
    "These commands work just like the commands for the t-distribution.\n",
    "\n",
    "The commands follow the same kind of naming convention, and the names of the commands are dchisq, pchisq, qchisq, and rchisq.\n",
    "\n",
    "#### R- Commands for Plots to check Normality:\n",
    "\n",
    "##### Normal probability plot\n",
    "A normal probability plot is a plot for a continuous variable that helps to determine whether a sample is drawn from a normal distribution. \n",
    "\n",
    "If the data is drawn from a normal distribution, the points will fall approximately in a straight line. If the data points deviate from a straight line in any systematic way, it suggests that the data is not drawn from a\n",
    "normal distribution.\n",
    "\n",
    "**Q-Q Plot:** In statistics, a Q–Q plot (\"Q\" stands for quantile ) is a probability plot, which is a graphical method for comparing two probability distributions by plotting their quantiles against each other. Q-Q plots are an excellent graphical tool for comparing two samples to each other, or one sample to a theoretical distribution like the Normal.\n",
    "\n",
    "They reveal differences in location, spread and shape more clearly than do density plots or histograms.\n",
    "\n",
    "**Sample quantiles are based on Order Statistics:**\n",
    "\n",
    "Let X 1 , X 2 , . . . , X n be a sample of size n. The order statistics X (1) , X (2) , . . . , X (n) are just the\n",
    "observations sorted into ascending order.\n",
    "\n",
    "Suppose that we want p th quantile, where p lies between k/n and (k+1)/n. \n",
    "Then for some choice of a ∈ [0, 1], estimate of p th quantile is ![5.png](attachment:5.png)\n",
    "**Note: Sample quantiles correspond to the order statistics**\n",
    "\n",
    "Suppose we have two samples of size n, X 1 , X 2 , . . . , X n and Y 1 , Y 2 , . . . , Y n . \n",
    "\n",
    "If they were samples from the same distribution, then the order statistics X (1) , X (2) , . . . , X (n) and Y (1) , Y (2) , .\n",
    ". ., Y (n) would be estimates of the same quantiles.\n",
    "\n",
    "Thus we expect that X (1) ≈ Y (1) , X (2) ≈ Y (2) ,\n",
    "etc.\n",
    "\n",
    "The **quantile–quantile plot**, or **Q-Q plot**, is a simple graphical method for comparing two sets of sample quantiles. \n",
    "\n",
    "Plot the pairs of order statistics (X (k) , Y (k) ) If the two datasets come from the same distribution, the points should lie roughly on a line through the origin with\n",
    "slope 1.\n",
    "\n",
    "Often we wish to compare a dataset to the Normal distribution, a theoretical population, rather than to a second dataset. \n",
    "\n",
    "R has a function that plots the order statistics of a sample against the corresponding quantiles of the standard normal distribution qqnorm(X). \n",
    "\n",
    "If the plot is roughly linear, then our data are approximately normally distributed.\n",
    "\n",
    "Normal probability plot can be created using the qqnorm function. \n",
    "\n",
    "The command takes the following general form:\n",
    "\n",
    "~ qqnorm(dataset$variable)<br>\n",
    "##### For example, to plot the Height variable from the trees dataset (included with R), use the command:"
   ]
  },
  {
   "cell_type": "code",
   "execution_count": 138,
   "metadata": {},
   "outputs": [
    {
     "data": {
      "image/png": "[encoded data removed]",
      "text/plain": [
       "Plot with title “Normal Q-Q Plot”"
      ]
     },
     "metadata": {
      "image/png": {
       "height": 420,
       "width": 420
      },
      "text/plain": {
       "height": 420,
       "width": 420
      }
     },
     "output_type": "display_data"
    }
   ],
   "source": [
    "qqnorm(trees$Height)"
   ]
  },
  {
   "cell_type": "markdown",
   "metadata": {},
   "source": [
    "You can also add a reference line to the plot, which makes it easier to determine whether the data points are falling into a straight line. \n",
    "\n",
    "To add a reference line, use the qqline function directly after the qqnorm function as shown. \n",
    "\n",
    "qqline() adds a line which\n",
    "passes through the first and third quartiles."
   ]
  },
  {
   "cell_type": "code",
   "execution_count": 139,
   "metadata": {},
   "outputs": [
    {
     "data": {
      "image/png": "[encoded data removed]",
      "text/plain": [
       "Plot with title “Normal Q-Q Plot”"
      ]
     },
     "metadata": {
      "image/png": {
       "height": 420,
       "width": 420
      },
      "text/plain": {
       "height": 420,
       "width": 420
      }
     },
     "output_type": "display_data"
    }
   ],
   "source": [
    "qqnorm(trees$Height)\n",
    "qqline(trees$Height)"
   ]
  },
  {
   "cell_type": "code",
   "execution_count": 140,
   "metadata": {},
   "outputs": [
    {
     "name": "stderr",
     "output_type": "stream",
     "text": [
      "Warning message in x < c(19.8, 10.1, 14.9, 7.5, 15.4, 15.4, 15.4, 18.5, 7.9, 12.7, :\n",
      "“longer object length is not a multiple of shorter object length”\n"
     ]
    },
    {
     "data": {
      "text/html": [
       "<style>\n",
       ".list-inline {list-style: none; margin:0; padding: 0}\n",
       ".list-inline>li {display: inline-block}\n",
       ".list-inline>li:not(:last-child)::after {content: \"\\00b7\"; padding: 0 .5ex}\n",
       "</style>\n",
       "<ol class=list-inline><li>TRUE</li><li>TRUE</li><li>TRUE</li><li>TRUE</li><li>TRUE</li><li>TRUE</li><li>TRUE</li><li>TRUE</li><li>TRUE</li><li>TRUE</li><li>TRUE</li><li>TRUE</li><li>TRUE</li><li>TRUE</li><li>TRUE</li><li>TRUE</li><li>TRUE</li><li>TRUE</li><li>TRUE</li><li>TRUE</li><li>TRUE</li></ol>\n"
      ],
      "text/latex": [
       "\\begin{enumerate*}\n",
       "\\item TRUE\n",
       "\\item TRUE\n",
       "\\item TRUE\n",
       "\\item TRUE\n",
       "\\item TRUE\n",
       "\\item TRUE\n",
       "\\item TRUE\n",
       "\\item TRUE\n",
       "\\item TRUE\n",
       "\\item TRUE\n",
       "\\item TRUE\n",
       "\\item TRUE\n",
       "\\item TRUE\n",
       "\\item TRUE\n",
       "\\item TRUE\n",
       "\\item TRUE\n",
       "\\item TRUE\n",
       "\\item TRUE\n",
       "\\item TRUE\n",
       "\\item TRUE\n",
       "\\item TRUE\n",
       "\\end{enumerate*}\n"
      ],
      "text/markdown": [
       "1. TRUE\n",
       "2. TRUE\n",
       "3. TRUE\n",
       "4. TRUE\n",
       "5. TRUE\n",
       "6. TRUE\n",
       "7. TRUE\n",
       "8. TRUE\n",
       "9. TRUE\n",
       "10. TRUE\n",
       "11. TRUE\n",
       "12. TRUE\n",
       "13. TRUE\n",
       "14. TRUE\n",
       "15. TRUE\n",
       "16. TRUE\n",
       "17. TRUE\n",
       "18. TRUE\n",
       "19. TRUE\n",
       "20. TRUE\n",
       "21. TRUE\n",
       "\n",
       "\n"
      ],
      "text/plain": [
       " [1] TRUE TRUE TRUE TRUE TRUE TRUE TRUE TRUE TRUE TRUE TRUE TRUE TRUE TRUE TRUE\n",
       "[16] TRUE TRUE TRUE TRUE TRUE TRUE"
      ]
     },
     "metadata": {},
     "output_type": "display_data"
    }
   ],
   "source": [
    "x < c(19.8, 10.1, 14.9, 7.5, 15.4, 15.4, 15.4, 18.5, 7.9, 12.7, 11.9, 11.4, 14.1, 17.6, 16.7,15.8, 19.5, 8.8, 13.6, 11.9, 11.4)"
   ]
  },
  {
   "cell_type": "code",
   "execution_count": 141,
   "metadata": {},
   "outputs": [
    {
     "data": {
      "image/png": "[encoded data removed]",
      "text/plain": [
       "Plot with title “Normal Q-Q Plot”"
      ]
     },
     "metadata": {
      "image/png": {
       "height": 420,
       "width": 420
      },
      "text/plain": {
       "height": 420,
       "width": 420
      }
     },
     "output_type": "display_data"
    }
   ],
   "source": [
    "qqnorm(x)\n",
    "qqline(x)"
   ]
  },
  {
   "cell_type": "code",
   "execution_count": null,
   "metadata": {},
   "outputs": [],
   "source": []
  },
  {
   "cell_type": "code",
   "execution_count": null,
   "metadata": {},
   "outputs": [],
   "source": []
  },
  {
   "cell_type": "code",
   "execution_count": null,
   "metadata": {},
   "outputs": [],
   "source": []
  }
 ],
 "metadata": {
  "kernelspec": {
   "display_name": "R",
   "language": "R",
   "name": "ir"
  },
  "language_info": {
   "codemirror_mode": "r",
   "file_extension": ".r",
   "mimetype": "text/x-r-source",
   "name": "R",
   "pygments_lexer": "r",
   "version": "3.6.3"
  }
 },
 "nbformat": 4,
 "nbformat_minor": 2
}
