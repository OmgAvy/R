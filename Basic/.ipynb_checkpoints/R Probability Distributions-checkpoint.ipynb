{
 "cells": [
  {
   "cell_type": "markdown",
   "metadata": {},
   "source": [
    "### R- Commands for Discrete probability distributions:\n",
    "Binomial, Poisson, Hypergeometric:"
   ]
  },
  {
   "cell_type": "markdown",
   "metadata": {},
   "source": [
    "• X ∼ B(n = 5, p = 0.25) Find P(x), P(X ≤ 3), p(X ≥ 2)"
   ]
  },
  {
   "cell_type": "code",
   "execution_count": 52,
   "metadata": {},
   "outputs": [
    {
     "data": {
      "text/html": [
       "<style>\n",
       ".list-inline {list-style: none; margin:0; padding: 0}\n",
       ".list-inline>li {display: inline-block}\n",
       ".list-inline>li:not(:last-child)::after {content: \"\\00b7\"; padding: 0 .5ex}\n",
       "</style>\n",
       "<ol class=list-inline><li>0</li><li>1</li><li>2</li><li>3</li><li>4</li><li>5</li></ol>\n"
      ],
      "text/latex": [
       "\\begin{enumerate*}\n",
       "\\item 0\n",
       "\\item 1\n",
       "\\item 2\n",
       "\\item 3\n",
       "\\item 4\n",
       "\\item 5\n",
       "\\end{enumerate*}\n"
      ],
      "text/markdown": [
       "1. 0\n",
       "2. 1\n",
       "3. 2\n",
       "4. 3\n",
       "5. 4\n",
       "6. 5\n",
       "\n",
       "\n"
      ],
      "text/plain": [
       "[1] 0 1 2 3 4 5"
      ]
     },
     "metadata": {},
     "output_type": "display_data"
    }
   ],
   "source": [
    "x <- 0:5\n",
    "x"
   ]
  },
  {
   "cell_type": "code",
   "execution_count": 53,
   "metadata": {},
   "outputs": [
    {
     "data": {
      "text/html": [
       "<style>\n",
       ".list-inline {list-style: none; margin:0; padding: 0}\n",
       ".list-inline>li {display: inline-block}\n",
       ".list-inline>li:not(:last-child)::after {content: \"\\00b7\"; padding: 0 .5ex}\n",
       "</style>\n",
       "<ol class=list-inline><li>0.2373046875</li><li>0.3955078125</li><li>0.263671875</li><li>0.087890625</li><li>0.0146484375</li><li>0.0009765625</li></ol>\n"
      ],
      "text/latex": [
       "\\begin{enumerate*}\n",
       "\\item 0.2373046875\n",
       "\\item 0.3955078125\n",
       "\\item 0.263671875\n",
       "\\item 0.087890625\n",
       "\\item 0.0146484375\n",
       "\\item 0.0009765625\n",
       "\\end{enumerate*}\n"
      ],
      "text/markdown": [
       "1. 0.2373046875\n",
       "2. 0.3955078125\n",
       "3. 0.263671875\n",
       "4. 0.087890625\n",
       "5. 0.0146484375\n",
       "6. 0.0009765625\n",
       "\n",
       "\n"
      ],
      "text/plain": [
       "[1] 0.2373046875 0.3955078125 0.2636718750 0.0878906250 0.0146484375\n",
       "[6] 0.0009765625"
      ]
     },
     "metadata": {},
     "output_type": "display_data"
    }
   ],
   "source": [
    "px <- dbinom(x,5,0.25)\n",
    "px"
   ]
  },
  {
   "cell_type": "code",
   "execution_count": 54,
   "metadata": {},
   "outputs": [
    {
     "data": {
      "text/html": [
       "0.984375"
      ],
      "text/latex": [
       "0.984375"
      ],
      "text/markdown": [
       "0.984375"
      ],
      "text/plain": [
       "[1] 0.984375"
      ]
     },
     "metadata": {},
     "output_type": "display_data"
    }
   ],
   "source": [
    "px3 <- pbinom(3,5,0.25)\n",
    "px3"
   ]
  },
  {
   "cell_type": "code",
   "execution_count": 55,
   "metadata": {},
   "outputs": [
    {
     "data": {
      "text/html": [
       "0.984375"
      ],
      "text/latex": [
       "0.984375"
      ],
      "text/markdown": [
       "0.984375"
      ],
      "text/plain": [
       "[1] 0.984375"
      ]
     },
     "metadata": {},
     "output_type": "display_data"
    }
   ],
   "source": [
    "px_3 <- dbinom(0,5,0.25) + dbinom(1,5,0.25) + dbinom(2,5,0.25) + dbinom(3,5,0.25)\n",
    "px_3"
   ]
  },
  {
   "cell_type": "code",
   "execution_count": 56,
   "metadata": {},
   "outputs": [
    {
     "data": {
      "text/html": [
       "0.3671875"
      ],
      "text/latex": [
       "0.3671875"
      ],
      "text/markdown": [
       "0.3671875"
      ],
      "text/plain": [
       "[1] 0.3671875"
      ]
     },
     "metadata": {},
     "output_type": "display_data"
    }
   ],
   "source": [
    "px2 <- 1 - pbinom(1,5,0.25)\n",
    "px2"
   ]
  },
  {
   "cell_type": "code",
   "execution_count": 57,
   "metadata": {},
   "outputs": [
    {
     "data": {
      "text/html": [
       "0.3671875"
      ],
      "text/latex": [
       "0.3671875"
      ],
      "text/markdown": [
       "0.3671875"
      ],
      "text/plain": [
       "[1] 0.3671875"
      ]
     },
     "metadata": {},
     "output_type": "display_data"
    }
   ],
   "source": [
    "px_2 <- dbinom(2,5,0.25) + dbinom(3,5,0.25) + dbinom(4,5,0.25) + dbinom(5,5,0.25)\n",
    "px_2"
   ]
  },
  {
   "cell_type": "markdown",
   "metadata": {},
   "source": [
    "•\n",
    "X ∼ P(m = 2) Find P(x), P(X ≤ 3), p(X ≥ 2) for X = 0, 1, 2, . . . , 20"
   ]
  },
  {
   "cell_type": "code",
   "execution_count": 58,
   "metadata": {},
   "outputs": [
    {
     "data": {
      "text/html": [
       "<style>\n",
       ".list-inline {list-style: none; margin:0; padding: 0}\n",
       ".list-inline>li {display: inline-block}\n",
       ".list-inline>li:not(:last-child)::after {content: \"\\00b7\"; padding: 0 .5ex}\n",
       "</style>\n",
       "<ol class=list-inline><li>0</li><li>1</li><li>2</li><li>3</li><li>4</li><li>5</li><li>6</li><li>7</li><li>8</li><li>9</li><li>10</li><li>11</li><li>12</li><li>13</li><li>14</li><li>15</li><li>16</li><li>17</li><li>18</li><li>19</li><li>20</li></ol>\n"
      ],
      "text/latex": [
       "\\begin{enumerate*}\n",
       "\\item 0\n",
       "\\item 1\n",
       "\\item 2\n",
       "\\item 3\n",
       "\\item 4\n",
       "\\item 5\n",
       "\\item 6\n",
       "\\item 7\n",
       "\\item 8\n",
       "\\item 9\n",
       "\\item 10\n",
       "\\item 11\n",
       "\\item 12\n",
       "\\item 13\n",
       "\\item 14\n",
       "\\item 15\n",
       "\\item 16\n",
       "\\item 17\n",
       "\\item 18\n",
       "\\item 19\n",
       "\\item 20\n",
       "\\end{enumerate*}\n"
      ],
      "text/markdown": [
       "1. 0\n",
       "2. 1\n",
       "3. 2\n",
       "4. 3\n",
       "5. 4\n",
       "6. 5\n",
       "7. 6\n",
       "8. 7\n",
       "9. 8\n",
       "10. 9\n",
       "11. 10\n",
       "12. 11\n",
       "13. 12\n",
       "14. 13\n",
       "15. 14\n",
       "16. 15\n",
       "17. 16\n",
       "18. 17\n",
       "19. 18\n",
       "20. 19\n",
       "21. 20\n",
       "\n",
       "\n"
      ],
      "text/plain": [
       " [1]  0  1  2  3  4  5  6  7  8  9 10 11 12 13 14 15 16 17 18 19 20"
      ]
     },
     "metadata": {},
     "output_type": "display_data"
    }
   ],
   "source": [
    "x <- 0 : 20\n",
    "x"
   ]
  },
  {
   "cell_type": "code",
   "execution_count": 59,
   "metadata": {},
   "outputs": [
    {
     "data": {
      "text/html": [
       "<style>\n",
       ".list-inline {list-style: none; margin:0; padding: 0}\n",
       ".list-inline>li {display: inline-block}\n",
       ".list-inline>li:not(:last-child)::after {content: \"\\00b7\"; padding: 0 .5ex}\n",
       "</style>\n",
       "<ol class=list-inline><li>0.135335283236613</li><li>0.270670566473225</li><li>0.270670566473225</li><li>0.180447044315484</li><li>0.0902235221577418</li><li>0.0360894088630967</li><li>0.0120298029543656</li><li>0.00343708655839016</li><li>0.000859271639597541</li><li>0.000190949253243898</li><li>3.81898506487796e-05</li><li>6.94360920886901e-06</li><li>1.15726820147817e-06</li><li>1.78041261765873e-07</li><li>2.54344659665532e-08</li><li>3.39126212887375e-09</li><li>4.23907766109221e-10</li><li>4.98715018952023e-11</li><li>5.54127798835581e-12</li><li>5.83292419826926e-13</li><li>5.83292419826923e-14</li></ol>\n"
      ],
      "text/latex": [
       "\\begin{enumerate*}\n",
       "\\item 0.135335283236613\n",
       "\\item 0.270670566473225\n",
       "\\item 0.270670566473225\n",
       "\\item 0.180447044315484\n",
       "\\item 0.0902235221577418\n",
       "\\item 0.0360894088630967\n",
       "\\item 0.0120298029543656\n",
       "\\item 0.00343708655839016\n",
       "\\item 0.000859271639597541\n",
       "\\item 0.000190949253243898\n",
       "\\item 3.81898506487796e-05\n",
       "\\item 6.94360920886901e-06\n",
       "\\item 1.15726820147817e-06\n",
       "\\item 1.78041261765873e-07\n",
       "\\item 2.54344659665532e-08\n",
       "\\item 3.39126212887375e-09\n",
       "\\item 4.23907766109221e-10\n",
       "\\item 4.98715018952023e-11\n",
       "\\item 5.54127798835581e-12\n",
       "\\item 5.83292419826926e-13\n",
       "\\item 5.83292419826923e-14\n",
       "\\end{enumerate*}\n"
      ],
      "text/markdown": [
       "1. 0.135335283236613\n",
       "2. 0.270670566473225\n",
       "3. 0.270670566473225\n",
       "4. 0.180447044315484\n",
       "5. 0.0902235221577418\n",
       "6. 0.0360894088630967\n",
       "7. 0.0120298029543656\n",
       "8. 0.00343708655839016\n",
       "9. 0.000859271639597541\n",
       "10. 0.000190949253243898\n",
       "11. 3.81898506487796e-05\n",
       "12. 6.94360920886901e-06\n",
       "13. 1.15726820147817e-06\n",
       "14. 1.78041261765873e-07\n",
       "15. 2.54344659665532e-08\n",
       "16. 3.39126212887375e-09\n",
       "17. 4.23907766109221e-10\n",
       "18. 4.98715018952023e-11\n",
       "19. 5.54127798835581e-12\n",
       "20. 5.83292419826926e-13\n",
       "21. 5.83292419826923e-14\n",
       "\n",
       "\n"
      ],
      "text/plain": [
       " [1] 1.353353e-01 2.706706e-01 2.706706e-01 1.804470e-01 9.022352e-02\n",
       " [6] 3.608941e-02 1.202980e-02 3.437087e-03 8.592716e-04 1.909493e-04\n",
       "[11] 3.818985e-05 6.943609e-06 1.157268e-06 1.780413e-07 2.543447e-08\n",
       "[16] 3.391262e-09 4.239078e-10 4.987150e-11 5.541278e-12 5.832924e-13\n",
       "[21] 5.832924e-14"
      ]
     },
     "metadata": {},
     "output_type": "display_data"
    }
   ],
   "source": [
    "px <- dpois(x,2)\n",
    "px"
   ]
  },
  {
   "cell_type": "code",
   "execution_count": 60,
   "metadata": {},
   "outputs": [
    {
     "data": {
      "text/html": [
       "<style>\n",
       ".list-inline {list-style: none; margin:0; padding: 0}\n",
       ".list-inline>li {display: inline-block}\n",
       ".list-inline>li:not(:last-child)::after {content: \"\\00b7\"; padding: 0 .5ex}\n",
       "</style>\n",
       "<ol class=list-inline><li>0.135</li><li>0.271</li><li>0.271</li><li>0.18</li><li>0.09</li><li>0.036</li><li>0.012</li><li>0.003</li><li>0.001</li><li>0</li><li>0</li><li>0</li><li>0</li><li>0</li><li>0</li><li>0</li><li>0</li><li>0</li><li>0</li><li>0</li><li>0</li></ol>\n"
      ],
      "text/latex": [
       "\\begin{enumerate*}\n",
       "\\item 0.135\n",
       "\\item 0.271\n",
       "\\item 0.271\n",
       "\\item 0.18\n",
       "\\item 0.09\n",
       "\\item 0.036\n",
       "\\item 0.012\n",
       "\\item 0.003\n",
       "\\item 0.001\n",
       "\\item 0\n",
       "\\item 0\n",
       "\\item 0\n",
       "\\item 0\n",
       "\\item 0\n",
       "\\item 0\n",
       "\\item 0\n",
       "\\item 0\n",
       "\\item 0\n",
       "\\item 0\n",
       "\\item 0\n",
       "\\item 0\n",
       "\\end{enumerate*}\n"
      ],
      "text/markdown": [
       "1. 0.135\n",
       "2. 0.271\n",
       "3. 0.271\n",
       "4. 0.18\n",
       "5. 0.09\n",
       "6. 0.036\n",
       "7. 0.012\n",
       "8. 0.003\n",
       "9. 0.001\n",
       "10. 0\n",
       "11. 0\n",
       "12. 0\n",
       "13. 0\n",
       "14. 0\n",
       "15. 0\n",
       "16. 0\n",
       "17. 0\n",
       "18. 0\n",
       "19. 0\n",
       "20. 0\n",
       "21. 0\n",
       "\n",
       "\n"
      ],
      "text/plain": [
       " [1] 0.135 0.271 0.271 0.180 0.090 0.036 0.012 0.003 0.001 0.000 0.000 0.000\n",
       "[13] 0.000 0.000 0.000 0.000 0.000 0.000 0.000 0.000 0.000"
      ]
     },
     "metadata": {},
     "output_type": "display_data"
    }
   ],
   "source": [
    "poisson <- round(px,3)\n",
    "poisson"
   ]
  },
  {
   "cell_type": "code",
   "execution_count": 61,
   "metadata": {},
   "outputs": [
    {
     "data": {
      "text/html": [
       "<style>\n",
       ".list-inline {list-style: none; margin:0; padding: 0}\n",
       ".list-inline>li {display: inline-block}\n",
       ".list-inline>li:not(:last-child)::after {content: \"\\00b7\"; padding: 0 .5ex}\n",
       "</style>\n",
       "<ol class=list-inline><li>0</li><li>1</li><li>2</li><li>3</li></ol>\n"
      ],
      "text/latex": [
       "\\begin{enumerate*}\n",
       "\\item 0\n",
       "\\item 1\n",
       "\\item 2\n",
       "\\item 3\n",
       "\\end{enumerate*}\n"
      ],
      "text/markdown": [
       "1. 0\n",
       "2. 1\n",
       "3. 2\n",
       "4. 3\n",
       "\n",
       "\n"
      ],
      "text/plain": [
       "[1] 0 1 2 3"
      ]
     },
     "metadata": {},
     "output_type": "display_data"
    }
   ],
   "source": [
    "y <- 0:3\n",
    "y"
   ]
  },
  {
   "cell_type": "code",
   "execution_count": 62,
   "metadata": {},
   "outputs": [
    {
     "data": {
      "text/html": [
       "0.857"
      ],
      "text/latex": [
       "0.857"
      ],
      "text/markdown": [
       "0.857"
      ],
      "text/plain": [
       "[1] 0.857"
      ]
     },
     "metadata": {},
     "output_type": "display_data"
    }
   ],
   "source": [
    "px <- sum(round(dpois(y,2),3))\n",
    "px"
   ]
  },
  {
   "cell_type": "code",
   "execution_count": 63,
   "metadata": {},
   "outputs": [
    {
     "data": {
      "text/html": [
       "<style>\n",
       ".list-inline {list-style: none; margin:0; padding: 0}\n",
       ".list-inline>li {display: inline-block}\n",
       ".list-inline>li:not(:last-child)::after {content: \"\\00b7\"; padding: 0 .5ex}\n",
       "</style>\n",
       "<ol class=list-inline><li>0</li><li>1</li></ol>\n"
      ],
      "text/latex": [
       "\\begin{enumerate*}\n",
       "\\item 0\n",
       "\\item 1\n",
       "\\end{enumerate*}\n"
      ],
      "text/markdown": [
       "1. 0\n",
       "2. 1\n",
       "\n",
       "\n"
      ],
      "text/plain": [
       "[1] 0 1"
      ]
     },
     "metadata": {},
     "output_type": "display_data"
    }
   ],
   "source": [
    "y <- 0:1\n",
    "y"
   ]
  },
  {
   "cell_type": "code",
   "execution_count": 64,
   "metadata": {},
   "outputs": [
    {
     "data": {
      "text/html": [
       "0.594"
      ],
      "text/latex": [
       "0.594"
      ],
      "text/markdown": [
       "0.594"
      ],
      "text/plain": [
       "[1] 0.594"
      ]
     },
     "metadata": {},
     "output_type": "display_data"
    }
   ],
   "source": [
    "px2 <- 1 - sum(round(dpois(y,2),3))\n",
    "px2"
   ]
  },
  {
   "attachments": {
    "22.png": {
     "image/png": "[encoded data removed]"
    }
   },
   "cell_type": "markdown",
   "metadata": {},
   "source": [
    "### Hypergeometric Distribution:\n",
    "N: Population Size\n",
    "\n",
    "k: Number of successes in the population\n",
    "\n",
    "N: Sample size\n",
    "\n",
    "x: Number of successes in the sample\n",
    "\n",
    "Probability mass function is given by\n",
    "![22.png](attachment:22.png)\n",
    "choose(n, r) function can be used to calculate nCr!"
   ]
  },
  {
   "cell_type": "code",
   "execution_count": 65,
   "metadata": {},
   "outputs": [
    {
     "data": {
      "text/html": [
       "55"
      ],
      "text/latex": [
       "55"
      ],
      "text/markdown": [
       "55"
      ],
      "text/plain": [
       "[1] 55"
      ]
     },
     "metadata": {},
     "output_type": "display_data"
    }
   ],
   "source": [
    "choose(11,2)"
   ]
  },
  {
   "cell_type": "code",
   "execution_count": 66,
   "metadata": {},
   "outputs": [
    {
     "data": {
      "text/html": [
       "16"
      ],
      "text/latex": [
       "16"
      ],
      "text/markdown": [
       "16"
      ],
      "text/plain": [
       "[1] 16"
      ]
     },
     "metadata": {},
     "output_type": "display_data"
    },
    {
     "data": {
      "text/html": [
       "5"
      ],
      "text/latex": [
       "5"
      ],
      "text/markdown": [
       "5"
      ],
      "text/plain": [
       "[1] 5"
      ]
     },
     "metadata": {},
     "output_type": "display_data"
    },
    {
     "data": {
      "text/html": [
       "8"
      ],
      "text/latex": [
       "8"
      ],
      "text/markdown": [
       "8"
      ],
      "text/plain": [
       "[1] 8"
      ]
     },
     "metadata": {},
     "output_type": "display_data"
    },
    {
     "data": {
      "text/html": [
       "3"
      ],
      "text/latex": [
       "3"
      ],
      "text/markdown": [
       "3"
      ],
      "text/plain": [
       "[1] 3"
      ]
     },
     "metadata": {},
     "output_type": "display_data"
    }
   ],
   "source": [
    "N = 16; k = 5; n = 8; x = 3\n",
    "N;k;n;x"
   ]
  },
  {
   "cell_type": "code",
   "execution_count": 67,
   "metadata": {},
   "outputs": [
    {
     "data": {
      "text/html": [
       "0.358974358974359"
      ],
      "text/latex": [
       "0.358974358974359"
      ],
      "text/markdown": [
       "0.358974358974359"
      ],
      "text/plain": [
       "[1] 0.3589744"
      ]
     },
     "metadata": {},
     "output_type": "display_data"
    }
   ],
   "source": [
    "px = (choose(k,x)* choose(N-k,n-x))/choose(N,n)\n",
    "px"
   ]
  },
  {
   "cell_type": "code",
   "execution_count": 68,
   "metadata": {},
   "outputs": [
    {
     "data": {
      "text/html": [
       "0.358974358974359"
      ],
      "text/latex": [
       "0.358974358974359"
      ],
      "text/markdown": [
       "0.358974358974359"
      ],
      "text/plain": [
       "[1] 0.3589744"
      ]
     },
     "metadata": {},
     "output_type": "display_data"
    }
   ],
   "source": [
    "dhyper(x, k, N-k, n)"
   ]
  },
  {
   "cell_type": "code",
   "execution_count": 69,
   "metadata": {},
   "outputs": [
    {
     "data": {
      "text/html": [
       "50"
      ],
      "text/latex": [
       "50"
      ],
      "text/markdown": [
       "50"
      ],
      "text/plain": [
       "[1] 50"
      ]
     },
     "metadata": {},
     "output_type": "display_data"
    },
    {
     "data": {
      "text/html": [
       "6"
      ],
      "text/latex": [
       "6"
      ],
      "text/markdown": [
       "6"
      ],
      "text/plain": [
       "[1] 6"
      ]
     },
     "metadata": {},
     "output_type": "display_data"
    },
    {
     "data": {
      "text/html": [
       "3"
      ],
      "text/latex": [
       "3"
      ],
      "text/markdown": [
       "3"
      ],
      "text/plain": [
       "[1] 3"
      ]
     },
     "metadata": {},
     "output_type": "display_data"
    },
    {
     "data": {
      "text/html": [
       "<style>\n",
       ".list-inline {list-style: none; margin:0; padding: 0}\n",
       ".list-inline>li {display: inline-block}\n",
       ".list-inline>li:not(:last-child)::after {content: \"\\00b7\"; padding: 0 .5ex}\n",
       "</style>\n",
       "<ol class=list-inline><li>0</li><li>1</li><li>2</li><li>3</li></ol>\n"
      ],
      "text/latex": [
       "\\begin{enumerate*}\n",
       "\\item 0\n",
       "\\item 1\n",
       "\\item 2\n",
       "\\item 3\n",
       "\\end{enumerate*}\n"
      ],
      "text/markdown": [
       "1. 0\n",
       "2. 1\n",
       "3. 2\n",
       "4. 3\n",
       "\n",
       "\n"
      ],
      "text/plain": [
       "[1] 0 1 2 3"
      ]
     },
     "metadata": {},
     "output_type": "display_data"
    }
   ],
   "source": [
    "N = 50; k = 6; n = 3; x <- 0: min(n,k)\n",
    "N;k;n;x"
   ]
  },
  {
   "cell_type": "code",
   "execution_count": 70,
   "metadata": {},
   "outputs": [
    {
     "data": {
      "text/html": [
       "<style>\n",
       ".list-inline {list-style: none; margin:0; padding: 0}\n",
       ".list-inline>li {display: inline-block}\n",
       ".list-inline>li:not(:last-child)::after {content: \"\\00b7\"; padding: 0 .5ex}\n",
       "</style>\n",
       "<ol class=list-inline><li>0.675714285714286</li><li>0.289591836734694</li><li>0.0336734693877551</li><li>0.00102040816326531</li></ol>\n"
      ],
      "text/latex": [
       "\\begin{enumerate*}\n",
       "\\item 0.675714285714286\n",
       "\\item 0.289591836734694\n",
       "\\item 0.0336734693877551\n",
       "\\item 0.00102040816326531\n",
       "\\end{enumerate*}\n"
      ],
      "text/markdown": [
       "1. 0.675714285714286\n",
       "2. 0.289591836734694\n",
       "3. 0.0336734693877551\n",
       "4. 0.00102040816326531\n",
       "\n",
       "\n"
      ],
      "text/plain": [
       "[1] 0.675714286 0.289591837 0.033673469 0.001020408"
      ]
     },
     "metadata": {},
     "output_type": "display_data"
    }
   ],
   "source": [
    "px = (choose(k,x)* choose(N-k,n-x))/choose(N,n)\n",
    "px"
   ]
  },
  {
   "cell_type": "code",
   "execution_count": 71,
   "metadata": {},
   "outputs": [
    {
     "data": {
      "text/html": [
       "<table>\n",
       "<caption>A data.frame: 4 × 2</caption>\n",
       "<thead>\n",
       "\t<tr><th scope=col>x</th><th scope=col>px</th></tr>\n",
       "\t<tr><th scope=col>&lt;int&gt;</th><th scope=col>&lt;dbl&gt;</th></tr>\n",
       "</thead>\n",
       "<tbody>\n",
       "\t<tr><td>0</td><td>0.675714286</td></tr>\n",
       "\t<tr><td>1</td><td>0.289591837</td></tr>\n",
       "\t<tr><td>2</td><td>0.033673469</td></tr>\n",
       "\t<tr><td>3</td><td>0.001020408</td></tr>\n",
       "</tbody>\n",
       "</table>\n"
      ],
      "text/latex": [
       "A data.frame: 4 × 2\n",
       "\\begin{tabular}{ll}\n",
       " x & px\\\\\n",
       " <int> & <dbl>\\\\\n",
       "\\hline\n",
       "\t 0 & 0.675714286\\\\\n",
       "\t 1 & 0.289591837\\\\\n",
       "\t 2 & 0.033673469\\\\\n",
       "\t 3 & 0.001020408\\\\\n",
       "\\end{tabular}\n"
      ],
      "text/markdown": [
       "\n",
       "A data.frame: 4 × 2\n",
       "\n",
       "| x &lt;int&gt; | px &lt;dbl&gt; |\n",
       "|---|---|\n",
       "| 0 | 0.675714286 |\n",
       "| 1 | 0.289591837 |\n",
       "| 2 | 0.033673469 |\n",
       "| 3 | 0.001020408 |\n",
       "\n"
      ],
      "text/plain": [
       "  x px         \n",
       "1 0 0.675714286\n",
       "2 1 0.289591837\n",
       "3 2 0.033673469\n",
       "4 3 0.001020408"
      ]
     },
     "metadata": {},
     "output_type": "display_data"
    }
   ],
   "source": [
    "pmf = data.frame(x,px)\n",
    "pmf"
   ]
  },
  {
   "cell_type": "markdown",
   "metadata": {},
   "source": [
    "This can be done using R-command dhyper()"
   ]
  },
  {
   "cell_type": "code",
   "execution_count": 72,
   "metadata": {},
   "outputs": [
    {
     "data": {
      "text/html": [
       "<style>\n",
       ".list-inline {list-style: none; margin:0; padding: 0}\n",
       ".list-inline>li {display: inline-block}\n",
       ".list-inline>li:not(:last-child)::after {content: \"\\00b7\"; padding: 0 .5ex}\n",
       "</style>\n",
       "<ol class=list-inline><li>0.675714285714286</li><li>0.289591836734694</li><li>0.0336734693877551</li><li>0.00102040816326531</li></ol>\n"
      ],
      "text/latex": [
       "\\begin{enumerate*}\n",
       "\\item 0.675714285714286\n",
       "\\item 0.289591836734694\n",
       "\\item 0.0336734693877551\n",
       "\\item 0.00102040816326531\n",
       "\\end{enumerate*}\n"
      ],
      "text/markdown": [
       "1. 0.675714285714286\n",
       "2. 0.289591836734694\n",
       "3. 0.0336734693877551\n",
       "4. 0.00102040816326531\n",
       "\n",
       "\n"
      ],
      "text/plain": [
       "[1] 0.675714286 0.289591837 0.033673469 0.001020408"
      ]
     },
     "metadata": {},
     "output_type": "display_data"
    }
   ],
   "source": [
    "px = dhyper(x, k, N-k, n)\n",
    "px"
   ]
  },
  {
   "cell_type": "code",
   "execution_count": 73,
   "metadata": {},
   "outputs": [
    {
     "data": {
      "text/html": [
       "<table>\n",
       "<caption>A data.frame: 4 × 2</caption>\n",
       "<thead>\n",
       "\t<tr><th scope=col>x</th><th scope=col>pmf</th></tr>\n",
       "\t<tr><th scope=col>&lt;int&gt;</th><th scope=col>&lt;dbl&gt;</th></tr>\n",
       "</thead>\n",
       "<tbody>\n",
       "\t<tr><td>0</td><td>0.676</td></tr>\n",
       "\t<tr><td>1</td><td>0.290</td></tr>\n",
       "\t<tr><td>2</td><td>0.034</td></tr>\n",
       "\t<tr><td>3</td><td>0.001</td></tr>\n",
       "</tbody>\n",
       "</table>\n"
      ],
      "text/latex": [
       "A data.frame: 4 × 2\n",
       "\\begin{tabular}{ll}\n",
       " x & pmf\\\\\n",
       " <int> & <dbl>\\\\\n",
       "\\hline\n",
       "\t 0 & 0.676\\\\\n",
       "\t 1 & 0.290\\\\\n",
       "\t 2 & 0.034\\\\\n",
       "\t 3 & 0.001\\\\\n",
       "\\end{tabular}\n"
      ],
      "text/markdown": [
       "\n",
       "A data.frame: 4 × 2\n",
       "\n",
       "| x &lt;int&gt; | pmf &lt;dbl&gt; |\n",
       "|---|---|\n",
       "| 0 | 0.676 |\n",
       "| 1 | 0.290 |\n",
       "| 2 | 0.034 |\n",
       "| 3 | 0.001 |\n",
       "\n"
      ],
      "text/plain": [
       "  x pmf  \n",
       "1 0 0.676\n",
       "2 1 0.290\n",
       "3 2 0.034\n",
       "4 3 0.001"
      ]
     },
     "metadata": {},
     "output_type": "display_data"
    }
   ],
   "source": [
    "pmf = round(px,3)\n",
    "\n",
    "prob_dist = data.frame(x,pmf)\n",
    "\n",
    "prob_dist"
   ]
  },
  {
   "cell_type": "code",
   "execution_count": 74,
   "metadata": {},
   "outputs": [
    {
     "data": {
      "text/html": [
       "<style>\n",
       ".list-inline {list-style: none; margin:0; padding: 0}\n",
       ".list-inline>li {display: inline-block}\n",
       ".list-inline>li:not(:last-child)::after {content: \"\\00b7\"; padding: 0 .5ex}\n",
       "</style>\n",
       "<ol class=list-inline><li>0.675714285714286</li><li>0.289591836734694</li><li>0.0336734693877551</li><li>0.00102040816326531</li></ol>\n"
      ],
      "text/latex": [
       "\\begin{enumerate*}\n",
       "\\item 0.675714285714286\n",
       "\\item 0.289591836734694\n",
       "\\item 0.0336734693877551\n",
       "\\item 0.00102040816326531\n",
       "\\end{enumerate*}\n"
      ],
      "text/markdown": [
       "1. 0.675714285714286\n",
       "2. 0.289591836734694\n",
       "3. 0.0336734693877551\n",
       "4. 0.00102040816326531\n",
       "\n",
       "\n"
      ],
      "text/plain": [
       "[1] 0.675714286 0.289591837 0.033673469 0.001020408"
      ]
     },
     "metadata": {},
     "output_type": "display_data"
    }
   ],
   "source": [
    "px = dhyper(x, k, N-k, n)\n",
    "px"
   ]
  },
  {
   "cell_type": "code",
   "execution_count": 75,
   "metadata": {},
   "outputs": [
    {
     "data": {
      "text/html": [
       "<table>\n",
       "<caption>A data.frame: 4 × 2</caption>\n",
       "<thead>\n",
       "\t<tr><th scope=col>x</th><th scope=col>pmf</th></tr>\n",
       "\t<tr><th scope=col>&lt;int&gt;</th><th scope=col>&lt;dbl&gt;</th></tr>\n",
       "</thead>\n",
       "<tbody>\n",
       "\t<tr><td>0</td><td>0.676</td></tr>\n",
       "\t<tr><td>1</td><td>0.290</td></tr>\n",
       "\t<tr><td>2</td><td>0.034</td></tr>\n",
       "\t<tr><td>3</td><td>0.001</td></tr>\n",
       "</tbody>\n",
       "</table>\n"
      ],
      "text/latex": [
       "A data.frame: 4 × 2\n",
       "\\begin{tabular}{ll}\n",
       " x & pmf\\\\\n",
       " <int> & <dbl>\\\\\n",
       "\\hline\n",
       "\t 0 & 0.676\\\\\n",
       "\t 1 & 0.290\\\\\n",
       "\t 2 & 0.034\\\\\n",
       "\t 3 & 0.001\\\\\n",
       "\\end{tabular}\n"
      ],
      "text/markdown": [
       "\n",
       "A data.frame: 4 × 2\n",
       "\n",
       "| x &lt;int&gt; | pmf &lt;dbl&gt; |\n",
       "|---|---|\n",
       "| 0 | 0.676 |\n",
       "| 1 | 0.290 |\n",
       "| 2 | 0.034 |\n",
       "| 3 | 0.001 |\n",
       "\n"
      ],
      "text/plain": [
       "  x pmf  \n",
       "1 0 0.676\n",
       "2 1 0.290\n",
       "3 2 0.034\n",
       "4 3 0.001"
      ]
     },
     "metadata": {},
     "output_type": "display_data"
    }
   ],
   "source": [
    "pmf = round(px,3)\n",
    "\n",
    "prob_dist = data.frame(x,pmf)\n",
    "\n",
    "prob_dist"
   ]
  },
  {
   "cell_type": "markdown",
   "metadata": {},
   "source": [
    "Cumulative Hypergeometric probabilities can be directly obtained using R-command\n",
    "phyper(x, k, N-k, n)."
   ]
  },
  {
   "cell_type": "code",
   "execution_count": 76,
   "metadata": {},
   "outputs": [
    {
     "data": {
      "text/html": [
       "<style>\n",
       ".list-inline {list-style: none; margin:0; padding: 0}\n",
       ".list-inline>li {display: inline-block}\n",
       ".list-inline>li:not(:last-child)::after {content: \"\\00b7\"; padding: 0 .5ex}\n",
       "</style>\n",
       "<ol class=list-inline><li>0.675714285714286</li><li>0.96530612244898</li><li>0.998979591836735</li><li>1</li></ol>\n"
      ],
      "text/latex": [
       "\\begin{enumerate*}\n",
       "\\item 0.675714285714286\n",
       "\\item 0.96530612244898\n",
       "\\item 0.998979591836735\n",
       "\\item 1\n",
       "\\end{enumerate*}\n"
      ],
      "text/markdown": [
       "1. 0.675714285714286\n",
       "2. 0.96530612244898\n",
       "3. 0.998979591836735\n",
       "4. 1\n",
       "\n",
       "\n"
      ],
      "text/plain": [
       "[1] 0.6757143 0.9653061 0.9989796 1.0000000"
      ]
     },
     "metadata": {},
     "output_type": "display_data"
    }
   ],
   "source": [
    "cdf = phyper(x, k , N-k, n)\n",
    "cdf"
   ]
  },
  {
   "cell_type": "code",
   "execution_count": 77,
   "metadata": {},
   "outputs": [
    {
     "data": {
      "text/html": [
       "<table>\n",
       "<caption>A data.frame: 4 × 3</caption>\n",
       "<thead>\n",
       "\t<tr><th scope=col>x</th><th scope=col>pmf</th><th scope=col>cdf</th></tr>\n",
       "\t<tr><th scope=col>&lt;int&gt;</th><th scope=col>&lt;dbl&gt;</th><th scope=col>&lt;dbl&gt;</th></tr>\n",
       "</thead>\n",
       "<tbody>\n",
       "\t<tr><td>0</td><td>0.676</td><td>0.6757143</td></tr>\n",
       "\t<tr><td>1</td><td>0.290</td><td>0.9653061</td></tr>\n",
       "\t<tr><td>2</td><td>0.034</td><td>0.9989796</td></tr>\n",
       "\t<tr><td>3</td><td>0.001</td><td>1.0000000</td></tr>\n",
       "</tbody>\n",
       "</table>\n"
      ],
      "text/latex": [
       "A data.frame: 4 × 3\n",
       "\\begin{tabular}{lll}\n",
       " x & pmf & cdf\\\\\n",
       " <int> & <dbl> & <dbl>\\\\\n",
       "\\hline\n",
       "\t 0 & 0.676 & 0.6757143\\\\\n",
       "\t 1 & 0.290 & 0.9653061\\\\\n",
       "\t 2 & 0.034 & 0.9989796\\\\\n",
       "\t 3 & 0.001 & 1.0000000\\\\\n",
       "\\end{tabular}\n"
      ],
      "text/markdown": [
       "\n",
       "A data.frame: 4 × 3\n",
       "\n",
       "| x &lt;int&gt; | pmf &lt;dbl&gt; | cdf &lt;dbl&gt; |\n",
       "|---|---|---|\n",
       "| 0 | 0.676 | 0.6757143 |\n",
       "| 1 | 0.290 | 0.9653061 |\n",
       "| 2 | 0.034 | 0.9989796 |\n",
       "| 3 | 0.001 | 1.0000000 |\n",
       "\n"
      ],
      "text/plain": [
       "  x pmf   cdf      \n",
       "1 0 0.676 0.6757143\n",
       "2 1 0.290 0.9653061\n",
       "3 2 0.034 0.9989796\n",
       "4 3 0.001 1.0000000"
      ]
     },
     "metadata": {},
     "output_type": "display_data"
    }
   ],
   "source": [
    "pmf_cdf_dist = data.frame(x, pmf, cdf)\n",
    "pmf_cdf_dist"
   ]
  },
  {
   "cell_type": "markdown",
   "metadata": {},
   "source": [
    "#### R – Commands for various probability distributions:\n",
    "For every distribution there are four commands.\n",
    "\n",
    "The commands for each distribution are prepended with a letter to indicate the functionality:\n",
    "\n",
    "“r”:returns randomly generated numbers\n",
    "\n",
    "“d”:returns the height of the probability density function\n",
    "\n",
    "“p”:returns the cumulative density function\n",
    "\n",
    "“q”:returns the inverse cumulative density function (quantiles)\n",
    "\n",
    "\n",
    "\n"
   ]
  },
  {
   "cell_type": "markdown",
   "metadata": {},
   "source": [
    "### R- Commands for Normal distribution:\n",
    "- **rnorm(n, mean, sd) :**\n",
    "This command is used for generating random sample of\n",
    "size n from normal distribution with the specified values of mean and sd.\n",
    "- **dnorm(x, mean, sd):**\n",
    "Given a set of values it returns the height of the\n",
    "probability distribution at each point of normal distribution with specified values\n",
    "of mean and sd.\n",
    "- **pnorm(x, mean, sd):**\n",
    "This command is to determine CDF at x of normal\n",
    "distribution with specified values of mean and sd. This gives area left of x.\n",
    "- **qnorm(p, mean, sd):**\n",
    "This command is used to obtain p th quantile (x) of\n",
    "normal distribution with specified values of mean and sd.\n",
    "\n",
    "##### Following command generates 5 random numbers from standard normal distribution"
   ]
  },
  {
   "cell_type": "code",
   "execution_count": 78,
   "metadata": {},
   "outputs": [
    {
     "data": {
      "text/html": [
       "<style>\n",
       ".list-inline {list-style: none; margin:0; padding: 0}\n",
       ".list-inline>li {display: inline-block}\n",
       ".list-inline>li:not(:last-child)::after {content: \"\\00b7\"; padding: 0 .5ex}\n",
       "</style>\n",
       "<ol class=list-inline><li>-0.316673924520679</li><li>0.0620804238068208</li><li>0.978205585978632</li><li>1.88348151528236</li><li>0.142692698251776</li></ol>\n"
      ],
      "text/latex": [
       "\\begin{enumerate*}\n",
       "\\item -0.316673924520679\n",
       "\\item 0.0620804238068208\n",
       "\\item 0.978205585978632\n",
       "\\item 1.88348151528236\n",
       "\\item 0.142692698251776\n",
       "\\end{enumerate*}\n"
      ],
      "text/markdown": [
       "1. -0.316673924520679\n",
       "2. 0.0620804238068208\n",
       "3. 0.978205585978632\n",
       "4. 1.88348151528236\n",
       "5. 0.142692698251776\n",
       "\n",
       "\n"
      ],
      "text/plain": [
       "[1] -0.31667392  0.06208042  0.97820559  1.88348152  0.14269270"
      ]
     },
     "metadata": {},
     "output_type": "display_data"
    }
   ],
   "source": [
    "rnorm(5)"
   ]
  },
  {
   "cell_type": "code",
   "execution_count": 79,
   "metadata": {},
   "outputs": [
    {
     "data": {
      "text/html": [
       "<style>\n",
       ".list-inline {list-style: none; margin:0; padding: 0}\n",
       ".list-inline>li {display: inline-block}\n",
       ".list-inline>li:not(:last-child)::after {content: \"\\00b7\"; padding: 0 .5ex}\n",
       "</style>\n",
       "<ol class=list-inline><li>11.7560787811639</li><li>14.8759590158218</li><li>21.2091966707342</li><li>15.3899108594074</li><li>8.18845126214624</li></ol>\n"
      ],
      "text/latex": [
       "\\begin{enumerate*}\n",
       "\\item 11.7560787811639\n",
       "\\item 14.8759590158218\n",
       "\\item 21.2091966707342\n",
       "\\item 15.3899108594074\n",
       "\\item 8.18845126214624\n",
       "\\end{enumerate*}\n"
      ],
      "text/markdown": [
       "1. 11.7560787811639\n",
       "2. 14.8759590158218\n",
       "3. 21.2091966707342\n",
       "4. 15.3899108594074\n",
       "5. 8.18845126214624\n",
       "\n",
       "\n"
      ],
      "text/plain": [
       "[1] 11.756079 14.875959 21.209197 15.389911  8.188451"
      ]
     },
     "metadata": {},
     "output_type": "display_data"
    }
   ],
   "source": [
    "rnorm(5,15,4)"
   ]
  },
  {
   "cell_type": "markdown",
   "metadata": {},
   "source": [
    "##### Following command gives height of standard normal probability distribution at the point\n",
    "x = 0."
   ]
  },
  {
   "cell_type": "code",
   "execution_count": 80,
   "metadata": {},
   "outputs": [
    {
     "data": {
      "text/html": [
       "0.398942280401433"
      ],
      "text/latex": [
       "0.398942280401433"
      ],
      "text/markdown": [
       "0.398942280401433"
      ],
      "text/plain": [
       "[1] 0.3989423"
      ]
     },
     "metadata": {},
     "output_type": "display_data"
    }
   ],
   "source": [
    "dnorm(0)"
   ]
  },
  {
   "cell_type": "markdown",
   "metadata": {},
   "source": [
    "##### Following command gives height of normal probability distribution with (μ = 4, σ = 10) at\n",
    "the point x = 0."
   ]
  },
  {
   "cell_type": "code",
   "execution_count": 81,
   "metadata": {},
   "outputs": [
    {
     "data": {
      "text/html": [
       "0.0368270140303323"
      ],
      "text/latex": [
       "0.0368270140303323"
      ],
      "text/markdown": [
       "0.0368270140303323"
      ],
      "text/plain": [
       "[1] 0.03682701"
      ]
     },
     "metadata": {},
     "output_type": "display_data"
    }
   ],
   "source": [
    "dnorm(0,mean=4,sd=10)"
   ]
  },
  {
   "cell_type": "code",
   "execution_count": 82,
   "metadata": {},
   "outputs": [
    {
     "data": {
      "text/html": [
       "<style>\n",
       ".list-inline {list-style: none; margin:0; padding: 0}\n",
       ".list-inline>li {display: inline-block}\n",
       ".list-inline>li:not(:last-child)::after {content: \"\\00b7\"; padding: 0 .5ex}\n",
       "</style>\n",
       "<ol class=list-inline><li>0</li><li>1</li><li>2</li></ol>\n"
      ],
      "text/latex": [
       "\\begin{enumerate*}\n",
       "\\item 0\n",
       "\\item 1\n",
       "\\item 2\n",
       "\\end{enumerate*}\n"
      ],
      "text/markdown": [
       "1. 0\n",
       "2. 1\n",
       "3. 2\n",
       "\n",
       "\n"
      ],
      "text/plain": [
       "[1] 0 1 2"
      ]
     },
     "metadata": {},
     "output_type": "display_data"
    }
   ],
   "source": [
    "v <- c(0,1,2)\n",
    "v"
   ]
  },
  {
   "cell_type": "markdown",
   "metadata": {},
   "source": [
    "##### Following command gives height of standard normal probability distribution at the point\n",
    "x = 0, 1, 2."
   ]
  },
  {
   "cell_type": "code",
   "execution_count": 83,
   "metadata": {},
   "outputs": [
    {
     "data": {
      "text/html": [
       "<style>\n",
       ".list-inline {list-style: none; margin:0; padding: 0}\n",
       ".list-inline>li {display: inline-block}\n",
       ".list-inline>li:not(:last-child)::after {content: \"\\00b7\"; padding: 0 .5ex}\n",
       "</style>\n",
       "<ol class=list-inline><li>0.398942280401433</li><li>0.241970724519143</li><li>0.0539909665131881</li></ol>\n"
      ],
      "text/latex": [
       "\\begin{enumerate*}\n",
       "\\item 0.398942280401433\n",
       "\\item 0.241970724519143\n",
       "\\item 0.0539909665131881\n",
       "\\end{enumerate*}\n"
      ],
      "text/markdown": [
       "1. 0.398942280401433\n",
       "2. 0.241970724519143\n",
       "3. 0.0539909665131881\n",
       "\n",
       "\n"
      ],
      "text/plain": [
       "[1] 0.39894228 0.24197072 0.05399097"
      ]
     },
     "metadata": {},
     "output_type": "display_data"
    }
   ],
   "source": [
    "dnorm(v)"
   ]
  },
  {
   "cell_type": "markdown",
   "metadata": {},
   "source": [
    "##### Following commands plots standard normal probability curve"
   ]
  },
  {
   "cell_type": "code",
   "execution_count": 84,
   "metadata": {},
   "outputs": [
    {
     "data": {
      "image/png": "[encoded data removed]",
      "text/plain": [
       "plot without title"
      ]
     },
     "metadata": {
      "image/png": {
       "height": 420,
       "width": 420
      },
      "text/plain": {
       "height": 420,
       "width": 420
      }
     },
     "output_type": "display_data"
    }
   ],
   "source": [
    "x <- seq(-20,20,by=.1)\n",
    "y <- dnorm(x)\n",
    "plot(x,y)"
   ]
  },
  {
   "cell_type": "markdown",
   "metadata": {},
   "source": [
    "##### Following commands plot normal probability curve with (μ = 2.5, σ = 5)"
   ]
  },
  {
   "cell_type": "code",
   "execution_count": 85,
   "metadata": {},
   "outputs": [
    {
     "data": {
      "image/png": "[encoded data removed]",
      "text/plain": [
       "plot without title"
      ]
     },
     "metadata": {
      "image/png": {
       "height": 420,
       "width": 420
      },
      "text/plain": {
       "height": 420,
       "width": 420
      }
     },
     "output_type": "display_data"
    }
   ],
   "source": [
    "y <- dnorm(x,mean=2.5,sd=5)\n",
    "plot(x,y)"
   ]
  },
  {
   "cell_type": "markdown",
   "metadata": {},
   "source": [
    "##### Following command gives P(Z ≤ 1.96) and P(Z ≤ 1.645)"
   ]
  },
  {
   "cell_type": "code",
   "execution_count": 86,
   "metadata": {},
   "outputs": [
    {
     "data": {
      "text/html": [
       "0.97500210485178"
      ],
      "text/latex": [
       "0.97500210485178"
      ],
      "text/markdown": [
       "0.97500210485178"
      ],
      "text/plain": [
       "[1] 0.9750021"
      ]
     },
     "metadata": {},
     "output_type": "display_data"
    }
   ],
   "source": [
    "pnorm(1.96)"
   ]
  },
  {
   "cell_type": "code",
   "execution_count": 87,
   "metadata": {},
   "outputs": [
    {
     "data": {
      "text/html": [
       "0.950015094460879"
      ],
      "text/latex": [
       "0.950015094460879"
      ],
      "text/markdown": [
       "0.950015094460879"
      ],
      "text/plain": [
       "[1] 0.9500151"
      ]
     },
     "metadata": {},
     "output_type": "display_data"
    }
   ],
   "source": [
    "pnorm(1.645)"
   ]
  },
  {
   "cell_type": "code",
   "execution_count": 88,
   "metadata": {},
   "outputs": [
    {
     "data": {
      "text/html": [
       "0.252492537546923"
      ],
      "text/latex": [
       "0.252492537546923"
      ],
      "text/markdown": [
       "0.252492537546923"
      ],
      "text/plain": [
       "[1] 0.2524925"
      ]
     },
     "metadata": {},
     "output_type": "display_data"
    }
   ],
   "source": [
    "pnorm(18, 20, 3)"
   ]
  },
  {
   "cell_type": "markdown",
   "metadata": {},
   "source": [
    "##### Following commands displays values of a and b such that P(Z ≤ a) = 0.25; P(Z ≤ b) = 0.5"
   ]
  },
  {
   "cell_type": "code",
   "execution_count": 89,
   "metadata": {},
   "outputs": [
    {
     "data": {
      "text/html": [
       "-0.674489750196082"
      ],
      "text/latex": [
       "-0.674489750196082"
      ],
      "text/markdown": [
       "-0.674489750196082"
      ],
      "text/plain": [
       "[1] -0.6744898"
      ]
     },
     "metadata": {},
     "output_type": "display_data"
    }
   ],
   "source": [
    "qnorm(0.25)"
   ]
  },
  {
   "cell_type": "code",
   "execution_count": 90,
   "metadata": {},
   "outputs": [
    {
     "data": {
      "text/html": [
       "0"
      ],
      "text/latex": [
       "0"
      ],
      "text/markdown": [
       "0"
      ],
      "text/plain": [
       "[1] 0"
      ]
     },
     "metadata": {},
     "output_type": "display_data"
    }
   ],
   "source": [
    "qnorm(0.5)"
   ]
  },
  {
   "cell_type": "markdown",
   "metadata": {},
   "source": [
    "##### Following command displays the value c such that P(X ≤ c) = 0.30 where X ∼ N(μ=15, σ=4)"
   ]
  },
  {
   "cell_type": "code",
   "execution_count": 91,
   "metadata": {},
   "outputs": [
    {
     "data": {
      "text/html": [
       "12.9023979491678"
      ],
      "text/latex": [
       "12.9023979491678"
      ],
      "text/markdown": [
       "12.9023979491678"
      ],
      "text/plain": [
       "[1] 12.9024"
      ]
     },
     "metadata": {},
     "output_type": "display_data"
    }
   ],
   "source": [
    "qnorm(0.30,15,4)"
   ]
  },
  {
   "cell_type": "markdown",
   "metadata": {},
   "source": [
    "### R- Commands for t distribution:\n",
    "The commands follow the same kind of naming convention, and the names of the commands are dt, pt, qt, and rt.\n",
    "\n",
    "- **rt(n,df):** This function is used to draw a random sample of size n from t\n",
    "distribution with specified degrees of freedom\n",
    "- **dt(n,df):** This function is used to obtain density function of t distribution for\n",
    "vector x and with specified degrees of freedom\n",
    "- **pt(x,df):** This function is used to obtain cumulative distribution function of t\n",
    "distribution for vector x and with specified degrees of freedom\n",
    "- **qt(p,df):** This function is used to obtain p th quantile of t distribution with\n",
    "specified degrees of freedom"
   ]
  },
  {
   "cell_type": "markdown",
   "metadata": {},
   "source": [
    "##### Following commands generates random numbers according to t-distribution"
   ]
  },
  {
   "cell_type": "code",
   "execution_count": 92,
   "metadata": {},
   "outputs": [
    {
     "data": {
      "text/html": [
       "<style>\n",
       ".list-inline {list-style: none; margin:0; padding: 0}\n",
       ".list-inline>li {display: inline-block}\n",
       ".list-inline>li:not(:last-child)::after {content: \"\\00b7\"; padding: 0 .5ex}\n",
       "</style>\n",
       "<ol class=list-inline><li>-0.928322906298877</li><li>1.7822828646536</li><li>1.0424569591073</li></ol>\n"
      ],
      "text/latex": [
       "\\begin{enumerate*}\n",
       "\\item -0.928322906298877\n",
       "\\item 1.7822828646536\n",
       "\\item 1.0424569591073\n",
       "\\end{enumerate*}\n"
      ],
      "text/markdown": [
       "1. -0.928322906298877\n",
       "2. 1.7822828646536\n",
       "3. 1.0424569591073\n",
       "\n",
       "\n"
      ],
      "text/plain": [
       "[1] -0.9283229  1.7822829  1.0424570"
      ]
     },
     "metadata": {},
     "output_type": "display_data"
    }
   ],
   "source": [
    "rt(3,df=10)"
   ]
  },
  {
   "cell_type": "code",
   "execution_count": 93,
   "metadata": {},
   "outputs": [
    {
     "data": {
      "text/html": [
       "<style>\n",
       ".list-inline {list-style: none; margin:0; padding: 0}\n",
       ".list-inline>li {display: inline-block}\n",
       ".list-inline>li:not(:last-child)::after {content: \"\\00b7\"; padding: 0 .5ex}\n",
       "</style>\n",
       "<ol class=list-inline><li>-0.56559178203285</li><li>-0.420560834756485</li><li>0.182387039788635</li></ol>\n"
      ],
      "text/latex": [
       "\\begin{enumerate*}\n",
       "\\item -0.56559178203285\n",
       "\\item -0.420560834756485\n",
       "\\item 0.182387039788635\n",
       "\\end{enumerate*}\n"
      ],
      "text/markdown": [
       "1. -0.56559178203285\n",
       "2. -0.420560834756485\n",
       "3. 0.182387039788635\n",
       "\n",
       "\n"
      ],
      "text/plain": [
       "[1] -0.5655918 -0.4205608  0.1823870"
      ]
     },
     "metadata": {},
     "output_type": "display_data"
    }
   ],
   "source": [
    "rt(3,df=10)"
   ]
  },
  {
   "cell_type": "code",
   "execution_count": 94,
   "metadata": {},
   "outputs": [
    {
     "data": {
      "text/html": [
       "<style>\n",
       ".list-inline {list-style: none; margin:0; padding: 0}\n",
       ".list-inline>li {display: inline-block}\n",
       ".list-inline>li:not(:last-child)::after {content: \"\\00b7\"; padding: 0 .5ex}\n",
       "</style>\n",
       "<ol class=list-inline><li>-0.343249181778632</li><li>-0.445377926105368</li><li>-0.295089362834228</li><li>1.46245040385011</li><li>0.354962236013278</li></ol>\n"
      ],
      "text/latex": [
       "\\begin{enumerate*}\n",
       "\\item -0.343249181778632\n",
       "\\item -0.445377926105368\n",
       "\\item -0.295089362834228\n",
       "\\item 1.46245040385011\n",
       "\\item 0.354962236013278\n",
       "\\end{enumerate*}\n"
      ],
      "text/markdown": [
       "1. -0.343249181778632\n",
       "2. -0.445377926105368\n",
       "3. -0.295089362834228\n",
       "4. 1.46245040385011\n",
       "5. 0.354962236013278\n",
       "\n",
       "\n"
      ],
      "text/plain": [
       "[1] -0.3432492 -0.4453779 -0.2950894  1.4624504  0.3549622"
      ]
     },
     "metadata": {},
     "output_type": "display_data"
    }
   ],
   "source": [
    "rt(5,df=12)"
   ]
  },
  {
   "cell_type": "code",
   "execution_count": 95,
   "metadata": {},
   "outputs": [
    {
     "data": {
      "text/html": [
       "<style>\n",
       ".list-inline {list-style: none; margin:0; padding: 0}\n",
       ".list-inline>li {display: inline-block}\n",
       ".list-inline>li:not(:last-child)::after {content: \"\\00b7\"; padding: 0 .5ex}\n",
       "</style>\n",
       "<ol class=list-inline><li>-1.57211324435288</li><li>0.15742429453807</li><li>-1.88269035654479</li><li>-0.80972063841961</li><li>0.112325725900286</li></ol>\n"
      ],
      "text/latex": [
       "\\begin{enumerate*}\n",
       "\\item -1.57211324435288\n",
       "\\item 0.15742429453807\n",
       "\\item -1.88269035654479\n",
       "\\item -0.80972063841961\n",
       "\\item 0.112325725900286\n",
       "\\end{enumerate*}\n"
      ],
      "text/markdown": [
       "1. -1.57211324435288\n",
       "2. 0.15742429453807\n",
       "3. -1.88269035654479\n",
       "4. -0.80972063841961\n",
       "5. 0.112325725900286\n",
       "\n",
       "\n"
      ],
      "text/plain": [
       "[1] -1.5721132  0.1574243 -1.8826904 -0.8097206  0.1123257"
      ]
     },
     "metadata": {},
     "output_type": "display_data"
    }
   ],
   "source": [
    "rt(5,df=12)"
   ]
  },
  {
   "cell_type": "markdown",
   "metadata": {},
   "source": [
    "##### Following command displays y-coordinate of t-probability curve with degrees of  freedom 10 at t = 4 i.e. f(t) n=10 = f(4) n=10 = 0.002031034"
   ]
  },
  {
   "cell_type": "code",
   "execution_count": 96,
   "metadata": {},
   "outputs": [
    {
     "data": {
      "text/html": [
       "0.00203103391104122"
      ],
      "text/latex": [
       "0.00203103391104122"
      ],
      "text/markdown": [
       "0.00203103391104122"
      ],
      "text/plain": [
       "[1] 0.002031034"
      ]
     },
     "metadata": {},
     "output_type": "display_data"
    }
   ],
   "source": [
    "y <- dt(4,10)\n",
    "y"
   ]
  },
  {
   "cell_type": "markdown",
   "metadata": {},
   "source": [
    "##### Following commands plot t-probability curve with degrees of freedom 50"
   ]
  },
  {
   "cell_type": "code",
   "execution_count": 97,
   "metadata": {},
   "outputs": [
    {
     "data": {
      "image/png": "[encoded data removed]",
      "text/plain": [
       "plot without title"
      ]
     },
     "metadata": {
      "image/png": {
       "height": 420,
       "width": 420
      },
      "text/plain": {
       "height": 420,
       "width": 420
      }
     },
     "output_type": "display_data"
    }
   ],
   "source": [
    "x <- seq(-20,20,by=.5)\n",
    "y <- dt(x,df=50)\n",
    "plot(x,y)"
   ]
  },
  {
   "cell_type": "markdown",
   "metadata": {},
   "source": [
    "##### Following command displays cumulative probability of t-distribution with 10 degrees of freedom i.e. P(t n=10 ≤ -3)"
   ]
  },
  {
   "cell_type": "code",
   "execution_count": 98,
   "metadata": {},
   "outputs": [
    {
     "data": {
      "text/html": [
       "0.00667182751128479"
      ],
      "text/latex": [
       "0.00667182751128479"
      ],
      "text/markdown": [
       "0.00667182751128479"
      ],
      "text/plain": [
       "[1] 0.006671828"
      ]
     },
     "metadata": {},
     "output_type": "display_data"
    }
   ],
   "source": [
    "pt(-3,df=10)"
   ]
  },
  {
   "cell_type": "markdown",
   "metadata": {},
   "source": [
    "##### Following command displays cumulative probability of t-distribution with 10 degrees of freedom i.e. P(t n=10 ≤ -3), P(t n=10 ≤ -4), P(t n=10 ≤ -2), P(t n=10 ≤ -1)"
   ]
  },
  {
   "cell_type": "code",
   "execution_count": 99,
   "metadata": {},
   "outputs": [],
   "source": [
    "x = c(-3,-4,-2,-1)"
   ]
  },
  {
   "cell_type": "code",
   "execution_count": 100,
   "metadata": {},
   "outputs": [
    {
     "data": {
      "text/html": [
       "<style>\n",
       ".list-inline {list-style: none; margin:0; padding: 0}\n",
       ".list-inline>li {display: inline-block}\n",
       ".list-inline>li:not(:last-child)::after {content: \"\\00b7\"; padding: 0 .5ex}\n",
       "</style>\n",
       "<ol class=list-inline><li>0.00667182751128479</li><li>0.00125916631236835</li><li>0.0366940173853702</li><li>0.17044656615103</li></ol>\n"
      ],
      "text/latex": [
       "\\begin{enumerate*}\n",
       "\\item 0.00667182751128479\n",
       "\\item 0.00125916631236835\n",
       "\\item 0.0366940173853702\n",
       "\\item 0.17044656615103\n",
       "\\end{enumerate*}\n"
      ],
      "text/markdown": [
       "1. 0.00667182751128479\n",
       "2. 0.00125916631236835\n",
       "3. 0.0366940173853702\n",
       "4. 0.17044656615103\n",
       "\n",
       "\n"
      ],
      "text/plain": [
       "[1] 0.006671828 0.001259166 0.036694017 0.170446566"
      ]
     },
     "metadata": {},
     "output_type": "display_data"
    }
   ],
   "source": [
    "pt(x,10)"
   ]
  },
  {
   "cell_type": "markdown",
   "metadata": {},
   "source": [
    "##### Following command displays inverse cumulative probability distribution i.e. P(t n=10 ≤ a) =0.05"
   ]
  },
  {
   "cell_type": "code",
   "execution_count": 101,
   "metadata": {},
   "outputs": [
    {
     "data": {
      "text/html": [
       "-1.81246112281168"
      ],
      "text/latex": [
       "-1.81246112281168"
      ],
      "text/markdown": [
       "-1.81246112281168"
      ],
      "text/plain": [
       "[1] -1.812461"
      ]
     },
     "metadata": {},
     "output_type": "display_data"
    }
   ],
   "source": [
    "qt(0.05,df=10)"
   ]
  },
  {
   "cell_type": "markdown",
   "metadata": {},
   "source": [
    "##### Following command displays values of b, c and d i.e. inverse cumulative probabilities such that P(t n=7 ≤ b) = 0.005, P(t n=7 ≤ c) = 0.025, P(t n=7 ≤ d) = 0.05"
   ]
  },
  {
   "cell_type": "code",
   "execution_count": 102,
   "metadata": {},
   "outputs": [
    {
     "data": {
      "text/html": [
       "<style>\n",
       ".list-inline {list-style: none; margin:0; padding: 0}\n",
       ".list-inline>li {display: inline-block}\n",
       ".list-inline>li:not(:last-child)::after {content: \"\\00b7\"; padding: 0 .5ex}\n",
       "</style>\n",
       "<ol class=list-inline><li>-3.49948329735049</li><li>-2.36462425159278</li><li>-1.89457860509001</li></ol>\n"
      ],
      "text/latex": [
       "\\begin{enumerate*}\n",
       "\\item -3.49948329735049\n",
       "\\item -2.36462425159278\n",
       "\\item -1.89457860509001\n",
       "\\end{enumerate*}\n"
      ],
      "text/markdown": [
       "1. -3.49948329735049\n",
       "2. -2.36462425159278\n",
       "3. -1.89457860509001\n",
       "\n",
       "\n"
      ],
      "text/plain": [
       "[1] -3.499483 -2.364624 -1.894579"
      ]
     },
     "metadata": {},
     "output_type": "display_data"
    }
   ],
   "source": [
    "v <- c(0.005,.025,.05)\n",
    "qt(v,df=7)"
   ]
  },
  {
   "cell_type": "markdown",
   "metadata": {},
   "source": [
    "### R- Commands for χ 2 distribution:\n",
    "There are four functions that can be used to generate the values associated with the Chi-Squared distribution.\n",
    "\n",
    "These commands work just like the commands for the t-distribution.\n",
    "\n",
    "The commands follow the same kind of naming convention, and the names of the\n",
    "commands are dchisq, pchisq, qchisq, and rchisq."
   ]
  },
  {
   "cell_type": "code",
   "execution_count": null,
   "metadata": {},
   "outputs": [],
   "source": []
  }
 ],
 "metadata": {
  "kernelspec": {
   "display_name": "R",
   "language": "R",
   "name": "ir"
  },
  "language_info": {
   "codemirror_mode": "r",
   "file_extension": ".r",
   "mimetype": "text/x-r-source",
   "name": "R",
   "pygments_lexer": "r",
   "version": "3.6.3"
  }
 },
 "nbformat": 4,
 "nbformat_minor": 2
}
