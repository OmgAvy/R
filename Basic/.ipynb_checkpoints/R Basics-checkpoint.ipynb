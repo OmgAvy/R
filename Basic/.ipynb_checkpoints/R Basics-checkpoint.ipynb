{
 "cells": [
  {
   "cell_type": "markdown",
   "metadata": {},
   "source": [
    "# R\n",
    "  R is a programming language and software environment for statistical computing and\n",
    "graphics.The R language is widely used among statisticians and data miners for developing\n",
    "statistical software and data analysis. \n",
    "\n",
    "The source code for the R software environment is\n",
    "written primarily in C, Fortran, and R.\n",
    "    \n",
    "  R is a system for statistical computation and graphics. It provides, among other things, a\n",
    "programming language, high level graphics, interfaces to other languages and debugging\n",
    "facilities.\n",
    "##### The R environment\n",
    "R is an integrated suite of software facilities for data manipulation, calculation and\n",
    "graphical display. Among other things it has\n",
    "- an effective data handling and storage facility,\n",
    "- a suite of operators for calculations on arrays, in particular matrices,\n",
    "- a large, coherent, integrated collection of intermediate tools for data analysis,\n",
    "- graphical facilities for data analysis and display either directly at the computer or\n",
    "on hardcopy, and\n",
    "- a well developed, simple and effective programming language (called ‘S’) which includes conditionals, loops, user defined recursive functions and input and output facilities.\n",
    "\n",
    "##### Getting help with functions and features\n",
    "R has an inbuilt help facility. To get more information on any specific named function,\n",
    "for example cos(x), the command is"
   ]
  },
  {
   "cell_type": "code",
   "execution_count": 659,
   "metadata": {},
   "outputs": [],
   "source": [
    "help('cos') #An alternative is"
   ]
  },
  {
   "cell_type": "code",
   "execution_count": 660,
   "metadata": {},
   "outputs": [],
   "source": [
    "?cos"
   ]
  },
  {
   "cell_type": "markdown",
   "metadata": {},
   "source": [
    "   For a feature specified by special characters, the argument must be enclosed in double\n",
    "or single quotes, making it a “character string”: This is also necessary for a few words with\n",
    "syntactic meaning including if, for and function."
   ]
  },
  {
   "cell_type": "code",
   "execution_count": 661,
   "metadata": {},
   "outputs": [],
   "source": [
    "help(\"if\")"
   ]
  },
  {
   "cell_type": "markdown",
   "metadata": {},
   "source": [
    "On most R installations help is available in HTML format by running"
   ]
  },
  {
   "cell_type": "code",
   "execution_count": 662,
   "metadata": {
    "scrolled": true
   },
   "outputs": [
    {
     "name": "stdout",
     "output_type": "stream",
     "text": [
      "If the browser launched by 'xdg-open' is already running, it is *not*\n",
      "    restarted, and you must switch to its window.\n",
      "Otherwise, be patient ...\n"
     ]
    }
   ],
   "source": [
    "help.start()"
   ]
  },
  {
   "cell_type": "markdown",
   "metadata": {},
   "source": [
    "which will launch a Web browser that allows the help pages to be browsed with\n",
    "hyperlinks.\n",
    "\n",
    "The help.search command (alternatively ??) allows searching for help in various ways.\n",
    "For example,"
   ]
  },
  {
   "cell_type": "code",
   "execution_count": 663,
   "metadata": {},
   "outputs": [],
   "source": [
    "??solve"
   ]
  },
  {
   "cell_type": "markdown",
   "metadata": {},
   "source": [
    "Try ?help.search for details and more examples.\n",
    "The examples on a help topic can normally be run by"
   ]
  },
  {
   "cell_type": "code",
   "execution_count": 664,
   "metadata": {},
   "outputs": [
    {
     "name": "stderr",
     "output_type": "stream",
     "text": [
      "Warning message in example(topic):\n",
      "“no help found for ‘topic’”\n"
     ]
    }
   ],
   "source": [
    "example(topic)"
   ]
  },
  {
   "cell_type": "markdown",
   "metadata": {},
   "source": [
    "Windows versions of R have other optional help systems: use"
   ]
  },
  {
   "cell_type": "code",
   "execution_count": 665,
   "metadata": {},
   "outputs": [],
   "source": [
    "?help"
   ]
  },
  {
   "cell_type": "markdown",
   "metadata": {},
   "source": [
    "#### R commands, case sensitivity\n",
    "  Technically R is an expression language with a very simple syntax. It is case sensitive, so\n",
    "A and a are different symbols and would refer to different variables.\n",
    "\n",
    "  The set of symbols which can be used in R names depends on the operating system and\n",
    "country within which R is being run (technically on the locale in use). Normally all\n",
    "alphanumeric symbols are allowed (and in some countries this includes accented letters)\n",
    "plus ‘.’ and ‘_’, with the restriction that a name must start with ‘.’ or a letter, and if it starts\n",
    "with ‘.’ the second character must not be a digit. Names are effectively unlimited in length.\n",
    "\n",
    "  Elementary commands consist of either expressions or assignments. If an expression is\n",
    "given as a command, it is evaluated, printed (unless specifically made invisible), and the\n",
    "value is lost.\n",
    "\n",
    "  An assignment also evaluates an expression and passes the value to a variable but the\n",
    "result is not automatically printed.\n",
    "\n",
    "  Commands are separated either by a semi-colon (‘;’), or by a newline. Elementary\n",
    "commands can be grouped together into one compound expression by braces (‘{’ and ‘}’).\n",
    "\n",
    "  Comments can be put almost anywhere, starting with a hashmark (‘#’), everything to\n",
    "the end of the line is a comment.\n",
    "  \n",
    "  If a command is not complete at the end of a line, R will give a different prompt, by\n",
    "default + on second and subsequent lines and continue to read input until the command is\n",
    "syntactically complete.\n",
    "#### Recall and correction of previous commands\n",
    "  Under many versions of UNIX and on Windows, R provides a mechanism for recalling\n",
    "and re-executing previous commands. The vertical arrow keys on the keyboard can be used\n",
    "to scroll forward and backward through a command history. Once a command is located in\n",
    "this way, the cursor can be moved within the command using the horizontal arrow keys,\n",
    "and characters can be removed with the DEL key or added with the other keys.\n",
    "#### Data permanency and removing objects\n",
    "  The entities that R creates and manipulates are known as objects. These may be\n",
    "variables, arrays of numbers, character strings, functions, or more general structures built\n",
    "from such components.\n",
    "  \n",
    "  During an R session, objects are created and stored by name. The R command"
   ]
  },
  {
   "cell_type": "code",
   "execution_count": 666,
   "metadata": {},
   "outputs": [
    {
     "data": {
      "text/html": [
       "<style>\n",
       ".list-inline {list-style: none; margin:0; padding: 0}\n",
       ".list-inline>li {display: inline-block}\n",
       ".list-inline>li:not(:last-child)::after {content: \"\\00b7\"; padding: 0 .5ex}\n",
       "</style>\n",
       "<ol class=list-inline><li>'a'</li><li>'A'</li><li>'avg'</li><li>'avg1'</li><li>'avg2'</li><li>'b'</li><li>'bks'</li><li>'brk'</li><li>'cf'</li><li>'clg'</li><li>'clgA'</li><li>'clgB'</li><li>'clgC'</li><li>'clgD'</li><li>'cls_limit'</li><li>'co2'</li><li>'cof_qd'</li><li>'cof_rng'</li><li>'cv'</li><li>'d'</li><li>'d1'</li><li>'d2'</li><li>'d4'</li><li>'d5'</li><li>'dev_mean'</li><li>'dve_me'</li><li>'dve_mean'</li><li>'exp'</li><li>'f'</li><li>'f0'</li><li>'first_quart'</li><li>'h'</li><li>'i'</li><li>'int_qart_rng'</li><li>'itm'</li><li>'l1'</li><li>'l2'</li><li>'lb'</li><li>'lbx'</li><li>'lc'</li><li>'maxf'</li><li>'me'</li><li>'me_dev'</li><li>'mean_dev'</li><li>'midx'</li><li>'mincf'</li><li>'mode'</li><li>'n'</li><li>'p'</li><li>'q'</li><li>'q1_l1'</li><li>'q1_l2'</li><li>'q1_mincf'</li><li>'r'</li><li>'rng'</li><li>'s3'</li><li>'s4'</li><li>'s5'</li><li>'s6'</li><li>'s7'</li><li>'sd'</li><li>'semi_int_qart_rng'</li><li>'t'</li><li>'ub'</li><li>'ubx'</li><li>'uc'</li><li>'var_n1'</li><li>'variance'</li><li>'w'</li><li>'x'</li><li>'x_bar'</li><li>'x0'</li><li>'xnme'</li><li>'xt'</li><li>'y'</li><li>'z'</li></ol>\n"
      ],
      "text/latex": [
       "\\begin{enumerate*}\n",
       "\\item 'a'\n",
       "\\item 'A'\n",
       "\\item 'avg'\n",
       "\\item 'avg1'\n",
       "\\item 'avg2'\n",
       "\\item 'b'\n",
       "\\item 'bks'\n",
       "\\item 'brk'\n",
       "\\item 'cf'\n",
       "\\item 'clg'\n",
       "\\item 'clgA'\n",
       "\\item 'clgB'\n",
       "\\item 'clgC'\n",
       "\\item 'clgD'\n",
       "\\item 'cls\\_limit'\n",
       "\\item 'co2'\n",
       "\\item 'cof\\_qd'\n",
       "\\item 'cof\\_rng'\n",
       "\\item 'cv'\n",
       "\\item 'd'\n",
       "\\item 'd1'\n",
       "\\item 'd2'\n",
       "\\item 'd4'\n",
       "\\item 'd5'\n",
       "\\item 'dev\\_mean'\n",
       "\\item 'dve\\_me'\n",
       "\\item 'dve\\_mean'\n",
       "\\item 'exp'\n",
       "\\item 'f'\n",
       "\\item 'f0'\n",
       "\\item 'first\\_quart'\n",
       "\\item 'h'\n",
       "\\item 'i'\n",
       "\\item 'int\\_qart\\_rng'\n",
       "\\item 'itm'\n",
       "\\item 'l1'\n",
       "\\item 'l2'\n",
       "\\item 'lb'\n",
       "\\item 'lbx'\n",
       "\\item 'lc'\n",
       "\\item 'maxf'\n",
       "\\item 'me'\n",
       "\\item 'me\\_dev'\n",
       "\\item 'mean\\_dev'\n",
       "\\item 'midx'\n",
       "\\item 'mincf'\n",
       "\\item 'mode'\n",
       "\\item 'n'\n",
       "\\item 'p'\n",
       "\\item 'q'\n",
       "\\item 'q1\\_l1'\n",
       "\\item 'q1\\_l2'\n",
       "\\item 'q1\\_mincf'\n",
       "\\item 'r'\n",
       "\\item 'rng'\n",
       "\\item 's3'\n",
       "\\item 's4'\n",
       "\\item 's5'\n",
       "\\item 's6'\n",
       "\\item 's7'\n",
       "\\item 'sd'\n",
       "\\item 'semi\\_int\\_qart\\_rng'\n",
       "\\item 't'\n",
       "\\item 'ub'\n",
       "\\item 'ubx'\n",
       "\\item 'uc'\n",
       "\\item 'var\\_n1'\n",
       "\\item 'variance'\n",
       "\\item 'w'\n",
       "\\item 'x'\n",
       "\\item 'x\\_bar'\n",
       "\\item 'x0'\n",
       "\\item 'xnme'\n",
       "\\item 'xt'\n",
       "\\item 'y'\n",
       "\\item 'z'\n",
       "\\end{enumerate*}\n"
      ],
      "text/markdown": [
       "1. 'a'\n",
       "2. 'A'\n",
       "3. 'avg'\n",
       "4. 'avg1'\n",
       "5. 'avg2'\n",
       "6. 'b'\n",
       "7. 'bks'\n",
       "8. 'brk'\n",
       "9. 'cf'\n",
       "10. 'clg'\n",
       "11. 'clgA'\n",
       "12. 'clgB'\n",
       "13. 'clgC'\n",
       "14. 'clgD'\n",
       "15. 'cls_limit'\n",
       "16. 'co2'\n",
       "17. 'cof_qd'\n",
       "18. 'cof_rng'\n",
       "19. 'cv'\n",
       "20. 'd'\n",
       "21. 'd1'\n",
       "22. 'd2'\n",
       "23. 'd4'\n",
       "24. 'd5'\n",
       "25. 'dev_mean'\n",
       "26. 'dve_me'\n",
       "27. 'dve_mean'\n",
       "28. 'exp'\n",
       "29. 'f'\n",
       "30. 'f0'\n",
       "31. 'first_quart'\n",
       "32. 'h'\n",
       "33. 'i'\n",
       "34. 'int_qart_rng'\n",
       "35. 'itm'\n",
       "36. 'l1'\n",
       "37. 'l2'\n",
       "38. 'lb'\n",
       "39. 'lbx'\n",
       "40. 'lc'\n",
       "41. 'maxf'\n",
       "42. 'me'\n",
       "43. 'me_dev'\n",
       "44. 'mean_dev'\n",
       "45. 'midx'\n",
       "46. 'mincf'\n",
       "47. 'mode'\n",
       "48. 'n'\n",
       "49. 'p'\n",
       "50. 'q'\n",
       "51. 'q1_l1'\n",
       "52. 'q1_l2'\n",
       "53. 'q1_mincf'\n",
       "54. 'r'\n",
       "55. 'rng'\n",
       "56. 's3'\n",
       "57. 's4'\n",
       "58. 's5'\n",
       "59. 's6'\n",
       "60. 's7'\n",
       "61. 'sd'\n",
       "62. 'semi_int_qart_rng'\n",
       "63. 't'\n",
       "64. 'ub'\n",
       "65. 'ubx'\n",
       "66. 'uc'\n",
       "67. 'var_n1'\n",
       "68. 'variance'\n",
       "69. 'w'\n",
       "70. 'x'\n",
       "71. 'x_bar'\n",
       "72. 'x0'\n",
       "73. 'xnme'\n",
       "74. 'xt'\n",
       "75. 'y'\n",
       "76. 'z'\n",
       "\n",
       "\n"
      ],
      "text/plain": [
       " [1] \"a\"                 \"A\"                 \"avg\"              \n",
       " [4] \"avg1\"              \"avg2\"              \"b\"                \n",
       " [7] \"bks\"               \"brk\"               \"cf\"               \n",
       "[10] \"clg\"               \"clgA\"              \"clgB\"             \n",
       "[13] \"clgC\"              \"clgD\"              \"cls_limit\"        \n",
       "[16] \"co2\"               \"cof_qd\"            \"cof_rng\"          \n",
       "[19] \"cv\"                \"d\"                 \"d1\"               \n",
       "[22] \"d2\"                \"d4\"                \"d5\"               \n",
       "[25] \"dev_mean\"          \"dve_me\"            \"dve_mean\"         \n",
       "[28] \"exp\"               \"f\"                 \"f0\"               \n",
       "[31] \"first_quart\"       \"h\"                 \"i\"                \n",
       "[34] \"int_qart_rng\"      \"itm\"               \"l1\"               \n",
       "[37] \"l2\"                \"lb\"                \"lbx\"              \n",
       "[40] \"lc\"                \"maxf\"              \"me\"               \n",
       "[43] \"me_dev\"            \"mean_dev\"          \"midx\"             \n",
       "[46] \"mincf\"             \"mode\"              \"n\"                \n",
       "[49] \"p\"                 \"q\"                 \"q1_l1\"            \n",
       "[52] \"q1_l2\"             \"q1_mincf\"          \"r\"                \n",
       "[55] \"rng\"               \"s3\"                \"s4\"               \n",
       "[58] \"s5\"                \"s6\"                \"s7\"               \n",
       "[61] \"sd\"                \"semi_int_qart_rng\" \"t\"                \n",
       "[64] \"ub\"                \"ubx\"               \"uc\"               \n",
       "[67] \"var_n1\"            \"variance\"          \"w\"                \n",
       "[70] \"x\"                 \"x_bar\"             \"x0\"               \n",
       "[73] \"xnme\"              \"xt\"                \"y\"                \n",
       "[76] \"z\"                "
      ]
     },
     "metadata": {},
     "output_type": "display_data"
    }
   ],
   "source": [
    "objects()"
   ]
  },
  {
   "cell_type": "markdown",
   "metadata": {},
   "source": [
    "[alternatively, ls()] can be used to display the names of (most of) the objects which are\n",
    "currently stored within R. The collection of objects currently stored is called the workspace.\n",
    "To remove objects the function rm is available:"
   ]
  },
  {
   "cell_type": "code",
   "execution_count": 667,
   "metadata": {},
   "outputs": [],
   "source": [
    "rm(x, y, z, t)"
   ]
  },
  {
   "cell_type": "markdown",
   "metadata": {},
   "source": [
    "  All objects created during an R session can be stored permanently in a file for use in\n",
    "future R sessions. At the end of each R session you are given the opportunity to save all the\n",
    "currently available objects. If you indicate that you want to do this, the objects are written\n",
    "to a file called .RData5 in the current directory, and the command lines used in the session\n",
    "are saved to a file called .Rhistory.\n",
    "\n",
    "When R is started at later time from the same directory it reloads the workspace from\n",
    "this file. At the same time the associated commands history is reloaded.\n",
    "### Simple manipulations; numbers and vectors\n",
    "##### Assignment:\n",
    "An assignment means naming a value, so that it can be used later. Assignment has\n",
    "general form\n",
    "\n",
    "Variable = expression or value\n",
    "( = is an assignment operator)"
   ]
  },
  {
   "cell_type": "code",
   "execution_count": 668,
   "metadata": {},
   "outputs": [
    {
     "data": {
      "text/html": [
       "5"
      ],
      "text/latex": [
       "5"
      ],
      "text/markdown": [
       "5"
      ],
      "text/plain": [
       "[1] 5"
      ]
     },
     "metadata": {},
     "output_type": "display_data"
    }
   ],
   "source": [
    "x = 2 + 3 # x is assigned value 5\n",
    "x"
   ]
  },
  {
   "cell_type": "code",
   "execution_count": 669,
   "metadata": {},
   "outputs": [
    {
     "data": {
      "text/html": [
       "7"
      ],
      "text/latex": [
       "7"
      ],
      "text/markdown": [
       "7"
      ],
      "text/plain": [
       "[1] 7"
      ]
     },
     "metadata": {},
     "output_type": "display_data"
    }
   ],
   "source": [
    "x + 2"
   ]
  },
  {
   "cell_type": "code",
   "execution_count": 670,
   "metadata": {},
   "outputs": [
    {
     "data": {
      "text/html": [
       "15"
      ],
      "text/latex": [
       "15"
      ],
      "text/markdown": [
       "15"
      ],
      "text/plain": [
       "[1] 15"
      ]
     },
     "metadata": {},
     "output_type": "display_data"
    }
   ],
   "source": [
    "x = x * 3\n",
    "x"
   ]
  },
  {
   "cell_type": "code",
   "execution_count": 671,
   "metadata": {},
   "outputs": [],
   "source": [
    "x = 2 + 3; y = -4; z = x * y # Commands are separated by a semi-colon (‘;’)"
   ]
  },
  {
   "cell_type": "code",
   "execution_count": 672,
   "metadata": {},
   "outputs": [
    {
     "data": {
      "text/html": [
       "5"
      ],
      "text/latex": [
       "5"
      ],
      "text/markdown": [
       "5"
      ],
      "text/plain": [
       "[1] 5"
      ]
     },
     "metadata": {},
     "output_type": "display_data"
    },
    {
     "data": {
      "text/html": [
       "-4"
      ],
      "text/latex": [
       "-4"
      ],
      "text/markdown": [
       "-4"
      ],
      "text/plain": [
       "[1] -4"
      ]
     },
     "metadata": {},
     "output_type": "display_data"
    },
    {
     "data": {
      "text/html": [
       "-20"
      ],
      "text/latex": [
       "-20"
      ],
      "text/markdown": [
       "-20"
      ],
      "text/plain": [
       "[1] -20"
      ]
     },
     "metadata": {},
     "output_type": "display_data"
    }
   ],
   "source": [
    "x; y; z"
   ]
  },
  {
   "cell_type": "code",
   "execution_count": 673,
   "metadata": {},
   "outputs": [
    {
     "data": {
      "text/html": [
       "5"
      ],
      "text/latex": [
       "5"
      ],
      "text/markdown": [
       "5"
      ],
      "text/plain": [
       "[1] 5"
      ]
     },
     "metadata": {},
     "output_type": "display_data"
    },
    {
     "data": {
      "text/html": [
       "-4"
      ],
      "text/latex": [
       "-4"
      ],
      "text/markdown": [
       "-4"
      ],
      "text/plain": [
       "[1] -4"
      ]
     },
     "metadata": {},
     "output_type": "display_data"
    },
    {
     "data": {
      "text/html": [
       "-20"
      ],
      "text/latex": [
       "-20"
      ],
      "text/markdown": [
       "-20"
      ],
      "text/plain": [
       "[1] -20"
      ]
     },
     "metadata": {},
     "output_type": "display_data"
    }
   ],
   "source": [
    "x = 2 + 3; y = -4; z = x * y; x; y; z\n",
    "# Commands are separated by a semi-colon (‘;’)"
   ]
  },
  {
   "cell_type": "markdown",
   "metadata": {},
   "source": [
    "#### Vectors:\n",
    "R operates on named data structures. The simplest such structure is the numeric vector,\n",
    "which is a single entity consisting of an ordered collection of numbers. To set up a vector\n",
    "named x, say, consisting of five numbers, namely 10.4, 5.6, 3.1, 6.4 and 21.7, use the R\n",
    "command"
   ]
  },
  {
   "cell_type": "code",
   "execution_count": 674,
   "metadata": {},
   "outputs": [],
   "source": [
    "x <- c(10.4, 5.6, 3.1, 6.4, 21.7)"
   ]
  },
  {
   "cell_type": "markdown",
   "metadata": {},
   "source": [
    "This is an assignment statement using the function c() which in this context can take an\n",
    "arbitrary number of vector arguments (c stands for “combine.”). \n",
    "\n",
    "The idea is that a list of\n",
    "numbers is stored under a given name, and the name is used to refer to the data.\n",
    "\n",
    "The numbers within the c command are separated by commas. \n",
    "\n",
    "A list is specified with the c command, and assignment is specified with the “<-” symbols. \n",
    "\n",
    "Notice that the assignment operator (‘<-’), which consists of the two characters ‘<’ (“less than”) and ‘-’ (“minus”)\n",
    "occurring strictly side-by-side and it ‘points’ to the object receiving the value of the\n",
    "expression. A number occurring by itself in an expression is taken as a vector of length one.\n",
    "\n",
    "Assignment can also be made using the function assign(). An equivalent way of making\n",
    "the same assignment as above is with:"
   ]
  },
  {
   "cell_type": "code",
   "execution_count": 675,
   "metadata": {},
   "outputs": [],
   "source": [
    "assign(\"x\", c(10.4, 5.6, 3.1, 6.4, 21.7))"
   ]
  },
  {
   "cell_type": "markdown",
   "metadata": {},
   "source": [
    "The usual operator, <-, can be thought of as a syntactic short-cut to this.\n",
    "\n",
    "Assignments can also be made in the other direction, using the obvious change in the\n",
    "assignment operator. So the same assignment could be made using"
   ]
  },
  {
   "cell_type": "code",
   "execution_count": 676,
   "metadata": {},
   "outputs": [],
   "source": [
    "c(10.4, 5.6, 3.1, 6.4, 21.7) -> x"
   ]
  },
  {
   "cell_type": "markdown",
   "metadata": {},
   "source": [
    "If an expression is used as a complete command, the value is printed and lost. So now if\n",
    "we were to use the command"
   ]
  },
  {
   "cell_type": "code",
   "execution_count": 677,
   "metadata": {},
   "outputs": [
    {
     "data": {
      "text/html": [
       "<style>\n",
       ".list-inline {list-style: none; margin:0; padding: 0}\n",
       ".list-inline>li {display: inline-block}\n",
       ".list-inline>li:not(:last-child)::after {content: \"\\00b7\"; padding: 0 .5ex}\n",
       "</style>\n",
       "<ol class=list-inline><li>0.0961538461538461</li><li>0.178571428571429</li><li>0.32258064516129</li><li>0.15625</li><li>0.0460829493087558</li></ol>\n"
      ],
      "text/latex": [
       "\\begin{enumerate*}\n",
       "\\item 0.0961538461538461\n",
       "\\item 0.178571428571429\n",
       "\\item 0.32258064516129\n",
       "\\item 0.15625\n",
       "\\item 0.0460829493087558\n",
       "\\end{enumerate*}\n"
      ],
      "text/markdown": [
       "1. 0.0961538461538461\n",
       "2. 0.178571428571429\n",
       "3. 0.32258064516129\n",
       "4. 0.15625\n",
       "5. 0.0460829493087558\n",
       "\n",
       "\n"
      ],
      "text/plain": [
       "[1] 0.09615385 0.17857143 0.32258065 0.15625000 0.04608295"
      ]
     },
     "metadata": {},
     "output_type": "display_data"
    }
   ],
   "source": [
    "1/x"
   ]
  },
  {
   "cell_type": "markdown",
   "metadata": {},
   "source": [
    "the reciprocals of the five values would be printed at the terminal (and the value of x, of\n",
    "course, unchanged).\n",
    "\n",
    "The further assignment"
   ]
  },
  {
   "cell_type": "code",
   "execution_count": 678,
   "metadata": {},
   "outputs": [],
   "source": [
    "b <- c(x, 0, x)"
   ]
  },
  {
   "cell_type": "markdown",
   "metadata": {},
   "source": [
    "would create a vector b with 11 entries consisting of two copies of x with a zero in the\n",
    "middle place.\n",
    "\n",
    "To see what numbers is included in x type “x” and press the enter key:"
   ]
  },
  {
   "cell_type": "code",
   "execution_count": 679,
   "metadata": {},
   "outputs": [
    {
     "data": {
      "text/html": [
       "<style>\n",
       ".list-inline {list-style: none; margin:0; padding: 0}\n",
       ".list-inline>li {display: inline-block}\n",
       ".list-inline>li:not(:last-child)::after {content: \"\\00b7\"; padding: 0 .5ex}\n",
       "</style>\n",
       "<ol class=list-inline><li>10.4</li><li>5.6</li><li>3.1</li><li>6.4</li><li>21.7</li></ol>\n"
      ],
      "text/latex": [
       "\\begin{enumerate*}\n",
       "\\item 10.4\n",
       "\\item 5.6\n",
       "\\item 3.1\n",
       "\\item 6.4\n",
       "\\item 21.7\n",
       "\\end{enumerate*}\n"
      ],
      "text/markdown": [
       "1. 10.4\n",
       "2. 5.6\n",
       "3. 3.1\n",
       "4. 6.4\n",
       "5. 21.7\n",
       "\n",
       "\n"
      ],
      "text/plain": [
       "[1] 10.4  5.6  3.1  6.4 21.7"
      ]
     },
     "metadata": {},
     "output_type": "display_data"
    }
   ],
   "source": [
    "x <- c(10.4, 5.6, 3.1, 6.4, 21.7)\n",
    "x"
   ]
  },
  {
   "cell_type": "code",
   "execution_count": 680,
   "metadata": {},
   "outputs": [
    {
     "data": {
      "text/html": [
       "'double'"
      ],
      "text/latex": [
       "'double'"
      ],
      "text/markdown": [
       "'double'"
      ],
      "text/plain": [
       "[1] \"double\""
      ]
     },
     "metadata": {},
     "output_type": "display_data"
    }
   ],
   "source": [
    "typeof(x)"
   ]
  },
  {
   "cell_type": "markdown",
   "metadata": {},
   "source": [
    "### Accessing vectors:\n",
    "\n",
    "Individual elements of a vector can be accessed by using indices."
   ]
  },
  {
   "cell_type": "code",
   "execution_count": 681,
   "metadata": {},
   "outputs": [],
   "source": [
    "x <- c(10.4, 5.6, 3.1, 6.4, 21.7)"
   ]
  },
  {
   "cell_type": "code",
   "execution_count": 682,
   "metadata": {},
   "outputs": [
    {
     "data": {
      "text/html": [
       "3.1"
      ],
      "text/latex": [
       "3.1"
      ],
      "text/markdown": [
       "3.1"
      ],
      "text/plain": [
       "[1] 3.1"
      ]
     },
     "metadata": {},
     "output_type": "display_data"
    }
   ],
   "source": [
    "x[3] # third element of vector x is accessed."
   ]
  },
  {
   "cell_type": "code",
   "execution_count": 683,
   "metadata": {},
   "outputs": [
    {
     "data": {
      "text/html": [
       "10.4"
      ],
      "text/latex": [
       "10.4"
      ],
      "text/markdown": [
       "10.4"
      ],
      "text/plain": [
       "[1] 10.4"
      ]
     },
     "metadata": {},
     "output_type": "display_data"
    }
   ],
   "source": [
    "x[1] # first element of vector x is accessed."
   ]
  },
  {
   "cell_type": "code",
   "execution_count": 684,
   "metadata": {},
   "outputs": [
    {
     "data": {
      "text/html": [
       "<style>\n",
       ".list-inline {list-style: none; margin:0; padding: 0}\n",
       ".list-inline>li {display: inline-block}\n",
       ".list-inline>li:not(:last-child)::after {content: \"\\00b7\"; padding: 0 .5ex}\n",
       "</style>\n",
       "<ol class=list-inline><li>5.6</li><li>3.1</li><li>6.4</li></ol>\n"
      ],
      "text/latex": [
       "\\begin{enumerate*}\n",
       "\\item 5.6\n",
       "\\item 3.1\n",
       "\\item 6.4\n",
       "\\end{enumerate*}\n"
      ],
      "text/markdown": [
       "1. 5.6\n",
       "2. 3.1\n",
       "3. 6.4\n",
       "\n",
       "\n"
      ],
      "text/plain": [
       "[1] 5.6 3.1 6.4"
      ]
     },
     "metadata": {},
     "output_type": "display_data"
    }
   ],
   "source": [
    "x[2 : 4] # elements from second to fourth of vector x are accessed."
   ]
  },
  {
   "cell_type": "code",
   "execution_count": 685,
   "metadata": {},
   "outputs": [
    {
     "data": {
      "text/html": [
       "<style>\n",
       ".list-inline {list-style: none; margin:0; padding: 0}\n",
       ".list-inline>li {display: inline-block}\n",
       ".list-inline>li:not(:last-child)::after {content: \"\\00b7\"; padding: 0 .5ex}\n",
       "</style>\n",
       "<ol class=list-inline><li>5.6</li><li>21.7</li></ol>\n"
      ],
      "text/latex": [
       "\\begin{enumerate*}\n",
       "\\item 5.6\n",
       "\\item 21.7\n",
       "\\end{enumerate*}\n"
      ],
      "text/markdown": [
       "1. 5.6\n",
       "2. 21.7\n",
       "\n",
       "\n"
      ],
      "text/plain": [
       "[1]  5.6 21.7"
      ]
     },
     "metadata": {},
     "output_type": "display_data"
    }
   ],
   "source": [
    "x[c(2,5)] # elements having indices 2 and 5 are accessed."
   ]
  },
  {
   "cell_type": "code",
   "execution_count": 686,
   "metadata": {},
   "outputs": [
    {
     "data": {
      "text/html": [
       "5"
      ],
      "text/latex": [
       "5"
      ],
      "text/markdown": [
       "5"
      ],
      "text/plain": [
       "[1] 5"
      ]
     },
     "metadata": {},
     "output_type": "display_data"
    }
   ],
   "source": [
    "length(x) # displays number of elements in vector x."
   ]
  },
  {
   "cell_type": "code",
   "execution_count": 687,
   "metadata": {},
   "outputs": [
    {
     "data": {
      "text/html": [
       "<style>\n",
       ".list-inline {list-style: none; margin:0; padding: 0}\n",
       ".list-inline>li {display: inline-block}\n",
       ".list-inline>li:not(:last-child)::after {content: \"\\00b7\"; padding: 0 .5ex}\n",
       "</style>\n",
       "<ol class=list-inline><li>3.1</li><li>6.4</li><li>21.7</li></ol>\n"
      ],
      "text/latex": [
       "\\begin{enumerate*}\n",
       "\\item 3.1\n",
       "\\item 6.4\n",
       "\\item 21.7\n",
       "\\end{enumerate*}\n"
      ],
      "text/markdown": [
       "1. 3.1\n",
       "2. 6.4\n",
       "3. 21.7\n",
       "\n",
       "\n"
      ],
      "text/plain": [
       "[1]  3.1  6.4 21.7"
      ]
     },
     "metadata": {},
     "output_type": "display_data"
    }
   ],
   "source": [
    "x[3 : length(x)] # elements having indices 3 to 5 of vector x are accessed."
   ]
  },
  {
   "cell_type": "code",
   "execution_count": 688,
   "metadata": {},
   "outputs": [
    {
     "data": {
      "text/html": [
       "<style>\n",
       ".list-inline {list-style: none; margin:0; padding: 0}\n",
       ".list-inline>li {display: inline-block}\n",
       ".list-inline>li:not(:last-child)::after {content: \"\\00b7\"; padding: 0 .5ex}\n",
       "</style>\n",
       "<ol class=list-inline><li>6.4</li><li>3.1</li><li>5.6</li></ol>\n"
      ],
      "text/latex": [
       "\\begin{enumerate*}\n",
       "\\item 6.4\n",
       "\\item 3.1\n",
       "\\item 5.6\n",
       "\\end{enumerate*}\n"
      ],
      "text/markdown": [
       "1. 6.4\n",
       "2. 3.1\n",
       "3. 5.6\n",
       "\n",
       "\n"
      ],
      "text/plain": [
       "[1] 6.4 3.1 5.6"
      ]
     },
     "metadata": {},
     "output_type": "display_data"
    }
   ],
   "source": [
    "x[4 : 2] # elements from fourth to second reversely of vector x are accessed."
   ]
  },
  {
   "cell_type": "code",
   "execution_count": 689,
   "metadata": {},
   "outputs": [
    {
     "data": {
      "text/html": [],
      "text/latex": [],
      "text/markdown": [],
      "text/plain": [
       "numeric(0)"
      ]
     },
     "metadata": {},
     "output_type": "display_data"
    }
   ],
   "source": [
    "x[0]"
   ]
  },
  {
   "cell_type": "code",
   "execution_count": 690,
   "metadata": {},
   "outputs": [
    {
     "data": {
      "text/html": [
       "&lt;NA&gt;"
      ],
      "text/latex": [
       "<NA>"
      ],
      "text/markdown": [
       "&lt;NA&gt;"
      ],
      "text/plain": [
       "[1] NA"
      ]
     },
     "metadata": {},
     "output_type": "display_data"
    }
   ],
   "source": [
    "x[6]"
   ]
  },
  {
   "cell_type": "code",
   "execution_count": 691,
   "metadata": {},
   "outputs": [
    {
     "data": {
      "text/html": [
       "<style>\n",
       ".list-inline {list-style: none; margin:0; padding: 0}\n",
       ".list-inline>li {display: inline-block}\n",
       ".list-inline>li:not(:last-child)::after {content: \"\\00b7\"; padding: 0 .5ex}\n",
       "</style>\n",
       "<ol class=list-inline><li>10.4</li><li>6.4</li><li>21.7</li></ol>\n"
      ],
      "text/latex": [
       "\\begin{enumerate*}\n",
       "\\item 10.4\n",
       "\\item 6.4\n",
       "\\item 21.7\n",
       "\\end{enumerate*}\n"
      ],
      "text/markdown": [
       "1. 10.4\n",
       "2. 6.4\n",
       "3. 21.7\n",
       "\n",
       "\n"
      ],
      "text/plain": [
       "[1] 10.4  6.4 21.7"
      ]
     },
     "metadata": {},
     "output_type": "display_data"
    }
   ],
   "source": [
    "x[x > 6] # elements of vector x having value > 6 are accessed."
   ]
  },
  {
   "cell_type": "code",
   "execution_count": 692,
   "metadata": {},
   "outputs": [
    {
     "data": {
      "text/html": [
       "<style>\n",
       ".list-inline {list-style: none; margin:0; padding: 0}\n",
       ".list-inline>li {display: inline-block}\n",
       ".list-inline>li:not(:last-child)::after {content: \"\\00b7\"; padding: 0 .5ex}\n",
       "</style>\n",
       "<ol class=list-inline><li>5.6</li><li>3.1</li></ol>\n"
      ],
      "text/latex": [
       "\\begin{enumerate*}\n",
       "\\item 5.6\n",
       "\\item 3.1\n",
       "\\end{enumerate*}\n"
      ],
      "text/markdown": [
       "1. 5.6\n",
       "2. 3.1\n",
       "\n",
       "\n"
      ],
      "text/plain": [
       "[1] 5.6 3.1"
      ]
     },
     "metadata": {},
     "output_type": "display_data"
    }
   ],
   "source": [
    "x[x < 6] # elements of vector x having value < 6 are accessed."
   ]
  },
  {
   "cell_type": "markdown",
   "metadata": {},
   "source": [
    "Subset command can also be used with vectors."
   ]
  },
  {
   "cell_type": "code",
   "execution_count": 693,
   "metadata": {},
   "outputs": [
    {
     "data": {
      "text/html": [
       "<style>\n",
       ".list-inline {list-style: none; margin:0; padding: 0}\n",
       ".list-inline>li {display: inline-block}\n",
       ".list-inline>li:not(:last-child)::after {content: \"\\00b7\"; padding: 0 .5ex}\n",
       "</style>\n",
       "<ol class=list-inline><li>10.4</li><li>6.4</li><li>21.7</li></ol>\n"
      ],
      "text/latex": [
       "\\begin{enumerate*}\n",
       "\\item 10.4\n",
       "\\item 6.4\n",
       "\\item 21.7\n",
       "\\end{enumerate*}\n"
      ],
      "text/markdown": [
       "1. 10.4\n",
       "2. 6.4\n",
       "3. 21.7\n",
       "\n",
       "\n"
      ],
      "text/plain": [
       "[1] 10.4  6.4 21.7"
      ]
     },
     "metadata": {},
     "output_type": "display_data"
    }
   ],
   "source": [
    "q = subset(x, x > 6)\n",
    "q"
   ]
  },
  {
   "cell_type": "code",
   "execution_count": 694,
   "metadata": {},
   "outputs": [
    {
     "data": {
      "text/html": [
       "<style>\n",
       ".list-inline {list-style: none; margin:0; padding: 0}\n",
       ".list-inline>li {display: inline-block}\n",
       ".list-inline>li:not(:last-child)::after {content: \"\\00b7\"; padding: 0 .5ex}\n",
       "</style>\n",
       "<ol class=list-inline><li>5.6</li><li>3.1</li></ol>\n"
      ],
      "text/latex": [
       "\\begin{enumerate*}\n",
       "\\item 5.6\n",
       "\\item 3.1\n",
       "\\end{enumerate*}\n"
      ],
      "text/markdown": [
       "1. 5.6\n",
       "2. 3.1\n",
       "\n",
       "\n"
      ],
      "text/plain": [
       "[1] 5.6 3.1"
      ]
     },
     "metadata": {},
     "output_type": "display_data"
    }
   ],
   "source": [
    "p = subset(x, x < 6)\n",
    "p"
   ]
  },
  {
   "cell_type": "code",
   "execution_count": 695,
   "metadata": {},
   "outputs": [
    {
     "data": {
      "text/html": [
       "<style>\n",
       ".list-inline {list-style: none; margin:0; padding: 0}\n",
       ".list-inline>li {display: inline-block}\n",
       ".list-inline>li:not(:last-child)::after {content: \"\\00b7\"; padding: 0 .5ex}\n",
       "</style>\n",
       "<ol class=list-inline><li>2</li><li>3</li></ol>\n"
      ],
      "text/latex": [
       "\\begin{enumerate*}\n",
       "\\item 2\n",
       "\\item 3\n",
       "\\end{enumerate*}\n"
      ],
      "text/markdown": [
       "1. 2\n",
       "2. 3\n",
       "\n",
       "\n"
      ],
      "text/plain": [
       "[1] 2 3"
      ]
     },
     "metadata": {},
     "output_type": "display_data"
    }
   ],
   "source": [
    "which (x < 6) # displays index of elements of vector x whose value is < 6."
   ]
  },
  {
   "cell_type": "code",
   "execution_count": 696,
   "metadata": {},
   "outputs": [
    {
     "data": {
      "text/html": [
       "<style>\n",
       ".list-inline {list-style: none; margin:0; padding: 0}\n",
       ".list-inline>li {display: inline-block}\n",
       ".list-inline>li:not(:last-child)::after {content: \"\\00b7\"; padding: 0 .5ex}\n",
       "</style>\n",
       "<ol class=list-inline><li>5.6</li><li>3.1</li><li>6.4</li><li>21.7</li></ol>\n"
      ],
      "text/latex": [
       "\\begin{enumerate*}\n",
       "\\item 5.6\n",
       "\\item 3.1\n",
       "\\item 6.4\n",
       "\\item 21.7\n",
       "\\end{enumerate*}\n"
      ],
      "text/markdown": [
       "1. 5.6\n",
       "2. 3.1\n",
       "3. 6.4\n",
       "4. 21.7\n",
       "\n",
       "\n"
      ],
      "text/plain": [
       "[1]  5.6  3.1  6.4 21.7"
      ]
     },
     "metadata": {},
     "output_type": "display_data"
    }
   ],
   "source": [
    "x[-1] # elements except first are accessed."
   ]
  },
  {
   "cell_type": "code",
   "execution_count": 697,
   "metadata": {},
   "outputs": [
    {
     "data": {
      "text/html": [
       "<style>\n",
       ".list-inline {list-style: none; margin:0; padding: 0}\n",
       ".list-inline>li {display: inline-block}\n",
       ".list-inline>li:not(:last-child)::after {content: \"\\00b7\"; padding: 0 .5ex}\n",
       "</style>\n",
       "<ol class=list-inline><li>10.4</li><li>3.1</li><li>6.4</li></ol>\n"
      ],
      "text/latex": [
       "\\begin{enumerate*}\n",
       "\\item 10.4\n",
       "\\item 3.1\n",
       "\\item 6.4\n",
       "\\end{enumerate*}\n"
      ],
      "text/markdown": [
       "1. 10.4\n",
       "2. 3.1\n",
       "3. 6.4\n",
       "\n",
       "\n"
      ],
      "text/plain": [
       "[1] 10.4  3.1  6.4"
      ]
     },
     "metadata": {},
     "output_type": "display_data"
    }
   ],
   "source": [
    "x[c(-2,-5)] # elements except second and fifth are accessed or x[-c(2,5)]"
   ]
  },
  {
   "cell_type": "code",
   "execution_count": 698,
   "metadata": {},
   "outputs": [
    {
     "data": {
      "text/html": [
       "<style>\n",
       ".list-inline {list-style: none; margin:0; padding: 0}\n",
       ".list-inline>li {display: inline-block}\n",
       ".list-inline>li:not(:last-child)::after {content: \"\\00b7\"; padding: 0 .5ex}\n",
       "</style>\n",
       "<ol class=list-inline><li>10.4</li><li>21.7</li></ol>\n"
      ],
      "text/latex": [
       "\\begin{enumerate*}\n",
       "\\item 10.4\n",
       "\\item 21.7\n",
       "\\end{enumerate*}\n"
      ],
      "text/markdown": [
       "1. 10.4\n",
       "2. 21.7\n",
       "\n",
       "\n"
      ],
      "text/plain": [
       "[1] 10.4 21.7"
      ]
     },
     "metadata": {},
     "output_type": "display_data"
    }
   ],
   "source": [
    "x[-2 : -4] # elements except second to fourth are accessed."
   ]
  },
  {
   "cell_type": "code",
   "execution_count": 699,
   "metadata": {},
   "outputs": [
    {
     "data": {
      "text/html": [
       "<style>\n",
       ".list-inline {list-style: none; margin:0; padding: 0}\n",
       ".list-inline>li {display: inline-block}\n",
       ".list-inline>li:not(:last-child)::after {content: \"\\00b7\"; padding: 0 .5ex}\n",
       "</style>\n",
       "<ol class=list-inline><li>FALSE</li><li>TRUE</li><li>TRUE</li><li>FALSE</li><li>FALSE</li></ol>\n"
      ],
      "text/latex": [
       "\\begin{enumerate*}\n",
       "\\item FALSE\n",
       "\\item TRUE\n",
       "\\item TRUE\n",
       "\\item FALSE\n",
       "\\item FALSE\n",
       "\\end{enumerate*}\n"
      ],
      "text/markdown": [
       "1. FALSE\n",
       "2. TRUE\n",
       "3. TRUE\n",
       "4. FALSE\n",
       "5. FALSE\n",
       "\n",
       "\n"
      ],
      "text/plain": [
       "[1] FALSE  TRUE  TRUE FALSE FALSE"
      ]
     },
     "metadata": {},
     "output_type": "display_data"
    }
   ],
   "source": [
    "x < 6"
   ]
  },
  {
   "cell_type": "markdown",
   "metadata": {},
   "source": [
    "Notice that the first entry is referred to as the number 1 entry and the zero entry can be\n",
    "used to indicate how the computer will treat the data."
   ]
  },
  {
   "cell_type": "code",
   "execution_count": 700,
   "metadata": {},
   "outputs": [
    {
     "data": {
      "text/html": [
       "<style>\n",
       ".list-inline {list-style: none; margin:0; padding: 0}\n",
       ".list-inline>li {display: inline-block}\n",
       ".list-inline>li:not(:last-child)::after {content: \"\\00b7\"; padding: 0 .5ex}\n",
       "</style>\n",
       "<ol class=list-inline><li>0.0961538461538461</li><li>0.178571428571429</li><li>0.32258064516129</li><li>0.15625</li><li>0.0460829493087558</li></ol>\n"
      ],
      "text/latex": [
       "\\begin{enumerate*}\n",
       "\\item 0.0961538461538461\n",
       "\\item 0.178571428571429\n",
       "\\item 0.32258064516129\n",
       "\\item 0.15625\n",
       "\\item 0.0460829493087558\n",
       "\\end{enumerate*}\n"
      ],
      "text/markdown": [
       "1. 0.0961538461538461\n",
       "2. 0.178571428571429\n",
       "3. 0.32258064516129\n",
       "4. 0.15625\n",
       "5. 0.0460829493087558\n",
       "\n",
       "\n"
      ],
      "text/plain": [
       "[1] 0.09615385 0.17857143 0.32258065 0.15625000 0.04608295"
      ]
     },
     "metadata": {},
     "output_type": "display_data"
    }
   ],
   "source": [
    "1/x"
   ]
  },
  {
   "cell_type": "code",
   "execution_count": 701,
   "metadata": {},
   "outputs": [
    {
     "data": {
      "text/html": [
       "<style>\n",
       ".list-inline {list-style: none; margin:0; padding: 0}\n",
       ".list-inline>li {display: inline-block}\n",
       ".list-inline>li:not(:last-child)::after {content: \"\\00b7\"; padding: 0 .5ex}\n",
       "</style>\n",
       "<ol class=list-inline><li>10.4</li><li>5.6</li><li>3.1</li><li>6.4</li><li>21.7</li></ol>\n"
      ],
      "text/latex": [
       "\\begin{enumerate*}\n",
       "\\item 10.4\n",
       "\\item 5.6\n",
       "\\item 3.1\n",
       "\\item 6.4\n",
       "\\item 21.7\n",
       "\\end{enumerate*}\n"
      ],
      "text/markdown": [
       "1. 10.4\n",
       "2. 5.6\n",
       "3. 3.1\n",
       "4. 6.4\n",
       "5. 21.7\n",
       "\n",
       "\n"
      ],
      "text/plain": [
       "[1] 10.4  5.6  3.1  6.4 21.7"
      ]
     },
     "metadata": {},
     "output_type": "display_data"
    }
   ],
   "source": [
    "x"
   ]
  },
  {
   "cell_type": "code",
   "execution_count": 702,
   "metadata": {},
   "outputs": [
    {
     "data": {
      "text/html": [
       "<style>\n",
       ".list-inline {list-style: none; margin:0; padding: 0}\n",
       ".list-inline>li {display: inline-block}\n",
       ".list-inline>li:not(:last-child)::after {content: \"\\00b7\"; padding: 0 .5ex}\n",
       "</style>\n",
       "<ol class=list-inline><li>10.4</li><li>5.6</li><li>3.1</li><li>6.4</li><li>21.7</li><li>0</li><li>10.4</li><li>5.6</li><li>3.1</li><li>6.4</li><li>21.7</li></ol>\n"
      ],
      "text/latex": [
       "\\begin{enumerate*}\n",
       "\\item 10.4\n",
       "\\item 5.6\n",
       "\\item 3.1\n",
       "\\item 6.4\n",
       "\\item 21.7\n",
       "\\item 0\n",
       "\\item 10.4\n",
       "\\item 5.6\n",
       "\\item 3.1\n",
       "\\item 6.4\n",
       "\\item 21.7\n",
       "\\end{enumerate*}\n"
      ],
      "text/markdown": [
       "1. 10.4\n",
       "2. 5.6\n",
       "3. 3.1\n",
       "4. 6.4\n",
       "5. 21.7\n",
       "6. 0\n",
       "7. 10.4\n",
       "8. 5.6\n",
       "9. 3.1\n",
       "10. 6.4\n",
       "11. 21.7\n",
       "\n",
       "\n"
      ],
      "text/plain": [
       " [1] 10.4  5.6  3.1  6.4 21.7  0.0 10.4  5.6  3.1  6.4 21.7"
      ]
     },
     "metadata": {},
     "output_type": "display_data"
    }
   ],
   "source": [
    "b <- c(x, 0, x)\n",
    "b"
   ]
  },
  {
   "cell_type": "code",
   "execution_count": 703,
   "metadata": {},
   "outputs": [
    {
     "data": {
      "text/html": [
       "<style>\n",
       ".list-inline {list-style: none; margin:0; padding: 0}\n",
       ".list-inline>li {display: inline-block}\n",
       ".list-inline>li:not(:last-child)::after {content: \"\\00b7\"; padding: 0 .5ex}\n",
       "</style>\n",
       "<ol class=list-inline><li>'somaiya'</li><li>'mumbai'</li><li>'new delhi'</li></ol>\n"
      ],
      "text/latex": [
       "\\begin{enumerate*}\n",
       "\\item 'somaiya'\n",
       "\\item 'mumbai'\n",
       "\\item 'new delhi'\n",
       "\\end{enumerate*}\n"
      ],
      "text/markdown": [
       "1. 'somaiya'\n",
       "2. 'mumbai'\n",
       "3. 'new delhi'\n",
       "\n",
       "\n"
      ],
      "text/plain": [
       "[1] \"somaiya\"   \"mumbai\"    \"new delhi\""
      ]
     },
     "metadata": {},
     "output_type": "display_data"
    }
   ],
   "source": [
    "t <- c(\"somaiya\", \"mumbai\", 'new delhi')\n",
    "t"
   ]
  },
  {
   "cell_type": "code",
   "execution_count": 704,
   "metadata": {},
   "outputs": [
    {
     "data": {
      "text/html": [
       "'character'"
      ],
      "text/latex": [
       "'character'"
      ],
      "text/markdown": [
       "'character'"
      ],
      "text/plain": [
       "[1] \"character\""
      ]
     },
     "metadata": {},
     "output_type": "display_data"
    }
   ],
   "source": [
    "typeof(t)"
   ]
  },
  {
   "cell_type": "markdown",
   "metadata": {},
   "source": [
    "### Alternative way to create data vectors\n",
    "\n",
    "Vectors can be created and data can be entered alternatively by using scan function."
   ]
  },
  {
   "cell_type": "markdown",
   "metadata": {},
   "source": [
    "x = scan()\n",
    "\n",
    "1: 3 -5 7\n",
    "\n",
    "4: 9 0 6.7\n",
    "\n",
    "7: -2\n",
    "\n",
    "8:\n",
    "\n",
    "Read 7 items"
   ]
  },
  {
   "cell_type": "markdown",
   "metadata": {},
   "source": [
    "x\n",
    "\n",
    "[1] 3.0 -5.0 7.0 9.0 0.0 6.7 -2.0\n",
    "\n",
    "y = scan()\n",
    "\n",
    "1: 2 5 8 4 -2\n",
    "\n",
    "6: 9 5\n",
    "\n",
    "8:\n",
    "\n",
    "Read 7 items\n",
    "\n",
    "y\n",
    "\n",
    "[1] 2 5 8 4 -2 9 5"
   ]
  },
  {
   "cell_type": "markdown",
   "metadata": {},
   "source": [
    "scan() function has many other arguments such as what, nmax etc\n",
    "- what: This argument indicates types of data to be accepted, by default it is numeric. For character data type set what = “character”\n",
    "- nmax: This argument indicates maximum number of elements to be accepted."
   ]
  },
  {
   "cell_type": "markdown",
   "metadata": {},
   "source": [
    "t = scan(what = \"character\")\n",
    "\n",
    "1: \"somaiya\" \"vidyavihar\"\n",
    "\n",
    "3:\n",
    "\n",
    "Read 2 items\n",
    "\n",
    "t\n",
    "\n",
    "[1] \"somaiya\" \"vidyavihar\"\n",
    "\n",
    "x = scan(nmax = 4)\n",
    "\n",
    "1: 5 -8 3 9 2 -11 6\n",
    "\n",
    "Read 4 items\n",
    "\n",
    "x\n",
    "\n",
    "[1] 5 -8 3 9"
   ]
  },
  {
   "cell_type": "markdown",
   "metadata": {},
   "source": [
    "### Vector arithmetic\n",
    "Vectors can be used in arithmetic expressions, in which case the operations are\n",
    "performed element by element.\n",
    "\n",
    "The elementary arithmetic operators are the usual +, -, *, / and ^ for raising to a power.\n",
    "\n",
    "In addition, several mathematical and statistical functions are also available in R for\n",
    "arithmetic operations.\n",
    "\n",
    "For eg.: log, log10, sort, min, max, range, length, exp, sin, cos, tan,\n",
    "sqrt, and so on, all have their usual meaning.\n",
    "\n",
    "For most purposes the user will not be concerned if the “numbers” in a numeric vector are integers, reals or even complex. \n",
    "\n",
    "Internally calculations are done as double precision real numbers, or double precision complex numbers if the input data are complex.\n",
    "\n",
    "To work with complex numbers, supply an explicit complex part. Thus"
   ]
  },
  {
   "cell_type": "code",
   "execution_count": 705,
   "metadata": {},
   "outputs": [
    {
     "data": {
      "text/html": [
       "2"
      ],
      "text/latex": [
       "2"
      ],
      "text/markdown": [
       "2"
      ],
      "text/plain": [
       "[1] 2"
      ]
     },
     "metadata": {},
     "output_type": "display_data"
    }
   ],
   "source": [
    "sqrt(4)"
   ]
  },
  {
   "cell_type": "code",
   "execution_count": 706,
   "metadata": {},
   "outputs": [
    {
     "name": "stderr",
     "output_type": "stream",
     "text": [
      "Warning message in sqrt(-4):\n",
      "“NaNs produced”\n"
     ]
    },
    {
     "data": {
      "text/html": [
       "NaN"
      ],
      "text/latex": [
       "NaN"
      ],
      "text/markdown": [
       "NaN"
      ],
      "text/plain": [
       "[1] NaN"
      ]
     },
     "metadata": {},
     "output_type": "display_data"
    }
   ],
   "source": [
    "sqrt(-4)"
   ]
  },
  {
   "cell_type": "markdown",
   "metadata": {},
   "source": [
    "Warning message:\n",
    "In sqrt(-4) : NaNs produced"
   ]
  },
  {
   "cell_type": "code",
   "execution_count": 707,
   "metadata": {},
   "outputs": [
    {
     "data": {
      "text/html": [
       "0+2i"
      ],
      "text/latex": [
       "0+2i"
      ],
      "text/markdown": [
       "0+2i"
      ],
      "text/plain": [
       "[1] 0+2i"
      ]
     },
     "metadata": {},
     "output_type": "display_data"
    }
   ],
   "source": [
    "sqrt(-4 + 0i)"
   ]
  },
  {
   "cell_type": "code",
   "execution_count": 708,
   "metadata": {},
   "outputs": [
    {
     "data": {
      "text/html": [
       "0+2i"
      ],
      "text/latex": [
       "0+2i"
      ],
      "text/markdown": [
       "0+2i"
      ],
      "text/plain": [
       "[1] 0+2i"
      ]
     },
     "metadata": {},
     "output_type": "display_data"
    }
   ],
   "source": [
    "sqrt(-4 - 0i)"
   ]
  },
  {
   "cell_type": "markdown",
   "metadata": {},
   "source": [
    "Vectors are mathematical objects. Standard arithmetic functions and operators apply to vectors on element wise basis.\n",
    "\n",
    "While applying simple arithmetic functions and operators to vectors proper care should\n",
    "be taken. \n",
    "\n",
    "If the operands are of different lengths then shorter of the two is extended by\n",
    "repetition. \n",
    "\n",
    "However, if the length of the longer is not multiple of length of shorter then\n",
    "warning message is displayed."
   ]
  },
  {
   "cell_type": "code",
   "execution_count": 709,
   "metadata": {},
   "outputs": [
    {
     "data": {
      "text/html": [
       "<style>\n",
       ".list-inline {list-style: none; margin:0; padding: 0}\n",
       ".list-inline>li {display: inline-block}\n",
       ".list-inline>li:not(:last-child)::after {content: \"\\00b7\"; padding: 0 .5ex}\n",
       "</style>\n",
       "<ol class=list-inline><li>2</li><li>8</li><li>3</li><li>6</li></ol>\n"
      ],
      "text/latex": [
       "\\begin{enumerate*}\n",
       "\\item 2\n",
       "\\item 8\n",
       "\\item 3\n",
       "\\item 6\n",
       "\\end{enumerate*}\n"
      ],
      "text/markdown": [
       "1. 2\n",
       "2. 8\n",
       "3. 3\n",
       "4. 6\n",
       "\n",
       "\n"
      ],
      "text/plain": [
       "[1] 2 8 3 6"
      ]
     },
     "metadata": {},
     "output_type": "display_data"
    }
   ],
   "source": [
    "c(1,5,2,3) + c(1,3)"
   ]
  },
  {
   "cell_type": "code",
   "execution_count": 710,
   "metadata": {},
   "outputs": [
    {
     "name": "stderr",
     "output_type": "stream",
     "text": [
      "Warning message in c(1, 5, 2) + c(1, 3):\n",
      "“longer object length is not a multiple of shorter object length”\n"
     ]
    },
    {
     "data": {
      "text/html": [
       "<style>\n",
       ".list-inline {list-style: none; margin:0; padding: 0}\n",
       ".list-inline>li {display: inline-block}\n",
       ".list-inline>li:not(:last-child)::after {content: \"\\00b7\"; padding: 0 .5ex}\n",
       "</style>\n",
       "<ol class=list-inline><li>2</li><li>8</li><li>3</li></ol>\n"
      ],
      "text/latex": [
       "\\begin{enumerate*}\n",
       "\\item 2\n",
       "\\item 8\n",
       "\\item 3\n",
       "\\end{enumerate*}\n"
      ],
      "text/markdown": [
       "1. 2\n",
       "2. 8\n",
       "3. 3\n",
       "\n",
       "\n"
      ],
      "text/plain": [
       "[1] 2 8 3"
      ]
     },
     "metadata": {},
     "output_type": "display_data"
    }
   ],
   "source": [
    "c(1,5,2) + c(1,3)"
   ]
  },
  {
   "cell_type": "markdown",
   "metadata": {},
   "source": [
    "Warning message:\n",
    "In c(1, 5, 2) + c(1, 3) :\n",
    "longer object length is not a multiple of shorter object length"
   ]
  },
  {
   "cell_type": "markdown",
   "metadata": {},
   "source": [
    "### Generating regular sequences\n",
    "R has a number of facilities for generating commonly used sequences of numbers. \n",
    "\n",
    "For example 12:20 is the vector c(12, 13, ..., 20). \n",
    "\n",
    "The colon operator has high priority within an\n",
    "expression, so, for example 2*12:20 is the vector c(24, 26, ..., 40).\n",
    "\n",
    "Put n <- 8 and compare\n",
    "the sequences 1:n-1 and 1:(n-1)."
   ]
  },
  {
   "cell_type": "code",
   "execution_count": 711,
   "metadata": {},
   "outputs": [
    {
     "data": {
      "text/html": [
       "<style>\n",
       ".list-inline {list-style: none; margin:0; padding: 0}\n",
       ".list-inline>li {display: inline-block}\n",
       ".list-inline>li:not(:last-child)::after {content: \"\\00b7\"; padding: 0 .5ex}\n",
       "</style>\n",
       "<ol class=list-inline><li>12</li><li>13</li><li>14</li><li>15</li><li>16</li><li>17</li><li>18</li><li>19</li><li>20</li></ol>\n"
      ],
      "text/latex": [
       "\\begin{enumerate*}\n",
       "\\item 12\n",
       "\\item 13\n",
       "\\item 14\n",
       "\\item 15\n",
       "\\item 16\n",
       "\\item 17\n",
       "\\item 18\n",
       "\\item 19\n",
       "\\item 20\n",
       "\\end{enumerate*}\n"
      ],
      "text/markdown": [
       "1. 12\n",
       "2. 13\n",
       "3. 14\n",
       "4. 15\n",
       "5. 16\n",
       "6. 17\n",
       "7. 18\n",
       "8. 19\n",
       "9. 20\n",
       "\n",
       "\n"
      ],
      "text/plain": [
       "[1] 12 13 14 15 16 17 18 19 20"
      ]
     },
     "metadata": {},
     "output_type": "display_data"
    }
   ],
   "source": [
    "12:20"
   ]
  },
  {
   "cell_type": "code",
   "execution_count": 712,
   "metadata": {},
   "outputs": [
    {
     "data": {
      "text/html": [
       "<style>\n",
       ".list-inline {list-style: none; margin:0; padding: 0}\n",
       ".list-inline>li {display: inline-block}\n",
       ".list-inline>li:not(:last-child)::after {content: \"\\00b7\"; padding: 0 .5ex}\n",
       "</style>\n",
       "<ol class=list-inline><li>12</li><li>13</li><li>14</li><li>15</li><li>16</li><li>17</li><li>18</li><li>19</li><li>20</li></ol>\n"
      ],
      "text/latex": [
       "\\begin{enumerate*}\n",
       "\\item 12\n",
       "\\item 13\n",
       "\\item 14\n",
       "\\item 15\n",
       "\\item 16\n",
       "\\item 17\n",
       "\\item 18\n",
       "\\item 19\n",
       "\\item 20\n",
       "\\end{enumerate*}\n"
      ],
      "text/markdown": [
       "1. 12\n",
       "2. 13\n",
       "3. 14\n",
       "4. 15\n",
       "5. 16\n",
       "6. 17\n",
       "7. 18\n",
       "8. 19\n",
       "9. 20\n",
       "\n",
       "\n"
      ],
      "text/plain": [
       "[1] 12 13 14 15 16 17 18 19 20"
      ]
     },
     "metadata": {},
     "output_type": "display_data"
    }
   ],
   "source": [
    "p <- 12:20\n",
    "p"
   ]
  },
  {
   "cell_type": "code",
   "execution_count": 713,
   "metadata": {},
   "outputs": [
    {
     "data": {
      "text/html": [
       "<style>\n",
       ".list-inline {list-style: none; margin:0; padding: 0}\n",
       ".list-inline>li {display: inline-block}\n",
       ".list-inline>li:not(:last-child)::after {content: \"\\00b7\"; padding: 0 .5ex}\n",
       "</style>\n",
       "<ol class=list-inline><li>36</li><li>39</li><li>42</li><li>45</li><li>48</li><li>51</li><li>54</li><li>57</li><li>60</li></ol>\n"
      ],
      "text/latex": [
       "\\begin{enumerate*}\n",
       "\\item 36\n",
       "\\item 39\n",
       "\\item 42\n",
       "\\item 45\n",
       "\\item 48\n",
       "\\item 51\n",
       "\\item 54\n",
       "\\item 57\n",
       "\\item 60\n",
       "\\end{enumerate*}\n"
      ],
      "text/markdown": [
       "1. 36\n",
       "2. 39\n",
       "3. 42\n",
       "4. 45\n",
       "5. 48\n",
       "6. 51\n",
       "7. 54\n",
       "8. 57\n",
       "9. 60\n",
       "\n",
       "\n"
      ],
      "text/plain": [
       "[1] 36 39 42 45 48 51 54 57 60"
      ]
     },
     "metadata": {},
     "output_type": "display_data"
    }
   ],
   "source": [
    "q <- 3*12:20\n",
    "q"
   ]
  },
  {
   "cell_type": "code",
   "execution_count": 714,
   "metadata": {},
   "outputs": [],
   "source": [
    "n = 8"
   ]
  },
  {
   "cell_type": "code",
   "execution_count": 715,
   "metadata": {},
   "outputs": [
    {
     "data": {
      "text/html": [
       "<style>\n",
       ".list-inline {list-style: none; margin:0; padding: 0}\n",
       ".list-inline>li {display: inline-block}\n",
       ".list-inline>li:not(:last-child)::after {content: \"\\00b7\"; padding: 0 .5ex}\n",
       "</style>\n",
       "<ol class=list-inline><li>5</li><li>6</li><li>7</li></ol>\n"
      ],
      "text/latex": [
       "\\begin{enumerate*}\n",
       "\\item 5\n",
       "\\item 6\n",
       "\\item 7\n",
       "\\end{enumerate*}\n"
      ],
      "text/markdown": [
       "1. 5\n",
       "2. 6\n",
       "3. 7\n",
       "\n",
       "\n"
      ],
      "text/plain": [
       "[1] 5 6 7"
      ]
     },
     "metadata": {},
     "output_type": "display_data"
    }
   ],
   "source": [
    "t <- 5:(n-1)\n",
    "t"
   ]
  },
  {
   "cell_type": "code",
   "execution_count": 716,
   "metadata": {},
   "outputs": [
    {
     "data": {
      "text/html": [
       "<style>\n",
       ".list-inline {list-style: none; margin:0; padding: 0}\n",
       ".list-inline>li {display: inline-block}\n",
       ".list-inline>li:not(:last-child)::after {content: \"\\00b7\"; padding: 0 .5ex}\n",
       "</style>\n",
       "<ol class=list-inline><li>4</li><li>5</li><li>6</li><li>7</li></ol>\n"
      ],
      "text/latex": [
       "\\begin{enumerate*}\n",
       "\\item 4\n",
       "\\item 5\n",
       "\\item 6\n",
       "\\item 7\n",
       "\\end{enumerate*}\n"
      ],
      "text/markdown": [
       "1. 4\n",
       "2. 5\n",
       "3. 6\n",
       "4. 7\n",
       "\n",
       "\n"
      ],
      "text/plain": [
       "[1] 4 5 6 7"
      ]
     },
     "metadata": {},
     "output_type": "display_data"
    }
   ],
   "source": [
    "w <- 5:n - 1\n",
    "w"
   ]
  },
  {
   "cell_type": "markdown",
   "metadata": {},
   "source": [
    "The construction 20:12 may be used to generate a sequence backwards."
   ]
  },
  {
   "cell_type": "code",
   "execution_count": 717,
   "metadata": {},
   "outputs": [
    {
     "data": {
      "text/html": [
       "<style>\n",
       ".list-inline {list-style: none; margin:0; padding: 0}\n",
       ".list-inline>li {display: inline-block}\n",
       ".list-inline>li:not(:last-child)::after {content: \"\\00b7\"; padding: 0 .5ex}\n",
       "</style>\n",
       "<ol class=list-inline><li>20</li><li>19</li><li>18</li><li>17</li><li>16</li><li>15</li><li>14</li><li>13</li><li>12</li></ol>\n"
      ],
      "text/latex": [
       "\\begin{enumerate*}\n",
       "\\item 20\n",
       "\\item 19\n",
       "\\item 18\n",
       "\\item 17\n",
       "\\item 16\n",
       "\\item 15\n",
       "\\item 14\n",
       "\\item 13\n",
       "\\item 12\n",
       "\\end{enumerate*}\n"
      ],
      "text/markdown": [
       "1. 20\n",
       "2. 19\n",
       "3. 18\n",
       "4. 17\n",
       "5. 16\n",
       "6. 15\n",
       "7. 14\n",
       "8. 13\n",
       "9. 12\n",
       "\n",
       "\n"
      ],
      "text/plain": [
       "[1] 20 19 18 17 16 15 14 13 12"
      ]
     },
     "metadata": {},
     "output_type": "display_data"
    }
   ],
   "source": [
    "20:12"
   ]
  },
  {
   "cell_type": "markdown",
   "metadata": {},
   "source": [
    "The function seq() is a more general facility for generating sequences. \n",
    "\n",
    "It has five arguments, only some of which may be specified in any one call. \n",
    "\n",
    "   The first two arguments, if given, specify the beginning and end of the sequence, and if these are the only two arguments given the result is the same as the colon operator. \n",
    "\n",
    "That is seq(12,20) is the same\n",
    "vector as 12:20.\n",
    "\n",
    "Parameters to seq(), and to many other R functions, can also be given in named form, in\n",
    "which case the order in which they appear is irrelevant. \n",
    "\n",
    "   The first two parameters may be named from=value and to=value; thus seq(12,20), seq(from=12, to=20) and seq(to=20, from=12) are all the same as 12:20.\n",
    "   \n",
    "   The next two parameters to seq() may be named by=value and length=value, which specify a step size and a length for the sequence respectively. \n",
    "\n",
    "If neither of these is given, the default by=1 is assumed.\n",
    "For example"
   ]
  },
  {
   "cell_type": "code",
   "execution_count": 718,
   "metadata": {},
   "outputs": [
    {
     "data": {
      "text/html": [
       "<style>\n",
       ".list-inline {list-style: none; margin:0; padding: 0}\n",
       ".list-inline>li {display: inline-block}\n",
       ".list-inline>li:not(:last-child)::after {content: \"\\00b7\"; padding: 0 .5ex}\n",
       "</style>\n",
       "<ol class=list-inline><li>-5</li><li>-4.8</li><li>-4.6</li><li>-4.4</li><li>-4.2</li><li>-4</li><li>-3.8</li><li>-3.6</li><li>-3.4</li><li>-3.2</li><li>-3</li><li>-2.8</li><li>-2.6</li><li>-2.4</li><li>-2.2</li><li>-2</li><li>-1.8</li><li>-1.6</li><li>-1.4</li><li>-1.2</li><li>-1</li><li>-0.8</li><li>-0.6</li><li>-0.399999999999999</li><li>-0.199999999999999</li><li>0</li><li>0.2</li><li>0.4</li><li>0.600000000000001</li><li>0.800000000000001</li><li>1</li><li>1.2</li><li>1.4</li><li>1.6</li><li>1.8</li><li>2</li><li>2.2</li><li>2.4</li><li>2.6</li><li>2.8</li><li>3</li><li>3.2</li><li>3.4</li><li>3.6</li><li>3.8</li><li>4</li><li>4.2</li><li>4.4</li><li>4.6</li><li>4.8</li><li>5</li></ol>\n"
      ],
      "text/latex": [
       "\\begin{enumerate*}\n",
       "\\item -5\n",
       "\\item -4.8\n",
       "\\item -4.6\n",
       "\\item -4.4\n",
       "\\item -4.2\n",
       "\\item -4\n",
       "\\item -3.8\n",
       "\\item -3.6\n",
       "\\item -3.4\n",
       "\\item -3.2\n",
       "\\item -3\n",
       "\\item -2.8\n",
       "\\item -2.6\n",
       "\\item -2.4\n",
       "\\item -2.2\n",
       "\\item -2\n",
       "\\item -1.8\n",
       "\\item -1.6\n",
       "\\item -1.4\n",
       "\\item -1.2\n",
       "\\item -1\n",
       "\\item -0.8\n",
       "\\item -0.6\n",
       "\\item -0.399999999999999\n",
       "\\item -0.199999999999999\n",
       "\\item 0\n",
       "\\item 0.2\n",
       "\\item 0.4\n",
       "\\item 0.600000000000001\n",
       "\\item 0.800000000000001\n",
       "\\item 1\n",
       "\\item 1.2\n",
       "\\item 1.4\n",
       "\\item 1.6\n",
       "\\item 1.8\n",
       "\\item 2\n",
       "\\item 2.2\n",
       "\\item 2.4\n",
       "\\item 2.6\n",
       "\\item 2.8\n",
       "\\item 3\n",
       "\\item 3.2\n",
       "\\item 3.4\n",
       "\\item 3.6\n",
       "\\item 3.8\n",
       "\\item 4\n",
       "\\item 4.2\n",
       "\\item 4.4\n",
       "\\item 4.6\n",
       "\\item 4.8\n",
       "\\item 5\n",
       "\\end{enumerate*}\n"
      ],
      "text/markdown": [
       "1. -5\n",
       "2. -4.8\n",
       "3. -4.6\n",
       "4. -4.4\n",
       "5. -4.2\n",
       "6. -4\n",
       "7. -3.8\n",
       "8. -3.6\n",
       "9. -3.4\n",
       "10. -3.2\n",
       "11. -3\n",
       "12. -2.8\n",
       "13. -2.6\n",
       "14. -2.4\n",
       "15. -2.2\n",
       "16. -2\n",
       "17. -1.8\n",
       "18. -1.6\n",
       "19. -1.4\n",
       "20. -1.2\n",
       "21. -1\n",
       "22. -0.8\n",
       "23. -0.6\n",
       "24. -0.399999999999999\n",
       "25. -0.199999999999999\n",
       "26. 0\n",
       "27. 0.2\n",
       "28. 0.4\n",
       "29. 0.600000000000001\n",
       "30. 0.800000000000001\n",
       "31. 1\n",
       "32. 1.2\n",
       "33. 1.4\n",
       "34. 1.6\n",
       "35. 1.8\n",
       "36. 2\n",
       "37. 2.2\n",
       "38. 2.4\n",
       "39. 2.6\n",
       "40. 2.8\n",
       "41. 3\n",
       "42. 3.2\n",
       "43. 3.4\n",
       "44. 3.6\n",
       "45. 3.8\n",
       "46. 4\n",
       "47. 4.2\n",
       "48. 4.4\n",
       "49. 4.6\n",
       "50. 4.8\n",
       "51. 5\n",
       "\n",
       "\n"
      ],
      "text/plain": [
       " [1] -5.0 -4.8 -4.6 -4.4 -4.2 -4.0 -3.8 -3.6 -3.4 -3.2 -3.0 -2.8 -2.6 -2.4 -2.2\n",
       "[16] -2.0 -1.8 -1.6 -1.4 -1.2 -1.0 -0.8 -0.6 -0.4 -0.2  0.0  0.2  0.4  0.6  0.8\n",
       "[31]  1.0  1.2  1.4  1.6  1.8  2.0  2.2  2.4  2.6  2.8  3.0  3.2  3.4  3.6  3.8\n",
       "[46]  4.0  4.2  4.4  4.6  4.8  5.0"
      ]
     },
     "metadata": {},
     "output_type": "display_data"
    }
   ],
   "source": [
    "seq(-5, 5, by=.2) -> s3\n",
    "s3"
   ]
  },
  {
   "cell_type": "code",
   "execution_count": 719,
   "metadata": {},
   "outputs": [
    {
     "data": {
      "text/html": [
       "<style>\n",
       ".list-inline {list-style: none; margin:0; padding: 0}\n",
       ".list-inline>li {display: inline-block}\n",
       ".list-inline>li:not(:last-child)::after {content: \"\\00b7\"; padding: 0 .5ex}\n",
       "</style>\n",
       "<ol class=list-inline><li>-5</li><li>-4.8</li><li>-4.6</li><li>-4.4</li><li>-4.2</li><li>-4</li><li>-3.8</li><li>-3.6</li><li>-3.4</li><li>-3.2</li><li>-3</li><li>-2.8</li><li>-2.6</li><li>-2.4</li><li>-2.2</li><li>-2</li><li>-1.8</li><li>-1.6</li></ol>\n"
      ],
      "text/latex": [
       "\\begin{enumerate*}\n",
       "\\item -5\n",
       "\\item -4.8\n",
       "\\item -4.6\n",
       "\\item -4.4\n",
       "\\item -4.2\n",
       "\\item -4\n",
       "\\item -3.8\n",
       "\\item -3.6\n",
       "\\item -3.4\n",
       "\\item -3.2\n",
       "\\item -3\n",
       "\\item -2.8\n",
       "\\item -2.6\n",
       "\\item -2.4\n",
       "\\item -2.2\n",
       "\\item -2\n",
       "\\item -1.8\n",
       "\\item -1.6\n",
       "\\end{enumerate*}\n"
      ],
      "text/markdown": [
       "1. -5\n",
       "2. -4.8\n",
       "3. -4.6\n",
       "4. -4.4\n",
       "5. -4.2\n",
       "6. -4\n",
       "7. -3.8\n",
       "8. -3.6\n",
       "9. -3.4\n",
       "10. -3.2\n",
       "11. -3\n",
       "12. -2.8\n",
       "13. -2.6\n",
       "14. -2.4\n",
       "15. -2.2\n",
       "16. -2\n",
       "17. -1.8\n",
       "18. -1.6\n",
       "\n",
       "\n"
      ],
      "text/plain": [
       " [1] -5.0 -4.8 -4.6 -4.4 -4.2 -4.0 -3.8 -3.6 -3.4 -3.2 -3.0 -2.8 -2.6 -2.4 -2.2\n",
       "[16] -2.0 -1.8 -1.6"
      ]
     },
     "metadata": {},
     "output_type": "display_data"
    }
   ],
   "source": [
    "s4 <- seq(length=18, from=-5, by=.2)\n",
    "s4"
   ]
  },
  {
   "cell_type": "markdown",
   "metadata": {},
   "source": [
    "rep() which can be used for replicating an object in various complicated ways. \n",
    "\n",
    "The simplest form is s5 <- rep(x, times=5) which will put five copies of x end-to-end in s5."
   ]
  },
  {
   "cell_type": "code",
   "execution_count": 720,
   "metadata": {},
   "outputs": [
    {
     "data": {
      "text/html": [
       "<style>\n",
       ".list-inline {list-style: none; margin:0; padding: 0}\n",
       ".list-inline>li {display: inline-block}\n",
       ".list-inline>li:not(:last-child)::after {content: \"\\00b7\"; padding: 0 .5ex}\n",
       "</style>\n",
       "<ol class=list-inline><li>10.4</li><li>5.6</li><li>3.1</li><li>6.4</li><li>21.7</li></ol>\n"
      ],
      "text/latex": [
       "\\begin{enumerate*}\n",
       "\\item 10.4\n",
       "\\item 5.6\n",
       "\\item 3.1\n",
       "\\item 6.4\n",
       "\\item 21.7\n",
       "\\end{enumerate*}\n"
      ],
      "text/markdown": [
       "1. 10.4\n",
       "2. 5.6\n",
       "3. 3.1\n",
       "4. 6.4\n",
       "5. 21.7\n",
       "\n",
       "\n"
      ],
      "text/plain": [
       "[1] 10.4  5.6  3.1  6.4 21.7"
      ]
     },
     "metadata": {},
     "output_type": "display_data"
    }
   ],
   "source": [
    "x"
   ]
  },
  {
   "cell_type": "code",
   "execution_count": 721,
   "metadata": {},
   "outputs": [
    {
     "data": {
      "text/html": [
       "<style>\n",
       ".list-inline {list-style: none; margin:0; padding: 0}\n",
       ".list-inline>li {display: inline-block}\n",
       ".list-inline>li:not(:last-child)::after {content: \"\\00b7\"; padding: 0 .5ex}\n",
       "</style>\n",
       "<ol class=list-inline><li>10.4</li><li>5.6</li><li>3.1</li><li>6.4</li><li>21.7</li><li>10.4</li><li>5.6</li><li>3.1</li><li>6.4</li><li>21.7</li><li>10.4</li><li>5.6</li><li>3.1</li><li>6.4</li><li>21.7</li><li>10.4</li><li>5.6</li><li>3.1</li><li>6.4</li><li>21.7</li><li>10.4</li><li>5.6</li><li>3.1</li><li>6.4</li><li>21.7</li></ol>\n"
      ],
      "text/latex": [
       "\\begin{enumerate*}\n",
       "\\item 10.4\n",
       "\\item 5.6\n",
       "\\item 3.1\n",
       "\\item 6.4\n",
       "\\item 21.7\n",
       "\\item 10.4\n",
       "\\item 5.6\n",
       "\\item 3.1\n",
       "\\item 6.4\n",
       "\\item 21.7\n",
       "\\item 10.4\n",
       "\\item 5.6\n",
       "\\item 3.1\n",
       "\\item 6.4\n",
       "\\item 21.7\n",
       "\\item 10.4\n",
       "\\item 5.6\n",
       "\\item 3.1\n",
       "\\item 6.4\n",
       "\\item 21.7\n",
       "\\item 10.4\n",
       "\\item 5.6\n",
       "\\item 3.1\n",
       "\\item 6.4\n",
       "\\item 21.7\n",
       "\\end{enumerate*}\n"
      ],
      "text/markdown": [
       "1. 10.4\n",
       "2. 5.6\n",
       "3. 3.1\n",
       "4. 6.4\n",
       "5. 21.7\n",
       "6. 10.4\n",
       "7. 5.6\n",
       "8. 3.1\n",
       "9. 6.4\n",
       "10. 21.7\n",
       "11. 10.4\n",
       "12. 5.6\n",
       "13. 3.1\n",
       "14. 6.4\n",
       "15. 21.7\n",
       "16. 10.4\n",
       "17. 5.6\n",
       "18. 3.1\n",
       "19. 6.4\n",
       "20. 21.7\n",
       "21. 10.4\n",
       "22. 5.6\n",
       "23. 3.1\n",
       "24. 6.4\n",
       "25. 21.7\n",
       "\n",
       "\n"
      ],
      "text/plain": [
       " [1] 10.4  5.6  3.1  6.4 21.7 10.4  5.6  3.1  6.4 21.7 10.4  5.6  3.1  6.4 21.7\n",
       "[16] 10.4  5.6  3.1  6.4 21.7 10.4  5.6  3.1  6.4 21.7"
      ]
     },
     "metadata": {},
     "output_type": "display_data"
    }
   ],
   "source": [
    "s5 <- rep(x, times=5)\n",
    "s5"
   ]
  },
  {
   "cell_type": "markdown",
   "metadata": {},
   "source": [
    "Another useful version is s6 <- rep(x, each=5) which repeats each element of x five\n",
    "times before moving on to the next."
   ]
  },
  {
   "cell_type": "code",
   "execution_count": 722,
   "metadata": {},
   "outputs": [
    {
     "data": {
      "text/html": [
       "<style>\n",
       ".list-inline {list-style: none; margin:0; padding: 0}\n",
       ".list-inline>li {display: inline-block}\n",
       ".list-inline>li:not(:last-child)::after {content: \"\\00b7\"; padding: 0 .5ex}\n",
       "</style>\n",
       "<ol class=list-inline><li>10.4</li><li>10.4</li><li>10.4</li><li>10.4</li><li>10.4</li><li>5.6</li><li>5.6</li><li>5.6</li><li>5.6</li><li>5.6</li><li>3.1</li><li>3.1</li><li>3.1</li><li>3.1</li><li>3.1</li><li>6.4</li><li>6.4</li><li>6.4</li><li>6.4</li><li>6.4</li><li>21.7</li><li>21.7</li><li>21.7</li><li>21.7</li><li>21.7</li></ol>\n"
      ],
      "text/latex": [
       "\\begin{enumerate*}\n",
       "\\item 10.4\n",
       "\\item 10.4\n",
       "\\item 10.4\n",
       "\\item 10.4\n",
       "\\item 10.4\n",
       "\\item 5.6\n",
       "\\item 5.6\n",
       "\\item 5.6\n",
       "\\item 5.6\n",
       "\\item 5.6\n",
       "\\item 3.1\n",
       "\\item 3.1\n",
       "\\item 3.1\n",
       "\\item 3.1\n",
       "\\item 3.1\n",
       "\\item 6.4\n",
       "\\item 6.4\n",
       "\\item 6.4\n",
       "\\item 6.4\n",
       "\\item 6.4\n",
       "\\item 21.7\n",
       "\\item 21.7\n",
       "\\item 21.7\n",
       "\\item 21.7\n",
       "\\item 21.7\n",
       "\\end{enumerate*}\n"
      ],
      "text/markdown": [
       "1. 10.4\n",
       "2. 10.4\n",
       "3. 10.4\n",
       "4. 10.4\n",
       "5. 10.4\n",
       "6. 5.6\n",
       "7. 5.6\n",
       "8. 5.6\n",
       "9. 5.6\n",
       "10. 5.6\n",
       "11. 3.1\n",
       "12. 3.1\n",
       "13. 3.1\n",
       "14. 3.1\n",
       "15. 3.1\n",
       "16. 6.4\n",
       "17. 6.4\n",
       "18. 6.4\n",
       "19. 6.4\n",
       "20. 6.4\n",
       "21. 21.7\n",
       "22. 21.7\n",
       "23. 21.7\n",
       "24. 21.7\n",
       "25. 21.7\n",
       "\n",
       "\n"
      ],
      "text/plain": [
       " [1] 10.4 10.4 10.4 10.4 10.4  5.6  5.6  5.6  5.6  5.6  3.1  3.1  3.1  3.1  3.1\n",
       "[16]  6.4  6.4  6.4  6.4  6.4 21.7 21.7 21.7 21.7 21.7"
      ]
     },
     "metadata": {},
     "output_type": "display_data"
    }
   ],
   "source": [
    "s6 <- rep(x, each=5)\n",
    "s6"
   ]
  },
  {
   "cell_type": "code",
   "execution_count": 723,
   "metadata": {},
   "outputs": [
    {
     "data": {
      "text/html": [
       "<style>\n",
       ".list-inline {list-style: none; margin:0; padding: 0}\n",
       ".list-inline>li {display: inline-block}\n",
       ".list-inline>li:not(:last-child)::after {content: \"\\00b7\"; padding: 0 .5ex}\n",
       "</style>\n",
       "<ol class=list-inline><li>1</li><li>1</li><li>2</li><li>3</li><li>3</li><li>4</li></ol>\n"
      ],
      "text/latex": [
       "\\begin{enumerate*}\n",
       "\\item 1\n",
       "\\item 1\n",
       "\\item 2\n",
       "\\item 3\n",
       "\\item 3\n",
       "\\item 4\n",
       "\\end{enumerate*}\n"
      ],
      "text/markdown": [
       "1. 1\n",
       "2. 1\n",
       "3. 2\n",
       "4. 3\n",
       "5. 3\n",
       "6. 4\n",
       "\n",
       "\n"
      ],
      "text/plain": [
       "[1] 1 1 2 3 3 4"
      ]
     },
     "metadata": {},
     "output_type": "display_data"
    }
   ],
   "source": [
    "s7 <- rep(1:4,c(2,1,2,1))\n",
    "s7"
   ]
  },
  {
   "cell_type": "markdown",
   "metadata": {},
   "source": [
    "### Data frames:\n",
    "Data frames can be created by using data.frame (A data frame is a list with class \"data.frame\"). \n",
    "\n",
    "A data frame may, for many purposes, be regarded as a matrix with columns possibly of differing modes and attributes. \n",
    "\n",
    "It may be displayed in matrix form, and its rows and columns extracted using matrix indexing conventions. \n",
    "\n",
    "It is a list of vectors of the same length which are related across such that data in the same position (row) come from the same experimental unit. \n",
    "\n",
    "They don't have to be of the same type. For instance, you can combine in one dataframe a logical, a character and a numerical vector. \n",
    "\n",
    "(If the vectors included in the data frame are not of the same length then vector having less elements is\n",
    "recycled a whole number of times)\n",
    "\n",
    "There are restrictions on lists that may be made into data frames, namely\n",
    "\n",
    "- The components must be vectors (numeric, character, or logical), factors,numeric matrices, lists, or other data frames.\n",
    "- Matrices, lists, and data frames provide as many variables to the new data frame as they have columns, elements, or variables, respectively.\n",
    "- Numeric vectors, logicals and factors are included as is, and by default1 character vectors are coerced to be factors, whose levels are the unique values appearing in the vector.\n",
    "- Vector structures appearing as variables of the data frame must all have the same length, and matrix structures must all have the same row size."
   ]
  },
  {
   "cell_type": "code",
   "execution_count": 724,
   "metadata": {},
   "outputs": [],
   "source": [
    "x <- c(-5,7,-3,8); y = 8:11; z = rep(-5,4); p = seq(1,12,3)"
   ]
  },
  {
   "cell_type": "code",
   "execution_count": 725,
   "metadata": {},
   "outputs": [],
   "source": [
    "q = c(1,5)"
   ]
  },
  {
   "cell_type": "code",
   "execution_count": 726,
   "metadata": {},
   "outputs": [],
   "source": [
    "r = 5:7"
   ]
  },
  {
   "cell_type": "code",
   "execution_count": 727,
   "metadata": {},
   "outputs": [
    {
     "data": {
      "text/html": [
       "<style>\n",
       ".list-inline {list-style: none; margin:0; padding: 0}\n",
       ".list-inline>li {display: inline-block}\n",
       ".list-inline>li:not(:last-child)::after {content: \"\\00b7\"; padding: 0 .5ex}\n",
       "</style>\n",
       "<ol class=list-inline><li>-5</li><li>7</li><li>-3</li><li>8</li></ol>\n"
      ],
      "text/latex": [
       "\\begin{enumerate*}\n",
       "\\item -5\n",
       "\\item 7\n",
       "\\item -3\n",
       "\\item 8\n",
       "\\end{enumerate*}\n"
      ],
      "text/markdown": [
       "1. -5\n",
       "2. 7\n",
       "3. -3\n",
       "4. 8\n",
       "\n",
       "\n"
      ],
      "text/plain": [
       "[1] -5  7 -3  8"
      ]
     },
     "metadata": {},
     "output_type": "display_data"
    },
    {
     "data": {
      "text/html": [
       "<style>\n",
       ".list-inline {list-style: none; margin:0; padding: 0}\n",
       ".list-inline>li {display: inline-block}\n",
       ".list-inline>li:not(:last-child)::after {content: \"\\00b7\"; padding: 0 .5ex}\n",
       "</style>\n",
       "<ol class=list-inline><li>8</li><li>9</li><li>10</li><li>11</li></ol>\n"
      ],
      "text/latex": [
       "\\begin{enumerate*}\n",
       "\\item 8\n",
       "\\item 9\n",
       "\\item 10\n",
       "\\item 11\n",
       "\\end{enumerate*}\n"
      ],
      "text/markdown": [
       "1. 8\n",
       "2. 9\n",
       "3. 10\n",
       "4. 11\n",
       "\n",
       "\n"
      ],
      "text/plain": [
       "[1]  8  9 10 11"
      ]
     },
     "metadata": {},
     "output_type": "display_data"
    },
    {
     "data": {
      "text/html": [
       "<style>\n",
       ".list-inline {list-style: none; margin:0; padding: 0}\n",
       ".list-inline>li {display: inline-block}\n",
       ".list-inline>li:not(:last-child)::after {content: \"\\00b7\"; padding: 0 .5ex}\n",
       "</style>\n",
       "<ol class=list-inline><li>-5</li><li>-5</li><li>-5</li><li>-5</li></ol>\n"
      ],
      "text/latex": [
       "\\begin{enumerate*}\n",
       "\\item -5\n",
       "\\item -5\n",
       "\\item -5\n",
       "\\item -5\n",
       "\\end{enumerate*}\n"
      ],
      "text/markdown": [
       "1. -5\n",
       "2. -5\n",
       "3. -5\n",
       "4. -5\n",
       "\n",
       "\n"
      ],
      "text/plain": [
       "[1] -5 -5 -5 -5"
      ]
     },
     "metadata": {},
     "output_type": "display_data"
    },
    {
     "data": {
      "text/html": [
       "<style>\n",
       ".list-inline {list-style: none; margin:0; padding: 0}\n",
       ".list-inline>li {display: inline-block}\n",
       ".list-inline>li:not(:last-child)::after {content: \"\\00b7\"; padding: 0 .5ex}\n",
       "</style>\n",
       "<ol class=list-inline><li>1</li><li>4</li><li>7</li><li>10</li></ol>\n"
      ],
      "text/latex": [
       "\\begin{enumerate*}\n",
       "\\item 1\n",
       "\\item 4\n",
       "\\item 7\n",
       "\\item 10\n",
       "\\end{enumerate*}\n"
      ],
      "text/markdown": [
       "1. 1\n",
       "2. 4\n",
       "3. 7\n",
       "4. 10\n",
       "\n",
       "\n"
      ],
      "text/plain": [
       "[1]  1  4  7 10"
      ]
     },
     "metadata": {},
     "output_type": "display_data"
    },
    {
     "data": {
      "text/html": [
       "<style>\n",
       ".list-inline {list-style: none; margin:0; padding: 0}\n",
       ".list-inline>li {display: inline-block}\n",
       ".list-inline>li:not(:last-child)::after {content: \"\\00b7\"; padding: 0 .5ex}\n",
       "</style>\n",
       "<ol class=list-inline><li>1</li><li>5</li></ol>\n"
      ],
      "text/latex": [
       "\\begin{enumerate*}\n",
       "\\item 1\n",
       "\\item 5\n",
       "\\end{enumerate*}\n"
      ],
      "text/markdown": [
       "1. 1\n",
       "2. 5\n",
       "\n",
       "\n"
      ],
      "text/plain": [
       "[1] 1 5"
      ]
     },
     "metadata": {},
     "output_type": "display_data"
    },
    {
     "data": {
      "text/html": [
       "<style>\n",
       ".list-inline {list-style: none; margin:0; padding: 0}\n",
       ".list-inline>li {display: inline-block}\n",
       ".list-inline>li:not(:last-child)::after {content: \"\\00b7\"; padding: 0 .5ex}\n",
       "</style>\n",
       "<ol class=list-inline><li>5</li><li>6</li><li>7</li></ol>\n"
      ],
      "text/latex": [
       "\\begin{enumerate*}\n",
       "\\item 5\n",
       "\\item 6\n",
       "\\item 7\n",
       "\\end{enumerate*}\n"
      ],
      "text/markdown": [
       "1. 5\n",
       "2. 6\n",
       "3. 7\n",
       "\n",
       "\n"
      ],
      "text/plain": [
       "[1] 5 6 7"
      ]
     },
     "metadata": {},
     "output_type": "display_data"
    }
   ],
   "source": [
    "x;y;z;p;q;r"
   ]
  },
  {
   "cell_type": "code",
   "execution_count": 728,
   "metadata": {},
   "outputs": [
    {
     "data": {
      "text/html": [
       "<table>\n",
       "<caption>A data.frame: 4 × 2</caption>\n",
       "<thead>\n",
       "\t<tr><th scope=col>x</th><th scope=col>y</th></tr>\n",
       "\t<tr><th scope=col>&lt;dbl&gt;</th><th scope=col>&lt;int&gt;</th></tr>\n",
       "</thead>\n",
       "<tbody>\n",
       "\t<tr><td>-5</td><td> 8</td></tr>\n",
       "\t<tr><td> 7</td><td> 9</td></tr>\n",
       "\t<tr><td>-3</td><td>10</td></tr>\n",
       "\t<tr><td> 8</td><td>11</td></tr>\n",
       "</tbody>\n",
       "</table>\n"
      ],
      "text/latex": [
       "A data.frame: 4 × 2\n",
       "\\begin{tabular}{ll}\n",
       " x & y\\\\\n",
       " <dbl> & <int>\\\\\n",
       "\\hline\n",
       "\t -5 &  8\\\\\n",
       "\t  7 &  9\\\\\n",
       "\t -3 & 10\\\\\n",
       "\t  8 & 11\\\\\n",
       "\\end{tabular}\n"
      ],
      "text/markdown": [
       "\n",
       "A data.frame: 4 × 2\n",
       "\n",
       "| x &lt;dbl&gt; | y &lt;int&gt; |\n",
       "|---|---|\n",
       "| -5 |  8 |\n",
       "|  7 |  9 |\n",
       "| -3 | 10 |\n",
       "|  8 | 11 |\n",
       "\n"
      ],
      "text/plain": [
       "  x  y \n",
       "1 -5  8\n",
       "2  7  9\n",
       "3 -3 10\n",
       "4  8 11"
      ]
     },
     "metadata": {},
     "output_type": "display_data"
    }
   ],
   "source": [
    "d1 = data.frame(x,y)\n",
    "d1"
   ]
  },
  {
   "cell_type": "markdown",
   "metadata": {},
   "source": [
    "First column indicates row numbers."
   ]
  },
  {
   "cell_type": "code",
   "execution_count": 729,
   "metadata": {},
   "outputs": [
    {
     "data": {
      "text/html": [
       "<table>\n",
       "<caption>A data.frame: 4 × 2</caption>\n",
       "<thead>\n",
       "\t<tr><th scope=col>q</th><th scope=col>p</th></tr>\n",
       "\t<tr><th scope=col>&lt;dbl&gt;</th><th scope=col>&lt;dbl&gt;</th></tr>\n",
       "</thead>\n",
       "<tbody>\n",
       "\t<tr><td>1</td><td> 1</td></tr>\n",
       "\t<tr><td>5</td><td> 4</td></tr>\n",
       "\t<tr><td>1</td><td> 7</td></tr>\n",
       "\t<tr><td>5</td><td>10</td></tr>\n",
       "</tbody>\n",
       "</table>\n"
      ],
      "text/latex": [
       "A data.frame: 4 × 2\n",
       "\\begin{tabular}{ll}\n",
       " q & p\\\\\n",
       " <dbl> & <dbl>\\\\\n",
       "\\hline\n",
       "\t 1 &  1\\\\\n",
       "\t 5 &  4\\\\\n",
       "\t 1 &  7\\\\\n",
       "\t 5 & 10\\\\\n",
       "\\end{tabular}\n"
      ],
      "text/markdown": [
       "\n",
       "A data.frame: 4 × 2\n",
       "\n",
       "| q &lt;dbl&gt; | p &lt;dbl&gt; |\n",
       "|---|---|\n",
       "| 1 |  1 |\n",
       "| 5 |  4 |\n",
       "| 1 |  7 |\n",
       "| 5 | 10 |\n",
       "\n"
      ],
      "text/plain": [
       "  q p \n",
       "1 1  1\n",
       "2 5  4\n",
       "3 1  7\n",
       "4 5 10"
      ]
     },
     "metadata": {},
     "output_type": "display_data"
    }
   ],
   "source": [
    "d2 = data.frame(q,p)\n",
    "d2"
   ]
  },
  {
   "cell_type": "markdown",
   "metadata": {},
   "source": [
    "In this data frame d2 vector having fewer elements (i.e. vector q) is recycled a whole number of times (2 times, so that its length becomes as that of length of other vector p)\n",
    "\n",
    "Different columns in data frame are vectors. Names can be given to these columns while\n",
    "creating data frames."
   ]
  },
  {
   "cell_type": "code",
   "execution_count": 730,
   "metadata": {},
   "outputs": [
    {
     "data": {
      "text/html": [
       "<table>\n",
       "<caption>A data.frame: 4 × 2</caption>\n",
       "<thead>\n",
       "\t<tr><th scope=col>maths</th><th scope=col>stats</th></tr>\n",
       "\t<tr><th scope=col>&lt;dbl&gt;</th><th scope=col>&lt;int&gt;</th></tr>\n",
       "</thead>\n",
       "<tbody>\n",
       "\t<tr><td>-5</td><td> 8</td></tr>\n",
       "\t<tr><td> 7</td><td> 9</td></tr>\n",
       "\t<tr><td>-3</td><td>10</td></tr>\n",
       "\t<tr><td> 8</td><td>11</td></tr>\n",
       "</tbody>\n",
       "</table>\n"
      ],
      "text/latex": [
       "A data.frame: 4 × 2\n",
       "\\begin{tabular}{ll}\n",
       " maths & stats\\\\\n",
       " <dbl> & <int>\\\\\n",
       "\\hline\n",
       "\t -5 &  8\\\\\n",
       "\t  7 &  9\\\\\n",
       "\t -3 & 10\\\\\n",
       "\t  8 & 11\\\\\n",
       "\\end{tabular}\n"
      ],
      "text/markdown": [
       "\n",
       "A data.frame: 4 × 2\n",
       "\n",
       "| maths &lt;dbl&gt; | stats &lt;int&gt; |\n",
       "|---|---|\n",
       "| -5 |  8 |\n",
       "|  7 |  9 |\n",
       "| -3 | 10 |\n",
       "|  8 | 11 |\n",
       "\n"
      ],
      "text/plain": [
       "  maths stats\n",
       "1 -5     8   \n",
       "2  7     9   \n",
       "3 -3    10   \n",
       "4  8    11   "
      ]
     },
     "metadata": {},
     "output_type": "display_data"
    }
   ],
   "source": [
    "d4 = data.frame(\"maths\" = x, \"stats\" = y)\n",
    "d4"
   ]
  },
  {
   "cell_type": "code",
   "execution_count": 731,
   "metadata": {},
   "outputs": [
    {
     "data": {
      "text/html": [
       "<table>\n",
       "<caption>A data.frame: 1 × 2</caption>\n",
       "<thead>\n",
       "\t<tr><th scope=col>x</th><th scope=col>y</th></tr>\n",
       "\t<tr><th scope=col>&lt;fct&gt;</th><th scope=col>&lt;fct&gt;</th></tr>\n",
       "</thead>\n",
       "<tbody>\n",
       "\t<tr><td>maths</td><td>stats</td></tr>\n",
       "</tbody>\n",
       "</table>\n"
      ],
      "text/latex": [
       "A data.frame: 1 × 2\n",
       "\\begin{tabular}{ll}\n",
       " x & y\\\\\n",
       " <fct> & <fct>\\\\\n",
       "\\hline\n",
       "\t maths & stats\\\\\n",
       "\\end{tabular}\n"
      ],
      "text/markdown": [
       "\n",
       "A data.frame: 1 × 2\n",
       "\n",
       "| x &lt;fct&gt; | y &lt;fct&gt; |\n",
       "|---|---|\n",
       "| maths | stats |\n",
       "\n"
      ],
      "text/plain": [
       "  x     y    \n",
       "1 maths stats"
      ]
     },
     "metadata": {},
     "output_type": "display_data"
    }
   ],
   "source": [
    "d4 = data.frame(x = \"maths\", y = \"stats\")\n",
    "d4"
   ]
  },
  {
   "cell_type": "markdown",
   "metadata": {},
   "source": [
    "Rows in data frames can be given names using row.names which is a vector of character\n",
    "strings indicating names of rows."
   ]
  },
  {
   "cell_type": "code",
   "execution_count": 732,
   "metadata": {},
   "outputs": [
    {
     "data": {
      "text/html": [
       "<table>\n",
       "<caption>A data.frame: 4 × 2</caption>\n",
       "<thead>\n",
       "\t<tr><th></th><th scope=col>maths</th><th scope=col>stats</th></tr>\n",
       "\t<tr><th></th><th scope=col>&lt;dbl&gt;</th><th scope=col>&lt;int&gt;</th></tr>\n",
       "</thead>\n",
       "<tbody>\n",
       "\t<tr><th scope=row>Amit</th><td>-5</td><td> 8</td></tr>\n",
       "\t<tr><th scope=row>Vidya</th><td> 7</td><td> 9</td></tr>\n",
       "\t<tr><th scope=row>Ganesh</th><td>-3</td><td>10</td></tr>\n",
       "\t<tr><th scope=row>Tina</th><td> 8</td><td>11</td></tr>\n",
       "</tbody>\n",
       "</table>\n"
      ],
      "text/latex": [
       "A data.frame: 4 × 2\n",
       "\\begin{tabular}{r|ll}\n",
       "  & maths & stats\\\\\n",
       "  & <dbl> & <int>\\\\\n",
       "\\hline\n",
       "\tAmit & -5 &  8\\\\\n",
       "\tVidya &  7 &  9\\\\\n",
       "\tGanesh & -3 & 10\\\\\n",
       "\tTina &  8 & 11\\\\\n",
       "\\end{tabular}\n"
      ],
      "text/markdown": [
       "\n",
       "A data.frame: 4 × 2\n",
       "\n",
       "| <!--/--> | maths &lt;dbl&gt; | stats &lt;int&gt; |\n",
       "|---|---|---|\n",
       "| Amit | -5 |  8 |\n",
       "| Vidya |  7 |  9 |\n",
       "| Ganesh | -3 | 10 |\n",
       "| Tina |  8 | 11 |\n",
       "\n"
      ],
      "text/plain": [
       "       maths stats\n",
       "Amit   -5     8   \n",
       "Vidya   7     9   \n",
       "Ganesh -3    10   \n",
       "Tina    8    11   "
      ]
     },
     "metadata": {},
     "output_type": "display_data"
    }
   ],
   "source": [
    "d5 = data.frame(\"maths\" = x, \"stats\" = y, row.names = c(\"Amit\", \"Vidya\", \"Ganesh\",\n",
    "\"Tina\"))\n",
    "d5"
   ]
  },
  {
   "cell_type": "markdown",
   "metadata": {},
   "source": [
    "#### Accessing data from data frames:\n",
    "Data from data frame can be accessed using $ notation"
   ]
  },
  {
   "cell_type": "code",
   "execution_count": 733,
   "metadata": {},
   "outputs": [
    {
     "data": {
      "text/html": [
       "<style>\n",
       ".list-inline {list-style: none; margin:0; padding: 0}\n",
       ".list-inline>li {display: inline-block}\n",
       ".list-inline>li:not(:last-child)::after {content: \"\\00b7\"; padding: 0 .5ex}\n",
       "</style>\n",
       "<ol class=list-inline><li>-5</li><li>7</li><li>-3</li><li>8</li></ol>\n"
      ],
      "text/latex": [
       "\\begin{enumerate*}\n",
       "\\item -5\n",
       "\\item 7\n",
       "\\item -3\n",
       "\\item 8\n",
       "\\end{enumerate*}\n"
      ],
      "text/markdown": [
       "1. -5\n",
       "2. 7\n",
       "3. -3\n",
       "4. 8\n",
       "\n",
       "\n"
      ],
      "text/plain": [
       "[1] -5  7 -3  8"
      ]
     },
     "metadata": {},
     "output_type": "display_data"
    }
   ],
   "source": [
    "d5 $ maths"
   ]
  },
  {
   "cell_type": "code",
   "execution_count": 734,
   "metadata": {},
   "outputs": [
    {
     "data": {
      "text/html": [
       "-3"
      ],
      "text/latex": [
       "-3"
      ],
      "text/markdown": [
       "-3"
      ],
      "text/plain": [
       "[1] -3"
      ]
     },
     "metadata": {},
     "output_type": "display_data"
    }
   ],
   "source": [
    "d5 $ maths[3]"
   ]
  },
  {
   "cell_type": "code",
   "execution_count": 735,
   "metadata": {},
   "outputs": [
    {
     "data": {
      "text/html": [
       "11"
      ],
      "text/latex": [
       "11"
      ],
      "text/markdown": [
       "11"
      ],
      "text/plain": [
       "[1] 11"
      ]
     },
     "metadata": {},
     "output_type": "display_data"
    }
   ],
   "source": [
    "d5[4,2]"
   ]
  },
  {
   "cell_type": "markdown",
   "metadata": {},
   "source": [
    "#### Inbuilt data sets or Resident data sets:\n",
    "The data sets that come with R or one of the packages are known as Inbuilt data sets. \n",
    "\n",
    "To view all Inbuilt data sets names from package ‘datasets’ use following command."
   ]
  },
  {
   "cell_type": "code",
   "execution_count": 736,
   "metadata": {},
   "outputs": [],
   "source": [
    "data()"
   ]
  },
  {
   "cell_type": "markdown",
   "metadata": {},
   "source": [
    "For accessing existing data sets, command is as follows"
   ]
  },
  {
   "cell_type": "markdown",
   "metadata": {},
   "source": [
    "data(data set name)"
   ]
  },
  {
   "cell_type": "code",
   "execution_count": 737,
   "metadata": {},
   "outputs": [],
   "source": [
    "data(co2)"
   ]
  },
  {
   "cell_type": "code",
   "execution_count": 738,
   "metadata": {},
   "outputs": [
    {
     "data": {
      "text/html": [
       "<table>\n",
       "<caption>A Time Series: 39 × 12</caption>\n",
       "<thead>\n",
       "\t<tr><th></th><th scope=col>Jan</th><th scope=col>Feb</th><th scope=col>Mar</th><th scope=col>Apr</th><th scope=col>May</th><th scope=col>Jun</th><th scope=col>Jul</th><th scope=col>Aug</th><th scope=col>Sep</th><th scope=col>Oct</th><th scope=col>Nov</th><th scope=col>Dec</th></tr>\n",
       "</thead>\n",
       "<tbody>\n",
       "\t<tr><th scope=row>1959</th><td>315.42</td><td>316.31</td><td>316.50</td><td>317.56</td><td>318.13</td><td>318.00</td><td>316.39</td><td>314.65</td><td>313.68</td><td>313.18</td><td>314.66</td><td>315.43</td></tr>\n",
       "\t<tr><th scope=row>1960</th><td>316.27</td><td>316.81</td><td>317.42</td><td>318.87</td><td>319.87</td><td>319.43</td><td>318.01</td><td>315.74</td><td>314.00</td><td>313.68</td><td>314.84</td><td>316.03</td></tr>\n",
       "\t<tr><th scope=row>1961</th><td>316.73</td><td>317.54</td><td>318.38</td><td>319.31</td><td>320.42</td><td>319.61</td><td>318.42</td><td>316.63</td><td>314.83</td><td>315.16</td><td>315.94</td><td>316.85</td></tr>\n",
       "\t<tr><th scope=row>1962</th><td>317.78</td><td>318.40</td><td>319.53</td><td>320.42</td><td>320.85</td><td>320.45</td><td>319.45</td><td>317.25</td><td>316.11</td><td>315.27</td><td>316.53</td><td>317.53</td></tr>\n",
       "\t<tr><th scope=row>1963</th><td>318.58</td><td>318.92</td><td>319.70</td><td>321.22</td><td>322.08</td><td>321.31</td><td>319.58</td><td>317.61</td><td>316.05</td><td>315.83</td><td>316.91</td><td>318.20</td></tr>\n",
       "\t<tr><th scope=row>1964</th><td>319.41</td><td>320.07</td><td>320.74</td><td>321.40</td><td>322.06</td><td>321.73</td><td>320.27</td><td>318.54</td><td>316.54</td><td>316.71</td><td>317.53</td><td>318.55</td></tr>\n",
       "\t<tr><th scope=row>1965</th><td>319.27</td><td>320.28</td><td>320.73</td><td>321.97</td><td>322.00</td><td>321.71</td><td>321.05</td><td>318.71</td><td>317.66</td><td>317.14</td><td>318.70</td><td>319.25</td></tr>\n",
       "\t<tr><th scope=row>1966</th><td>320.46</td><td>321.43</td><td>322.23</td><td>323.54</td><td>323.91</td><td>323.59</td><td>322.24</td><td>320.20</td><td>318.48</td><td>317.94</td><td>319.63</td><td>320.87</td></tr>\n",
       "\t<tr><th scope=row>1967</th><td>322.17</td><td>322.34</td><td>322.88</td><td>324.25</td><td>324.83</td><td>323.93</td><td>322.38</td><td>320.76</td><td>319.10</td><td>319.24</td><td>320.56</td><td>321.80</td></tr>\n",
       "\t<tr><th scope=row>1968</th><td>322.40</td><td>322.99</td><td>323.73</td><td>324.86</td><td>325.40</td><td>325.20</td><td>323.98</td><td>321.95</td><td>320.18</td><td>320.09</td><td>321.16</td><td>322.74</td></tr>\n",
       "\t<tr><th scope=row>1969</th><td>323.83</td><td>324.26</td><td>325.47</td><td>326.50</td><td>327.21</td><td>326.54</td><td>325.72</td><td>323.50</td><td>322.22</td><td>321.62</td><td>322.69</td><td>323.95</td></tr>\n",
       "\t<tr><th scope=row>1970</th><td>324.89</td><td>325.82</td><td>326.77</td><td>327.97</td><td>327.91</td><td>327.50</td><td>326.18</td><td>324.53</td><td>322.93</td><td>322.90</td><td>323.85</td><td>324.96</td></tr>\n",
       "\t<tr><th scope=row>1971</th><td>326.01</td><td>326.51</td><td>327.01</td><td>327.62</td><td>328.76</td><td>328.40</td><td>327.20</td><td>325.27</td><td>323.20</td><td>323.40</td><td>324.63</td><td>325.85</td></tr>\n",
       "\t<tr><th scope=row>1972</th><td>326.60</td><td>327.47</td><td>327.58</td><td>329.56</td><td>329.90</td><td>328.92</td><td>327.88</td><td>326.16</td><td>324.68</td><td>325.04</td><td>326.34</td><td>327.39</td></tr>\n",
       "\t<tr><th scope=row>1973</th><td>328.37</td><td>329.40</td><td>330.14</td><td>331.33</td><td>332.31</td><td>331.90</td><td>330.70</td><td>329.15</td><td>327.35</td><td>327.02</td><td>327.99</td><td>328.48</td></tr>\n",
       "\t<tr><th scope=row>1974</th><td>329.18</td><td>330.55</td><td>331.32</td><td>332.48</td><td>332.92</td><td>332.08</td><td>331.01</td><td>329.23</td><td>327.27</td><td>327.21</td><td>328.29</td><td>329.41</td></tr>\n",
       "\t<tr><th scope=row>1975</th><td>330.23</td><td>331.25</td><td>331.87</td><td>333.14</td><td>333.80</td><td>333.43</td><td>331.73</td><td>329.90</td><td>328.40</td><td>328.17</td><td>329.32</td><td>330.59</td></tr>\n",
       "\t<tr><th scope=row>1976</th><td>331.58</td><td>332.39</td><td>333.33</td><td>334.41</td><td>334.71</td><td>334.17</td><td>332.89</td><td>330.77</td><td>329.14</td><td>328.78</td><td>330.14</td><td>331.52</td></tr>\n",
       "\t<tr><th scope=row>1977</th><td>332.75</td><td>333.24</td><td>334.53</td><td>335.90</td><td>336.57</td><td>336.10</td><td>334.76</td><td>332.59</td><td>331.42</td><td>330.98</td><td>332.24</td><td>333.68</td></tr>\n",
       "\t<tr><th scope=row>1978</th><td>334.80</td><td>335.22</td><td>336.47</td><td>337.59</td><td>337.84</td><td>337.72</td><td>336.37</td><td>334.51</td><td>332.60</td><td>332.38</td><td>333.75</td><td>334.78</td></tr>\n",
       "\t<tr><th scope=row>1979</th><td>336.05</td><td>336.59</td><td>337.79</td><td>338.71</td><td>339.30</td><td>339.12</td><td>337.56</td><td>335.92</td><td>333.75</td><td>333.70</td><td>335.12</td><td>336.56</td></tr>\n",
       "\t<tr><th scope=row>1980</th><td>337.84</td><td>338.19</td><td>339.91</td><td>340.60</td><td>341.29</td><td>341.00</td><td>339.39</td><td>337.43</td><td>335.72</td><td>335.84</td><td>336.93</td><td>338.04</td></tr>\n",
       "\t<tr><th scope=row>1981</th><td>339.06</td><td>340.30</td><td>341.21</td><td>342.33</td><td>342.74</td><td>342.08</td><td>340.32</td><td>338.26</td><td>336.52</td><td>336.68</td><td>338.19</td><td>339.44</td></tr>\n",
       "\t<tr><th scope=row>1982</th><td>340.57</td><td>341.44</td><td>342.53</td><td>343.39</td><td>343.96</td><td>343.18</td><td>341.88</td><td>339.65</td><td>337.81</td><td>337.69</td><td>339.09</td><td>340.32</td></tr>\n",
       "\t<tr><th scope=row>1983</th><td>341.20</td><td>342.35</td><td>342.93</td><td>344.77</td><td>345.58</td><td>345.14</td><td>343.81</td><td>342.21</td><td>339.69</td><td>339.82</td><td>340.98</td><td>342.82</td></tr>\n",
       "\t<tr><th scope=row>1984</th><td>343.52</td><td>344.33</td><td>345.11</td><td>346.88</td><td>347.25</td><td>346.62</td><td>345.22</td><td>343.11</td><td>340.90</td><td>341.18</td><td>342.80</td><td>344.04</td></tr>\n",
       "\t<tr><th scope=row>1985</th><td>344.79</td><td>345.82</td><td>347.25</td><td>348.17</td><td>348.74</td><td>348.07</td><td>346.38</td><td>344.51</td><td>342.92</td><td>342.62</td><td>344.06</td><td>345.38</td></tr>\n",
       "\t<tr><th scope=row>1986</th><td>346.11</td><td>346.78</td><td>347.68</td><td>349.37</td><td>350.03</td><td>349.37</td><td>347.76</td><td>345.73</td><td>344.68</td><td>343.99</td><td>345.48</td><td>346.72</td></tr>\n",
       "\t<tr><th scope=row>1987</th><td>347.84</td><td>348.29</td><td>349.23</td><td>350.80</td><td>351.66</td><td>351.07</td><td>349.33</td><td>347.92</td><td>346.27</td><td>346.18</td><td>347.64</td><td>348.78</td></tr>\n",
       "\t<tr><th scope=row>1988</th><td>350.25</td><td>351.54</td><td>352.05</td><td>353.41</td><td>354.04</td><td>353.62</td><td>352.22</td><td>350.27</td><td>348.55</td><td>348.72</td><td>349.91</td><td>351.18</td></tr>\n",
       "\t<tr><th scope=row>1989</th><td>352.60</td><td>352.92</td><td>353.53</td><td>355.26</td><td>355.52</td><td>354.97</td><td>353.75</td><td>351.52</td><td>349.64</td><td>349.83</td><td>351.14</td><td>352.37</td></tr>\n",
       "\t<tr><th scope=row>1990</th><td>353.50</td><td>354.55</td><td>355.23</td><td>356.04</td><td>357.00</td><td>356.07</td><td>354.67</td><td>352.76</td><td>350.82</td><td>351.04</td><td>352.69</td><td>354.07</td></tr>\n",
       "\t<tr><th scope=row>1991</th><td>354.59</td><td>355.63</td><td>357.03</td><td>358.48</td><td>359.22</td><td>358.12</td><td>356.06</td><td>353.92</td><td>352.05</td><td>352.11</td><td>353.64</td><td>354.89</td></tr>\n",
       "\t<tr><th scope=row>1992</th><td>355.88</td><td>356.63</td><td>357.72</td><td>359.07</td><td>359.58</td><td>359.17</td><td>356.94</td><td>354.92</td><td>352.94</td><td>353.23</td><td>354.09</td><td>355.33</td></tr>\n",
       "\t<tr><th scope=row>1993</th><td>356.63</td><td>357.10</td><td>358.32</td><td>359.41</td><td>360.23</td><td>359.55</td><td>357.53</td><td>355.48</td><td>353.67</td><td>353.95</td><td>355.30</td><td>356.78</td></tr>\n",
       "\t<tr><th scope=row>1994</th><td>358.34</td><td>358.89</td><td>359.95</td><td>361.25</td><td>361.67</td><td>360.94</td><td>359.55</td><td>357.49</td><td>355.84</td><td>356.00</td><td>357.59</td><td>359.05</td></tr>\n",
       "\t<tr><th scope=row>1995</th><td>359.98</td><td>361.03</td><td>361.66</td><td>363.48</td><td>363.82</td><td>363.30</td><td>361.94</td><td>359.50</td><td>358.11</td><td>357.80</td><td>359.61</td><td>360.74</td></tr>\n",
       "\t<tr><th scope=row>1996</th><td>362.09</td><td>363.29</td><td>364.06</td><td>364.76</td><td>365.45</td><td>365.01</td><td>363.70</td><td>361.54</td><td>359.51</td><td>359.65</td><td>360.80</td><td>362.38</td></tr>\n",
       "\t<tr><th scope=row>1997</th><td>363.23</td><td>364.06</td><td>364.61</td><td>366.40</td><td>366.84</td><td>365.68</td><td>364.52</td><td>362.57</td><td>360.24</td><td>360.83</td><td>362.49</td><td>364.34</td></tr>\n",
       "</tbody>\n",
       "</table>\n"
      ],
      "text/latex": [
       "A Time Series: 39 × 12\n",
       "\\begin{tabular}{r|llllllllllll}\n",
       "  & Jan & Feb & Mar & Apr & May & Jun & Jul & Aug & Sep & Oct & Nov & Dec\\\\\n",
       "\\hline\n",
       "\t1959 & 315.42 & 316.31 & 316.50 & 317.56 & 318.13 & 318.00 & 316.39 & 314.65 & 313.68 & 313.18 & 314.66 & 315.43\\\\\n",
       "\t1960 & 316.27 & 316.81 & 317.42 & 318.87 & 319.87 & 319.43 & 318.01 & 315.74 & 314.00 & 313.68 & 314.84 & 316.03\\\\\n",
       "\t1961 & 316.73 & 317.54 & 318.38 & 319.31 & 320.42 & 319.61 & 318.42 & 316.63 & 314.83 & 315.16 & 315.94 & 316.85\\\\\n",
       "\t1962 & 317.78 & 318.40 & 319.53 & 320.42 & 320.85 & 320.45 & 319.45 & 317.25 & 316.11 & 315.27 & 316.53 & 317.53\\\\\n",
       "\t1963 & 318.58 & 318.92 & 319.70 & 321.22 & 322.08 & 321.31 & 319.58 & 317.61 & 316.05 & 315.83 & 316.91 & 318.20\\\\\n",
       "\t1964 & 319.41 & 320.07 & 320.74 & 321.40 & 322.06 & 321.73 & 320.27 & 318.54 & 316.54 & 316.71 & 317.53 & 318.55\\\\\n",
       "\t1965 & 319.27 & 320.28 & 320.73 & 321.97 & 322.00 & 321.71 & 321.05 & 318.71 & 317.66 & 317.14 & 318.70 & 319.25\\\\\n",
       "\t1966 & 320.46 & 321.43 & 322.23 & 323.54 & 323.91 & 323.59 & 322.24 & 320.20 & 318.48 & 317.94 & 319.63 & 320.87\\\\\n",
       "\t1967 & 322.17 & 322.34 & 322.88 & 324.25 & 324.83 & 323.93 & 322.38 & 320.76 & 319.10 & 319.24 & 320.56 & 321.80\\\\\n",
       "\t1968 & 322.40 & 322.99 & 323.73 & 324.86 & 325.40 & 325.20 & 323.98 & 321.95 & 320.18 & 320.09 & 321.16 & 322.74\\\\\n",
       "\t1969 & 323.83 & 324.26 & 325.47 & 326.50 & 327.21 & 326.54 & 325.72 & 323.50 & 322.22 & 321.62 & 322.69 & 323.95\\\\\n",
       "\t1970 & 324.89 & 325.82 & 326.77 & 327.97 & 327.91 & 327.50 & 326.18 & 324.53 & 322.93 & 322.90 & 323.85 & 324.96\\\\\n",
       "\t1971 & 326.01 & 326.51 & 327.01 & 327.62 & 328.76 & 328.40 & 327.20 & 325.27 & 323.20 & 323.40 & 324.63 & 325.85\\\\\n",
       "\t1972 & 326.60 & 327.47 & 327.58 & 329.56 & 329.90 & 328.92 & 327.88 & 326.16 & 324.68 & 325.04 & 326.34 & 327.39\\\\\n",
       "\t1973 & 328.37 & 329.40 & 330.14 & 331.33 & 332.31 & 331.90 & 330.70 & 329.15 & 327.35 & 327.02 & 327.99 & 328.48\\\\\n",
       "\t1974 & 329.18 & 330.55 & 331.32 & 332.48 & 332.92 & 332.08 & 331.01 & 329.23 & 327.27 & 327.21 & 328.29 & 329.41\\\\\n",
       "\t1975 & 330.23 & 331.25 & 331.87 & 333.14 & 333.80 & 333.43 & 331.73 & 329.90 & 328.40 & 328.17 & 329.32 & 330.59\\\\\n",
       "\t1976 & 331.58 & 332.39 & 333.33 & 334.41 & 334.71 & 334.17 & 332.89 & 330.77 & 329.14 & 328.78 & 330.14 & 331.52\\\\\n",
       "\t1977 & 332.75 & 333.24 & 334.53 & 335.90 & 336.57 & 336.10 & 334.76 & 332.59 & 331.42 & 330.98 & 332.24 & 333.68\\\\\n",
       "\t1978 & 334.80 & 335.22 & 336.47 & 337.59 & 337.84 & 337.72 & 336.37 & 334.51 & 332.60 & 332.38 & 333.75 & 334.78\\\\\n",
       "\t1979 & 336.05 & 336.59 & 337.79 & 338.71 & 339.30 & 339.12 & 337.56 & 335.92 & 333.75 & 333.70 & 335.12 & 336.56\\\\\n",
       "\t1980 & 337.84 & 338.19 & 339.91 & 340.60 & 341.29 & 341.00 & 339.39 & 337.43 & 335.72 & 335.84 & 336.93 & 338.04\\\\\n",
       "\t1981 & 339.06 & 340.30 & 341.21 & 342.33 & 342.74 & 342.08 & 340.32 & 338.26 & 336.52 & 336.68 & 338.19 & 339.44\\\\\n",
       "\t1982 & 340.57 & 341.44 & 342.53 & 343.39 & 343.96 & 343.18 & 341.88 & 339.65 & 337.81 & 337.69 & 339.09 & 340.32\\\\\n",
       "\t1983 & 341.20 & 342.35 & 342.93 & 344.77 & 345.58 & 345.14 & 343.81 & 342.21 & 339.69 & 339.82 & 340.98 & 342.82\\\\\n",
       "\t1984 & 343.52 & 344.33 & 345.11 & 346.88 & 347.25 & 346.62 & 345.22 & 343.11 & 340.90 & 341.18 & 342.80 & 344.04\\\\\n",
       "\t1985 & 344.79 & 345.82 & 347.25 & 348.17 & 348.74 & 348.07 & 346.38 & 344.51 & 342.92 & 342.62 & 344.06 & 345.38\\\\\n",
       "\t1986 & 346.11 & 346.78 & 347.68 & 349.37 & 350.03 & 349.37 & 347.76 & 345.73 & 344.68 & 343.99 & 345.48 & 346.72\\\\\n",
       "\t1987 & 347.84 & 348.29 & 349.23 & 350.80 & 351.66 & 351.07 & 349.33 & 347.92 & 346.27 & 346.18 & 347.64 & 348.78\\\\\n",
       "\t1988 & 350.25 & 351.54 & 352.05 & 353.41 & 354.04 & 353.62 & 352.22 & 350.27 & 348.55 & 348.72 & 349.91 & 351.18\\\\\n",
       "\t1989 & 352.60 & 352.92 & 353.53 & 355.26 & 355.52 & 354.97 & 353.75 & 351.52 & 349.64 & 349.83 & 351.14 & 352.37\\\\\n",
       "\t1990 & 353.50 & 354.55 & 355.23 & 356.04 & 357.00 & 356.07 & 354.67 & 352.76 & 350.82 & 351.04 & 352.69 & 354.07\\\\\n",
       "\t1991 & 354.59 & 355.63 & 357.03 & 358.48 & 359.22 & 358.12 & 356.06 & 353.92 & 352.05 & 352.11 & 353.64 & 354.89\\\\\n",
       "\t1992 & 355.88 & 356.63 & 357.72 & 359.07 & 359.58 & 359.17 & 356.94 & 354.92 & 352.94 & 353.23 & 354.09 & 355.33\\\\\n",
       "\t1993 & 356.63 & 357.10 & 358.32 & 359.41 & 360.23 & 359.55 & 357.53 & 355.48 & 353.67 & 353.95 & 355.30 & 356.78\\\\\n",
       "\t1994 & 358.34 & 358.89 & 359.95 & 361.25 & 361.67 & 360.94 & 359.55 & 357.49 & 355.84 & 356.00 & 357.59 & 359.05\\\\\n",
       "\t1995 & 359.98 & 361.03 & 361.66 & 363.48 & 363.82 & 363.30 & 361.94 & 359.50 & 358.11 & 357.80 & 359.61 & 360.74\\\\\n",
       "\t1996 & 362.09 & 363.29 & 364.06 & 364.76 & 365.45 & 365.01 & 363.70 & 361.54 & 359.51 & 359.65 & 360.80 & 362.38\\\\\n",
       "\t1997 & 363.23 & 364.06 & 364.61 & 366.40 & 366.84 & 365.68 & 364.52 & 362.57 & 360.24 & 360.83 & 362.49 & 364.34\\\\\n",
       "\\end{tabular}\n"
      ],
      "text/markdown": [
       "\n",
       "A Time Series: 39 × 12\n",
       "\n",
       "| <!--/--> | Jan | Feb | Mar | Apr | May | Jun | Jul | Aug | Sep | Oct | Nov | Dec |\n",
       "|---|---|---|---|---|---|---|---|---|---|---|---|---|\n",
       "| 1959 | 315.42 | 316.31 | 316.50 | 317.56 | 318.13 | 318.00 | 316.39 | 314.65 | 313.68 | 313.18 | 314.66 | 315.43 |\n",
       "| 1960 | 316.27 | 316.81 | 317.42 | 318.87 | 319.87 | 319.43 | 318.01 | 315.74 | 314.00 | 313.68 | 314.84 | 316.03 |\n",
       "| 1961 | 316.73 | 317.54 | 318.38 | 319.31 | 320.42 | 319.61 | 318.42 | 316.63 | 314.83 | 315.16 | 315.94 | 316.85 |\n",
       "| 1962 | 317.78 | 318.40 | 319.53 | 320.42 | 320.85 | 320.45 | 319.45 | 317.25 | 316.11 | 315.27 | 316.53 | 317.53 |\n",
       "| 1963 | 318.58 | 318.92 | 319.70 | 321.22 | 322.08 | 321.31 | 319.58 | 317.61 | 316.05 | 315.83 | 316.91 | 318.20 |\n",
       "| 1964 | 319.41 | 320.07 | 320.74 | 321.40 | 322.06 | 321.73 | 320.27 | 318.54 | 316.54 | 316.71 | 317.53 | 318.55 |\n",
       "| 1965 | 319.27 | 320.28 | 320.73 | 321.97 | 322.00 | 321.71 | 321.05 | 318.71 | 317.66 | 317.14 | 318.70 | 319.25 |\n",
       "| 1966 | 320.46 | 321.43 | 322.23 | 323.54 | 323.91 | 323.59 | 322.24 | 320.20 | 318.48 | 317.94 | 319.63 | 320.87 |\n",
       "| 1967 | 322.17 | 322.34 | 322.88 | 324.25 | 324.83 | 323.93 | 322.38 | 320.76 | 319.10 | 319.24 | 320.56 | 321.80 |\n",
       "| 1968 | 322.40 | 322.99 | 323.73 | 324.86 | 325.40 | 325.20 | 323.98 | 321.95 | 320.18 | 320.09 | 321.16 | 322.74 |\n",
       "| 1969 | 323.83 | 324.26 | 325.47 | 326.50 | 327.21 | 326.54 | 325.72 | 323.50 | 322.22 | 321.62 | 322.69 | 323.95 |\n",
       "| 1970 | 324.89 | 325.82 | 326.77 | 327.97 | 327.91 | 327.50 | 326.18 | 324.53 | 322.93 | 322.90 | 323.85 | 324.96 |\n",
       "| 1971 | 326.01 | 326.51 | 327.01 | 327.62 | 328.76 | 328.40 | 327.20 | 325.27 | 323.20 | 323.40 | 324.63 | 325.85 |\n",
       "| 1972 | 326.60 | 327.47 | 327.58 | 329.56 | 329.90 | 328.92 | 327.88 | 326.16 | 324.68 | 325.04 | 326.34 | 327.39 |\n",
       "| 1973 | 328.37 | 329.40 | 330.14 | 331.33 | 332.31 | 331.90 | 330.70 | 329.15 | 327.35 | 327.02 | 327.99 | 328.48 |\n",
       "| 1974 | 329.18 | 330.55 | 331.32 | 332.48 | 332.92 | 332.08 | 331.01 | 329.23 | 327.27 | 327.21 | 328.29 | 329.41 |\n",
       "| 1975 | 330.23 | 331.25 | 331.87 | 333.14 | 333.80 | 333.43 | 331.73 | 329.90 | 328.40 | 328.17 | 329.32 | 330.59 |\n",
       "| 1976 | 331.58 | 332.39 | 333.33 | 334.41 | 334.71 | 334.17 | 332.89 | 330.77 | 329.14 | 328.78 | 330.14 | 331.52 |\n",
       "| 1977 | 332.75 | 333.24 | 334.53 | 335.90 | 336.57 | 336.10 | 334.76 | 332.59 | 331.42 | 330.98 | 332.24 | 333.68 |\n",
       "| 1978 | 334.80 | 335.22 | 336.47 | 337.59 | 337.84 | 337.72 | 336.37 | 334.51 | 332.60 | 332.38 | 333.75 | 334.78 |\n",
       "| 1979 | 336.05 | 336.59 | 337.79 | 338.71 | 339.30 | 339.12 | 337.56 | 335.92 | 333.75 | 333.70 | 335.12 | 336.56 |\n",
       "| 1980 | 337.84 | 338.19 | 339.91 | 340.60 | 341.29 | 341.00 | 339.39 | 337.43 | 335.72 | 335.84 | 336.93 | 338.04 |\n",
       "| 1981 | 339.06 | 340.30 | 341.21 | 342.33 | 342.74 | 342.08 | 340.32 | 338.26 | 336.52 | 336.68 | 338.19 | 339.44 |\n",
       "| 1982 | 340.57 | 341.44 | 342.53 | 343.39 | 343.96 | 343.18 | 341.88 | 339.65 | 337.81 | 337.69 | 339.09 | 340.32 |\n",
       "| 1983 | 341.20 | 342.35 | 342.93 | 344.77 | 345.58 | 345.14 | 343.81 | 342.21 | 339.69 | 339.82 | 340.98 | 342.82 |\n",
       "| 1984 | 343.52 | 344.33 | 345.11 | 346.88 | 347.25 | 346.62 | 345.22 | 343.11 | 340.90 | 341.18 | 342.80 | 344.04 |\n",
       "| 1985 | 344.79 | 345.82 | 347.25 | 348.17 | 348.74 | 348.07 | 346.38 | 344.51 | 342.92 | 342.62 | 344.06 | 345.38 |\n",
       "| 1986 | 346.11 | 346.78 | 347.68 | 349.37 | 350.03 | 349.37 | 347.76 | 345.73 | 344.68 | 343.99 | 345.48 | 346.72 |\n",
       "| 1987 | 347.84 | 348.29 | 349.23 | 350.80 | 351.66 | 351.07 | 349.33 | 347.92 | 346.27 | 346.18 | 347.64 | 348.78 |\n",
       "| 1988 | 350.25 | 351.54 | 352.05 | 353.41 | 354.04 | 353.62 | 352.22 | 350.27 | 348.55 | 348.72 | 349.91 | 351.18 |\n",
       "| 1989 | 352.60 | 352.92 | 353.53 | 355.26 | 355.52 | 354.97 | 353.75 | 351.52 | 349.64 | 349.83 | 351.14 | 352.37 |\n",
       "| 1990 | 353.50 | 354.55 | 355.23 | 356.04 | 357.00 | 356.07 | 354.67 | 352.76 | 350.82 | 351.04 | 352.69 | 354.07 |\n",
       "| 1991 | 354.59 | 355.63 | 357.03 | 358.48 | 359.22 | 358.12 | 356.06 | 353.92 | 352.05 | 352.11 | 353.64 | 354.89 |\n",
       "| 1992 | 355.88 | 356.63 | 357.72 | 359.07 | 359.58 | 359.17 | 356.94 | 354.92 | 352.94 | 353.23 | 354.09 | 355.33 |\n",
       "| 1993 | 356.63 | 357.10 | 358.32 | 359.41 | 360.23 | 359.55 | 357.53 | 355.48 | 353.67 | 353.95 | 355.30 | 356.78 |\n",
       "| 1994 | 358.34 | 358.89 | 359.95 | 361.25 | 361.67 | 360.94 | 359.55 | 357.49 | 355.84 | 356.00 | 357.59 | 359.05 |\n",
       "| 1995 | 359.98 | 361.03 | 361.66 | 363.48 | 363.82 | 363.30 | 361.94 | 359.50 | 358.11 | 357.80 | 359.61 | 360.74 |\n",
       "| 1996 | 362.09 | 363.29 | 364.06 | 364.76 | 365.45 | 365.01 | 363.70 | 361.54 | 359.51 | 359.65 | 360.80 | 362.38 |\n",
       "| 1997 | 363.23 | 364.06 | 364.61 | 366.40 | 366.84 | 365.68 | 364.52 | 362.57 | 360.24 | 360.83 | 362.49 | 364.34 |\n",
       "\n"
      ],
      "text/plain": [
       "     Jan    Feb    Mar    Apr    May    Jun    Jul    Aug    Sep    Oct   \n",
       "1959 315.42 316.31 316.50 317.56 318.13 318.00 316.39 314.65 313.68 313.18\n",
       "1960 316.27 316.81 317.42 318.87 319.87 319.43 318.01 315.74 314.00 313.68\n",
       "1961 316.73 317.54 318.38 319.31 320.42 319.61 318.42 316.63 314.83 315.16\n",
       "1962 317.78 318.40 319.53 320.42 320.85 320.45 319.45 317.25 316.11 315.27\n",
       "1963 318.58 318.92 319.70 321.22 322.08 321.31 319.58 317.61 316.05 315.83\n",
       "1964 319.41 320.07 320.74 321.40 322.06 321.73 320.27 318.54 316.54 316.71\n",
       "1965 319.27 320.28 320.73 321.97 322.00 321.71 321.05 318.71 317.66 317.14\n",
       "1966 320.46 321.43 322.23 323.54 323.91 323.59 322.24 320.20 318.48 317.94\n",
       "1967 322.17 322.34 322.88 324.25 324.83 323.93 322.38 320.76 319.10 319.24\n",
       "1968 322.40 322.99 323.73 324.86 325.40 325.20 323.98 321.95 320.18 320.09\n",
       "1969 323.83 324.26 325.47 326.50 327.21 326.54 325.72 323.50 322.22 321.62\n",
       "1970 324.89 325.82 326.77 327.97 327.91 327.50 326.18 324.53 322.93 322.90\n",
       "1971 326.01 326.51 327.01 327.62 328.76 328.40 327.20 325.27 323.20 323.40\n",
       "1972 326.60 327.47 327.58 329.56 329.90 328.92 327.88 326.16 324.68 325.04\n",
       "1973 328.37 329.40 330.14 331.33 332.31 331.90 330.70 329.15 327.35 327.02\n",
       "1974 329.18 330.55 331.32 332.48 332.92 332.08 331.01 329.23 327.27 327.21\n",
       "1975 330.23 331.25 331.87 333.14 333.80 333.43 331.73 329.90 328.40 328.17\n",
       "1976 331.58 332.39 333.33 334.41 334.71 334.17 332.89 330.77 329.14 328.78\n",
       "1977 332.75 333.24 334.53 335.90 336.57 336.10 334.76 332.59 331.42 330.98\n",
       "1978 334.80 335.22 336.47 337.59 337.84 337.72 336.37 334.51 332.60 332.38\n",
       "1979 336.05 336.59 337.79 338.71 339.30 339.12 337.56 335.92 333.75 333.70\n",
       "1980 337.84 338.19 339.91 340.60 341.29 341.00 339.39 337.43 335.72 335.84\n",
       "1981 339.06 340.30 341.21 342.33 342.74 342.08 340.32 338.26 336.52 336.68\n",
       "1982 340.57 341.44 342.53 343.39 343.96 343.18 341.88 339.65 337.81 337.69\n",
       "1983 341.20 342.35 342.93 344.77 345.58 345.14 343.81 342.21 339.69 339.82\n",
       "1984 343.52 344.33 345.11 346.88 347.25 346.62 345.22 343.11 340.90 341.18\n",
       "1985 344.79 345.82 347.25 348.17 348.74 348.07 346.38 344.51 342.92 342.62\n",
       "1986 346.11 346.78 347.68 349.37 350.03 349.37 347.76 345.73 344.68 343.99\n",
       "1987 347.84 348.29 349.23 350.80 351.66 351.07 349.33 347.92 346.27 346.18\n",
       "1988 350.25 351.54 352.05 353.41 354.04 353.62 352.22 350.27 348.55 348.72\n",
       "1989 352.60 352.92 353.53 355.26 355.52 354.97 353.75 351.52 349.64 349.83\n",
       "1990 353.50 354.55 355.23 356.04 357.00 356.07 354.67 352.76 350.82 351.04\n",
       "1991 354.59 355.63 357.03 358.48 359.22 358.12 356.06 353.92 352.05 352.11\n",
       "1992 355.88 356.63 357.72 359.07 359.58 359.17 356.94 354.92 352.94 353.23\n",
       "1993 356.63 357.10 358.32 359.41 360.23 359.55 357.53 355.48 353.67 353.95\n",
       "1994 358.34 358.89 359.95 361.25 361.67 360.94 359.55 357.49 355.84 356.00\n",
       "1995 359.98 361.03 361.66 363.48 363.82 363.30 361.94 359.50 358.11 357.80\n",
       "1996 362.09 363.29 364.06 364.76 365.45 365.01 363.70 361.54 359.51 359.65\n",
       "1997 363.23 364.06 364.61 366.40 366.84 365.68 364.52 362.57 360.24 360.83\n",
       "     Nov    Dec   \n",
       "1959 314.66 315.43\n",
       "1960 314.84 316.03\n",
       "1961 315.94 316.85\n",
       "1962 316.53 317.53\n",
       "1963 316.91 318.20\n",
       "1964 317.53 318.55\n",
       "1965 318.70 319.25\n",
       "1966 319.63 320.87\n",
       "1967 320.56 321.80\n",
       "1968 321.16 322.74\n",
       "1969 322.69 323.95\n",
       "1970 323.85 324.96\n",
       "1971 324.63 325.85\n",
       "1972 326.34 327.39\n",
       "1973 327.99 328.48\n",
       "1974 328.29 329.41\n",
       "1975 329.32 330.59\n",
       "1976 330.14 331.52\n",
       "1977 332.24 333.68\n",
       "1978 333.75 334.78\n",
       "1979 335.12 336.56\n",
       "1980 336.93 338.04\n",
       "1981 338.19 339.44\n",
       "1982 339.09 340.32\n",
       "1983 340.98 342.82\n",
       "1984 342.80 344.04\n",
       "1985 344.06 345.38\n",
       "1986 345.48 346.72\n",
       "1987 347.64 348.78\n",
       "1988 349.91 351.18\n",
       "1989 351.14 352.37\n",
       "1990 352.69 354.07\n",
       "1991 353.64 354.89\n",
       "1992 354.09 355.33\n",
       "1993 355.30 356.78\n",
       "1994 357.59 359.05\n",
       "1995 359.61 360.74\n",
       "1996 360.80 362.38\n",
       "1997 362.49 364.34"
      ]
     },
     "metadata": {},
     "output_type": "display_data"
    }
   ],
   "source": [
    "co2 # displays data set co2"
   ]
  },
  {
   "cell_type": "markdown",
   "metadata": {},
   "source": [
    "**Note:** Data frame can also be created using in-built data editor edit similar to MS-Excel."
   ]
  },
  {
   "cell_type": "code",
   "execution_count": 739,
   "metadata": {},
   "outputs": [],
   "source": [
    "# stud <- edit(data.frame()) #this command displays in-built spread sheet."
   ]
  },
  {
   "cell_type": "code",
   "execution_count": 742,
   "metadata": {},
   "outputs": [],
   "source": [
    "# stud"
   ]
  },
  {
   "cell_type": "code",
   "execution_count": 743,
   "metadata": {},
   "outputs": [
    {
     "ename": "ERROR",
     "evalue": "Error in names(stud) <- c(\"Standard\", \"Marks\"): object 'stud' not found\n",
     "output_type": "error",
     "traceback": [
      "Error in names(stud) <- c(\"Standard\", \"Marks\"): object 'stud' not found\nTraceback:\n"
     ]
    }
   ],
   "source": [
    "names(stud) <- c(\"Standard\",\"Marks\")"
   ]
  },
  {
   "cell_type": "markdown",
   "metadata": {},
   "source": [
    "### Matrix Operation\n",
    "To form a matrix you can use following syntax.\n",
    "matrix(data =, nrow =, ncol= ,byrow=\"FALSE\").\n",
    "\n",
    "data:\n",
    "- Actual data may be written in any of the variable or values by using function c().\n",
    "\n",
    "nrow:\n",
    "\n",
    "- Number of rows of a matrix\n",
    "\n",
    "ncol:\n",
    "\n",
    "- Number of columns of a matrix\n",
    "\n",
    "byrow:\n",
    "\n",
    "- It specifies whether matrix values are filled row wise or column wise. FALSE is by default i.e. column wise. If you want row wise then use TRUE.\n",
    "\n",
    "For example,"
   ]
  },
  {
   "cell_type": "code",
   "execution_count": 744,
   "metadata": {},
   "outputs": [],
   "source": [
    "a <- c(1,2,3,4,5,6,7,8,9,10,11,12)"
   ]
  },
  {
   "cell_type": "code",
   "execution_count": 745,
   "metadata": {},
   "outputs": [
    {
     "data": {
      "text/html": [
       "<table>\n",
       "<caption>A matrix: 3 × 4 of type dbl</caption>\n",
       "<tbody>\n",
       "\t<tr><td>1</td><td> 2</td><td> 3</td><td> 4</td></tr>\n",
       "\t<tr><td>5</td><td> 6</td><td> 7</td><td> 8</td></tr>\n",
       "\t<tr><td>9</td><td>10</td><td>11</td><td>12</td></tr>\n",
       "</tbody>\n",
       "</table>\n"
      ],
      "text/latex": [
       "A matrix: 3 × 4 of type dbl\n",
       "\\begin{tabular}{llll}\n",
       "\t 1 &  2 &  3 &  4\\\\\n",
       "\t 5 &  6 &  7 &  8\\\\\n",
       "\t 9 & 10 & 11 & 12\\\\\n",
       "\\end{tabular}\n"
      ],
      "text/markdown": [
       "\n",
       "A matrix: 3 × 4 of type dbl\n",
       "\n",
       "| 1 |  2 |  3 |  4 |\n",
       "| 5 |  6 |  7 |  8 |\n",
       "| 9 | 10 | 11 | 12 |\n",
       "\n"
      ],
      "text/plain": [
       "     [,1] [,2] [,3] [,4]\n",
       "[1,] 1     2    3    4  \n",
       "[2,] 5     6    7    8  \n",
       "[3,] 9    10   11   12  "
      ]
     },
     "metadata": {},
     "output_type": "display_data"
    }
   ],
   "source": [
    "A <- matrix(data=a, nrow=3, ncol=4, byrow=\"TRUE\")\n",
    "A"
   ]
  },
  {
   "cell_type": "markdown",
   "metadata": {},
   "source": [
    "Specific values in a vector or in a matrix are referenced using square brackets ([ ]). For example,"
   ]
  },
  {
   "cell_type": "code",
   "execution_count": 746,
   "metadata": {},
   "outputs": [
    {
     "data": {
      "text/html": [
       "8"
      ],
      "text/latex": [
       "8"
      ],
      "text/markdown": [
       "8"
      ],
      "text/plain": [
       "[1] 8"
      ]
     },
     "metadata": {},
     "output_type": "display_data"
    }
   ],
   "source": [
    "A[2,4]"
   ]
  },
  {
   "cell_type": "code",
   "execution_count": 747,
   "metadata": {},
   "outputs": [
    {
     "data": {
      "text/html": [
       "<style>\n",
       ".list-inline {list-style: none; margin:0; padding: 0}\n",
       ".list-inline>li {display: inline-block}\n",
       ".list-inline>li:not(:last-child)::after {content: \"\\00b7\"; padding: 0 .5ex}\n",
       "</style>\n",
       "<ol class=list-inline><li>9</li><li>10</li><li>11</li><li>12</li></ol>\n"
      ],
      "text/latex": [
       "\\begin{enumerate*}\n",
       "\\item 9\n",
       "\\item 10\n",
       "\\item 11\n",
       "\\item 12\n",
       "\\end{enumerate*}\n"
      ],
      "text/markdown": [
       "1. 9\n",
       "2. 10\n",
       "3. 11\n",
       "4. 12\n",
       "\n",
       "\n"
      ],
      "text/plain": [
       "[1]  9 10 11 12"
      ]
     },
     "metadata": {},
     "output_type": "display_data"
    }
   ],
   "source": [
    "A[3,]"
   ]
  },
  {
   "cell_type": "code",
   "execution_count": 748,
   "metadata": {},
   "outputs": [
    {
     "data": {
      "text/html": [
       "<style>\n",
       ".list-inline {list-style: none; margin:0; padding: 0}\n",
       ".list-inline>li {display: inline-block}\n",
       ".list-inline>li:not(:last-child)::after {content: \"\\00b7\"; padding: 0 .5ex}\n",
       "</style>\n",
       "<ol class=list-inline><li>5</li><li>9</li></ol>\n"
      ],
      "text/latex": [
       "\\begin{enumerate*}\n",
       "\\item 5\n",
       "\\item 9\n",
       "\\end{enumerate*}\n"
      ],
      "text/markdown": [
       "1. 5\n",
       "2. 9\n",
       "\n",
       "\n"
      ],
      "text/plain": [
       "[1] 5 9"
      ]
     },
     "metadata": {},
     "output_type": "display_data"
    }
   ],
   "source": [
    "A[c(2,3),1]"
   ]
  },
  {
   "cell_type": "markdown",
   "metadata": {},
   "source": [
    "#### Matrix operators are provided in the Table"
   ]
  },
  {
   "cell_type": "markdown",
   "metadata": {},
   "source": [
    "| Operation or Function | Description |\n",
    "| A * B | A %*% B Element-wise multiplication\n",
    "Matrix multiplication\n",
    "t(A) Transpose\n",
    "diag(x) Creates diagonal matrix with elements of x in the principal diagonal\n",
    "diag(A) Returns a vector containing the elements of the principal diagonal\n",
    "diag(k) If k is a scalar, this creates a k x k identity matrix.\n",
    "solve(A,b) Returns vector x in the equation b = Ax\n",
    "solve(A) Inverse of A where A is a square matrix.\n",
    "cbind(A,B,...) Combine matrices(vectors) horizontally. Returns a matrix.\n",
    "rbind(A,B,...) Combine matrices(vectors) vertically. Returns a matrix."
   ]
  },
  {
   "cell_type": "markdown",
   "metadata": {},
   "source": [
    "Some commonly used Built-in functions:"
   ]
  },
  {
   "cell_type": "code",
   "execution_count": 749,
   "metadata": {},
   "outputs": [
    {
     "data": {
      "text/html": [
       "<style>\n",
       ".list-inline {list-style: none; margin:0; padding: 0}\n",
       ".list-inline>li {display: inline-block}\n",
       ".list-inline>li:not(:last-child)::after {content: \"\\00b7\"; padding: 0 .5ex}\n",
       "</style>\n",
       "<ol class=list-inline><li>-6</li><li>9</li><li>0</li><li>-3</li><li>8</li><li>2</li><li>-5</li><li>4</li></ol>\n"
      ],
      "text/latex": [
       "\\begin{enumerate*}\n",
       "\\item -6\n",
       "\\item 9\n",
       "\\item 0\n",
       "\\item -3\n",
       "\\item 8\n",
       "\\item 2\n",
       "\\item -5\n",
       "\\item 4\n",
       "\\end{enumerate*}\n"
      ],
      "text/markdown": [
       "1. -6\n",
       "2. 9\n",
       "3. 0\n",
       "4. -3\n",
       "5. 8\n",
       "6. 2\n",
       "7. -5\n",
       "8. 4\n",
       "\n",
       "\n"
      ],
      "text/plain": [
       "[1] -6  9  0 -3  8  2 -5  4"
      ]
     },
     "metadata": {},
     "output_type": "display_data"
    }
   ],
   "source": [
    "x <- c(-6,9,0,-3,8,2,-5,4)\n",
    "x"
   ]
  },
  {
   "cell_type": "code",
   "execution_count": 750,
   "metadata": {},
   "outputs": [
    {
     "data": {
      "text/html": [
       "8"
      ],
      "text/latex": [
       "8"
      ],
      "text/markdown": [
       "8"
      ],
      "text/plain": [
       "[1] 8"
      ]
     },
     "metadata": {},
     "output_type": "display_data"
    }
   ],
   "source": [
    "length(x) #Displays the number of elements of vector x"
   ]
  },
  {
   "cell_type": "code",
   "execution_count": 751,
   "metadata": {},
   "outputs": [
    {
     "data": {
      "text/html": [
       "9"
      ],
      "text/latex": [
       "9"
      ],
      "text/markdown": [
       "9"
      ],
      "text/plain": [
       "[1] 9"
      ]
     },
     "metadata": {},
     "output_type": "display_data"
    }
   ],
   "source": [
    "max(x) #displays the maximum element of vector x"
   ]
  },
  {
   "cell_type": "code",
   "execution_count": 752,
   "metadata": {},
   "outputs": [
    {
     "data": {
      "text/html": [
       "-6"
      ],
      "text/latex": [
       "-6"
      ],
      "text/markdown": [
       "-6"
      ],
      "text/plain": [
       "[1] -6"
      ]
     },
     "metadata": {},
     "output_type": "display_data"
    }
   ],
   "source": [
    "min(x) #displays the minimum element of vector x"
   ]
  },
  {
   "cell_type": "code",
   "execution_count": 753,
   "metadata": {},
   "outputs": [
    {
     "data": {
      "text/html": [
       "<style>\n",
       ".list-inline {list-style: none; margin:0; padding: 0}\n",
       ".list-inline>li {display: inline-block}\n",
       ".list-inline>li:not(:last-child)::after {content: \"\\00b7\"; padding: 0 .5ex}\n",
       "</style>\n",
       "<ol class=list-inline><li>-6</li><li>9</li></ol>\n"
      ],
      "text/latex": [
       "\\begin{enumerate*}\n",
       "\\item -6\n",
       "\\item 9\n",
       "\\end{enumerate*}\n"
      ],
      "text/markdown": [
       "1. -6\n",
       "2. 9\n",
       "\n",
       "\n"
      ],
      "text/plain": [
       "[1] -6  9"
      ]
     },
     "metadata": {},
     "output_type": "display_data"
    }
   ],
   "source": [
    "range(x) #displays the maximum and minimum of the values of vector x"
   ]
  },
  {
   "cell_type": "code",
   "execution_count": 754,
   "metadata": {},
   "outputs": [
    {
     "data": {
      "text/html": [
       "9"
      ],
      "text/latex": [
       "9"
      ],
      "text/markdown": [
       "9"
      ],
      "text/plain": [
       "[1] 9"
      ]
     },
     "metadata": {},
     "output_type": "display_data"
    }
   ],
   "source": [
    "sum(x) # displays sum of the values of vector x"
   ]
  },
  {
   "cell_type": "code",
   "execution_count": 755,
   "metadata": {},
   "outputs": [
    {
     "data": {
      "text/html": [
       "<style>\n",
       ".list-inline {list-style: none; margin:0; padding: 0}\n",
       ".list-inline>li {display: inline-block}\n",
       ".list-inline>li:not(:last-child)::after {content: \"\\00b7\"; padding: 0 .5ex}\n",
       "</style>\n",
       "<ol class=list-inline><li>-6</li><li>3</li><li>3</li><li>0</li><li>8</li><li>10</li><li>5</li><li>9</li></ol>\n"
      ],
      "text/latex": [
       "\\begin{enumerate*}\n",
       "\\item -6\n",
       "\\item 3\n",
       "\\item 3\n",
       "\\item 0\n",
       "\\item 8\n",
       "\\item 10\n",
       "\\item 5\n",
       "\\item 9\n",
       "\\end{enumerate*}\n"
      ],
      "text/markdown": [
       "1. -6\n",
       "2. 3\n",
       "3. 3\n",
       "4. 0\n",
       "5. 8\n",
       "6. 10\n",
       "7. 5\n",
       "8. 9\n",
       "\n",
       "\n"
      ],
      "text/plain": [
       "[1] -6  3  3  0  8 10  5  9"
      ]
     },
     "metadata": {},
     "output_type": "display_data"
    }
   ],
   "source": [
    "cumsum(x) # displays the cumulative sum of the values of vector x"
   ]
  },
  {
   "cell_type": "code",
   "execution_count": 756,
   "metadata": {},
   "outputs": [
    {
     "data": {
      "text/html": [
       "1.125"
      ],
      "text/latex": [
       "1.125"
      ],
      "text/markdown": [
       "1.125"
      ],
      "text/plain": [
       "[1] 1.125"
      ]
     },
     "metadata": {},
     "output_type": "display_data"
    }
   ],
   "source": [
    "mean(x) # displays the mean of the values of vector x"
   ]
  },
  {
   "cell_type": "code",
   "execution_count": 757,
   "metadata": {},
   "outputs": [
    {
     "data": {
      "text/html": [
       "1"
      ],
      "text/latex": [
       "1"
      ],
      "text/markdown": [
       "1"
      ],
      "text/plain": [
       "[1] 1"
      ]
     },
     "metadata": {},
     "output_type": "display_data"
    }
   ],
   "source": [
    "median(x) # displays the median of the values of vector x"
   ]
  },
  {
   "cell_type": "code",
   "execution_count": 758,
   "metadata": {},
   "outputs": [
    {
     "data": {
      "text/html": [
       "<style>\n",
       ".list-inline {list-style: none; margin:0; padding: 0}\n",
       ".list-inline>li {display: inline-block}\n",
       ".list-inline>li:not(:last-child)::after {content: \"\\00b7\"; padding: 0 .5ex}\n",
       "</style>\n",
       "<ol class=list-inline><li>-6</li><li>-5</li><li>-3</li><li>0</li><li>2</li><li>4</li><li>8</li><li>9</li></ol>\n"
      ],
      "text/latex": [
       "\\begin{enumerate*}\n",
       "\\item -6\n",
       "\\item -5\n",
       "\\item -3\n",
       "\\item 0\n",
       "\\item 2\n",
       "\\item 4\n",
       "\\item 8\n",
       "\\item 9\n",
       "\\end{enumerate*}\n"
      ],
      "text/markdown": [
       "1. -6\n",
       "2. -5\n",
       "3. -3\n",
       "4. 0\n",
       "5. 2\n",
       "6. 4\n",
       "7. 8\n",
       "8. 9\n",
       "\n",
       "\n"
      ],
      "text/plain": [
       "[1] -6 -5 -3  0  2  4  8  9"
      ]
     },
     "metadata": {},
     "output_type": "display_data"
    }
   ],
   "source": [
    "sort(x) # Sort the values of vector x in the increasing order"
   ]
  },
  {
   "cell_type": "code",
   "execution_count": 759,
   "metadata": {},
   "outputs": [
    {
     "data": {
      "text/html": [
       "<style>\n",
       ".list-inline {list-style: none; margin:0; padding: 0}\n",
       ".list-inline>li {display: inline-block}\n",
       ".list-inline>li:not(:last-child)::after {content: \"\\00b7\"; padding: 0 .5ex}\n",
       "</style>\n",
       "<ol class=list-inline><li>9</li><li>8</li><li>4</li><li>2</li><li>0</li><li>-3</li><li>-5</li><li>-6</li></ol>\n"
      ],
      "text/latex": [
       "\\begin{enumerate*}\n",
       "\\item 9\n",
       "\\item 8\n",
       "\\item 4\n",
       "\\item 2\n",
       "\\item 0\n",
       "\\item -3\n",
       "\\item -5\n",
       "\\item -6\n",
       "\\end{enumerate*}\n"
      ],
      "text/markdown": [
       "1. 9\n",
       "2. 8\n",
       "3. 4\n",
       "4. 2\n",
       "5. 0\n",
       "6. -3\n",
       "7. -5\n",
       "8. -6\n",
       "\n",
       "\n"
      ],
      "text/plain": [
       "[1]  9  8  4  2  0 -3 -5 -6"
      ]
     },
     "metadata": {},
     "output_type": "display_data"
    }
   ],
   "source": [
    "sort(x, decreasing = T) # Sort the values of vector x in the decreasing order"
   ]
  },
  {
   "cell_type": "code",
   "execution_count": 760,
   "metadata": {},
   "outputs": [
    {
     "data": {
      "text/html": [
       "32.125"
      ],
      "text/latex": [
       "32.125"
      ],
      "text/markdown": [
       "32.125"
      ],
      "text/plain": [
       "[1] 32.125"
      ]
     },
     "metadata": {},
     "output_type": "display_data"
    }
   ],
   "source": [
    "var(x) # Sample variance with denominator (n-1)"
   ]
  },
  {
   "cell_type": "code",
   "execution_count": 761,
   "metadata": {},
   "outputs": [
    {
     "data": {
      "text/html": [
       "8"
      ],
      "text/latex": [
       "8"
      ],
      "text/markdown": [
       "8"
      ],
      "text/plain": [
       "[1] 8"
      ]
     },
     "metadata": {},
     "output_type": "display_data"
    }
   ],
   "source": [
    "which(x == 4) # displays index of the required element of vector x"
   ]
  },
  {
   "cell_type": "code",
   "execution_count": 762,
   "metadata": {},
   "outputs": [],
   "source": [
    "y <- c(3,4,-5)"
   ]
  },
  {
   "cell_type": "code",
   "execution_count": 763,
   "metadata": {},
   "outputs": [
    {
     "data": {
      "text/html": [
       "-60"
      ],
      "text/latex": [
       "-60"
      ],
      "text/markdown": [
       "-60"
      ],
      "text/plain": [
       "[1] -60"
      ]
     },
     "metadata": {},
     "output_type": "display_data"
    }
   ],
   "source": [
    "prod(y)\n",
    "# displays product of the values of vector y"
   ]
  },
  {
   "cell_type": "markdown",
   "metadata": {},
   "source": [
    "round( ): Syntax for the function is round(object, digits)\n",
    "\n",
    "This function rounds object upto digits decimals. For example,"
   ]
  },
  {
   "cell_type": "code",
   "execution_count": 764,
   "metadata": {},
   "outputs": [
    {
     "data": {
      "text/html": [
       "3.216"
      ],
      "text/latex": [
       "3.216"
      ],
      "text/markdown": [
       "3.216"
      ],
      "text/plain": [
       "[1] 3.216"
      ]
     },
     "metadata": {},
     "output_type": "display_data"
    }
   ],
   "source": [
    "round(3.2156,3)"
   ]
  },
  {
   "cell_type": "markdown",
   "metadata": {},
   "source": [
    "## Descriptive Statistics:"
   ]
  },
  {
   "cell_type": "markdown",
   "metadata": {},
   "source": [
    "  R provides many methods for creating frequency and contingency tables. \n",
    "\n",
    "  The table()function is a very basic, but essential, function to master while performing interactive data\n",
    "analyses. \n",
    "\n",
    "  It simply creates tabular results of categorical variables.\n",
    "  \n",
    "  Frequency tables can be generated using the table( ) function, tables of proportions\n",
    "using the prop.\n",
    "\n",
    "table( ) function, and marginal frequencies using margin.table( ).\n",
    "\n",
    "table( ) can also generate multidimensional tables based on 3 or more categorical\n",
    "variables. \n",
    "\n",
    "In this case, use the ftable( ) function to print the results more attractively."
   ]
  },
  {
   "cell_type": "code",
   "execution_count": 765,
   "metadata": {},
   "outputs": [],
   "source": [
    "x <- c(1,2,3,4,4,3,2,1,1,2,3,4,5,6,7,8)"
   ]
  },
  {
   "cell_type": "code",
   "execution_count": 766,
   "metadata": {},
   "outputs": [
    {
     "data": {
      "text/plain": [
       "x\n",
       "1 2 3 4 5 6 7 8 \n",
       "3 3 3 3 1 1 1 1 "
      ]
     },
     "metadata": {},
     "output_type": "display_data"
    }
   ],
   "source": [
    "y = table(x)\n",
    "y"
   ]
  },
  {
   "cell_type": "code",
   "execution_count": 767,
   "metadata": {},
   "outputs": [
    {
     "data": {
      "text/html": [
       "<table>\n",
       "<caption>A data.frame: 8 × 2</caption>\n",
       "<thead>\n",
       "\t<tr><th scope=col>x</th><th scope=col>Freq</th></tr>\n",
       "\t<tr><th scope=col>&lt;fct&gt;</th><th scope=col>&lt;int&gt;</th></tr>\n",
       "</thead>\n",
       "<tbody>\n",
       "\t<tr><td>1</td><td>3</td></tr>\n",
       "\t<tr><td>2</td><td>3</td></tr>\n",
       "\t<tr><td>3</td><td>3</td></tr>\n",
       "\t<tr><td>4</td><td>3</td></tr>\n",
       "\t<tr><td>5</td><td>1</td></tr>\n",
       "\t<tr><td>6</td><td>1</td></tr>\n",
       "\t<tr><td>7</td><td>1</td></tr>\n",
       "\t<tr><td>8</td><td>1</td></tr>\n",
       "</tbody>\n",
       "</table>\n"
      ],
      "text/latex": [
       "A data.frame: 8 × 2\n",
       "\\begin{tabular}{ll}\n",
       " x & Freq\\\\\n",
       " <fct> & <int>\\\\\n",
       "\\hline\n",
       "\t 1 & 3\\\\\n",
       "\t 2 & 3\\\\\n",
       "\t 3 & 3\\\\\n",
       "\t 4 & 3\\\\\n",
       "\t 5 & 1\\\\\n",
       "\t 6 & 1\\\\\n",
       "\t 7 & 1\\\\\n",
       "\t 8 & 1\\\\\n",
       "\\end{tabular}\n"
      ],
      "text/markdown": [
       "\n",
       "A data.frame: 8 × 2\n",
       "\n",
       "| x &lt;fct&gt; | Freq &lt;int&gt; |\n",
       "|---|---|\n",
       "| 1 | 3 |\n",
       "| 2 | 3 |\n",
       "| 3 | 3 |\n",
       "| 4 | 3 |\n",
       "| 5 | 1 |\n",
       "| 6 | 1 |\n",
       "| 7 | 1 |\n",
       "| 8 | 1 |\n",
       "\n"
      ],
      "text/plain": [
       "  x Freq\n",
       "1 1 3   \n",
       "2 2 3   \n",
       "3 3 3   \n",
       "4 4 3   \n",
       "5 5 1   \n",
       "6 6 1   \n",
       "7 7 1   \n",
       "8 8 1   "
      ]
     },
     "metadata": {},
     "output_type": "display_data"
    }
   ],
   "source": [
    "data.frame(y)"
   ]
  },
  {
   "cell_type": "code",
   "execution_count": 768,
   "metadata": {},
   "outputs": [
    {
     "data": {
      "text/html": [
       "<table>\n",
       "<caption>A data.frame: 8 × 2</caption>\n",
       "<thead>\n",
       "\t<tr><th></th><th scope=col>x</th><th scope=col>Freq</th></tr>\n",
       "\t<tr><th></th><th scope=col>&lt;fct&gt;</th><th scope=col>&lt;int&gt;</th></tr>\n",
       "</thead>\n",
       "<tbody>\n",
       "\t<tr><th scope=row>A</th><td>1</td><td>3</td></tr>\n",
       "\t<tr><th scope=row>B</th><td>2</td><td>3</td></tr>\n",
       "\t<tr><th scope=row>C</th><td>3</td><td>3</td></tr>\n",
       "\t<tr><th scope=row>D</th><td>4</td><td>3</td></tr>\n",
       "\t<tr><th scope=row>E</th><td>5</td><td>1</td></tr>\n",
       "\t<tr><th scope=row>F</th><td>6</td><td>1</td></tr>\n",
       "\t<tr><th scope=row>G</th><td>7</td><td>1</td></tr>\n",
       "\t<tr><th scope=row>H</th><td>8</td><td>1</td></tr>\n",
       "</tbody>\n",
       "</table>\n"
      ],
      "text/latex": [
       "A data.frame: 8 × 2\n",
       "\\begin{tabular}{r|ll}\n",
       "  & x & Freq\\\\\n",
       "  & <fct> & <int>\\\\\n",
       "\\hline\n",
       "\tA & 1 & 3\\\\\n",
       "\tB & 2 & 3\\\\\n",
       "\tC & 3 & 3\\\\\n",
       "\tD & 4 & 3\\\\\n",
       "\tE & 5 & 1\\\\\n",
       "\tF & 6 & 1\\\\\n",
       "\tG & 7 & 1\\\\\n",
       "\tH & 8 & 1\\\\\n",
       "\\end{tabular}\n"
      ],
      "text/markdown": [
       "\n",
       "A data.frame: 8 × 2\n",
       "\n",
       "| <!--/--> | x &lt;fct&gt; | Freq &lt;int&gt; |\n",
       "|---|---|---|\n",
       "| A | 1 | 3 |\n",
       "| B | 2 | 3 |\n",
       "| C | 3 | 3 |\n",
       "| D | 4 | 3 |\n",
       "| E | 5 | 1 |\n",
       "| F | 6 | 1 |\n",
       "| G | 7 | 1 |\n",
       "| H | 8 | 1 |\n",
       "\n"
      ],
      "text/plain": [
       "  x Freq\n",
       "A 1 3   \n",
       "B 2 3   \n",
       "C 3 3   \n",
       "D 4 3   \n",
       "E 5 1   \n",
       "F 6 1   \n",
       "G 7 1   \n",
       "H 8 1   "
      ]
     },
     "metadata": {},
     "output_type": "display_data"
    }
   ],
   "source": [
    "data.frame(y, row.names = c(\"A\", \"B\",\"C\",\"D\",\"E\",\"F\",\"G\",\"H\"))"
   ]
  },
  {
   "cell_type": "code",
   "execution_count": 769,
   "metadata": {},
   "outputs": [
    {
     "data": {
      "text/plain": [
       "x\n",
       "     1      2      3      4      5      6      7      8 \n",
       "0.1875 0.1875 0.1875 0.1875 0.0625 0.0625 0.0625 0.0625 "
      ]
     },
     "metadata": {},
     "output_type": "display_data"
    }
   ],
   "source": [
    "z = prop.table(y)\n",
    "z"
   ]
  },
  {
   "cell_type": "code",
   "execution_count": 770,
   "metadata": {},
   "outputs": [
    {
     "data": {
      "text/html": [
       "<table>\n",
       "<caption>A data.frame: 8 × 2</caption>\n",
       "<thead>\n",
       "\t<tr><th></th><th scope=col>x</th><th scope=col>Freq</th></tr>\n",
       "\t<tr><th></th><th scope=col>&lt;fct&gt;</th><th scope=col>&lt;dbl&gt;</th></tr>\n",
       "</thead>\n",
       "<tbody>\n",
       "\t<tr><th scope=row>A</th><td>1</td><td>0.1875</td></tr>\n",
       "\t<tr><th scope=row>B</th><td>2</td><td>0.1875</td></tr>\n",
       "\t<tr><th scope=row>C</th><td>3</td><td>0.1875</td></tr>\n",
       "\t<tr><th scope=row>D</th><td>4</td><td>0.1875</td></tr>\n",
       "\t<tr><th scope=row>E</th><td>5</td><td>0.0625</td></tr>\n",
       "\t<tr><th scope=row>F</th><td>6</td><td>0.0625</td></tr>\n",
       "\t<tr><th scope=row>G</th><td>7</td><td>0.0625</td></tr>\n",
       "\t<tr><th scope=row>H</th><td>8</td><td>0.0625</td></tr>\n",
       "</tbody>\n",
       "</table>\n"
      ],
      "text/latex": [
       "A data.frame: 8 × 2\n",
       "\\begin{tabular}{r|ll}\n",
       "  & x & Freq\\\\\n",
       "  & <fct> & <dbl>\\\\\n",
       "\\hline\n",
       "\tA & 1 & 0.1875\\\\\n",
       "\tB & 2 & 0.1875\\\\\n",
       "\tC & 3 & 0.1875\\\\\n",
       "\tD & 4 & 0.1875\\\\\n",
       "\tE & 5 & 0.0625\\\\\n",
       "\tF & 6 & 0.0625\\\\\n",
       "\tG & 7 & 0.0625\\\\\n",
       "\tH & 8 & 0.0625\\\\\n",
       "\\end{tabular}\n"
      ],
      "text/markdown": [
       "\n",
       "A data.frame: 8 × 2\n",
       "\n",
       "| <!--/--> | x &lt;fct&gt; | Freq &lt;dbl&gt; |\n",
       "|---|---|---|\n",
       "| A | 1 | 0.1875 |\n",
       "| B | 2 | 0.1875 |\n",
       "| C | 3 | 0.1875 |\n",
       "| D | 4 | 0.1875 |\n",
       "| E | 5 | 0.0625 |\n",
       "| F | 6 | 0.0625 |\n",
       "| G | 7 | 0.0625 |\n",
       "| H | 8 | 0.0625 |\n",
       "\n"
      ],
      "text/plain": [
       "  x Freq  \n",
       "A 1 0.1875\n",
       "B 2 0.1875\n",
       "C 3 0.1875\n",
       "D 4 0.1875\n",
       "E 5 0.0625\n",
       "F 6 0.0625\n",
       "G 7 0.0625\n",
       "H 8 0.0625"
      ]
     },
     "metadata": {},
     "output_type": "display_data"
    }
   ],
   "source": [
    "data.frame(z,row.names = c(\"A\", \"B\",\"C\",\"D\",\"E\",\"F\",\"G\",\"H\"))"
   ]
  },
  {
   "cell_type": "markdown",
   "metadata": {},
   "source": [
    "attribute() command is used to determine, the kind of variable used."
   ]
  },
  {
   "cell_type": "code",
   "execution_count": 771,
   "metadata": {},
   "outputs": [],
   "source": [
    "x <- c(1,2,3,4,4,3,2,1,1,2,3,4,5,6,7,8)"
   ]
  },
  {
   "cell_type": "code",
   "execution_count": 772,
   "metadata": {},
   "outputs": [
    {
     "data": {
      "text/plain": [
       "NULL"
      ]
     },
     "metadata": {},
     "output_type": "display_data"
    }
   ],
   "source": [
    "attributes(x)"
   ]
  },
  {
   "cell_type": "code",
   "execution_count": 773,
   "metadata": {},
   "outputs": [
    {
     "data": {
      "text/plain": [
       "x\n",
       "1 2 3 4 5 6 7 8 \n",
       "3 3 3 3 1 1 1 1 "
      ]
     },
     "metadata": {},
     "output_type": "display_data"
    }
   ],
   "source": [
    "y = table(x)\n",
    "y"
   ]
  },
  {
   "cell_type": "code",
   "execution_count": 774,
   "metadata": {},
   "outputs": [
    {
     "data": {
      "text/html": [
       "<dl>\n",
       "\t<dt>$dim</dt>\n",
       "\t\t<dd>8</dd>\n",
       "\t<dt>$dimnames</dt>\n",
       "\t\t<dd><strong>$x</strong> = <style>\n",
       ".list-inline {list-style: none; margin:0; padding: 0}\n",
       ".list-inline>li {display: inline-block}\n",
       ".list-inline>li:not(:last-child)::after {content: \"\\00b7\"; padding: 0 .5ex}\n",
       "</style>\n",
       "<ol class=list-inline><li>'1'</li><li>'2'</li><li>'3'</li><li>'4'</li><li>'5'</li><li>'6'</li><li>'7'</li><li>'8'</li></ol>\n",
       "</dd>\n",
       "\t<dt>$class</dt>\n",
       "\t\t<dd>'table'</dd>\n",
       "</dl>\n"
      ],
      "text/latex": [
       "\\begin{description}\n",
       "\\item[\\$dim] 8\n",
       "\\item[\\$dimnames] \\textbf{\\$x} = \\begin{enumerate*}\n",
       "\\item '1'\n",
       "\\item '2'\n",
       "\\item '3'\n",
       "\\item '4'\n",
       "\\item '5'\n",
       "\\item '6'\n",
       "\\item '7'\n",
       "\\item '8'\n",
       "\\end{enumerate*}\n",
       "\n",
       "\\item[\\$class] 'table'\n",
       "\\end{description}\n"
      ],
      "text/markdown": [
       "$dim\n",
       ":   8\n",
       "$dimnames\n",
       ":   **$x** = 1. '1'\n",
       "2. '2'\n",
       "3. '3'\n",
       "4. '4'\n",
       "5. '5'\n",
       "6. '6'\n",
       "7. '7'\n",
       "8. '8'\n",
       "\n",
       "\n",
       "\n",
       "$class\n",
       ":   'table'\n",
       "\n",
       "\n"
      ],
      "text/plain": [
       "$dim\n",
       "[1] 8\n",
       "\n",
       "$dimnames\n",
       "$dimnames$x\n",
       "[1] \"1\" \"2\" \"3\" \"4\" \"5\" \"6\" \"7\" \"8\"\n",
       "\n",
       "\n",
       "$class\n",
       "[1] \"table\"\n"
      ]
     },
     "metadata": {},
     "output_type": "display_data"
    }
   ],
   "source": [
    "attributes(y)"
   ]
  },
  {
   "cell_type": "code",
   "execution_count": 775,
   "metadata": {},
   "outputs": [
    {
     "data": {
      "text/html": [
       "<style>\n",
       ".list-inline {list-style: none; margin:0; padding: 0}\n",
       ".list-inline>li {display: inline-block}\n",
       ".list-inline>li:not(:last-child)::after {content: \"\\00b7\"; padding: 0 .5ex}\n",
       "</style>\n",
       "<ol class=list-inline><li>'1'</li><li>'2'</li><li>'3'</li><li>'4'</li><li>'5'</li><li>'6'</li><li>'7'</li><li>'8'</li></ol>\n"
      ],
      "text/latex": [
       "\\begin{enumerate*}\n",
       "\\item '1'\n",
       "\\item '2'\n",
       "\\item '3'\n",
       "\\item '4'\n",
       "\\item '5'\n",
       "\\item '6'\n",
       "\\item '7'\n",
       "\\item '8'\n",
       "\\end{enumerate*}\n"
      ],
      "text/markdown": [
       "1. '1'\n",
       "2. '2'\n",
       "3. '3'\n",
       "4. '4'\n",
       "5. '5'\n",
       "6. '6'\n",
       "7. '7'\n",
       "8. '8'\n",
       "\n",
       "\n"
      ],
      "text/plain": [
       "[1] \"1\" \"2\" \"3\" \"4\" \"5\" \"6\" \"7\" \"8\""
      ]
     },
     "metadata": {},
     "output_type": "display_data"
    }
   ],
   "source": [
    "names(y)"
   ]
  },
  {
   "cell_type": "code",
   "execution_count": 776,
   "metadata": {},
   "outputs": [
    {
     "data": {
      "text/html": [
       "<table>\n",
       "<caption>A data.frame: 8 × 2</caption>\n",
       "<thead>\n",
       "\t<tr><th scope=col>x</th><th scope=col>Freq</th></tr>\n",
       "\t<tr><th scope=col>&lt;fct&gt;</th><th scope=col>&lt;int&gt;</th></tr>\n",
       "</thead>\n",
       "<tbody>\n",
       "\t<tr><td>1</td><td>3</td></tr>\n",
       "\t<tr><td>2</td><td>3</td></tr>\n",
       "\t<tr><td>3</td><td>3</td></tr>\n",
       "\t<tr><td>4</td><td>3</td></tr>\n",
       "\t<tr><td>5</td><td>1</td></tr>\n",
       "\t<tr><td>6</td><td>1</td></tr>\n",
       "\t<tr><td>7</td><td>1</td></tr>\n",
       "\t<tr><td>8</td><td>1</td></tr>\n",
       "</tbody>\n",
       "</table>\n"
      ],
      "text/latex": [
       "A data.frame: 8 × 2\n",
       "\\begin{tabular}{ll}\n",
       " x & Freq\\\\\n",
       " <fct> & <int>\\\\\n",
       "\\hline\n",
       "\t 1 & 3\\\\\n",
       "\t 2 & 3\\\\\n",
       "\t 3 & 3\\\\\n",
       "\t 4 & 3\\\\\n",
       "\t 5 & 1\\\\\n",
       "\t 6 & 1\\\\\n",
       "\t 7 & 1\\\\\n",
       "\t 8 & 1\\\\\n",
       "\\end{tabular}\n"
      ],
      "text/markdown": [
       "\n",
       "A data.frame: 8 × 2\n",
       "\n",
       "| x &lt;fct&gt; | Freq &lt;int&gt; |\n",
       "|---|---|\n",
       "| 1 | 3 |\n",
       "| 2 | 3 |\n",
       "| 3 | 3 |\n",
       "| 4 | 3 |\n",
       "| 5 | 1 |\n",
       "| 6 | 1 |\n",
       "| 7 | 1 |\n",
       "| 8 | 1 |\n",
       "\n"
      ],
      "text/plain": [
       "  x Freq\n",
       "1 1 3   \n",
       "2 2 3   \n",
       "3 3 3   \n",
       "4 4 3   \n",
       "5 5 1   \n",
       "6 6 1   \n",
       "7 7 1   \n",
       "8 8 1   "
      ]
     },
     "metadata": {},
     "output_type": "display_data"
    }
   ],
   "source": [
    "z = data.frame(y)\n",
    "z"
   ]
  },
  {
   "cell_type": "code",
   "execution_count": 777,
   "metadata": {},
   "outputs": [
    {
     "data": {
      "text/html": [
       "<dl>\n",
       "\t<dt>$names</dt>\n",
       "\t\t<dd><style>\n",
       ".list-inline {list-style: none; margin:0; padding: 0}\n",
       ".list-inline>li {display: inline-block}\n",
       ".list-inline>li:not(:last-child)::after {content: \"\\00b7\"; padding: 0 .5ex}\n",
       "</style>\n",
       "<ol class=list-inline><li>'x'</li><li>'Freq'</li></ol>\n",
       "</dd>\n",
       "\t<dt>$class</dt>\n",
       "\t\t<dd>'data.frame'</dd>\n",
       "\t<dt>$row.names</dt>\n",
       "\t\t<dd><style>\n",
       ".list-inline {list-style: none; margin:0; padding: 0}\n",
       ".list-inline>li {display: inline-block}\n",
       ".list-inline>li:not(:last-child)::after {content: \"\\00b7\"; padding: 0 .5ex}\n",
       "</style>\n",
       "<ol class=list-inline><li>1</li><li>2</li><li>3</li><li>4</li><li>5</li><li>6</li><li>7</li><li>8</li></ol>\n",
       "</dd>\n",
       "</dl>\n"
      ],
      "text/latex": [
       "\\begin{description}\n",
       "\\item[\\$names] \\begin{enumerate*}\n",
       "\\item 'x'\n",
       "\\item 'Freq'\n",
       "\\end{enumerate*}\n",
       "\n",
       "\\item[\\$class] 'data.frame'\n",
       "\\item[\\$row.names] \\begin{enumerate*}\n",
       "\\item 1\n",
       "\\item 2\n",
       "\\item 3\n",
       "\\item 4\n",
       "\\item 5\n",
       "\\item 6\n",
       "\\item 7\n",
       "\\item 8\n",
       "\\end{enumerate*}\n",
       "\n",
       "\\end{description}\n"
      ],
      "text/markdown": [
       "$names\n",
       ":   1. 'x'\n",
       "2. 'Freq'\n",
       "\n",
       "\n",
       "\n",
       "$class\n",
       ":   'data.frame'\n",
       "$row.names\n",
       ":   1. 1\n",
       "2. 2\n",
       "3. 3\n",
       "4. 4\n",
       "5. 5\n",
       "6. 6\n",
       "7. 7\n",
       "8. 8\n",
       "\n",
       "\n",
       "\n",
       "\n",
       "\n"
      ],
      "text/plain": [
       "$names\n",
       "[1] \"x\"    \"Freq\"\n",
       "\n",
       "$class\n",
       "[1] \"data.frame\"\n",
       "\n",
       "$row.names\n",
       "[1] 1 2 3 4 5 6 7 8\n"
      ]
     },
     "metadata": {},
     "output_type": "display_data"
    }
   ],
   "source": [
    "attributes(z)"
   ]
  },
  {
   "cell_type": "markdown",
   "metadata": {},
   "source": [
    " The first thing that R stores is a list of names which refer to each column of the data. \n",
    "\n",
    " For example, the first column is called “x”, the second column is called “Freq.” z is of type\n",
    "data.frame. \n",
    "\n",
    " Finally, the rows are numbered consecutively from 1 to 8. Each column has 8 elements in it.\n",
    " \n",
    "If you know that a variable is a data frame but are not sure what labels are used to refer to the different columns you can use the names command:"
   ]
  },
  {
   "cell_type": "code",
   "execution_count": 778,
   "metadata": {},
   "outputs": [
    {
     "data": {
      "text/html": [
       "<style>\n",
       ".list-inline {list-style: none; margin:0; padding: 0}\n",
       ".list-inline>li {display: inline-block}\n",
       ".list-inline>li:not(:last-child)::after {content: \"\\00b7\"; padding: 0 .5ex}\n",
       "</style>\n",
       "<ol class=list-inline><li>'x'</li><li>'Freq'</li></ol>\n"
      ],
      "text/latex": [
       "\\begin{enumerate*}\n",
       "\\item 'x'\n",
       "\\item 'Freq'\n",
       "\\end{enumerate*}\n"
      ],
      "text/markdown": [
       "1. 'x'\n",
       "2. 'Freq'\n",
       "\n",
       "\n"
      ],
      "text/plain": [
       "[1] \"x\"    \"Freq\""
      ]
     },
     "metadata": {},
     "output_type": "display_data"
    }
   ],
   "source": [
    "names(z)"
   ]
  },
  {
   "cell_type": "markdown",
   "metadata": {},
   "source": [
    "If you want to work with the data in one of the columns you give the name of the data\n",
    "frame, a “$” sign, and the label assigned to the column. For example, the first column in\n",
    "data frame z can be called using “z$x:”"
   ]
  },
  {
   "cell_type": "code",
   "execution_count": 779,
   "metadata": {},
   "outputs": [
    {
     "data": {
      "text/html": [
       "<style>\n",
       ".list-inline {list-style: none; margin:0; padding: 0}\n",
       ".list-inline>li {display: inline-block}\n",
       ".list-inline>li:not(:last-child)::after {content: \"\\00b7\"; padding: 0 .5ex}\n",
       "</style>\n",
       "<ol class=list-inline><li>1</li><li>2</li><li>3</li><li>4</li><li>5</li><li>6</li><li>7</li><li>8</li></ol>\n",
       "\n",
       "<details>\n",
       "\t<summary style=display:list-item;cursor:pointer>\n",
       "\t\t<strong>Levels</strong>:\n",
       "\t</summary>\n",
       "\t<style>\n",
       "\t.list-inline {list-style: none; margin:0; padding: 0}\n",
       "\t.list-inline>li {display: inline-block}\n",
       "\t.list-inline>li:not(:last-child)::after {content: \"\\00b7\"; padding: 0 .5ex}\n",
       "\t</style>\n",
       "\t<ol class=list-inline><li>'1'</li><li>'2'</li><li>'3'</li><li>'4'</li><li>'5'</li><li>'6'</li><li>'7'</li><li>'8'</li></ol>\n",
       "</details>"
      ],
      "text/latex": [
       "\\begin{enumerate*}\n",
       "\\item 1\n",
       "\\item 2\n",
       "\\item 3\n",
       "\\item 4\n",
       "\\item 5\n",
       "\\item 6\n",
       "\\item 7\n",
       "\\item 8\n",
       "\\end{enumerate*}\n",
       "\n",
       "\\emph{Levels}: \\begin{enumerate*}\n",
       "\\item '1'\n",
       "\\item '2'\n",
       "\\item '3'\n",
       "\\item '4'\n",
       "\\item '5'\n",
       "\\item '6'\n",
       "\\item '7'\n",
       "\\item '8'\n",
       "\\end{enumerate*}\n"
      ],
      "text/markdown": [
       "1. 1\n",
       "2. 2\n",
       "3. 3\n",
       "4. 4\n",
       "5. 5\n",
       "6. 6\n",
       "7. 7\n",
       "8. 8\n",
       "\n",
       "\n",
       "\n",
       "**Levels**: 1. '1'\n",
       "2. '2'\n",
       "3. '3'\n",
       "4. '4'\n",
       "5. '5'\n",
       "6. '6'\n",
       "7. '7'\n",
       "8. '8'\n",
       "\n",
       "\n"
      ],
      "text/plain": [
       "[1] 1 2 3 4 5 6 7 8\n",
       "Levels: 1 2 3 4 5 6 7 8"
      ]
     },
     "metadata": {},
     "output_type": "display_data"
    }
   ],
   "source": [
    "z$x"
   ]
  },
  {
   "cell_type": "code",
   "execution_count": 780,
   "metadata": {},
   "outputs": [
    {
     "data": {
      "text/html": [
       "<style>\n",
       ".list-inline {list-style: none; margin:0; padding: 0}\n",
       ".list-inline>li {display: inline-block}\n",
       ".list-inline>li:not(:last-child)::after {content: \"\\00b7\"; padding: 0 .5ex}\n",
       "</style>\n",
       "<ol class=list-inline><li>3</li><li>3</li><li>3</li><li>3</li><li>1</li><li>1</li><li>1</li><li>1</li></ol>\n"
      ],
      "text/latex": [
       "\\begin{enumerate*}\n",
       "\\item 3\n",
       "\\item 3\n",
       "\\item 3\n",
       "\\item 3\n",
       "\\item 1\n",
       "\\item 1\n",
       "\\item 1\n",
       "\\item 1\n",
       "\\end{enumerate*}\n"
      ],
      "text/markdown": [
       "1. 3\n",
       "2. 3\n",
       "3. 3\n",
       "4. 3\n",
       "5. 1\n",
       "6. 1\n",
       "7. 1\n",
       "8. 1\n",
       "\n",
       "\n"
      ],
      "text/plain": [
       "[1] 3 3 3 3 1 1 1 1"
      ]
     },
     "metadata": {},
     "output_type": "display_data"
    }
   ],
   "source": [
    "z$Freq"
   ]
  },
  {
   "cell_type": "markdown",
   "metadata": {},
   "source": [
    "#### Diagrammatic Representation of data:\n",
    "Statistical data can be represented in the form of diagrams such as\n",
    "- Simple bar diagram\n",
    "- Multiple bar diagram\n",
    "- Subdivided bar diagram\n",
    "- Pie diagram or pie chart"
   ]
  },
  {
   "cell_type": "markdown",
   "metadata": {},
   "source": [
    "barplot(height, beside = T, names.arg = NULL, col = NULL, border = par(\"fg\"), main =\n",
    "NULL, xlab = NULL, ylab = NULL, xlim = NULL, ylim = NULL,...)\n",
    "\n",
    "##### height: \n",
    "\n",
    "Either a vector or matrix of values describing the bars which make up the plot.\n",
    "\n",
    "If height is a vector, the plot consists of a sequence of rectangular bars with heights given by\n",
    "the values in the vector. \n",
    "\n",
    "If height is a matrix and beside is FALSE then each bar of the plot corresponds to a column of height, with the values in the column giving the heights of\n",
    "stacked sub-bars making up the bar.\n",
    "\n",
    "If height is a matrix and beside is TRUE, then the values in each column are juxtaposed rather than stacked.\n",
    "\n",
    "##### names.arg: \n",
    "A vector of names to be plotted below each bar or group of bars. If this\n",
    "argument is omitted, then the names are taken from the names attribute of height if this is\n",
    "a vector, or the column names if it is a matrix.\n",
    "##### main: \n",
    "Overall title for the plot.\n",
    "##### beside: \n",
    "A logical value. If FALSE, the columns of height are portrayed as stacked bars,and if TRUE the columns are portrayed as juxtaposed bars.\n",
    "\n",
    "##### Example: The following table gives the average approximate yield of rice in kg. per acre in various states of India in 2003-04. Represent it by Simple Bar diagram.\n"
   ]
  },
  {
   "cell_type": "markdown",
   "metadata": {},
   "source": [
    "<table>\n",
    "\n",
    "  <tr>\n",
    "    <td>State :</td>\n",
    "    <td>Punjab</td>\n",
    "    <td>Haryana</td>\n",
    "    <td>U.P.</td>\n",
    "    <td>Gujarat</td>\n",
    "    <td>Bihar</td>\n",
    "    <td>Karnataka</td>\n",
    "  </tr>\n",
    "  <tr>\n",
    "    <td>Yield :</td>\n",
    "    <td>728</td>\n",
    "    <td>943</td>\n",
    "    <td>1469</td>\n",
    "    <td>2903</td>\n",
    "    <td>2153</td>\n",
    "    <td>2276</td>\n",
    "  </tr>\n",
    "</table>"
   ]
  },
  {
   "cell_type": "code",
   "execution_count": 781,
   "metadata": {},
   "outputs": [],
   "source": [
    "x <- c(\"Punjab\", \"Haryana\", \"U.P.\", \"Gujarat\", \"Bihar\", \"Karnataka\")"
   ]
  },
  {
   "cell_type": "code",
   "execution_count": 782,
   "metadata": {},
   "outputs": [],
   "source": [
    "y <- c(728, 943, 1469, 2903, 2153, 2276)"
   ]
  },
  {
   "cell_type": "code",
   "execution_count": 783,
   "metadata": {},
   "outputs": [
    {
     "data": {
      "text/html": [
       "<style>\n",
       ".list-inline {list-style: none; margin:0; padding: 0}\n",
       ".list-inline>li {display: inline-block}\n",
       ".list-inline>li:not(:last-child)::after {content: \"\\00b7\"; padding: 0 .5ex}\n",
       "</style>\n",
       "<ol class=list-inline><li>'Punjab'</li><li>'Haryana'</li><li>'U.P.'</li><li>'Gujarat'</li><li>'Bihar'</li><li>'Karnataka'</li></ol>\n"
      ],
      "text/latex": [
       "\\begin{enumerate*}\n",
       "\\item 'Punjab'\n",
       "\\item 'Haryana'\n",
       "\\item 'U.P.'\n",
       "\\item 'Gujarat'\n",
       "\\item 'Bihar'\n",
       "\\item 'Karnataka'\n",
       "\\end{enumerate*}\n"
      ],
      "text/markdown": [
       "1. 'Punjab'\n",
       "2. 'Haryana'\n",
       "3. 'U.P.'\n",
       "4. 'Gujarat'\n",
       "5. 'Bihar'\n",
       "6. 'Karnataka'\n",
       "\n",
       "\n"
      ],
      "text/plain": [
       "[1] \"Punjab\"    \"Haryana\"   \"U.P.\"      \"Gujarat\"   \"Bihar\"     \"Karnataka\""
      ]
     },
     "metadata": {},
     "output_type": "display_data"
    }
   ],
   "source": [
    "x"
   ]
  },
  {
   "cell_type": "code",
   "execution_count": 784,
   "metadata": {},
   "outputs": [
    {
     "data": {
      "text/html": [
       "<style>\n",
       ".list-inline {list-style: none; margin:0; padding: 0}\n",
       ".list-inline>li {display: inline-block}\n",
       ".list-inline>li:not(:last-child)::after {content: \"\\00b7\"; padding: 0 .5ex}\n",
       "</style>\n",
       "<ol class=list-inline><li>728</li><li>943</li><li>1469</li><li>2903</li><li>2153</li><li>2276</li></ol>\n"
      ],
      "text/latex": [
       "\\begin{enumerate*}\n",
       "\\item 728\n",
       "\\item 943\n",
       "\\item 1469\n",
       "\\item 2903\n",
       "\\item 2153\n",
       "\\item 2276\n",
       "\\end{enumerate*}\n"
      ],
      "text/markdown": [
       "1. 728\n",
       "2. 943\n",
       "3. 1469\n",
       "4. 2903\n",
       "5. 2153\n",
       "6. 2276\n",
       "\n",
       "\n"
      ],
      "text/plain": [
       "[1]  728  943 1469 2903 2153 2276"
      ]
     },
     "metadata": {},
     "output_type": "display_data"
    }
   ],
   "source": [
    "y"
   ]
  },
  {
   "cell_type": "code",
   "execution_count": 785,
   "metadata": {},
   "outputs": [
    {
     "data": {
      "image/png": "[encoded data removed]",
      "text/plain": [
       "Plot with title “Yield of rice in kg. per\n",
       "acre in various states of India”"
      ]
     },
     "metadata": {
      "image/png": {
       "height": 420,
       "width": 420
      },
      "text/plain": {
       "height": 420,
       "width": 420
      }
     },
     "output_type": "display_data"
    }
   ],
   "source": [
    "barplot(y, names.arg = x, col = \"red\", border = \"blue\", main = \"Yield of rice in kg. per\n",
    "acre in various states of India\", xlab = \"States\", ylab = \"Yield\")"
   ]
  },
  {
   "attachments": {
    "11.png": {
     "image/png": "[encoded data removed]"
    }
   },
   "cell_type": "markdown",
   "metadata": {},
   "source": [
    "Example: Represent the following data on faculty-wise distribution of students, by multiple bar\n",
    "diagram.![11.png](attachment:11.png)"
   ]
  },
  {
   "cell_type": "code",
   "execution_count": 786,
   "metadata": {},
   "outputs": [],
   "source": [
    "clg <- c(\"A\", \"B\", \"C\", \"D\")\n",
    "clgA <- c(1200, 600, 500)\n",
    "clgB <- c(1000, 800, 650)\n",
    "clgC <- c(1400, 700, 850)\n",
    "clgD <- c(750, 900, 300)"
   ]
  },
  {
   "cell_type": "code",
   "execution_count": 787,
   "metadata": {},
   "outputs": [
    {
     "data": {
      "text/html": [
       "<table>\n",
       "<caption>A data.frame: 3 × 4</caption>\n",
       "<thead>\n",
       "\t<tr><th scope=col>clgA</th><th scope=col>clgB</th><th scope=col>clgC</th><th scope=col>clgD</th></tr>\n",
       "\t<tr><th scope=col>&lt;dbl&gt;</th><th scope=col>&lt;dbl&gt;</th><th scope=col>&lt;dbl&gt;</th><th scope=col>&lt;dbl&gt;</th></tr>\n",
       "</thead>\n",
       "<tbody>\n",
       "\t<tr><td>1200</td><td>1000</td><td>1400</td><td>750</td></tr>\n",
       "\t<tr><td> 600</td><td> 800</td><td> 700</td><td>900</td></tr>\n",
       "\t<tr><td> 500</td><td> 650</td><td> 850</td><td>300</td></tr>\n",
       "</tbody>\n",
       "</table>\n"
      ],
      "text/latex": [
       "A data.frame: 3 × 4\n",
       "\\begin{tabular}{llll}\n",
       " clgA & clgB & clgC & clgD\\\\\n",
       " <dbl> & <dbl> & <dbl> & <dbl>\\\\\n",
       "\\hline\n",
       "\t 1200 & 1000 & 1400 & 750\\\\\n",
       "\t  600 &  800 &  700 & 900\\\\\n",
       "\t  500 &  650 &  850 & 300\\\\\n",
       "\\end{tabular}\n"
      ],
      "text/markdown": [
       "\n",
       "A data.frame: 3 × 4\n",
       "\n",
       "| clgA &lt;dbl&gt; | clgB &lt;dbl&gt; | clgC &lt;dbl&gt; | clgD &lt;dbl&gt; |\n",
       "|---|---|---|---|\n",
       "| 1200 | 1000 | 1400 | 750 |\n",
       "|  600 |  800 |  700 | 900 |\n",
       "|  500 |  650 |  850 | 300 |\n",
       "\n"
      ],
      "text/plain": [
       "  clgA clgB clgC clgD\n",
       "1 1200 1000 1400 750 \n",
       "2  600  800  700 900 \n",
       "3  500  650  850 300 "
      ]
     },
     "metadata": {},
     "output_type": "display_data"
    }
   ],
   "source": [
    "d = data.frame(clgA, clgB, clgC, clgD)\n",
    "d"
   ]
  },
  {
   "cell_type": "code",
   "execution_count": 788,
   "metadata": {},
   "outputs": [
    {
     "data": {
      "text/html": [
       "<table>\n",
       "<caption>A matrix: 3 × 4 of type dbl</caption>\n",
       "<thead>\n",
       "\t<tr><th scope=col>clgA</th><th scope=col>clgB</th><th scope=col>clgC</th><th scope=col>clgD</th></tr>\n",
       "</thead>\n",
       "<tbody>\n",
       "\t<tr><td>1200</td><td>1000</td><td>1400</td><td>750</td></tr>\n",
       "\t<tr><td> 600</td><td> 800</td><td> 700</td><td>900</td></tr>\n",
       "\t<tr><td> 500</td><td> 650</td><td> 850</td><td>300</td></tr>\n",
       "</tbody>\n",
       "</table>\n"
      ],
      "text/latex": [
       "A matrix: 3 × 4 of type dbl\n",
       "\\begin{tabular}{llll}\n",
       " clgA & clgB & clgC & clgD\\\\\n",
       "\\hline\n",
       "\t 1200 & 1000 & 1400 & 750\\\\\n",
       "\t  600 &  800 &  700 & 900\\\\\n",
       "\t  500 &  650 &  850 & 300\\\\\n",
       "\\end{tabular}\n"
      ],
      "text/markdown": [
       "\n",
       "A matrix: 3 × 4 of type dbl\n",
       "\n",
       "| clgA | clgB | clgC | clgD |\n",
       "|---|---|---|---|\n",
       "| 1200 | 1000 | 1400 | 750 |\n",
       "|  600 |  800 |  700 | 900 |\n",
       "|  500 |  650 |  850 | 300 |\n",
       "\n"
      ],
      "text/plain": [
       "     clgA clgB clgC clgD\n",
       "[1,] 1200 1000 1400 750 \n",
       "[2,]  600  800  700 900 \n",
       "[3,]  500  650  850 300 "
      ]
     },
     "metadata": {},
     "output_type": "display_data"
    }
   ],
   "source": [
    "d1 = as.matrix(d)\n",
    "d1"
   ]
  },
  {
   "cell_type": "code",
   "execution_count": 789,
   "metadata": {},
   "outputs": [
    {
     "name": "stderr",
     "output_type": "stream",
     "text": [
      "Warning message in 1:2:3:\n",
      "“numerical expression has 2 elements: only the first used”\n"
     ]
    },
    {
     "data": {
      "image/png": "[encoded data removed]",
      "text/plain": [
       "plot without title"
      ]
     },
     "metadata": {
      "image/png": {
       "height": 420,
       "width": 420
      },
      "text/plain": {
       "height": 420,
       "width": 420
      }
     },
     "output_type": "display_data"
    }
   ],
   "source": [
    "barplot(d1, beside = T, names.arg = clg, col = 1:2:3, legend = c(\"Arts\", \"Science\",\n",
    "\"Commerce\"),xlab = \"College\", ylab = \"No. of Students\")"
   ]
  },
  {
   "cell_type": "markdown",
   "metadata": {},
   "source": [
    "For the above example draw subdivided bar diagram."
   ]
  },
  {
   "cell_type": "code",
   "execution_count": 790,
   "metadata": {},
   "outputs": [
    {
     "name": "stderr",
     "output_type": "stream",
     "text": [
      "Warning message in 1:2:3:\n",
      "“numerical expression has 2 elements: only the first used”\n",
      "Warning message in 1:2:3:4:\n",
      "“numerical expression has 3 elements: only the first used”\n"
     ]
    },
    {
     "data": {
      "image/png": "[encoded data removed]",
      "text/plain": [
       "plot without title"
      ]
     },
     "metadata": {
      "image/png": {
       "height": 420,
       "width": 420
      },
      "text/plain": {
       "height": 420,
       "width": 420
      }
     },
     "output_type": "display_data"
    }
   ],
   "source": [
    "barplot(d1, beside = F, names.arg = clg, col = 1:2:3:4, legend = c(\"A\", \"B\", \"C\",\n",
    "\"D\"),xlab = \"College\", ylab = \"No. of Students\")"
   ]
  },
  {
   "cell_type": "code",
   "execution_count": 791,
   "metadata": {},
   "outputs": [
    {
     "name": "stderr",
     "output_type": "stream",
     "text": [
      "Warning message in 1:2:3:\n",
      "“numerical expression has 2 elements: only the first used”\n"
     ]
    },
    {
     "data": {
      "image/png": "[encoded data removed]",
      "text/plain": [
       "plot without title"
      ]
     },
     "metadata": {
      "image/png": {
       "height": 420,
       "width": 420
      },
      "text/plain": {
       "height": 420,
       "width": 420
      }
     },
     "output_type": "display_data"
    }
   ],
   "source": [
    "barplot(d1, beside = F, horiz = T, names.arg = clg, col = 1:2:3, legend = c(\"Arts\",\n",
    "\"Science\", \"Commerce\"),ylab = \"College\", xlab = \"No. of Students\")"
   ]
  },
  {
   "attachments": {
    "12.png": {
     "image/png": "[encoded data removed]"
    }
   },
   "cell_type": "markdown",
   "metadata": {},
   "source": [
    "Example: Represent the following data by a pie diagram:![12.png](attachment:12.png)"
   ]
  },
  {
   "cell_type": "code",
   "execution_count": 792,
   "metadata": {},
   "outputs": [],
   "source": [
    "itm <- c(\"Food\", \"Clothing\", \"Electric\", \"Movie\", \"Rent\", \"Misc\")\n",
    "exp <- c(87, 24, 11, 13, 25, 20)"
   ]
  },
  {
   "cell_type": "code",
   "execution_count": 793,
   "metadata": {},
   "outputs": [
    {
     "data": {
      "image/png": "[encoded data removed]",
      "text/plain": [
       "Plot with title “Expenditure”"
      ]
     },
     "metadata": {
      "image/png": {
       "height": 420,
       "width": 420
      },
      "text/plain": {
       "height": 420,
       "width": 420
      }
     },
     "output_type": "display_data"
    }
   ],
   "source": [
    "pie(exp, main = \"Expenditure\", labels = itm, radius = 1, col=rainbow(length(exp)))"
   ]
  },
  {
   "cell_type": "markdown",
   "metadata": {},
   "source": [
    "#### Graphical Representation of data:\n",
    "Statistical data can be represented in the form of graphs such as\n",
    "- Histogram\n",
    "- Frequency polygon\n",
    "- Ogive curve\n",
    "\n",
    "R supports commands hist, plot, lines, points etc for drawing above graphs."
   ]
  },
  {
   "cell_type": "markdown",
   "metadata": {},
   "source": [
    "### Histogram:\n",
    "hist(x, breaks = classlimits, freq/probability = False/True, density = NULL, col = NULL,\n",
    "border = NULL, main = paste(\"Histogram of\" , xname), xlim = range(breaks), ylim = NULL,\n",
    "xlab = xname, ylab=yname, axes = TRUE . . . .)\n",
    "\n",
    "\n",
    "* x: A vector of values for which the histogram is desired.\n",
    "* breaks: A vector giving breakpoints (class limits) for histogram. \n",
    " This can be done using c() or seq().\n",
    "    \n",
    "  For eg: breaks=c(100, 300, 500, 700) Compute a histogram for the raw data values and set the bins (bars) such that they run from 100 to 300, 300 to 500 and 500 to 700.\n",
    "    \n",
    "  However, the c() function can make your code very messy sometimes. That is why you can instead use breaks=seq(x, y, z). \n",
    "   \n",
    "   The values of x, y and z are determined by yourselfand represent, in order of appearance, the begin number of the x-axis, the end number of the x-axis and the interval in which these numbers appear."
   ]
  },
  {
   "cell_type": "code",
   "execution_count": 794,
   "metadata": {},
   "outputs": [],
   "source": [
    "x <- seq(148,178,5)"
   ]
  },
  {
   "cell_type": "code",
   "execution_count": 795,
   "metadata": {},
   "outputs": [
    {
     "data": {
      "image/png": "[encoded data removed]",
      "text/plain": [
       "Plot with title “Histogram of x”"
      ]
     },
     "metadata": {
      "image/png": {
       "height": 420,
       "width": 420
      },
      "text/plain": {
       "height": 420,
       "width": 420
      }
     },
     "output_type": "display_data"
    }
   ],
   "source": [
    "brk <- seq(148,178,5)\n",
    "hist(x, breaks = brk)"
   ]
  },
  {
   "cell_type": "markdown",
   "metadata": {},
   "source": [
    "This command creates histogram with class limits 148 to 153, 153 to 158, 158 to 163,\n",
    "163 to 168, 168 to 173, 173 to 178.\n",
    "\n",
    "**Note** that you can also combine the two functions:"
   ]
  },
  {
   "cell_type": "code",
   "execution_count": 796,
   "metadata": {},
   "outputs": [
    {
     "data": {
      "image/png": "[encoded data removed]",
      "text/plain": [
       "Plot with title “Histogram of x”"
      ]
     },
     "metadata": {
      "image/png": {
       "height": 420,
       "width": 420
      },
      "text/plain": {
       "height": 420,
       "width": 420
      }
     },
     "output_type": "display_data"
    }
   ],
   "source": [
    "hist(x, breaks=c(100, seq(200,700, 150)))"
   ]
  },
  {
   "cell_type": "markdown",
   "metadata": {},
   "source": [
    "Make a histogram for the vector x, start at 100 on the x-axis, and from values 200 to\n",
    "700, make the bins 150 wide\n",
    "- **freq/probability:** \n",
    "\n",
    "logical; if TRUE, the histogram graphic is a representation of frequencies; \n",
    "\n",
    "if FALSE, probability densities, are plotted (so that the histogram has a total\n",
    "area of one).\n",
    "\n",
    "Defaults to TRUE if and only if breaks are equidistant (and probability is not specified).\n",
    "- **density:** \n",
    "the density of shading lines, in lines per inch. The default value of NULL meansthat no shading lines are drawn.\n",
    "- **col:** \n",
    "a colour to be used to fill the bars. The default of NULL yields unfilled bars.\n",
    "- **border:**\n",
    "the color of the border around the bars. The default is to use the standard foreground color.\n",
    "- **main:** \n",
    "Overall title for the plot."
   ]
  },
  {
   "cell_type": "code",
   "execution_count": 797,
   "metadata": {},
   "outputs": [
    {
     "data": {
      "image/png": "[encoded data removed]",
      "text/plain": [
       "Plot with title “Histogram of Heights”"
      ]
     },
     "metadata": {
      "image/png": {
       "height": 420,
       "width": 420
      },
      "text/plain": {
       "height": 420,
       "width": 420
      }
     },
     "output_type": "display_data"
    }
   ],
   "source": [
    "brk <- seq(148,178,5)\n",
    "xnme = 'Heights'\n",
    "hist(x, breaks = brk, freq = FALSE, main = paste(\"Histogram of\" , xnme))"
   ]
  },
  {
   "cell_type": "code",
   "execution_count": 798,
   "metadata": {},
   "outputs": [],
   "source": [
    "x <- c(170, 151 ,154, 160, 158 ,154 ,171 ,156, 160 ,157 ,148, 165, 158,160 ,157 ,159 ,155 ,151, 152, 161, 156, 164, 156, 163 ,174, 153, 170, 149, 166, 154,166 ,160 ,160 ,161, 154 ,163,164,160,148,162,167,165, 158, 158, 176)"
   ]
  },
  {
   "cell_type": "code",
   "execution_count": 799,
   "metadata": {},
   "outputs": [
    {
     "data": {
      "image/png": "[encoded data removed]",
      "text/plain": [
       "Plot with title “Histogram of x”"
      ]
     },
     "metadata": {
      "image/png": {
       "height": 420,
       "width": 420
      },
      "text/plain": {
       "height": 420,
       "width": 420
      }
     },
     "output_type": "display_data"
    }
   ],
   "source": [
    "hist(x)"
   ]
  },
  {
   "cell_type": "code",
   "execution_count": 800,
   "metadata": {},
   "outputs": [
    {
     "data": {
      "image/png": "[encoded data removed]",
      "text/plain": [
       "Plot with title “Histogram of Heights”"
      ]
     },
     "metadata": {
      "image/png": {
       "height": 420,
       "width": 420
      },
      "text/plain": {
       "height": 420,
       "width": 420
      }
     },
     "output_type": "display_data"
    }
   ],
   "source": [
    "hist(x, breaks = brk, freq = FALSE, col = \"red\", border = \"blue\", main =\n",
    "paste(\"Histogram of\" , xnme), xlab = \"Student's Heights\", ylab=\"Prportion of students\")"
   ]
  },
  {
   "attachments": {
    "13.png": {
     "image/png": "[encoded data removed]"
    }
   },
   "cell_type": "markdown",
   "metadata": {},
   "source": [
    "#### Histogram for ungrouped frequency data\n",
    "![13.png](attachment:13.png)"
   ]
  },
  {
   "cell_type": "code",
   "execution_count": 801,
   "metadata": {},
   "outputs": [
    {
     "data": {
      "image/png": "[encoded data removed]",
      "text/plain": [
       "Plot with title “Histogram of y”"
      ]
     },
     "metadata": {
      "image/png": {
       "height": 420,
       "width": 420
      },
      "text/plain": {
       "height": 420,
       "width": 420
      }
     },
     "output_type": "display_data"
    }
   ],
   "source": [
    "x <- seq(150,175,5)\n",
    "f <- c(6,11,14,9,3,2)\n",
    "y <- rep(x,f)\n",
    "hist(y)"
   ]
  },
  {
   "cell_type": "code",
   "execution_count": 802,
   "metadata": {},
   "outputs": [
    {
     "data": {
      "image/png": "[encoded data removed]",
      "text/plain": [
       "Plot with title “Histogram of y”"
      ]
     },
     "metadata": {
      "image/png": {
       "height": 420,
       "width": 420
      },
      "text/plain": {
       "height": 420,
       "width": 420
      }
     },
     "output_type": "display_data"
    }
   ],
   "source": [
    "t = seq(147.5,177.5,5)\n",
    "hist(y, breaks = t)"
   ]
  },
  {
   "attachments": {
    "14.png": {
     "image/png": "[encoded data removed]"
    }
   },
   "cell_type": "markdown",
   "metadata": {},
   "source": [
    "### Histogram for grouped frequency data\n",
    "![14.png](attachment:14.png)"
   ]
  },
  {
   "cell_type": "code",
   "execution_count": 803,
   "metadata": {},
   "outputs": [
    {
     "data": {
      "image/png": "[encoded data removed]",
      "text/plain": [
       "Plot with title “Histogram of y”"
      ]
     },
     "metadata": {
      "image/png": {
       "height": 420,
       "width": 420
      },
      "text/plain": {
       "height": 420,
       "width": 420
      }
     },
     "output_type": "display_data"
    }
   ],
   "source": [
    "midx <- seq(12.5,112.5,25)\n",
    "f <- c(5,8,13,11,3)\n",
    "cls_limit <- seq(0,125,25)\n",
    "y <- rep(midx,f)\n",
    "hist(y)"
   ]
  },
  {
   "cell_type": "code",
   "execution_count": 804,
   "metadata": {},
   "outputs": [
    {
     "data": {
      "image/png": "[encoded data removed]",
      "text/plain": [
       "Plot with title “Histogram of y”"
      ]
     },
     "metadata": {
      "image/png": {
       "height": 420,
       "width": 420
      },
      "text/plain": {
       "height": 420,
       "width": 420
      }
     },
     "output_type": "display_data"
    }
   ],
   "source": [
    "hist(y, breaks=cls_limit)"
   ]
  },
  {
   "cell_type": "markdown",
   "metadata": {},
   "source": [
    "#### Frequency polygon:\n",
    "It is obtained by joining the points (x i , f i ) where x i is the midpoint of the i th class interval\n",
    "and f i is the corresponding frequency."
   ]
  },
  {
   "cell_type": "code",
   "execution_count": 805,
   "metadata": {},
   "outputs": [
    {
     "data": {
      "image/png": "[encoded data removed]",
      "text/plain": [
       "Plot with title “Histogram of y”"
      ]
     },
     "metadata": {
      "image/png": {
       "height": 420,
       "width": 420
      },
      "text/plain": {
       "height": 420,
       "width": 420
      }
     },
     "output_type": "display_data"
    }
   ],
   "source": [
    "lb <- seq(0,100,25)\n",
    "ub <- seq(25, 125, 25)\n",
    "midx <- (lb+ub)/2\n",
    "f <- c(5,8,13,11,3)\n",
    "x0 <- c(0, midx, 125)\n",
    "f0 <- c(0,f,0)\n",
    "y <- rep(midx,f)\n",
    "bks <- seq(0,125,25)\n",
    "hist(y,breaks=bks)"
   ]
  },
  {
   "cell_type": "code",
   "execution_count": 806,
   "metadata": {},
   "outputs": [
    {
     "data": {
      "image/png": "[encoded data removed]",
      "text/plain": [
       "Plot with title “Histogram of y”"
      ]
     },
     "metadata": {
      "image/png": {
       "height": 420,
       "width": 420
      },
      "text/plain": {
       "height": 420,
       "width": 420
      }
     },
     "output_type": "display_data"
    }
   ],
   "source": [
    "hist(y,breaks=bks)\n",
    "lines(x0, f0)"
   ]
  },
  {
   "cell_type": "code",
   "execution_count": 807,
   "metadata": {},
   "outputs": [
    {
     "data": {
      "image/png": "[encoded data removed]",
      "text/plain": [
       "Plot with title “Frequency Polygon”"
      ]
     },
     "metadata": {
      "image/png": {
       "height": 420,
       "width": 420
      },
      "text/plain": {
       "height": 420,
       "width": 420
      }
     },
     "output_type": "display_data"
    }
   ],
   "source": [
    "#OR\n",
    "plot(x0,f0, main = \"Frequency Polygon\", xlab =\"X-axis\", ylab = \"Y-axis\", type = \"o\",\n",
    "lty =6, xlim = range(min(x0),max(x0)))"
   ]
  },
  {
   "cell_type": "markdown",
   "metadata": {},
   "source": [
    "### Ogives:"
   ]
  },
  {
   "cell_type": "code",
   "execution_count": 808,
   "metadata": {},
   "outputs": [
    {
     "data": {
      "text/html": [
       "<style>\n",
       ".list-inline {list-style: none; margin:0; padding: 0}\n",
       ".list-inline>li {display: inline-block}\n",
       ".list-inline>li:not(:last-child)::after {content: \"\\00b7\"; padding: 0 .5ex}\n",
       "</style>\n",
       "<ol class=list-inline><li>5</li><li>8</li><li>13</li><li>11</li><li>3</li></ol>\n"
      ],
      "text/latex": [
       "\\begin{enumerate*}\n",
       "\\item 5\n",
       "\\item 8\n",
       "\\item 13\n",
       "\\item 11\n",
       "\\item 3\n",
       "\\end{enumerate*}\n"
      ],
      "text/markdown": [
       "1. 5\n",
       "2. 8\n",
       "3. 13\n",
       "4. 11\n",
       "5. 3\n",
       "\n",
       "\n"
      ],
      "text/plain": [
       "[1]  5  8 13 11  3"
      ]
     },
     "metadata": {},
     "output_type": "display_data"
    }
   ],
   "source": [
    "f <- c(5,8,13,11,3)\n",
    "f"
   ]
  },
  {
   "cell_type": "code",
   "execution_count": 809,
   "metadata": {},
   "outputs": [
    {
     "data": {
      "text/html": [
       "<style>\n",
       ".list-inline {list-style: none; margin:0; padding: 0}\n",
       ".list-inline>li {display: inline-block}\n",
       ".list-inline>li:not(:last-child)::after {content: \"\\00b7\"; padding: 0 .5ex}\n",
       "</style>\n",
       "<ol class=list-inline><li>5</li><li>13</li><li>26</li><li>37</li><li>40</li></ol>\n"
      ],
      "text/latex": [
       "\\begin{enumerate*}\n",
       "\\item 5\n",
       "\\item 13\n",
       "\\item 26\n",
       "\\item 37\n",
       "\\item 40\n",
       "\\end{enumerate*}\n"
      ],
      "text/markdown": [
       "1. 5\n",
       "2. 13\n",
       "3. 26\n",
       "4. 37\n",
       "5. 40\n",
       "\n",
       "\n"
      ],
      "text/plain": [
       "[1]  5 13 26 37 40"
      ]
     },
     "metadata": {},
     "output_type": "display_data"
    }
   ],
   "source": [
    "lc <- cumsum(f)\n",
    "lc"
   ]
  },
  {
   "cell_type": "code",
   "execution_count": 810,
   "metadata": {},
   "outputs": [
    {
     "data": {
      "text/html": [
       "<style>\n",
       ".list-inline {list-style: none; margin:0; padding: 0}\n",
       ".list-inline>li {display: inline-block}\n",
       ".list-inline>li:not(:last-child)::after {content: \"\\00b7\"; padding: 0 .5ex}\n",
       "</style>\n",
       "<ol class=list-inline><li>1</li><li>2</li><li>3</li><li>4</li><li>5</li></ol>\n"
      ],
      "text/latex": [
       "\\begin{enumerate*}\n",
       "\\item 1\n",
       "\\item 2\n",
       "\\item 3\n",
       "\\item 4\n",
       "\\item 5\n",
       "\\end{enumerate*}\n"
      ],
      "text/markdown": [
       "1. 1\n",
       "2. 2\n",
       "3. 3\n",
       "4. 4\n",
       "5. 5\n",
       "\n",
       "\n"
      ],
      "text/plain": [
       "[1] 1 2 3 4 5"
      ]
     },
     "metadata": {},
     "output_type": "display_data"
    }
   ],
   "source": [
    "uc <- 1:5\n",
    "uc"
   ]
  },
  {
   "cell_type": "code",
   "execution_count": 811,
   "metadata": {},
   "outputs": [
    {
     "data": {
      "text/html": [
       "<style>\n",
       ".list-inline {list-style: none; margin:0; padding: 0}\n",
       ".list-inline>li {display: inline-block}\n",
       ".list-inline>li:not(:last-child)::after {content: \"\\00b7\"; padding: 0 .5ex}\n",
       "</style>\n",
       "<ol class=list-inline><li>40</li><li>35</li><li>27</li><li>14</li><li>3</li></ol>\n"
      ],
      "text/latex": [
       "\\begin{enumerate*}\n",
       "\\item 40\n",
       "\\item 35\n",
       "\\item 27\n",
       "\\item 14\n",
       "\\item 3\n",
       "\\end{enumerate*}\n"
      ],
      "text/markdown": [
       "1. 40\n",
       "2. 35\n",
       "3. 27\n",
       "4. 14\n",
       "5. 3\n",
       "\n",
       "\n"
      ],
      "text/plain": [
       "[1] 40 35 27 14  3"
      ]
     },
     "metadata": {},
     "output_type": "display_data"
    }
   ],
   "source": [
    "for(i in 5:1)\n",
    "+ {uc[i] <- sum(f[5:i])}\n",
    "uc"
   ]
  },
  {
   "cell_type": "code",
   "execution_count": 812,
   "metadata": {},
   "outputs": [
    {
     "data": {
      "text/html": [
       "<style>\n",
       ".list-inline {list-style: none; margin:0; padding: 0}\n",
       ".list-inline>li {display: inline-block}\n",
       ".list-inline>li:not(:last-child)::after {content: \"\\00b7\"; padding: 0 .5ex}\n",
       "</style>\n",
       "<ol class=list-inline><li>0</li><li>25</li><li>50</li><li>75</li><li>100</li></ol>\n"
      ],
      "text/latex": [
       "\\begin{enumerate*}\n",
       "\\item 0\n",
       "\\item 25\n",
       "\\item 50\n",
       "\\item 75\n",
       "\\item 100\n",
       "\\end{enumerate*}\n"
      ],
      "text/markdown": [
       "1. 0\n",
       "2. 25\n",
       "3. 50\n",
       "4. 75\n",
       "5. 100\n",
       "\n",
       "\n"
      ],
      "text/plain": [
       "[1]   0  25  50  75 100"
      ]
     },
     "metadata": {},
     "output_type": "display_data"
    }
   ],
   "source": [
    "lbx <- seq(0,100,25)\n",
    "lbx"
   ]
  },
  {
   "cell_type": "code",
   "execution_count": 813,
   "metadata": {},
   "outputs": [
    {
     "data": {
      "text/html": [
       "<style>\n",
       ".list-inline {list-style: none; margin:0; padding: 0}\n",
       ".list-inline>li {display: inline-block}\n",
       ".list-inline>li:not(:last-child)::after {content: \"\\00b7\"; padding: 0 .5ex}\n",
       "</style>\n",
       "<ol class=list-inline><li>25</li><li>50</li><li>75</li><li>100</li><li>125</li></ol>\n"
      ],
      "text/latex": [
       "\\begin{enumerate*}\n",
       "\\item 25\n",
       "\\item 50\n",
       "\\item 75\n",
       "\\item 100\n",
       "\\item 125\n",
       "\\end{enumerate*}\n"
      ],
      "text/markdown": [
       "1. 25\n",
       "2. 50\n",
       "3. 75\n",
       "4. 100\n",
       "5. 125\n",
       "\n",
       "\n"
      ],
      "text/plain": [
       "[1]  25  50  75 100 125"
      ]
     },
     "metadata": {},
     "output_type": "display_data"
    }
   ],
   "source": [
    "ubx <- seq(25,125,25)\n",
    "ubx"
   ]
  },
  {
   "cell_type": "code",
   "execution_count": 814,
   "metadata": {},
   "outputs": [
    {
     "data": {
      "image/png": "[encoded data removed]",
      "text/plain": [
       "plot without title"
      ]
     },
     "metadata": {
      "image/png": {
       "height": 420,
       "width": 420
      },
      "text/plain": {
       "height": 420,
       "width": 420
      }
     },
     "output_type": "display_data"
    }
   ],
   "source": [
    "plot(ubx,lc,type = \"l\",xlim = c(0,100),xlab = \"Class Interval\", ylab = \"Cumulative\n",
    "frequency\",lwd =2)"
   ]
  },
  {
   "cell_type": "code",
   "execution_count": 815,
   "metadata": {},
   "outputs": [
    {
     "data": {
      "image/png": "[encoded data removed]",
      "text/plain": [
       "plot without title"
      ]
     },
     "metadata": {
      "image/png": {
       "height": 420,
       "width": 420
      },
      "text/plain": {
       "height": 420,
       "width": 420
      }
     },
     "output_type": "display_data"
    }
   ],
   "source": [
    "plot(ubx,lc,type = \"l\",xlim = c(0,100),xlab = \"Class Interval\", ylab = \"Cumulative\n",
    "frequency\",lwd =2)\n",
    "lines(lbx,uc,type = \"l\",xlim = c(0,100),xlab = \"Class Interval\", ylab = \"Cumulative\n",
    "frequency\",lwd =2)"
   ]
  },
  {
   "cell_type": "markdown",
   "metadata": {},
   "source": [
    "### Measures of central tendency, dispersion, moments, skewness and kurtosis:\n",
    "\n",
    "#### Reading a CSV file:\n",
    "“comma separated values” (csv). \n",
    "\n",
    "That is, each line contains a row of values which can be numbers or letters, and each value is separated by a comma. We also assume that the very first row contains a list of labels. \n",
    "\n",
    "The idea is that the labels in the top row are used to\n",
    "refer to the different columns of values.\n",
    "\n",
    "The command to read the data file is read.csv. We have to give the command at least one arguments, but we will give three different arguments to indicate how the command can be used in different situations. \n",
    "\n",
    "The first argument is the name of file. \n",
    "The second argument indicates whether or not the first row is a set of labels. \n",
    "\n",
    "The third argument indicates that there is a comma between each number of each line."
   ]
  },
  {
   "cell_type": "code",
   "execution_count": 816,
   "metadata": {},
   "outputs": [
    {
     "data": {
      "text/html": [
       "<table>\n",
       "<caption>A data.frame: 9 × 2</caption>\n",
       "<thead>\n",
       "\t<tr><th scope=col>Age</th><th scope=col>Income</th></tr>\n",
       "\t<tr><th scope=col>&lt;int&gt;</th><th scope=col>&lt;int&gt;</th></tr>\n",
       "</thead>\n",
       "<tbody>\n",
       "\t<tr><td>10</td><td>    0</td></tr>\n",
       "\t<tr><td>25</td><td>35000</td></tr>\n",
       "\t<tr><td>43</td><td>45000</td></tr>\n",
       "\t<tr><td>32</td><td>75000</td></tr>\n",
       "\t<tr><td>70</td><td>42000</td></tr>\n",
       "\t<tr><td>19</td><td>25000</td></tr>\n",
       "\t<tr><td> 5</td><td>    0</td></tr>\n",
       "\t<tr><td>21</td><td>20000</td></tr>\n",
       "\t<tr><td>35</td><td>60000</td></tr>\n",
       "</tbody>\n",
       "</table>\n"
      ],
      "text/latex": [
       "A data.frame: 9 × 2\n",
       "\\begin{tabular}{ll}\n",
       " Age & Income\\\\\n",
       " <int> & <int>\\\\\n",
       "\\hline\n",
       "\t 10 &     0\\\\\n",
       "\t 25 & 35000\\\\\n",
       "\t 43 & 45000\\\\\n",
       "\t 32 & 75000\\\\\n",
       "\t 70 & 42000\\\\\n",
       "\t 19 & 25000\\\\\n",
       "\t  5 &     0\\\\\n",
       "\t 21 & 20000\\\\\n",
       "\t 35 & 60000\\\\\n",
       "\\end{tabular}\n"
      ],
      "text/markdown": [
       "\n",
       "A data.frame: 9 × 2\n",
       "\n",
       "| Age &lt;int&gt; | Income &lt;int&gt; |\n",
       "|---|---|\n",
       "| 10 |     0 |\n",
       "| 25 | 35000 |\n",
       "| 43 | 45000 |\n",
       "| 32 | 75000 |\n",
       "| 70 | 42000 |\n",
       "| 19 | 25000 |\n",
       "|  5 |     0 |\n",
       "| 21 | 20000 |\n",
       "| 35 | 60000 |\n",
       "\n"
      ],
      "text/plain": [
       "  Age Income\n",
       "1 10      0 \n",
       "2 25  35000 \n",
       "3 43  45000 \n",
       "4 32  75000 \n",
       "5 70  42000 \n",
       "6 19  25000 \n",
       "7  5      0 \n",
       "8 21  20000 \n",
       "9 35  60000 "
      ]
     },
     "metadata": {},
     "output_type": "display_data"
    }
   ],
   "source": [
    "d <- read.csv(file=\"dataset_descriptiveStatistics.csv\",head=TRUE,sep=\",\")\n",
    "d"
   ]
  },
  {
   "cell_type": "code",
   "execution_count": 817,
   "metadata": {},
   "outputs": [
    {
     "data": {
      "text/html": [
       "<dl>\n",
       "\t<dt>$names</dt>\n",
       "\t\t<dd><style>\n",
       ".list-inline {list-style: none; margin:0; padding: 0}\n",
       ".list-inline>li {display: inline-block}\n",
       ".list-inline>li:not(:last-child)::after {content: \"\\00b7\"; padding: 0 .5ex}\n",
       "</style>\n",
       "<ol class=list-inline><li>'Age'</li><li>'Income'</li></ol>\n",
       "</dd>\n",
       "\t<dt>$class</dt>\n",
       "\t\t<dd>'data.frame'</dd>\n",
       "\t<dt>$row.names</dt>\n",
       "\t\t<dd><style>\n",
       ".list-inline {list-style: none; margin:0; padding: 0}\n",
       ".list-inline>li {display: inline-block}\n",
       ".list-inline>li:not(:last-child)::after {content: \"\\00b7\"; padding: 0 .5ex}\n",
       "</style>\n",
       "<ol class=list-inline><li>1</li><li>2</li><li>3</li><li>4</li><li>5</li><li>6</li><li>7</li><li>8</li><li>9</li></ol>\n",
       "</dd>\n",
       "</dl>\n"
      ],
      "text/latex": [
       "\\begin{description}\n",
       "\\item[\\$names] \\begin{enumerate*}\n",
       "\\item 'Age'\n",
       "\\item 'Income'\n",
       "\\end{enumerate*}\n",
       "\n",
       "\\item[\\$class] 'data.frame'\n",
       "\\item[\\$row.names] \\begin{enumerate*}\n",
       "\\item 1\n",
       "\\item 2\n",
       "\\item 3\n",
       "\\item 4\n",
       "\\item 5\n",
       "\\item 6\n",
       "\\item 7\n",
       "\\item 8\n",
       "\\item 9\n",
       "\\end{enumerate*}\n",
       "\n",
       "\\end{description}\n"
      ],
      "text/markdown": [
       "$names\n",
       ":   1. 'Age'\n",
       "2. 'Income'\n",
       "\n",
       "\n",
       "\n",
       "$class\n",
       ":   'data.frame'\n",
       "$row.names\n",
       ":   1. 1\n",
       "2. 2\n",
       "3. 3\n",
       "4. 4\n",
       "5. 5\n",
       "6. 6\n",
       "7. 7\n",
       "8. 8\n",
       "9. 9\n",
       "\n",
       "\n",
       "\n",
       "\n",
       "\n"
      ],
      "text/plain": [
       "$names\n",
       "[1] \"Age\"    \"Income\"\n",
       "\n",
       "$class\n",
       "[1] \"data.frame\"\n",
       "\n",
       "$row.names\n",
       "[1] 1 2 3 4 5 6 7 8 9\n"
      ]
     },
     "metadata": {},
     "output_type": "display_data"
    }
   ],
   "source": [
    "attributes(d)"
   ]
  },
  {
   "cell_type": "code",
   "execution_count": 818,
   "metadata": {},
   "outputs": [
    {
     "data": {
      "text/html": [
       "28.8888888888889"
      ],
      "text/latex": [
       "28.8888888888889"
      ],
      "text/markdown": [
       "28.8888888888889"
      ],
      "text/plain": [
       "[1] 28.88889"
      ]
     },
     "metadata": {},
     "output_type": "display_data"
    }
   ],
   "source": [
    "mean(d$Age)"
   ]
  },
  {
   "cell_type": "code",
   "execution_count": 819,
   "metadata": {},
   "outputs": [
    {
     "data": {
      "text/html": [
       "25323.4629894447"
      ],
      "text/latex": [
       "25323.4629894447"
      ],
      "text/markdown": [
       "25323.4629894447"
      ],
      "text/plain": [
       "[1] 25323.46"
      ]
     },
     "metadata": {},
     "output_type": "display_data"
    }
   ],
   "source": [
    "sd(d$Income)"
   ]
  },
  {
   "cell_type": "code",
   "execution_count": 820,
   "metadata": {},
   "outputs": [
    {
     "data": {
      "text/html": [
       "<style>\n",
       ".list-inline {list-style: none; margin:0; padding: 0}\n",
       ".list-inline>li {display: inline-block}\n",
       ".list-inline>li:not(:last-child)::after {content: \"\\00b7\"; padding: 0 .5ex}\n",
       "</style>\n",
       "<ol class=list-inline><li>5</li><li>70</li></ol>\n"
      ],
      "text/latex": [
       "\\begin{enumerate*}\n",
       "\\item 5\n",
       "\\item 70\n",
       "\\end{enumerate*}\n"
      ],
      "text/markdown": [
       "1. 5\n",
       "2. 70\n",
       "\n",
       "\n"
      ],
      "text/plain": [
       "[1]  5 70"
      ]
     },
     "metadata": {},
     "output_type": "display_data"
    }
   ],
   "source": [
    "range(d$Age)"
   ]
  },
  {
   "cell_type": "code",
   "execution_count": 821,
   "metadata": {},
   "outputs": [
    {
     "data": {
      "text/html": [
       "<style>\n",
       ".dl-inline {width: auto; margin:0; padding: 0}\n",
       ".dl-inline>dt, .dl-inline>dd {float: none; width: auto; display: inline-block}\n",
       ".dl-inline>dt::after {content: \":\\0020\"; padding-right: .5ex}\n",
       ".dl-inline>dt:not(:first-of-type) {padding-left: .5ex}\n",
       "</style><dl class=dl-inline><dt>25%</dt><dd>19</dd><dt>75%</dt><dd>35</dd></dl>\n"
      ],
      "text/latex": [
       "\\begin{description*}\n",
       "\\item[25\\textbackslash{}\\%] 19\n",
       "\\item[75\\textbackslash{}\\%] 35\n",
       "\\end{description*}\n"
      ],
      "text/markdown": [
       "25%\n",
       ":   1975%\n",
       ":   35\n",
       "\n"
      ],
      "text/plain": [
       "25% 75% \n",
       " 19  35 "
      ]
     },
     "metadata": {},
     "output_type": "display_data"
    }
   ],
   "source": [
    "quantile(d$Age, c(0.25, 0.75))"
   ]
  },
  {
   "cell_type": "code",
   "execution_count": 822,
   "metadata": {},
   "outputs": [
    {
     "data": {
      "text/html": [
       "<style>\n",
       ".dl-inline {width: auto; margin:0; padding: 0}\n",
       ".dl-inline>dt, .dl-inline>dd {float: none; width: auto; display: inline-block}\n",
       ".dl-inline>dt::after {content: \":\\0020\"; padding-right: .5ex}\n",
       ".dl-inline>dt:not(:first-of-type) {padding-left: .5ex}\n",
       "</style><dl class=dl-inline><dt>0%</dt><dd>0</dd><dt>25%</dt><dd>20000</dd><dt>50%</dt><dd>35000</dd><dt>75%</dt><dd>45000</dd><dt>100%</dt><dd>75000</dd></dl>\n"
      ],
      "text/latex": [
       "\\begin{description*}\n",
       "\\item[0\\textbackslash{}\\%] 0\n",
       "\\item[25\\textbackslash{}\\%] 20000\n",
       "\\item[50\\textbackslash{}\\%] 35000\n",
       "\\item[75\\textbackslash{}\\%] 45000\n",
       "\\item[100\\textbackslash{}\\%] 75000\n",
       "\\end{description*}\n"
      ],
      "text/markdown": [
       "0%\n",
       ":   025%\n",
       ":   2000050%\n",
       ":   3500075%\n",
       ":   45000100%\n",
       ":   75000\n",
       "\n"
      ],
      "text/plain": [
       "   0%   25%   50%   75%  100% \n",
       "    0 20000 35000 45000 75000 "
      ]
     },
     "metadata": {},
     "output_type": "display_data"
    }
   ],
   "source": [
    "quantile(d$Income)"
   ]
  },
  {
   "cell_type": "markdown",
   "metadata": {},
   "source": [
    "**Percentile rank:** The steps involved in calculating a percentile rank.\n",
    "1. count the number of data points that are at or below the given value\n",
    "2. divide by the total number of data points\n",
    "3. multiply by 100"
   ]
  },
  {
   "cell_type": "code",
   "execution_count": 578,
   "metadata": {},
   "outputs": [
    {
     "data": {
      "text/html": [
       "88.8888888888889"
      ],
      "text/latex": [
       "88.8888888888889"
      ],
      "text/markdown": [
       "88.8888888888889"
      ],
      "text/plain": [
       "[1] 88.88889"
      ]
     },
     "metadata": {},
     "output_type": "display_data"
    }
   ],
   "source": [
    "length(d$Age[d$Age <= 45]) / length(d$Age) * 100"
   ]
  },
  {
   "cell_type": "code",
   "execution_count": 579,
   "metadata": {},
   "outputs": [
    {
     "data": {
      "text/plain": [
       "   Min. 1st Qu.  Median    Mean 3rd Qu.    Max. \n",
       "      0   20000   35000   33556   45000   75000 "
      ]
     },
     "metadata": {},
     "output_type": "display_data"
    }
   ],
   "source": [
    "summary(d$Income)"
   ]
  },
  {
   "cell_type": "code",
   "execution_count": 580,
   "metadata": {},
   "outputs": [
    {
     "data": {
      "text/plain": [
       "      Age            Income     \n",
       " Min.   : 5.00   Min.   :    0  \n",
       " 1st Qu.:19.00   1st Qu.:20000  \n",
       " Median :25.00   Median :35000  \n",
       " Mean   :28.89   Mean   :33556  \n",
       " 3rd Qu.:35.00   3rd Qu.:45000  \n",
       " Max.   :70.00   Max.   :75000  "
      ]
     },
     "metadata": {},
     "output_type": "display_data"
    }
   ],
   "source": [
    "summary(d)"
   ]
  },
  {
   "cell_type": "markdown",
   "metadata": {},
   "source": [
    "#### method of accessing dataset variables:"
   ]
  },
  {
   "cell_type": "code",
   "execution_count": 581,
   "metadata": {},
   "outputs": [],
   "source": [
    "attach(d)"
   ]
  },
  {
   "cell_type": "code",
   "execution_count": 582,
   "metadata": {},
   "outputs": [
    {
     "data": {
      "text/html": [
       "28.8888888888889"
      ],
      "text/latex": [
       "28.8888888888889"
      ],
      "text/markdown": [
       "28.8888888888889"
      ],
      "text/plain": [
       "[1] 28.88889"
      ]
     },
     "metadata": {},
     "output_type": "display_data"
    }
   ],
   "source": [
    "mean(Age)"
   ]
  },
  {
   "cell_type": "code",
   "execution_count": 583,
   "metadata": {},
   "outputs": [
    {
     "data": {
      "text/html": [
       "33555.5555555556"
      ],
      "text/latex": [
       "33555.5555555556"
      ],
      "text/markdown": [
       "33555.5555555556"
      ],
      "text/plain": [
       "[1] 33555.56"
      ]
     },
     "metadata": {},
     "output_type": "display_data"
    }
   ],
   "source": [
    "mean(Income)"
   ]
  },
  {
   "cell_type": "code",
   "execution_count": 584,
   "metadata": {},
   "outputs": [],
   "source": [
    "x = c(170, 151, 154, 160 ,158, 154 ,171 ,156, 160 ,157 ,148 ,165, 158,160, 157, 159, 155, 151, 152, 161, 156, 164, 156, 163, 174, 153, 170, 149 ,166 ,154,166, 160, 160, 161, 154, 163, 164, 160, 148, 162, 167, 165, 158, 158, 176)"
   ]
  },
  {
   "cell_type": "code",
   "execution_count": 585,
   "metadata": {},
   "outputs": [
    {
     "data": {
      "text/html": [
       "159.644444444444"
      ],
      "text/latex": [
       "159.644444444444"
      ],
      "text/markdown": [
       "159.644444444444"
      ],
      "text/plain": [
       "[1] 159.6444"
      ]
     },
     "metadata": {},
     "output_type": "display_data"
    }
   ],
   "source": [
    "avg <- mean(x)\n",
    "avg"
   ]
  },
  {
   "cell_type": "code",
   "execution_count": 586,
   "metadata": {},
   "outputs": [
    {
     "data": {
      "text/html": [
       "160"
      ],
      "text/latex": [
       "160"
      ],
      "text/markdown": [
       "160"
      ],
      "text/plain": [
       "[1] 160"
      ]
     },
     "metadata": {},
     "output_type": "display_data"
    }
   ],
   "source": [
    "me <- median(x)\n",
    "me"
   ]
  },
  {
   "cell_type": "code",
   "execution_count": 587,
   "metadata": {},
   "outputs": [
    {
     "data": {
      "text/plain": [
       "x\n",
       "148 149 151 152 153 154 155 156 157 158 159 160 161 162 163 164 165 166 167 170 \n",
       "  2   1   2   1   1   4   1   3   2   4   1   6   2   1   2   2   2   2   1   2 \n",
       "171 174 176 \n",
       "  1   1   1 "
      ]
     },
     "metadata": {},
     "output_type": "display_data"
    }
   ],
   "source": [
    "xt <- table(x); xt"
   ]
  },
  {
   "cell_type": "code",
   "execution_count": 588,
   "metadata": {},
   "outputs": [
    {
     "data": {
      "text/html": [
       "<strong>160:</strong> 12"
      ],
      "text/latex": [
       "\\textbf{160:} 12"
      ],
      "text/markdown": [
       "**160:** 12"
      ],
      "text/plain": [
       "160 \n",
       " 12 "
      ]
     },
     "metadata": {},
     "output_type": "display_data"
    }
   ],
   "source": [
    "mode <- which(xt == max(xt))\n",
    "mode"
   ]
  },
  {
   "cell_type": "code",
   "execution_count": 589,
   "metadata": {},
   "outputs": [
    {
     "data": {
      "text/plain": [
       "   Min. 1st Qu.  Median    Mean 3rd Qu.    Max. \n",
       "  148.0   155.0   160.0   159.6   164.0   176.0 "
      ]
     },
     "metadata": {},
     "output_type": "display_data"
    }
   ],
   "source": [
    "summary(x)"
   ]
  },
  {
   "attachments": {
    "16.png": {
     "image/png": "[encoded data removed]"
    }
   },
   "cell_type": "markdown",
   "metadata": {},
   "source": [
    "#### Mean-Median-Mode for ungrouped frequency data\n",
    "![16.png](attachment:16.png)\n",
    "Steps are as follows\n",
    "1. Create vector of variable x\n",
    "2. Create vector of frequency f\n",
    "3. Using rep(x,f) convert it into raw data\n",
    "4. Then calculate various measures of central tendencies mean(), median() etc"
   ]
  },
  {
   "cell_type": "code",
   "execution_count": 590,
   "metadata": {},
   "outputs": [
    {
     "data": {
      "text/html": [
       "<style>\n",
       ".list-inline {list-style: none; margin:0; padding: 0}\n",
       ".list-inline>li {display: inline-block}\n",
       ".list-inline>li:not(:last-child)::after {content: \"\\00b7\"; padding: 0 .5ex}\n",
       "</style>\n",
       "<ol class=list-inline><li>150</li><li>155</li><li>160</li><li>165</li><li>170</li><li>175</li></ol>\n"
      ],
      "text/latex": [
       "\\begin{enumerate*}\n",
       "\\item 150\n",
       "\\item 155\n",
       "\\item 160\n",
       "\\item 165\n",
       "\\item 170\n",
       "\\item 175\n",
       "\\end{enumerate*}\n"
      ],
      "text/markdown": [
       "1. 150\n",
       "2. 155\n",
       "3. 160\n",
       "4. 165\n",
       "5. 170\n",
       "6. 175\n",
       "\n",
       "\n"
      ],
      "text/plain": [
       "[1] 150 155 160 165 170 175"
      ]
     },
     "metadata": {},
     "output_type": "display_data"
    }
   ],
   "source": [
    "x<- seq(150,175,5)\n",
    "x"
   ]
  },
  {
   "cell_type": "code",
   "execution_count": 591,
   "metadata": {},
   "outputs": [
    {
     "data": {
      "text/html": [
       "<style>\n",
       ".list-inline {list-style: none; margin:0; padding: 0}\n",
       ".list-inline>li {display: inline-block}\n",
       ".list-inline>li:not(:last-child)::after {content: \"\\00b7\"; padding: 0 .5ex}\n",
       "</style>\n",
       "<ol class=list-inline><li>6</li><li>11</li><li>14</li><li>9</li><li>3</li><li>2</li></ol>\n"
      ],
      "text/latex": [
       "\\begin{enumerate*}\n",
       "\\item 6\n",
       "\\item 11\n",
       "\\item 14\n",
       "\\item 9\n",
       "\\item 3\n",
       "\\item 2\n",
       "\\end{enumerate*}\n"
      ],
      "text/markdown": [
       "1. 6\n",
       "2. 11\n",
       "3. 14\n",
       "4. 9\n",
       "5. 3\n",
       "6. 2\n",
       "\n",
       "\n"
      ],
      "text/plain": [
       "[1]  6 11 14  9  3  2"
      ]
     },
     "metadata": {},
     "output_type": "display_data"
    }
   ],
   "source": [
    "f <- c(6,11,14,9,3,2)\n",
    "f"
   ]
  },
  {
   "cell_type": "code",
   "execution_count": 592,
   "metadata": {},
   "outputs": [
    {
     "data": {
      "text/html": [
       "<style>\n",
       ".list-inline {list-style: none; margin:0; padding: 0}\n",
       ".list-inline>li {display: inline-block}\n",
       ".list-inline>li:not(:last-child)::after {content: \"\\00b7\"; padding: 0 .5ex}\n",
       "</style>\n",
       "<ol class=list-inline><li>150</li><li>150</li><li>150</li><li>150</li><li>150</li><li>150</li><li>155</li><li>155</li><li>155</li><li>155</li><li>155</li><li>155</li><li>155</li><li>155</li><li>155</li><li>155</li><li>155</li><li>160</li><li>160</li><li>160</li><li>160</li><li>160</li><li>160</li><li>160</li><li>160</li><li>160</li><li>160</li><li>160</li><li>160</li><li>160</li><li>160</li><li>165</li><li>165</li><li>165</li><li>165</li><li>165</li><li>165</li><li>165</li><li>165</li><li>165</li><li>170</li><li>170</li><li>170</li><li>175</li><li>175</li></ol>\n"
      ],
      "text/latex": [
       "\\begin{enumerate*}\n",
       "\\item 150\n",
       "\\item 150\n",
       "\\item 150\n",
       "\\item 150\n",
       "\\item 150\n",
       "\\item 150\n",
       "\\item 155\n",
       "\\item 155\n",
       "\\item 155\n",
       "\\item 155\n",
       "\\item 155\n",
       "\\item 155\n",
       "\\item 155\n",
       "\\item 155\n",
       "\\item 155\n",
       "\\item 155\n",
       "\\item 155\n",
       "\\item 160\n",
       "\\item 160\n",
       "\\item 160\n",
       "\\item 160\n",
       "\\item 160\n",
       "\\item 160\n",
       "\\item 160\n",
       "\\item 160\n",
       "\\item 160\n",
       "\\item 160\n",
       "\\item 160\n",
       "\\item 160\n",
       "\\item 160\n",
       "\\item 160\n",
       "\\item 165\n",
       "\\item 165\n",
       "\\item 165\n",
       "\\item 165\n",
       "\\item 165\n",
       "\\item 165\n",
       "\\item 165\n",
       "\\item 165\n",
       "\\item 165\n",
       "\\item 170\n",
       "\\item 170\n",
       "\\item 170\n",
       "\\item 175\n",
       "\\item 175\n",
       "\\end{enumerate*}\n"
      ],
      "text/markdown": [
       "1. 150\n",
       "2. 150\n",
       "3. 150\n",
       "4. 150\n",
       "5. 150\n",
       "6. 150\n",
       "7. 155\n",
       "8. 155\n",
       "9. 155\n",
       "10. 155\n",
       "11. 155\n",
       "12. 155\n",
       "13. 155\n",
       "14. 155\n",
       "15. 155\n",
       "16. 155\n",
       "17. 155\n",
       "18. 160\n",
       "19. 160\n",
       "20. 160\n",
       "21. 160\n",
       "22. 160\n",
       "23. 160\n",
       "24. 160\n",
       "25. 160\n",
       "26. 160\n",
       "27. 160\n",
       "28. 160\n",
       "29. 160\n",
       "30. 160\n",
       "31. 160\n",
       "32. 165\n",
       "33. 165\n",
       "34. 165\n",
       "35. 165\n",
       "36. 165\n",
       "37. 165\n",
       "38. 165\n",
       "39. 165\n",
       "40. 165\n",
       "41. 170\n",
       "42. 170\n",
       "43. 170\n",
       "44. 175\n",
       "45. 175\n",
       "\n",
       "\n"
      ],
      "text/plain": [
       " [1] 150 150 150 150 150 150 155 155 155 155 155 155 155 155 155 155 155 160 160\n",
       "[20] 160 160 160 160 160 160 160 160 160 160 160 160 165 165 165 165 165 165 165\n",
       "[39] 165 165 170 170 170 175 175"
      ]
     },
     "metadata": {},
     "output_type": "display_data"
    }
   ],
   "source": [
    "y <- rep(x,f)\n",
    "y"
   ]
  },
  {
   "cell_type": "code",
   "execution_count": 593,
   "metadata": {},
   "outputs": [
    {
     "data": {
      "text/html": [
       "159.777777777778"
      ],
      "text/latex": [
       "159.777777777778"
      ],
      "text/markdown": [
       "159.777777777778"
      ],
      "text/plain": [
       "[1] 159.7778"
      ]
     },
     "metadata": {},
     "output_type": "display_data"
    }
   ],
   "source": [
    "avg <- mean(y)\n",
    "avg"
   ]
  },
  {
   "cell_type": "code",
   "execution_count": 594,
   "metadata": {},
   "outputs": [
    {
     "data": {
      "text/html": [
       "159.777777777778"
      ],
      "text/latex": [
       "159.777777777778"
      ],
      "text/markdown": [
       "159.777777777778"
      ],
      "text/plain": [
       "[1] 159.7778"
      ]
     },
     "metadata": {},
     "output_type": "display_data"
    }
   ],
   "source": [
    "avg <- sum(y)/length(y)\n",
    "avg"
   ]
  },
  {
   "cell_type": "code",
   "execution_count": 595,
   "metadata": {},
   "outputs": [
    {
     "data": {
      "text/html": [
       "160"
      ],
      "text/latex": [
       "160"
      ],
      "text/markdown": [
       "160"
      ],
      "text/plain": [
       "[1] 160"
      ]
     },
     "metadata": {},
     "output_type": "display_data"
    }
   ],
   "source": [
    "me <- median(y)\n",
    "me"
   ]
  },
  {
   "cell_type": "code",
   "execution_count": 596,
   "metadata": {},
   "outputs": [
    {
     "data": {
      "text/plain": [
       "y\n",
       "150 155 160 165 170 175 \n",
       "  6  11  14   9   3   2 "
      ]
     },
     "metadata": {},
     "output_type": "display_data"
    }
   ],
   "source": [
    "xt <- table(y)\n",
    "xt"
   ]
  },
  {
   "cell_type": "code",
   "execution_count": 597,
   "metadata": {},
   "outputs": [
    {
     "data": {
      "text/html": [
       "<style>\n",
       ".list-inline {list-style: none; margin:0; padding: 0}\n",
       ".list-inline>li {display: inline-block}\n",
       ".list-inline>li:not(:last-child)::after {content: \"\\00b7\"; padding: 0 .5ex}\n",
       "</style>\n",
       "<ol class=list-inline><li>150</li><li>150</li><li>150</li><li>150</li><li>150</li><li>150</li><li>155</li><li>155</li><li>155</li><li>155</li><li>155</li><li>155</li><li>155</li><li>155</li><li>155</li><li>155</li><li>155</li><li>160</li><li>160</li><li>160</li><li>160</li><li>160</li><li>160</li><li>160</li><li>160</li><li>160</li><li>160</li><li>160</li><li>160</li><li>160</li><li>160</li><li>165</li><li>165</li><li>165</li><li>165</li><li>165</li><li>165</li><li>165</li><li>165</li><li>165</li><li>170</li><li>170</li><li>170</li><li>175</li><li>175</li></ol>\n"
      ],
      "text/latex": [
       "\\begin{enumerate*}\n",
       "\\item 150\n",
       "\\item 150\n",
       "\\item 150\n",
       "\\item 150\n",
       "\\item 150\n",
       "\\item 150\n",
       "\\item 155\n",
       "\\item 155\n",
       "\\item 155\n",
       "\\item 155\n",
       "\\item 155\n",
       "\\item 155\n",
       "\\item 155\n",
       "\\item 155\n",
       "\\item 155\n",
       "\\item 155\n",
       "\\item 155\n",
       "\\item 160\n",
       "\\item 160\n",
       "\\item 160\n",
       "\\item 160\n",
       "\\item 160\n",
       "\\item 160\n",
       "\\item 160\n",
       "\\item 160\n",
       "\\item 160\n",
       "\\item 160\n",
       "\\item 160\n",
       "\\item 160\n",
       "\\item 160\n",
       "\\item 160\n",
       "\\item 165\n",
       "\\item 165\n",
       "\\item 165\n",
       "\\item 165\n",
       "\\item 165\n",
       "\\item 165\n",
       "\\item 165\n",
       "\\item 165\n",
       "\\item 165\n",
       "\\item 170\n",
       "\\item 170\n",
       "\\item 170\n",
       "\\item 175\n",
       "\\item 175\n",
       "\\end{enumerate*}\n"
      ],
      "text/markdown": [
       "1. 150\n",
       "2. 150\n",
       "3. 150\n",
       "4. 150\n",
       "5. 150\n",
       "6. 150\n",
       "7. 155\n",
       "8. 155\n",
       "9. 155\n",
       "10. 155\n",
       "11. 155\n",
       "12. 155\n",
       "13. 155\n",
       "14. 155\n",
       "15. 155\n",
       "16. 155\n",
       "17. 155\n",
       "18. 160\n",
       "19. 160\n",
       "20. 160\n",
       "21. 160\n",
       "22. 160\n",
       "23. 160\n",
       "24. 160\n",
       "25. 160\n",
       "26. 160\n",
       "27. 160\n",
       "28. 160\n",
       "29. 160\n",
       "30. 160\n",
       "31. 160\n",
       "32. 165\n",
       "33. 165\n",
       "34. 165\n",
       "35. 165\n",
       "36. 165\n",
       "37. 165\n",
       "38. 165\n",
       "39. 165\n",
       "40. 165\n",
       "41. 170\n",
       "42. 170\n",
       "43. 170\n",
       "44. 175\n",
       "45. 175\n",
       "\n",
       "\n"
      ],
      "text/plain": [
       " [1] 150 150 150 150 150 150 155 155 155 155 155 155 155 155 155 155 155 160 160\n",
       "[20] 160 160 160 160 160 160 160 160 160 160 160 160 165 165 165 165 165 165 165\n",
       "[39] 165 165 170 170 170 175 175"
      ]
     },
     "metadata": {},
     "output_type": "display_data"
    }
   ],
   "source": [
    "y"
   ]
  },
  {
   "cell_type": "code",
   "execution_count": 598,
   "metadata": {},
   "outputs": [
    {
     "data": {
      "text/html": [
       "<strong>160:</strong> 3"
      ],
      "text/latex": [
       "\\textbf{160:} 3"
      ],
      "text/markdown": [
       "**160:** 3"
      ],
      "text/plain": [
       "160 \n",
       "  3 "
      ]
     },
     "metadata": {},
     "output_type": "display_data"
    }
   ],
   "source": [
    "mode <- which(xt == max(xt))\n",
    "mode"
   ]
  },
  {
   "cell_type": "code",
   "execution_count": 599,
   "metadata": {},
   "outputs": [
    {
     "data": {
      "text/plain": [
       "   Min. 1st Qu.  Median    Mean 3rd Qu.    Max. \n",
       "  150.0   155.0   160.0   159.8   165.0   175.0 "
      ]
     },
     "metadata": {},
     "output_type": "display_data"
    }
   ],
   "source": [
    "summary(y)"
   ]
  },
  {
   "attachments": {
    "17.png": {
     "image/png": "[encoded data removed]"
    },
    "18.png": {
     "image/png": "[encoded data removed]"
    }
   },
   "cell_type": "markdown",
   "metadata": {},
   "source": [
    "### Mean-Median-Mode for grouped frequency data\n",
    "![17.png](attachment:17.png)\n",
    "First step calculate mid-value of each class interval\n",
    "![18.png](attachment:18.png)"
   ]
  },
  {
   "cell_type": "code",
   "execution_count": 600,
   "metadata": {},
   "outputs": [
    {
     "data": {
      "text/html": [
       "<style>\n",
       ".list-inline {list-style: none; margin:0; padding: 0}\n",
       ".list-inline>li {display: inline-block}\n",
       ".list-inline>li:not(:last-child)::after {content: \"\\00b7\"; padding: 0 .5ex}\n",
       "</style>\n",
       "<ol class=list-inline><li>0</li><li>25</li><li>50</li><li>75</li><li>100</li></ol>\n"
      ],
      "text/latex": [
       "\\begin{enumerate*}\n",
       "\\item 0\n",
       "\\item 25\n",
       "\\item 50\n",
       "\\item 75\n",
       "\\item 100\n",
       "\\end{enumerate*}\n"
      ],
      "text/markdown": [
       "1. 0\n",
       "2. 25\n",
       "3. 50\n",
       "4. 75\n",
       "5. 100\n",
       "\n",
       "\n"
      ],
      "text/plain": [
       "[1]   0  25  50  75 100"
      ]
     },
     "metadata": {},
     "output_type": "display_data"
    }
   ],
   "source": [
    "lb <- seq(0,100,25);lb"
   ]
  },
  {
   "cell_type": "code",
   "execution_count": 601,
   "metadata": {},
   "outputs": [
    {
     "data": {
      "text/html": [
       "<style>\n",
       ".list-inline {list-style: none; margin:0; padding: 0}\n",
       ".list-inline>li {display: inline-block}\n",
       ".list-inline>li:not(:last-child)::after {content: \"\\00b7\"; padding: 0 .5ex}\n",
       "</style>\n",
       "<ol class=list-inline><li>25</li><li>50</li><li>75</li><li>100</li><li>125</li></ol>\n"
      ],
      "text/latex": [
       "\\begin{enumerate*}\n",
       "\\item 25\n",
       "\\item 50\n",
       "\\item 75\n",
       "\\item 100\n",
       "\\item 125\n",
       "\\end{enumerate*}\n"
      ],
      "text/markdown": [
       "1. 25\n",
       "2. 50\n",
       "3. 75\n",
       "4. 100\n",
       "5. 125\n",
       "\n",
       "\n"
      ],
      "text/plain": [
       "[1]  25  50  75 100 125"
      ]
     },
     "metadata": {},
     "output_type": "display_data"
    }
   ],
   "source": [
    "ub <- seq(25,125,25);ub"
   ]
  },
  {
   "cell_type": "code",
   "execution_count": 602,
   "metadata": {},
   "outputs": [
    {
     "data": {
      "text/html": [
       "<style>\n",
       ".list-inline {list-style: none; margin:0; padding: 0}\n",
       ".list-inline>li {display: inline-block}\n",
       ".list-inline>li:not(:last-child)::after {content: \"\\00b7\"; padding: 0 .5ex}\n",
       "</style>\n",
       "<ol class=list-inline><li>12.5</li><li>37.5</li><li>62.5</li><li>87.5</li><li>112.5</li></ol>\n"
      ],
      "text/latex": [
       "\\begin{enumerate*}\n",
       "\\item 12.5\n",
       "\\item 37.5\n",
       "\\item 62.5\n",
       "\\item 87.5\n",
       "\\item 112.5\n",
       "\\end{enumerate*}\n"
      ],
      "text/markdown": [
       "1. 12.5\n",
       "2. 37.5\n",
       "3. 62.5\n",
       "4. 87.5\n",
       "5. 112.5\n",
       "\n",
       "\n"
      ],
      "text/plain": [
       "[1]  12.5  37.5  62.5  87.5 112.5"
      ]
     },
     "metadata": {},
     "output_type": "display_data"
    }
   ],
   "source": [
    "midx <- (lb+ub)/2;midx"
   ]
  },
  {
   "cell_type": "code",
   "execution_count": 603,
   "metadata": {},
   "outputs": [
    {
     "data": {
      "text/html": [
       "<style>\n",
       ".list-inline {list-style: none; margin:0; padding: 0}\n",
       ".list-inline>li {display: inline-block}\n",
       ".list-inline>li:not(:last-child)::after {content: \"\\00b7\"; padding: 0 .5ex}\n",
       "</style>\n",
       "<ol class=list-inline><li>5</li><li>8</li><li>13</li><li>11</li><li>3</li></ol>\n"
      ],
      "text/latex": [
       "\\begin{enumerate*}\n",
       "\\item 5\n",
       "\\item 8\n",
       "\\item 13\n",
       "\\item 11\n",
       "\\item 3\n",
       "\\end{enumerate*}\n"
      ],
      "text/markdown": [
       "1. 5\n",
       "2. 8\n",
       "3. 13\n",
       "4. 11\n",
       "5. 3\n",
       "\n",
       "\n"
      ],
      "text/plain": [
       "[1]  5  8 13 11  3"
      ]
     },
     "metadata": {},
     "output_type": "display_data"
    }
   ],
   "source": [
    "f <- c(5,8,13,11,3)\n",
    "f"
   ]
  },
  {
   "cell_type": "code",
   "execution_count": 604,
   "metadata": {},
   "outputs": [
    {
     "data": {
      "text/html": [
       "<style>\n",
       ".list-inline {list-style: none; margin:0; padding: 0}\n",
       ".list-inline>li {display: inline-block}\n",
       ".list-inline>li:not(:last-child)::after {content: \"\\00b7\"; padding: 0 .5ex}\n",
       "</style>\n",
       "<ol class=list-inline><li>12.5</li><li>12.5</li><li>12.5</li><li>12.5</li><li>12.5</li><li>37.5</li><li>37.5</li><li>37.5</li><li>37.5</li><li>37.5</li><li>37.5</li><li>37.5</li><li>37.5</li><li>62.5</li><li>62.5</li><li>62.5</li><li>62.5</li><li>62.5</li><li>62.5</li><li>62.5</li><li>62.5</li><li>62.5</li><li>62.5</li><li>62.5</li><li>62.5</li><li>62.5</li><li>87.5</li><li>87.5</li><li>87.5</li><li>87.5</li><li>87.5</li><li>87.5</li><li>87.5</li><li>87.5</li><li>87.5</li><li>87.5</li><li>87.5</li><li>112.5</li><li>112.5</li><li>112.5</li></ol>\n"
      ],
      "text/latex": [
       "\\begin{enumerate*}\n",
       "\\item 12.5\n",
       "\\item 12.5\n",
       "\\item 12.5\n",
       "\\item 12.5\n",
       "\\item 12.5\n",
       "\\item 37.5\n",
       "\\item 37.5\n",
       "\\item 37.5\n",
       "\\item 37.5\n",
       "\\item 37.5\n",
       "\\item 37.5\n",
       "\\item 37.5\n",
       "\\item 37.5\n",
       "\\item 62.5\n",
       "\\item 62.5\n",
       "\\item 62.5\n",
       "\\item 62.5\n",
       "\\item 62.5\n",
       "\\item 62.5\n",
       "\\item 62.5\n",
       "\\item 62.5\n",
       "\\item 62.5\n",
       "\\item 62.5\n",
       "\\item 62.5\n",
       "\\item 62.5\n",
       "\\item 62.5\n",
       "\\item 87.5\n",
       "\\item 87.5\n",
       "\\item 87.5\n",
       "\\item 87.5\n",
       "\\item 87.5\n",
       "\\item 87.5\n",
       "\\item 87.5\n",
       "\\item 87.5\n",
       "\\item 87.5\n",
       "\\item 87.5\n",
       "\\item 87.5\n",
       "\\item 112.5\n",
       "\\item 112.5\n",
       "\\item 112.5\n",
       "\\end{enumerate*}\n"
      ],
      "text/markdown": [
       "1. 12.5\n",
       "2. 12.5\n",
       "3. 12.5\n",
       "4. 12.5\n",
       "5. 12.5\n",
       "6. 37.5\n",
       "7. 37.5\n",
       "8. 37.5\n",
       "9. 37.5\n",
       "10. 37.5\n",
       "11. 37.5\n",
       "12. 37.5\n",
       "13. 37.5\n",
       "14. 62.5\n",
       "15. 62.5\n",
       "16. 62.5\n",
       "17. 62.5\n",
       "18. 62.5\n",
       "19. 62.5\n",
       "20. 62.5\n",
       "21. 62.5\n",
       "22. 62.5\n",
       "23. 62.5\n",
       "24. 62.5\n",
       "25. 62.5\n",
       "26. 62.5\n",
       "27. 87.5\n",
       "28. 87.5\n",
       "29. 87.5\n",
       "30. 87.5\n",
       "31. 87.5\n",
       "32. 87.5\n",
       "33. 87.5\n",
       "34. 87.5\n",
       "35. 87.5\n",
       "36. 87.5\n",
       "37. 87.5\n",
       "38. 112.5\n",
       "39. 112.5\n",
       "40. 112.5\n",
       "\n",
       "\n"
      ],
      "text/plain": [
       " [1]  12.5  12.5  12.5  12.5  12.5  37.5  37.5  37.5  37.5  37.5  37.5  37.5\n",
       "[13]  37.5  62.5  62.5  62.5  62.5  62.5  62.5  62.5  62.5  62.5  62.5  62.5\n",
       "[25]  62.5  62.5  87.5  87.5  87.5  87.5  87.5  87.5  87.5  87.5  87.5  87.5\n",
       "[37]  87.5 112.5 112.5 112.5"
      ]
     },
     "metadata": {},
     "output_type": "display_data"
    }
   ],
   "source": [
    "y <- rep(midx,f)\n",
    "y"
   ]
  },
  {
   "cell_type": "code",
   "execution_count": 605,
   "metadata": {},
   "outputs": [
    {
     "data": {
      "text/html": [
       "61.875"
      ],
      "text/latex": [
       "61.875"
      ],
      "text/markdown": [
       "61.875"
      ],
      "text/plain": [
       "[1] 61.875"
      ]
     },
     "metadata": {},
     "output_type": "display_data"
    }
   ],
   "source": [
    "avg <- mean(y)\n",
    "avg"
   ]
  },
  {
   "cell_type": "code",
   "execution_count": 606,
   "metadata": {},
   "outputs": [
    {
     "data": {
      "text/html": [
       "61.875"
      ],
      "text/latex": [
       "61.875"
      ],
      "text/markdown": [
       "61.875"
      ],
      "text/plain": [
       "[1] 61.875"
      ]
     },
     "metadata": {},
     "output_type": "display_data"
    }
   ],
   "source": [
    "avg1 <- sum(y)/length(y)\n",
    "avg1"
   ]
  },
  {
   "cell_type": "code",
   "execution_count": 607,
   "metadata": {},
   "outputs": [
    {
     "data": {
      "text/html": [
       "61.875"
      ],
      "text/latex": [
       "61.875"
      ],
      "text/markdown": [
       "61.875"
      ],
      "text/plain": [
       "[1] 61.875"
      ]
     },
     "metadata": {},
     "output_type": "display_data"
    }
   ],
   "source": [
    "avg2 <- sum(midx*f)/sum(f)\n",
    "avg2"
   ]
  },
  {
   "cell_type": "code",
   "execution_count": 608,
   "metadata": {},
   "outputs": [
    {
     "data": {
      "text/html": [
       "<style>\n",
       ".list-inline {list-style: none; margin:0; padding: 0}\n",
       ".list-inline>li {display: inline-block}\n",
       ".list-inline>li:not(:last-child)::after {content: \"\\00b7\"; padding: 0 .5ex}\n",
       "</style>\n",
       "<ol class=list-inline><li>5</li><li>13</li><li>26</li><li>37</li><li>40</li></ol>\n"
      ],
      "text/latex": [
       "\\begin{enumerate*}\n",
       "\\item 5\n",
       "\\item 13\n",
       "\\item 26\n",
       "\\item 37\n",
       "\\item 40\n",
       "\\end{enumerate*}\n"
      ],
      "text/markdown": [
       "1. 5\n",
       "2. 13\n",
       "3. 26\n",
       "4. 37\n",
       "5. 40\n",
       "\n",
       "\n"
      ],
      "text/plain": [
       "[1]  5 13 26 37 40"
      ]
     },
     "metadata": {},
     "output_type": "display_data"
    }
   ],
   "source": [
    "cf <- cumsum(f);cf"
   ]
  },
  {
   "cell_type": "code",
   "execution_count": 609,
   "metadata": {},
   "outputs": [
    {
     "data": {
      "text/html": [
       "3"
      ],
      "text/latex": [
       "3"
      ],
      "text/markdown": [
       "3"
      ],
      "text/plain": [
       "[1] 3"
      ]
     },
     "metadata": {},
     "output_type": "display_data"
    }
   ],
   "source": [
    "mincf <- min(which(cf >= sum(f)/2))\n",
    "mincf"
   ]
  },
  {
   "cell_type": "code",
   "execution_count": 610,
   "metadata": {},
   "outputs": [
    {
     "data": {
      "text/html": [
       "50"
      ],
      "text/latex": [
       "50"
      ],
      "text/markdown": [
       "50"
      ],
      "text/plain": [
       "[1] 50"
      ]
     },
     "metadata": {},
     "output_type": "display_data"
    },
    {
     "data": {
      "text/html": [
       "75"
      ],
      "text/latex": [
       "75"
      ],
      "text/markdown": [
       "75"
      ],
      "text/plain": [
       "[1] 75"
      ]
     },
     "metadata": {},
     "output_type": "display_data"
    }
   ],
   "source": [
    "l1 = lb[mincf]; l2 = ub[mincf]\n",
    "l1;l2"
   ]
  },
  {
   "cell_type": "code",
   "execution_count": 611,
   "metadata": {},
   "outputs": [
    {
     "data": {
      "text/html": [
       "25"
      ],
      "text/latex": [
       "25"
      ],
      "text/markdown": [
       "25"
      ],
      "text/plain": [
       "[1] 25"
      ]
     },
     "metadata": {},
     "output_type": "display_data"
    }
   ],
   "source": [
    "h = (l2-l1)\n",
    "h"
   ]
  },
  {
   "cell_type": "code",
   "execution_count": 612,
   "metadata": {},
   "outputs": [
    {
     "data": {
      "text/html": [
       "63.4615384615385"
      ],
      "text/latex": [
       "63.4615384615385"
      ],
      "text/markdown": [
       "63.4615384615385"
      ],
      "text/plain": [
       "[1] 63.46154"
      ]
     },
     "metadata": {},
     "output_type": "display_data"
    }
   ],
   "source": [
    "me = l1 + (h*(sum(f)/2-cf[mincf-1])/f[mincf])\n",
    "me"
   ]
  },
  {
   "cell_type": "code",
   "execution_count": 613,
   "metadata": {},
   "outputs": [
    {
     "data": {
      "text/html": [
       "3"
      ],
      "text/latex": [
       "3"
      ],
      "text/markdown": [
       "3"
      ],
      "text/plain": [
       "[1] 3"
      ]
     },
     "metadata": {},
     "output_type": "display_data"
    }
   ],
   "source": [
    "maxf <- which(f == max(f))\n",
    "maxf"
   ]
  },
  {
   "cell_type": "code",
   "execution_count": 614,
   "metadata": {},
   "outputs": [
    {
     "data": {
      "text/html": [
       "5"
      ],
      "text/latex": [
       "5"
      ],
      "text/markdown": [
       "5"
      ],
      "text/plain": [
       "[1] 5"
      ]
     },
     "metadata": {},
     "output_type": "display_data"
    }
   ],
   "source": [
    "d1 = f[maxf] - f[maxf-1]\n",
    "d1"
   ]
  },
  {
   "cell_type": "code",
   "execution_count": 615,
   "metadata": {},
   "outputs": [
    {
     "data": {
      "text/html": [
       "2"
      ],
      "text/latex": [
       "2"
      ],
      "text/markdown": [
       "2"
      ],
      "text/plain": [
       "[1] 2"
      ]
     },
     "metadata": {},
     "output_type": "display_data"
    }
   ],
   "source": [
    "d2 = f[maxf] - f[maxf+1]\n",
    "d2"
   ]
  },
  {
   "cell_type": "code",
   "execution_count": 616,
   "metadata": {},
   "outputs": [
    {
     "data": {
      "text/html": [
       "67.8571428571429"
      ],
      "text/latex": [
       "67.8571428571429"
      ],
      "text/markdown": [
       "67.8571428571429"
      ],
      "text/plain": [
       "[1] 67.85714"
      ]
     },
     "metadata": {},
     "output_type": "display_data"
    }
   ],
   "source": [
    "mode = lb[maxf] + (ub[maxf]-lb[maxf])*d1/(d1 + d2)\n",
    "mode"
   ]
  },
  {
   "cell_type": "markdown",
   "metadata": {},
   "source": [
    "### Measures of Dispersion:\n",
    "\n",
    "For Raw Data 1.2, 1.4, 1.3, 1.6, 1.0, 1.5, 1.7, 1.1, 1.2, 1.3"
   ]
  },
  {
   "cell_type": "code",
   "execution_count": 617,
   "metadata": {},
   "outputs": [
    {
     "data": {
      "text/html": [
       "<style>\n",
       ".list-inline {list-style: none; margin:0; padding: 0}\n",
       ".list-inline>li {display: inline-block}\n",
       ".list-inline>li:not(:last-child)::after {content: \"\\00b7\"; padding: 0 .5ex}\n",
       "</style>\n",
       "<ol class=list-inline><li>1.2</li><li>1.4</li><li>1.3</li><li>1.6</li><li>1</li><li>1.5</li><li>1.7</li><li>1.1</li><li>1.2</li><li>1.3</li></ol>\n"
      ],
      "text/latex": [
       "\\begin{enumerate*}\n",
       "\\item 1.2\n",
       "\\item 1.4\n",
       "\\item 1.3\n",
       "\\item 1.6\n",
       "\\item 1\n",
       "\\item 1.5\n",
       "\\item 1.7\n",
       "\\item 1.1\n",
       "\\item 1.2\n",
       "\\item 1.3\n",
       "\\end{enumerate*}\n"
      ],
      "text/markdown": [
       "1. 1.2\n",
       "2. 1.4\n",
       "3. 1.3\n",
       "4. 1.6\n",
       "5. 1\n",
       "6. 1.5\n",
       "7. 1.7\n",
       "8. 1.1\n",
       "9. 1.2\n",
       "10. 1.3\n",
       "\n",
       "\n"
      ],
      "text/plain": [
       " [1] 1.2 1.4 1.3 1.6 1.0 1.5 1.7 1.1 1.2 1.3"
      ]
     },
     "metadata": {},
     "output_type": "display_data"
    }
   ],
   "source": [
    "x<- c(1.2, 1.4, 1.3, 1.6, 1.0, 1.5, 1.7, 1.1, 1.2, 1.3)\n",
    "x"
   ]
  },
  {
   "cell_type": "code",
   "execution_count": 618,
   "metadata": {},
   "outputs": [
    {
     "data": {
      "text/plain": [
       "   Min. 1st Qu.  Median    Mean 3rd Qu.    Max. \n",
       "  1.000   1.200   1.300   1.330   1.475   1.700 "
      ]
     },
     "metadata": {},
     "output_type": "display_data"
    }
   ],
   "source": [
    "summary(x)"
   ]
  },
  {
   "cell_type": "code",
   "execution_count": 619,
   "metadata": {},
   "outputs": [
    {
     "data": {
      "text/html": [
       "0.7"
      ],
      "text/latex": [
       "0.7"
      ],
      "text/markdown": [
       "0.7"
      ],
      "text/plain": [
       "[1] 0.7"
      ]
     },
     "metadata": {},
     "output_type": "display_data"
    }
   ],
   "source": [
    "rng = max(x)-min(x)\n",
    "rng"
   ]
  },
  {
   "cell_type": "code",
   "execution_count": 620,
   "metadata": {},
   "outputs": [],
   "source": [
    "cof_rng = rng/(max(x) + min(x))"
   ]
  },
  {
   "cell_type": "code",
   "execution_count": 621,
   "metadata": {},
   "outputs": [
    {
     "data": {
      "text/html": [
       "0.259259259259259"
      ],
      "text/latex": [
       "0.259259259259259"
      ],
      "text/markdown": [
       "0.259259259259259"
      ],
      "text/plain": [
       "[1] 0.2592593"
      ]
     },
     "metadata": {},
     "output_type": "display_data"
    }
   ],
   "source": [
    "cof_rng"
   ]
  },
  {
   "cell_type": "code",
   "execution_count": 622,
   "metadata": {},
   "outputs": [],
   "source": [
    "int_qart_rng = (1.475-1.2)"
   ]
  },
  {
   "cell_type": "code",
   "execution_count": 623,
   "metadata": {},
   "outputs": [
    {
     "data": {
      "text/html": [
       "0.275"
      ],
      "text/latex": [
       "0.275"
      ],
      "text/markdown": [
       "0.275"
      ],
      "text/plain": [
       "[1] 0.275"
      ]
     },
     "metadata": {},
     "output_type": "display_data"
    }
   ],
   "source": [
    "int_qart_rng"
   ]
  },
  {
   "cell_type": "code",
   "execution_count": 624,
   "metadata": {},
   "outputs": [],
   "source": [
    "semi_int_qart_rng = int_qart_rng/2"
   ]
  },
  {
   "cell_type": "code",
   "execution_count": 625,
   "metadata": {},
   "outputs": [
    {
     "data": {
      "text/html": [
       "0.1375"
      ],
      "text/latex": [
       "0.1375"
      ],
      "text/markdown": [
       "0.1375"
      ],
      "text/plain": [
       "[1] 0.1375"
      ]
     },
     "metadata": {},
     "output_type": "display_data"
    }
   ],
   "source": [
    "semi_int_qart_rng"
   ]
  },
  {
   "cell_type": "code",
   "execution_count": 626,
   "metadata": {},
   "outputs": [],
   "source": [
    "cof_qd = int_qart_rng/(1.475+1.2)"
   ]
  },
  {
   "cell_type": "code",
   "execution_count": 627,
   "metadata": {},
   "outputs": [
    {
     "data": {
      "text/html": [
       "0.102803738317757"
      ],
      "text/latex": [
       "0.102803738317757"
      ],
      "text/markdown": [
       "0.102803738317757"
      ],
      "text/plain": [
       "[1] 0.1028037"
      ]
     },
     "metadata": {},
     "output_type": "display_data"
    }
   ],
   "source": [
    "cof_qd"
   ]
  },
  {
   "cell_type": "code",
   "execution_count": 628,
   "metadata": {},
   "outputs": [],
   "source": [
    "dve_mean = abs(x - mean(x))"
   ]
  },
  {
   "cell_type": "code",
   "execution_count": 629,
   "metadata": {},
   "outputs": [
    {
     "data": {
      "text/html": [
       "<style>\n",
       ".list-inline {list-style: none; margin:0; padding: 0}\n",
       ".list-inline>li {display: inline-block}\n",
       ".list-inline>li:not(:last-child)::after {content: \"\\00b7\"; padding: 0 .5ex}\n",
       "</style>\n",
       "<ol class=list-inline><li>0.13</li><li>0.0699999999999998</li><li>0.03</li><li>0.27</li><li>0.33</li><li>0.17</li><li>0.37</li><li>0.23</li><li>0.13</li><li>0.03</li></ol>\n"
      ],
      "text/latex": [
       "\\begin{enumerate*}\n",
       "\\item 0.13\n",
       "\\item 0.0699999999999998\n",
       "\\item 0.03\n",
       "\\item 0.27\n",
       "\\item 0.33\n",
       "\\item 0.17\n",
       "\\item 0.37\n",
       "\\item 0.23\n",
       "\\item 0.13\n",
       "\\item 0.03\n",
       "\\end{enumerate*}\n"
      ],
      "text/markdown": [
       "1. 0.13\n",
       "2. 0.0699999999999998\n",
       "3. 0.03\n",
       "4. 0.27\n",
       "5. 0.33\n",
       "6. 0.17\n",
       "7. 0.37\n",
       "8. 0.23\n",
       "9. 0.13\n",
       "10. 0.03\n",
       "\n",
       "\n"
      ],
      "text/plain": [
       " [1] 0.13 0.07 0.03 0.27 0.33 0.17 0.37 0.23 0.13 0.03"
      ]
     },
     "metadata": {},
     "output_type": "display_data"
    }
   ],
   "source": [
    "dve_mean"
   ]
  },
  {
   "cell_type": "code",
   "execution_count": 630,
   "metadata": {},
   "outputs": [
    {
     "data": {
      "text/html": [
       "<style>\n",
       ".list-inline {list-style: none; margin:0; padding: 0}\n",
       ".list-inline>li {display: inline-block}\n",
       ".list-inline>li:not(:last-child)::after {content: \"\\00b7\"; padding: 0 .5ex}\n",
       "</style>\n",
       "<ol class=list-inline><li>0.013</li><li>0.00699999999999998</li><li>0.003</li><li>0.027</li><li>0.033</li><li>0.017</li><li>0.037</li><li>0.023</li><li>0.013</li><li>0.003</li></ol>\n"
      ],
      "text/latex": [
       "\\begin{enumerate*}\n",
       "\\item 0.013\n",
       "\\item 0.00699999999999998\n",
       "\\item 0.003\n",
       "\\item 0.027\n",
       "\\item 0.033\n",
       "\\item 0.017\n",
       "\\item 0.037\n",
       "\\item 0.023\n",
       "\\item 0.013\n",
       "\\item 0.003\n",
       "\\end{enumerate*}\n"
      ],
      "text/markdown": [
       "1. 0.013\n",
       "2. 0.00699999999999998\n",
       "3. 0.003\n",
       "4. 0.027\n",
       "5. 0.033\n",
       "6. 0.017\n",
       "7. 0.037\n",
       "8. 0.023\n",
       "9. 0.013\n",
       "10. 0.003\n",
       "\n",
       "\n"
      ],
      "text/plain": [
       " [1] 0.013 0.007 0.003 0.027 0.033 0.017 0.037 0.023 0.013 0.003"
      ]
     },
     "metadata": {},
     "output_type": "display_data"
    }
   ],
   "source": [
    "mean_dev = dve_mean/length(x)\n",
    "mean_dev"
   ]
  },
  {
   "cell_type": "code",
   "execution_count": 631,
   "metadata": {},
   "outputs": [
    {
     "data": {
      "text/html": [
       "1.76"
      ],
      "text/latex": [
       "1.76"
      ],
      "text/markdown": [
       "1.76"
      ],
      "text/plain": [
       "[1] 1.76"
      ]
     },
     "metadata": {},
     "output_type": "display_data"
    }
   ],
   "source": [
    "mean_dev = sum(dve_mean)\n",
    "mean_dev"
   ]
  },
  {
   "cell_type": "code",
   "execution_count": 632,
   "metadata": {},
   "outputs": [
    {
     "data": {
      "text/html": [
       "1.3"
      ],
      "text/latex": [
       "1.3"
      ],
      "text/markdown": [
       "1.3"
      ],
      "text/plain": [
       "[1] 1.3"
      ]
     },
     "metadata": {},
     "output_type": "display_data"
    }
   ],
   "source": [
    "me = median(x)\n",
    "me"
   ]
  },
  {
   "cell_type": "code",
   "execution_count": 633,
   "metadata": {},
   "outputs": [
    {
     "data": {
      "text/html": [
       "<style>\n",
       ".list-inline {list-style: none; margin:0; padding: 0}\n",
       ".list-inline>li {display: inline-block}\n",
       ".list-inline>li:not(:last-child)::after {content: \"\\00b7\"; padding: 0 .5ex}\n",
       "</style>\n",
       "<ol class=list-inline><li>0.1</li><li>0.0999999999999999</li><li>0</li><li>0.3</li><li>0.3</li><li>0.2</li><li>0.4</li><li>0.2</li><li>0.1</li><li>0</li></ol>\n"
      ],
      "text/latex": [
       "\\begin{enumerate*}\n",
       "\\item 0.1\n",
       "\\item 0.0999999999999999\n",
       "\\item 0\n",
       "\\item 0.3\n",
       "\\item 0.3\n",
       "\\item 0.2\n",
       "\\item 0.4\n",
       "\\item 0.2\n",
       "\\item 0.1\n",
       "\\item 0\n",
       "\\end{enumerate*}\n"
      ],
      "text/markdown": [
       "1. 0.1\n",
       "2. 0.0999999999999999\n",
       "3. 0\n",
       "4. 0.3\n",
       "5. 0.3\n",
       "6. 0.2\n",
       "7. 0.4\n",
       "8. 0.2\n",
       "9. 0.1\n",
       "10. 0\n",
       "\n",
       "\n"
      ],
      "text/plain": [
       " [1] 0.1 0.1 0.0 0.3 0.3 0.2 0.4 0.2 0.1 0.0"
      ]
     },
     "metadata": {},
     "output_type": "display_data"
    }
   ],
   "source": [
    "dve_me = abs(x - me)\n",
    "dve_me"
   ]
  },
  {
   "cell_type": "code",
   "execution_count": 634,
   "metadata": {},
   "outputs": [
    {
     "data": {
      "text/html": [
       "0.17"
      ],
      "text/latex": [
       "0.17"
      ],
      "text/markdown": [
       "0.17"
      ],
      "text/plain": [
       "[1] 0.17"
      ]
     },
     "metadata": {},
     "output_type": "display_data"
    }
   ],
   "source": [
    "me_dev = sum(dve_me)/length(x)\n",
    "me_dev"
   ]
  },
  {
   "cell_type": "code",
   "execution_count": 635,
   "metadata": {},
   "outputs": [
    {
     "data": {
      "text/html": [
       "0.049"
      ],
      "text/latex": [
       "0.049"
      ],
      "text/markdown": [
       "0.049"
      ],
      "text/plain": [
       "[1] 0.049"
      ]
     },
     "metadata": {},
     "output_type": "display_data"
    }
   ],
   "source": [
    "var_n1 = var(x)  # this variance is with denominator (n-1)\n",
    "var_n1"
   ]
  },
  {
   "cell_type": "code",
   "execution_count": 636,
   "metadata": {},
   "outputs": [
    {
     "data": {
      "text/html": [
       "0.0441"
      ],
      "text/latex": [
       "0.0441"
      ],
      "text/markdown": [
       "0.0441"
      ],
      "text/plain": [
       "[1] 0.0441"
      ]
     },
     "metadata": {},
     "output_type": "display_data"
    }
   ],
   "source": [
    "variance = (length(x)-1)*var_n1/length(x)\n",
    "variance"
   ]
  },
  {
   "cell_type": "code",
   "execution_count": 637,
   "metadata": {},
   "outputs": [
    {
     "data": {
      "text/html": [
       "0.21"
      ],
      "text/latex": [
       "0.21"
      ],
      "text/markdown": [
       "0.21"
      ],
      "text/plain": [
       "[1] 0.21"
      ]
     },
     "metadata": {},
     "output_type": "display_data"
    }
   ],
   "source": [
    "sd = variance ^ 0.5\n",
    "sd"
   ]
  },
  {
   "cell_type": "code",
   "execution_count": 638,
   "metadata": {},
   "outputs": [
    {
     "data": {
      "text/html": [
       "0.157894736842105"
      ],
      "text/latex": [
       "0.157894736842105"
      ],
      "text/markdown": [
       "0.157894736842105"
      ],
      "text/plain": [
       "[1] 0.1578947"
      ]
     },
     "metadata": {},
     "output_type": "display_data"
    }
   ],
   "source": [
    "cv = sd/mean(x)\n",
    "cv"
   ]
  },
  {
   "attachments": {
    "19.png": {
     "image/png": "[encoded data removed]"
    }
   },
   "cell_type": "markdown",
   "metadata": {},
   "source": [
    "#### Measures of dispersion for ungrouped frequency data\n",
    "![19.png](attachment:19.png)"
   ]
  },
  {
   "cell_type": "code",
   "execution_count": 639,
   "metadata": {},
   "outputs": [
    {
     "data": {
      "text/html": [
       "<style>\n",
       ".list-inline {list-style: none; margin:0; padding: 0}\n",
       ".list-inline>li {display: inline-block}\n",
       ".list-inline>li:not(:last-child)::after {content: \"\\00b7\"; padding: 0 .5ex}\n",
       "</style>\n",
       "<ol class=list-inline><li>150</li><li>155</li><li>160</li><li>165</li><li>170</li><li>175</li></ol>\n"
      ],
      "text/latex": [
       "\\begin{enumerate*}\n",
       "\\item 150\n",
       "\\item 155\n",
       "\\item 160\n",
       "\\item 165\n",
       "\\item 170\n",
       "\\item 175\n",
       "\\end{enumerate*}\n"
      ],
      "text/markdown": [
       "1. 150\n",
       "2. 155\n",
       "3. 160\n",
       "4. 165\n",
       "5. 170\n",
       "6. 175\n",
       "\n",
       "\n"
      ],
      "text/plain": [
       "[1] 150 155 160 165 170 175"
      ]
     },
     "metadata": {},
     "output_type": "display_data"
    }
   ],
   "source": [
    "x<- seq(150,175,5)\n",
    "x"
   ]
  },
  {
   "cell_type": "code",
   "execution_count": 640,
   "metadata": {},
   "outputs": [
    {
     "data": {
      "text/html": [
       "<style>\n",
       ".list-inline {list-style: none; margin:0; padding: 0}\n",
       ".list-inline>li {display: inline-block}\n",
       ".list-inline>li:not(:last-child)::after {content: \"\\00b7\"; padding: 0 .5ex}\n",
       "</style>\n",
       "<ol class=list-inline><li>6</li><li>11</li><li>14</li><li>9</li><li>3</li><li>2</li></ol>\n"
      ],
      "text/latex": [
       "\\begin{enumerate*}\n",
       "\\item 6\n",
       "\\item 11\n",
       "\\item 14\n",
       "\\item 9\n",
       "\\item 3\n",
       "\\item 2\n",
       "\\end{enumerate*}\n"
      ],
      "text/markdown": [
       "1. 6\n",
       "2. 11\n",
       "3. 14\n",
       "4. 9\n",
       "5. 3\n",
       "6. 2\n",
       "\n",
       "\n"
      ],
      "text/plain": [
       "[1]  6 11 14  9  3  2"
      ]
     },
     "metadata": {},
     "output_type": "display_data"
    }
   ],
   "source": [
    "f <- c(6,11,14,9,3,2)\n",
    "f"
   ]
  },
  {
   "cell_type": "code",
   "execution_count": 641,
   "metadata": {},
   "outputs": [
    {
     "data": {
      "text/html": [
       "<style>\n",
       ".list-inline {list-style: none; margin:0; padding: 0}\n",
       ".list-inline>li {display: inline-block}\n",
       ".list-inline>li:not(:last-child)::after {content: \"\\00b7\"; padding: 0 .5ex}\n",
       "</style>\n",
       "<ol class=list-inline><li>150</li><li>150</li><li>150</li><li>150</li><li>150</li><li>150</li><li>155</li><li>155</li><li>155</li><li>155</li><li>155</li><li>155</li><li>155</li><li>155</li><li>155</li><li>155</li><li>155</li><li>160</li><li>160</li><li>160</li><li>160</li><li>160</li><li>160</li><li>160</li><li>160</li><li>160</li><li>160</li><li>160</li><li>160</li><li>160</li><li>160</li><li>165</li><li>165</li><li>165</li><li>165</li><li>165</li><li>165</li><li>165</li><li>165</li><li>165</li><li>170</li><li>170</li><li>170</li><li>175</li><li>175</li></ol>\n"
      ],
      "text/latex": [
       "\\begin{enumerate*}\n",
       "\\item 150\n",
       "\\item 150\n",
       "\\item 150\n",
       "\\item 150\n",
       "\\item 150\n",
       "\\item 150\n",
       "\\item 155\n",
       "\\item 155\n",
       "\\item 155\n",
       "\\item 155\n",
       "\\item 155\n",
       "\\item 155\n",
       "\\item 155\n",
       "\\item 155\n",
       "\\item 155\n",
       "\\item 155\n",
       "\\item 155\n",
       "\\item 160\n",
       "\\item 160\n",
       "\\item 160\n",
       "\\item 160\n",
       "\\item 160\n",
       "\\item 160\n",
       "\\item 160\n",
       "\\item 160\n",
       "\\item 160\n",
       "\\item 160\n",
       "\\item 160\n",
       "\\item 160\n",
       "\\item 160\n",
       "\\item 160\n",
       "\\item 165\n",
       "\\item 165\n",
       "\\item 165\n",
       "\\item 165\n",
       "\\item 165\n",
       "\\item 165\n",
       "\\item 165\n",
       "\\item 165\n",
       "\\item 165\n",
       "\\item 170\n",
       "\\item 170\n",
       "\\item 170\n",
       "\\item 175\n",
       "\\item 175\n",
       "\\end{enumerate*}\n"
      ],
      "text/markdown": [
       "1. 150\n",
       "2. 150\n",
       "3. 150\n",
       "4. 150\n",
       "5. 150\n",
       "6. 150\n",
       "7. 155\n",
       "8. 155\n",
       "9. 155\n",
       "10. 155\n",
       "11. 155\n",
       "12. 155\n",
       "13. 155\n",
       "14. 155\n",
       "15. 155\n",
       "16. 155\n",
       "17. 155\n",
       "18. 160\n",
       "19. 160\n",
       "20. 160\n",
       "21. 160\n",
       "22. 160\n",
       "23. 160\n",
       "24. 160\n",
       "25. 160\n",
       "26. 160\n",
       "27. 160\n",
       "28. 160\n",
       "29. 160\n",
       "30. 160\n",
       "31. 160\n",
       "32. 165\n",
       "33. 165\n",
       "34. 165\n",
       "35. 165\n",
       "36. 165\n",
       "37. 165\n",
       "38. 165\n",
       "39. 165\n",
       "40. 165\n",
       "41. 170\n",
       "42. 170\n",
       "43. 170\n",
       "44. 175\n",
       "45. 175\n",
       "\n",
       "\n"
      ],
      "text/plain": [
       " [1] 150 150 150 150 150 150 155 155 155 155 155 155 155 155 155 155 155 160 160\n",
       "[20] 160 160 160 160 160 160 160 160 160 160 160 160 165 165 165 165 165 165 165\n",
       "[39] 165 165 170 170 170 175 175"
      ]
     },
     "metadata": {},
     "output_type": "display_data"
    }
   ],
   "source": [
    "y <- rep(x,f)\n",
    "y"
   ]
  },
  {
   "cell_type": "code",
   "execution_count": 642,
   "metadata": {},
   "outputs": [
    {
     "data": {
      "text/plain": [
       "   Min. 1st Qu.  Median    Mean 3rd Qu.    Max. \n",
       "  150.0   155.0   160.0   159.8   165.0   175.0 "
      ]
     },
     "metadata": {},
     "output_type": "display_data"
    }
   ],
   "source": [
    "summary(y)"
   ]
  },
  {
   "cell_type": "markdown",
   "metadata": {},
   "source": [
    "Remaining commands are as above for raw data"
   ]
  },
  {
   "attachments": {
    "20.png": {
     "image/png": "[encoded data removed]"
    },
    "21.png": {
     "image/png": "[encoded data removed]"
    }
   },
   "cell_type": "markdown",
   "metadata": {},
   "source": [
    "#### Measures of dispersion for grouped frequency data:\n",
    "![20.png](attachment:20.png)\n",
    "#### First step calculate mid-value of each class \n",
    "![21.png](attachment:21.png)"
   ]
  },
  {
   "cell_type": "code",
   "execution_count": 643,
   "metadata": {},
   "outputs": [
    {
     "data": {
      "text/html": [
       "<style>\n",
       ".list-inline {list-style: none; margin:0; padding: 0}\n",
       ".list-inline>li {display: inline-block}\n",
       ".list-inline>li:not(:last-child)::after {content: \"\\00b7\"; padding: 0 .5ex}\n",
       "</style>\n",
       "<ol class=list-inline><li>0</li><li>25</li><li>50</li><li>75</li><li>100</li></ol>\n"
      ],
      "text/latex": [
       "\\begin{enumerate*}\n",
       "\\item 0\n",
       "\\item 25\n",
       "\\item 50\n",
       "\\item 75\n",
       "\\item 100\n",
       "\\end{enumerate*}\n"
      ],
      "text/markdown": [
       "1. 0\n",
       "2. 25\n",
       "3. 50\n",
       "4. 75\n",
       "5. 100\n",
       "\n",
       "\n"
      ],
      "text/plain": [
       "[1]   0  25  50  75 100"
      ]
     },
     "metadata": {},
     "output_type": "display_data"
    }
   ],
   "source": [
    "lb <- seq(0,100,25)\n",
    "lb"
   ]
  },
  {
   "cell_type": "code",
   "execution_count": 644,
   "metadata": {},
   "outputs": [
    {
     "data": {
      "text/html": [
       "<style>\n",
       ".list-inline {list-style: none; margin:0; padding: 0}\n",
       ".list-inline>li {display: inline-block}\n",
       ".list-inline>li:not(:last-child)::after {content: \"\\00b7\"; padding: 0 .5ex}\n",
       "</style>\n",
       "<ol class=list-inline><li>25</li><li>50</li><li>75</li><li>100</li><li>125</li></ol>\n"
      ],
      "text/latex": [
       "\\begin{enumerate*}\n",
       "\\item 25\n",
       "\\item 50\n",
       "\\item 75\n",
       "\\item 100\n",
       "\\item 125\n",
       "\\end{enumerate*}\n"
      ],
      "text/markdown": [
       "1. 25\n",
       "2. 50\n",
       "3. 75\n",
       "4. 100\n",
       "5. 125\n",
       "\n",
       "\n"
      ],
      "text/plain": [
       "[1]  25  50  75 100 125"
      ]
     },
     "metadata": {},
     "output_type": "display_data"
    }
   ],
   "source": [
    "ub <- seq(25,125,25)\n",
    "ub"
   ]
  },
  {
   "cell_type": "code",
   "execution_count": 645,
   "metadata": {},
   "outputs": [
    {
     "data": {
      "text/html": [
       "<style>\n",
       ".list-inline {list-style: none; margin:0; padding: 0}\n",
       ".list-inline>li {display: inline-block}\n",
       ".list-inline>li:not(:last-child)::after {content: \"\\00b7\"; padding: 0 .5ex}\n",
       "</style>\n",
       "<ol class=list-inline><li>12.5</li><li>37.5</li><li>62.5</li><li>87.5</li><li>112.5</li></ol>\n"
      ],
      "text/latex": [
       "\\begin{enumerate*}\n",
       "\\item 12.5\n",
       "\\item 37.5\n",
       "\\item 62.5\n",
       "\\item 87.5\n",
       "\\item 112.5\n",
       "\\end{enumerate*}\n"
      ],
      "text/markdown": [
       "1. 12.5\n",
       "2. 37.5\n",
       "3. 62.5\n",
       "4. 87.5\n",
       "5. 112.5\n",
       "\n",
       "\n"
      ],
      "text/plain": [
       "[1]  12.5  37.5  62.5  87.5 112.5"
      ]
     },
     "metadata": {},
     "output_type": "display_data"
    }
   ],
   "source": [
    "midx <- (lb+ub)/2\n",
    "midx"
   ]
  },
  {
   "cell_type": "code",
   "execution_count": 646,
   "metadata": {},
   "outputs": [
    {
     "data": {
      "text/html": [
       "<style>\n",
       ".list-inline {list-style: none; margin:0; padding: 0}\n",
       ".list-inline>li {display: inline-block}\n",
       ".list-inline>li:not(:last-child)::after {content: \"\\00b7\"; padding: 0 .5ex}\n",
       "</style>\n",
       "<ol class=list-inline><li>5</li><li>8</li><li>13</li><li>11</li><li>3</li></ol>\n"
      ],
      "text/latex": [
       "\\begin{enumerate*}\n",
       "\\item 5\n",
       "\\item 8\n",
       "\\item 13\n",
       "\\item 11\n",
       "\\item 3\n",
       "\\end{enumerate*}\n"
      ],
      "text/markdown": [
       "1. 5\n",
       "2. 8\n",
       "3. 13\n",
       "4. 11\n",
       "5. 3\n",
       "\n",
       "\n"
      ],
      "text/plain": [
       "[1]  5  8 13 11  3"
      ]
     },
     "metadata": {},
     "output_type": "display_data"
    }
   ],
   "source": [
    "f <- c(5,8,13,11,3)\n",
    "f"
   ]
  },
  {
   "cell_type": "code",
   "execution_count": 647,
   "metadata": {},
   "outputs": [
    {
     "data": {
      "text/html": [
       "<style>\n",
       ".list-inline {list-style: none; margin:0; padding: 0}\n",
       ".list-inline>li {display: inline-block}\n",
       ".list-inline>li:not(:last-child)::after {content: \"\\00b7\"; padding: 0 .5ex}\n",
       "</style>\n",
       "<ol class=list-inline><li>12.5</li><li>12.5</li><li>12.5</li><li>12.5</li><li>12.5</li><li>37.5</li><li>37.5</li><li>37.5</li><li>37.5</li><li>37.5</li><li>37.5</li><li>37.5</li><li>37.5</li><li>62.5</li><li>62.5</li><li>62.5</li><li>62.5</li><li>62.5</li><li>62.5</li><li>62.5</li><li>62.5</li><li>62.5</li><li>62.5</li><li>62.5</li><li>62.5</li><li>62.5</li><li>87.5</li><li>87.5</li><li>87.5</li><li>87.5</li><li>87.5</li><li>87.5</li><li>87.5</li><li>87.5</li><li>87.5</li><li>87.5</li><li>87.5</li><li>112.5</li><li>112.5</li><li>112.5</li></ol>\n"
      ],
      "text/latex": [
       "\\begin{enumerate*}\n",
       "\\item 12.5\n",
       "\\item 12.5\n",
       "\\item 12.5\n",
       "\\item 12.5\n",
       "\\item 12.5\n",
       "\\item 37.5\n",
       "\\item 37.5\n",
       "\\item 37.5\n",
       "\\item 37.5\n",
       "\\item 37.5\n",
       "\\item 37.5\n",
       "\\item 37.5\n",
       "\\item 37.5\n",
       "\\item 62.5\n",
       "\\item 62.5\n",
       "\\item 62.5\n",
       "\\item 62.5\n",
       "\\item 62.5\n",
       "\\item 62.5\n",
       "\\item 62.5\n",
       "\\item 62.5\n",
       "\\item 62.5\n",
       "\\item 62.5\n",
       "\\item 62.5\n",
       "\\item 62.5\n",
       "\\item 62.5\n",
       "\\item 87.5\n",
       "\\item 87.5\n",
       "\\item 87.5\n",
       "\\item 87.5\n",
       "\\item 87.5\n",
       "\\item 87.5\n",
       "\\item 87.5\n",
       "\\item 87.5\n",
       "\\item 87.5\n",
       "\\item 87.5\n",
       "\\item 87.5\n",
       "\\item 112.5\n",
       "\\item 112.5\n",
       "\\item 112.5\n",
       "\\end{enumerate*}\n"
      ],
      "text/markdown": [
       "1. 12.5\n",
       "2. 12.5\n",
       "3. 12.5\n",
       "4. 12.5\n",
       "5. 12.5\n",
       "6. 37.5\n",
       "7. 37.5\n",
       "8. 37.5\n",
       "9. 37.5\n",
       "10. 37.5\n",
       "11. 37.5\n",
       "12. 37.5\n",
       "13. 37.5\n",
       "14. 62.5\n",
       "15. 62.5\n",
       "16. 62.5\n",
       "17. 62.5\n",
       "18. 62.5\n",
       "19. 62.5\n",
       "20. 62.5\n",
       "21. 62.5\n",
       "22. 62.5\n",
       "23. 62.5\n",
       "24. 62.5\n",
       "25. 62.5\n",
       "26. 62.5\n",
       "27. 87.5\n",
       "28. 87.5\n",
       "29. 87.5\n",
       "30. 87.5\n",
       "31. 87.5\n",
       "32. 87.5\n",
       "33. 87.5\n",
       "34. 87.5\n",
       "35. 87.5\n",
       "36. 87.5\n",
       "37. 87.5\n",
       "38. 112.5\n",
       "39. 112.5\n",
       "40. 112.5\n",
       "\n",
       "\n"
      ],
      "text/plain": [
       " [1]  12.5  12.5  12.5  12.5  12.5  37.5  37.5  37.5  37.5  37.5  37.5  37.5\n",
       "[13]  37.5  62.5  62.5  62.5  62.5  62.5  62.5  62.5  62.5  62.5  62.5  62.5\n",
       "[25]  62.5  62.5  87.5  87.5  87.5  87.5  87.5  87.5  87.5  87.5  87.5  87.5\n",
       "[37]  87.5 112.5 112.5 112.5"
      ]
     },
     "metadata": {},
     "output_type": "display_data"
    }
   ],
   "source": [
    "y <- rep(midx,f)\n",
    "y"
   ]
  },
  {
   "cell_type": "code",
   "execution_count": 648,
   "metadata": {},
   "outputs": [
    {
     "data": {
      "text/html": [
       "125"
      ],
      "text/latex": [
       "125"
      ],
      "text/markdown": [
       "125"
      ],
      "text/plain": [
       "[1] 125"
      ]
     },
     "metadata": {},
     "output_type": "display_data"
    }
   ],
   "source": [
    "rng = ub[length(ub)] - lb[1]\n",
    "rng"
   ]
  },
  {
   "cell_type": "code",
   "execution_count": 649,
   "metadata": {},
   "outputs": [
    {
     "data": {
      "text/html": [
       "<style>\n",
       ".list-inline {list-style: none; margin:0; padding: 0}\n",
       ".list-inline>li {display: inline-block}\n",
       ".list-inline>li:not(:last-child)::after {content: \"\\00b7\"; padding: 0 .5ex}\n",
       "</style>\n",
       "<ol class=list-inline><li>5</li><li>13</li><li>26</li><li>37</li><li>40</li></ol>\n"
      ],
      "text/latex": [
       "\\begin{enumerate*}\n",
       "\\item 5\n",
       "\\item 13\n",
       "\\item 26\n",
       "\\item 37\n",
       "\\item 40\n",
       "\\end{enumerate*}\n"
      ],
      "text/markdown": [
       "1. 5\n",
       "2. 13\n",
       "3. 26\n",
       "4. 37\n",
       "5. 40\n",
       "\n",
       "\n"
      ],
      "text/plain": [
       "[1]  5 13 26 37 40"
      ]
     },
     "metadata": {},
     "output_type": "display_data"
    }
   ],
   "source": [
    "cf <- cumsum(f)\n",
    "cf"
   ]
  },
  {
   "cell_type": "code",
   "execution_count": 650,
   "metadata": {},
   "outputs": [
    {
     "data": {
      "text/html": [
       "2"
      ],
      "text/latex": [
       "2"
      ],
      "text/markdown": [
       "2"
      ],
      "text/plain": [
       "[1] 2"
      ]
     },
     "metadata": {},
     "output_type": "display_data"
    }
   ],
   "source": [
    "q1_mincf <- min(which(cf >= sum(f)/4))\n",
    "q1_mincf"
   ]
  },
  {
   "cell_type": "code",
   "execution_count": 651,
   "metadata": {},
   "outputs": [
    {
     "data": {
      "text/html": [
       "25"
      ],
      "text/latex": [
       "25"
      ],
      "text/markdown": [
       "25"
      ],
      "text/plain": [
       "[1] 25"
      ]
     },
     "metadata": {},
     "output_type": "display_data"
    },
    {
     "data": {
      "text/html": [
       "50"
      ],
      "text/latex": [
       "50"
      ],
      "text/markdown": [
       "50"
      ],
      "text/plain": [
       "[1] 50"
      ]
     },
     "metadata": {},
     "output_type": "display_data"
    }
   ],
   "source": [
    "q1_l1 = lb[q1_mincf]; q1_l2 = ub[q1_mincf]\n",
    "q1_l1;q1_l2"
   ]
  },
  {
   "cell_type": "code",
   "execution_count": 652,
   "metadata": {},
   "outputs": [
    {
     "data": {
      "text/html": [
       "25"
      ],
      "text/latex": [
       "25"
      ],
      "text/markdown": [
       "25"
      ],
      "text/plain": [
       "[1] 25"
      ]
     },
     "metadata": {},
     "output_type": "display_data"
    }
   ],
   "source": [
    "h = (q1_l2-q1_l1)\n",
    "h"
   ]
  },
  {
   "cell_type": "code",
   "execution_count": 653,
   "metadata": {},
   "outputs": [
    {
     "data": {
      "text/html": [
       "40.625"
      ],
      "text/latex": [
       "40.625"
      ],
      "text/markdown": [
       "40.625"
      ],
      "text/plain": [
       "[1] 40.625"
      ]
     },
     "metadata": {},
     "output_type": "display_data"
    }
   ],
   "source": [
    "first_quart = q1_l1 + (h*(sum(f)/4-cf[q1_mincf-1])/f[q1_mincf])\n",
    "first_quart"
   ]
  },
  {
   "cell_type": "code",
   "execution_count": 654,
   "metadata": {},
   "outputs": [
    {
     "data": {
      "text/html": [
       "61.875"
      ],
      "text/latex": [
       "61.875"
      ],
      "text/markdown": [
       "61.875"
      ],
      "text/plain": [
       "[1] 61.875"
      ]
     },
     "metadata": {},
     "output_type": "display_data"
    }
   ],
   "source": [
    "x_bar = sum(f*midx)/sum(f)\n",
    "x_bar"
   ]
  },
  {
   "cell_type": "code",
   "execution_count": 655,
   "metadata": {},
   "outputs": [
    {
     "data": {
      "text/html": [
       "<style>\n",
       ".list-inline {list-style: none; margin:0; padding: 0}\n",
       ".list-inline>li {display: inline-block}\n",
       ".list-inline>li:not(:last-child)::after {content: \"\\00b7\"; padding: 0 .5ex}\n",
       "</style>\n",
       "<ol class=list-inline><li>12189.453125</li><li>4753.125</li><li>5.078125</li><li>7223.046875</li><li>7688.671875</li></ol>\n"
      ],
      "text/latex": [
       "\\begin{enumerate*}\n",
       "\\item 12189.453125\n",
       "\\item 4753.125\n",
       "\\item 5.078125\n",
       "\\item 7223.046875\n",
       "\\item 7688.671875\n",
       "\\end{enumerate*}\n"
      ],
      "text/markdown": [
       "1. 12189.453125\n",
       "2. 4753.125\n",
       "3. 5.078125\n",
       "4. 7223.046875\n",
       "5. 7688.671875\n",
       "\n",
       "\n"
      ],
      "text/plain": [
       "[1] 12189.453125  4753.125000     5.078125  7223.046875  7688.671875"
      ]
     },
     "metadata": {},
     "output_type": "display_data"
    }
   ],
   "source": [
    "dev_mean = f * (midx - x_bar)^2\n",
    "dev_mean"
   ]
  },
  {
   "cell_type": "code",
   "execution_count": 656,
   "metadata": {},
   "outputs": [
    {
     "data": {
      "text/html": [
       "796.484375"
      ],
      "text/latex": [
       "796.484375"
      ],
      "text/markdown": [
       "796.484375"
      ],
      "text/plain": [
       "[1] 796.4844"
      ]
     },
     "metadata": {},
     "output_type": "display_data"
    }
   ],
   "source": [
    "variance = sum(dev_mean)/sum(f)\n",
    "variance"
   ]
  },
  {
   "cell_type": "code",
   "execution_count": 657,
   "metadata": {},
   "outputs": [
    {
     "data": {
      "text/html": [
       "28.2220547621891"
      ],
      "text/latex": [
       "28.2220547621891"
      ],
      "text/markdown": [
       "28.2220547621891"
      ],
      "text/plain": [
       "[1] 28.22205"
      ]
     },
     "metadata": {},
     "output_type": "display_data"
    }
   ],
   "source": [
    "sd = sqrt(variance)\n",
    "sd"
   ]
  },
  {
   "cell_type": "code",
   "execution_count": null,
   "metadata": {},
   "outputs": [],
   "source": []
  }
 ],
 "metadata": {
  "kernelspec": {
   "display_name": "R",
   "language": "R",
   "name": "ir"
  },
  "language_info": {
   "codemirror_mode": "r",
   "file_extension": ".r",
   "mimetype": "text/x-r-source",
   "name": "R",
   "pygments_lexer": "r",
   "version": "3.6.3"
  }
 },
 "nbformat": 4,
 "nbformat_minor": 2
}
