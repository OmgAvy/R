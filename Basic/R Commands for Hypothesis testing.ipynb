{
 "cells": [
  {
   "cell_type": "markdown",
   "metadata": {},
   "source": [
    "## R-command for large samples\n",
    "**Problem:** Test the hypothesis H 0 : μ = 10 against H 1 : μ ≠ 10. A random sample of size\n",
    "400 is drawn gives mean 10.2 and standard deviation 2.25. Use LOS = 5%.\n",
    "\n",
    "This is large sample test problem. Decision about acceptance or rejection of null hypothesis can be taken using p-value. \n",
    "\n",
    "If p-value is less than LOS then reject null hypothesis."
   ]
  },
  {
   "cell_type": "code",
   "execution_count": 165,
   "metadata": {},
   "outputs": [],
   "source": [
    "n=400; mean=10.2; sd=2.25; m0=10"
   ]
  },
  {
   "cell_type": "code",
   "execution_count": 166,
   "metadata": {},
   "outputs": [
    {
     "data": {
      "text/html": [
       "1.77777777777777"
      ],
      "text/latex": [
       "1.77777777777777"
      ],
      "text/markdown": [
       "1.77777777777777"
      ],
      "text/plain": [
       "[1] 1.777778"
      ]
     },
     "metadata": {},
     "output_type": "display_data"
    }
   ],
   "source": [
    "zcal = (mean-m0)/(sd/sqrt(n))\n",
    "zcal"
   ]
  },
  {
   "cell_type": "code",
   "execution_count": 167,
   "metadata": {},
   "outputs": [
    {
     "data": {
      "text/html": [
       "0.0754403596268015"
      ],
      "text/latex": [
       "0.0754403596268015"
      ],
      "text/markdown": [
       "0.0754403596268015"
      ],
      "text/plain": [
       "[1] 0.07544036"
      ]
     },
     "metadata": {},
     "output_type": "display_data"
    }
   ],
   "source": [
    "pvalue = 2*(1-pnorm(abs(zcal))) \n",
    "pvalue = 2*pnorm(abs(zcal), lower.tail=F)\n",
    "pvalue"
   ]
  },
  {
   "cell_type": "markdown",
   "metadata": {},
   "source": [
    "Conclusion: Since p-value > LOS, therefore do not reject H 0 at 5% LOS."
   ]
  },
  {
   "cell_type": "markdown",
   "metadata": {},
   "source": [
    "##### Problem: Test the hypothesis H 0 : μ ≥ 50 against H 1 : μ < 50. A random sample of size 65 is drawn gives mean 47.8 and standard deviation 10. Use LOS = 5%."
   ]
  },
  {
   "cell_type": "code",
   "execution_count": 168,
   "metadata": {},
   "outputs": [],
   "source": [
    "n=65;mean=47.8;sd=10;m0=50"
   ]
  },
  {
   "cell_type": "code",
   "execution_count": 169,
   "metadata": {},
   "outputs": [
    {
     "data": {
      "text/html": [
       "-1.77369670462568"
      ],
      "text/latex": [
       "-1.77369670462568"
      ],
      "text/markdown": [
       "-1.77369670462568"
      ],
      "text/plain": [
       "[1] -1.773697"
      ]
     },
     "metadata": {},
     "output_type": "display_data"
    }
   ],
   "source": [
    "zcal = (mean-m0)/(sd/sqrt(n))\n",
    "zcal"
   ]
  },
  {
   "cell_type": "code",
   "execution_count": 170,
   "metadata": {},
   "outputs": [
    {
     "data": {
      "text/html": [
       "0.0380566659153539"
      ],
      "text/latex": [
       "0.0380566659153539"
      ],
      "text/markdown": [
       "0.0380566659153539"
      ],
      "text/plain": [
       "[1] 0.03805667"
      ]
     },
     "metadata": {},
     "output_type": "display_data"
    }
   ],
   "source": [
    "pvalue = pnorm(zcal)\n",
    "pvalue"
   ]
  },
  {
   "cell_type": "markdown",
   "metadata": {},
   "source": [
    "##### Conclusion: Since p-value < LOS, therefore reject H 0 at 5% LOS."
   ]
  },
  {
   "cell_type": "markdown",
   "metadata": {},
   "source": [
    "###### Problem: Two random samples of sizes 1000 and 2000 are drawn from two populations with same standard deviation 2.5 gives means 67.5 and 68 respectively. Test the hypothesis H 0 : μ 1 = μ 2 against H 1 : μ 1 ≠ μ 2 . Use 5% LOS."
   ]
  },
  {
   "cell_type": "code",
   "execution_count": 171,
   "metadata": {},
   "outputs": [],
   "source": [
    "n1=1000; n2=2000; xbar1 = 67.5; xbar2 = 68; s1 = 2.5; s2 = 2.5"
   ]
  },
  {
   "cell_type": "code",
   "execution_count": 172,
   "metadata": {},
   "outputs": [
    {
     "data": {
      "text/html": [
       "-5.16397779494322"
      ],
      "text/latex": [
       "-5.16397779494322"
      ],
      "text/markdown": [
       "-5.16397779494322"
      ],
      "text/plain": [
       "[1] -5.163978"
      ]
     },
     "metadata": {},
     "output_type": "display_data"
    }
   ],
   "source": [
    "zcal = (xbar1 - xbar2)/sqrt(s1^2/n1 + s2^2/n2)\n",
    "zcal"
   ]
  },
  {
   "cell_type": "code",
   "execution_count": 173,
   "metadata": {},
   "outputs": [
    {
     "data": {
      "text/html": [
       "2.41756388019709e-07"
      ],
      "text/latex": [
       "2.41756388019709e-07"
      ],
      "text/markdown": [
       "2.41756388019709e-07"
      ],
      "text/plain": [
       "[1] 2.417564e-07"
      ]
     },
     "metadata": {},
     "output_type": "display_data"
    }
   ],
   "source": [
    "pvalue = 2*(1-pnorm(abs(zcal)))\n",
    "pvalue"
   ]
  },
  {
   "cell_type": "markdown",
   "metadata": {},
   "source": [
    "##### Conclusion: Since p-value < LOS, therefore reject H 0 at 5% LOS."
   ]
  },
  {
   "cell_type": "markdown",
   "metadata": {},
   "source": [
    "###### Problem: Experience has shown that 20% of a manufactured product is of the top quality. In one day’s production of 400 articles only 50 are of top quality. Test the hypothesis that experience of 20% is wrong.\n",
    "H 0 : P = 0.20 against H 1 : P≠ 0.20   n =400<br>\n",
    "Sample proportion p = 50/400 = 0.125   α =0.05\n"
   ]
  },
  {
   "cell_type": "code",
   "execution_count": 174,
   "metadata": {},
   "outputs": [],
   "source": [
    "n=400; p = 0.125; P = 0.20"
   ]
  },
  {
   "cell_type": "code",
   "execution_count": 175,
   "metadata": {},
   "outputs": [
    {
     "data": {
      "text/html": [
       "-3.75"
      ],
      "text/latex": [
       "-3.75"
      ],
      "text/markdown": [
       "-3.75"
      ],
      "text/plain": [
       "[1] -3.75"
      ]
     },
     "metadata": {},
     "output_type": "display_data"
    }
   ],
   "source": [
    "zcal = (p - P)/sqrt(P*(1-P)/n)\n",
    "zcal"
   ]
  },
  {
   "cell_type": "code",
   "execution_count": 176,
   "metadata": {},
   "outputs": [
    {
     "data": {
      "text/html": [
       "0.000176834570401629"
      ],
      "text/latex": [
       "0.000176834570401629"
      ],
      "text/markdown": [
       "0.000176834570401629"
      ],
      "text/plain": [
       "[1] 0.0001768346"
      ]
     },
     "metadata": {},
     "output_type": "display_data"
    }
   ],
   "source": [
    "pvalue = 2*(1-pnorm(abs(zcal)))\n",
    "pvalue"
   ]
  },
  {
   "cell_type": "markdown",
   "metadata": {},
   "source": [
    "###### Conclusion: Since p-value < LOS, therefore reject H 0 at 5% LOS."
   ]
  },
  {
   "attachments": {
    "7.png": {
     "image/png": "[encoded data removed]"
    }
   },
   "cell_type": "markdown",
   "metadata": {},
   "source": [
    "###### Problem: From each of two consignments of apples, a sample of size 200 is drawn, and number of rotten apples counted. Test whether the proportion of rotten apples in the two consignments are significantly different?\n",
    "\n",
    "![7.png](attachment:7.png)\n",
    "n1 = 200,<br>\n",
    "p1 = 44/200,<br>\n",
    "H 0 : P 1 = P 2 against H 1 : P 1 ≠ P 2<br>\n",
    "n2 = 200,<br>\n",
    "p2 = 30/200, α = 0.05"
   ]
  },
  {
   "cell_type": "code",
   "execution_count": 177,
   "metadata": {},
   "outputs": [],
   "source": [
    "n1=200; p1 = 44/200; n2 = 200; p2 = 30/200"
   ]
  },
  {
   "cell_type": "code",
   "execution_count": 178,
   "metadata": {},
   "outputs": [],
   "source": [
    "p = ((n1 * p1) + (n2 * p2))/(n1 + n2)"
   ]
  },
  {
   "cell_type": "code",
   "execution_count": 179,
   "metadata": {},
   "outputs": [],
   "source": [
    "q=1-p"
   ]
  },
  {
   "cell_type": "code",
   "execution_count": 180,
   "metadata": {},
   "outputs": [
    {
     "data": {
      "text/html": [
       "0.185"
      ],
      "text/latex": [
       "0.185"
      ],
      "text/markdown": [
       "0.185"
      ],
      "text/plain": [
       "[1] 0.185"
      ]
     },
     "metadata": {},
     "output_type": "display_data"
    },
    {
     "data": {
      "text/html": [
       "0.815"
      ],
      "text/latex": [
       "0.815"
      ],
      "text/markdown": [
       "0.815"
      ],
      "text/plain": [
       "[1] 0.815"
      ]
     },
     "metadata": {},
     "output_type": "display_data"
    }
   ],
   "source": [
    "p;q"
   ]
  },
  {
   "cell_type": "code",
   "execution_count": 181,
   "metadata": {},
   "outputs": [
    {
     "data": {
      "text/html": [
       "0.0388297566307078"
      ],
      "text/latex": [
       "0.0388297566307078"
      ],
      "text/markdown": [
       "0.0388297566307078"
      ],
      "text/plain": [
       "[1] 0.03882976"
      ]
     },
     "metadata": {},
     "output_type": "display_data"
    }
   ],
   "source": [
    "se = sqrt(p*q*(1/n1 + 1/n2))\n",
    "se"
   ]
  },
  {
   "cell_type": "code",
   "execution_count": 182,
   "metadata": {},
   "outputs": [
    {
     "data": {
      "text/html": [
       "1.80274114684102"
      ],
      "text/latex": [
       "1.80274114684102"
      ],
      "text/markdown": [
       "1.80274114684102"
      ],
      "text/plain": [
       "[1] 1.802741"
      ]
     },
     "metadata": {},
     "output_type": "display_data"
    }
   ],
   "source": [
    "zcal = (p1 - p2)/se\n",
    "zcal"
   ]
  },
  {
   "cell_type": "code",
   "execution_count": 183,
   "metadata": {},
   "outputs": [
    {
     "data": {
      "text/html": [
       "0.0714288768582831"
      ],
      "text/latex": [
       "0.0714288768582831"
      ],
      "text/markdown": [
       "0.0714288768582831"
      ],
      "text/plain": [
       "[1] 0.07142888"
      ]
     },
     "metadata": {},
     "output_type": "display_data"
    }
   ],
   "source": [
    "pvalue = 2*(1-pnorm(abs(zcal)))\n",
    "pvalue"
   ]
  },
  {
   "cell_type": "markdown",
   "metadata": {},
   "source": [
    "###### Conclusion: Since p-value > LOS, therefore do not reject H 0 at 5% LOS."
   ]
  },
  {
   "cell_type": "markdown",
   "metadata": {},
   "source": [
    "#### R-command for small samples\n",
    "##### To test single population mean:\n",
    "- Check normality of two populations using Shapiro-Wilk normality test or Q-Q plot.\n",
    "- t.test(x, mu, alt, conf.level)\n",
    "\n",
    "Where\n",
    "\n",
    "- **x:** vector of observations\n",
    "- **mu:** specified value of true mean i.e. μ 0\n",
    "- **alt:** alternative hypothesis with three options alt = “less”,alt = “greater”and by default alt = “two-sided”\n",
    "- **conf.level:** confidence coefficient (1 - α). Default option is 0.95"
   ]
  },
  {
   "cell_type": "markdown",
   "metadata": {},
   "source": [
    "#### Analytical methods of checking assumption of normality of parent population:\n",
    "If the sample size is small, Q-Q plot or boxplot fails to judge about normality of parent population. \n",
    "\n",
    "For small sample size, an analytical test, known as Shapiro-Wilk test is designed to check normality of population. The R-command to test normality of population is\n",
    "\n",
    "**shapiro.test(x)  where x: vector of observations**\n",
    "\n",
    "This command returns value of test-statistic W and p-value of test statistic.\n",
    "\n",
    "H 0 : population is normally distributed.\n",
    "\n",
    "Thus if the p-value < α, then the null hypothesis is rejected and there is evidence that the data tested are not from a normally distributed population. In other words, the data are\n",
    "not normal.\n",
    "\n",
    "On the contrary, if the p-value > α, then the null hypothesis that the data came from a normally distributed population cannot be rejected. \n",
    "\n",
    "However, since the test is biased by sample size, the test may be statistically significant from a normal distribution in any large samples. Thus a Q–Q plot is required for verification in addition to the test.\n",
    "\n"
   ]
  },
  {
   "attachments": {
    "8.png": {
     "image/png": "[encoded data removed]"
    }
   },
   "cell_type": "markdown",
   "metadata": {},
   "source": [
    "**Problem:** Write R-command, for the following data to test the hypothesis Ho : μ = 3400 against H1 : μ < 3400 at 5% LOS.\n",
    "![8.png](attachment:8.png)\n",
    "\n",
    "For applying t-test, basic assumption is, sample is drawn from normal population.\n",
    "> qqnorm(x)\n",
    "\n",
    "> qqline(x)"
   ]
  },
  {
   "cell_type": "markdown",
   "metadata": {},
   "source": [
    "For small sample, it is not possible to judge about normality of parent population using\n",
    "Q-Q plot. Therefore we use Shapiro-Wilk test as follows"
   ]
  },
  {
   "cell_type": "code",
   "execution_count": 184,
   "metadata": {},
   "outputs": [],
   "source": [
    "x<- c(3366, 3337, 3361, 3410, 3316, 3357, 3348, 3356, 3376, 3382, 3377, 3355, 3408,\n",
    "3401, 3390, 3424, 3383, 3374, 3484, 3390)"
   ]
  },
  {
   "cell_type": "code",
   "execution_count": 185,
   "metadata": {},
   "outputs": [
    {
     "data": {
      "text/plain": [
       "\n",
       "\tShapiro-Wilk normality test\n",
       "\n",
       "data:  x\n",
       "W = 0.93317, p-value = 0.1777\n"
      ]
     },
     "metadata": {},
     "output_type": "display_data"
    }
   ],
   "source": [
    "shapiro.test(x)"
   ]
  },
  {
   "cell_type": "markdown",
   "metadata": {},
   "source": [
    "Since p-value > α, \n",
    "\n",
    "Therefore the null hypothesis that the data came from a normally distributed population cannot be rejected. Hence we can apply t-test for testing population\n",
    "mean.\n",
    ">H0 : μ = 3400\n",
    "\n",
    ">H1 : μ < 3400"
   ]
  },
  {
   "cell_type": "code",
   "execution_count": 186,
   "metadata": {},
   "outputs": [
    {
     "data": {
      "text/plain": [
       "\n",
       "\tOne Sample t-test\n",
       "\n",
       "data:  x\n",
       "t = -2.5268, df = 19, p-value = 0.01027\n",
       "alternative hypothesis: true mean is less than 3400\n",
       "95 percent confidence interval:\n",
       "     -Inf 3393.607\n",
       "sample estimates:\n",
       "mean of x \n",
       "  3379.75 \n"
      ]
     },
     "metadata": {},
     "output_type": "display_data"
    }
   ],
   "source": [
    "t.test(x, mu=3400, alt=\"less\")"
   ]
  },
  {
   "cell_type": "markdown",
   "metadata": {},
   "source": [
    "**Interpretation:**\n",
    "\n",
    "t cal = -2.5268,<br>\n",
    "degrees of freedom = 19,<br>\n",
    "p-value = 0.01027<br>\n",
    "Since p-value < α (0.05),<br>\n",
    "\n",
    "Therefore decision is to reject H o at 5% level of significance.\n",
    ">95% C.I = (-∞, 3393.607)\n",
    "\n",
    "**Note: Since alternative hypothesis is one sided, lower limit of the class interval is - ∞ .**\n",
    "\n",
    ">Point estimate = x ത = 3379.5\n",
    "\n",
    "Decision about acceptance or rejection of null hypothesis can be taken on the basis of confidence interval also. \n",
    "\n",
    "In the above example μ 0 = 3400 lies outside the 95% C.I., hence H0 is rejected at 5% level of significance."
   ]
  },
  {
   "cell_type": "markdown",
   "metadata": {},
   "source": [
    "###### Problem: The following data refer to the amount of coffee (in ounces) filled by a machine in six randomly picked jars: 15.7, 15.9, 16.3, 16.2, 15.7 and 15.9. Is the true mean amount of coffee in a jar is 16 ounces? Use LOS 5%.\n",
    "\n",
    ">H0 : μ = 16\n",
    "\n",
    ">H1 : μ ≠ 16\n",
    "\n",
    "Since sample size n = 6 is small, <br>we have to use t-test, which is based on the normality of parent population. \n",
    "\n",
    "Therefore first we have to use Shapiro-Wilk normality test."
   ]
  },
  {
   "cell_type": "code",
   "execution_count": 187,
   "metadata": {},
   "outputs": [
    {
     "data": {
      "text/html": [
       "<style>\n",
       ".list-inline {list-style: none; margin:0; padding: 0}\n",
       ".list-inline>li {display: inline-block}\n",
       ".list-inline>li:not(:last-child)::after {content: \"\\00b7\"; padding: 0 .5ex}\n",
       "</style>\n",
       "<ol class=list-inline><li>15.7</li><li>15.9</li><li>16.3</li><li>16.2</li><li>15.7</li><li>15.9</li></ol>\n"
      ],
      "text/latex": [
       "\\begin{enumerate*}\n",
       "\\item 15.7\n",
       "\\item 15.9\n",
       "\\item 16.3\n",
       "\\item 16.2\n",
       "\\item 15.7\n",
       "\\item 15.9\n",
       "\\end{enumerate*}\n"
      ],
      "text/markdown": [
       "1. 15.7\n",
       "2. 15.9\n",
       "3. 16.3\n",
       "4. 16.2\n",
       "5. 15.7\n",
       "6. 15.9\n",
       "\n",
       "\n"
      ],
      "text/plain": [
       "[1] 15.7 15.9 16.3 16.2 15.7 15.9"
      ]
     },
     "metadata": {},
     "output_type": "display_data"
    }
   ],
   "source": [
    "x <- c(15.7, 15.9, 16.3, 16.2, 15.7, 15.9)\n",
    "x"
   ]
  },
  {
   "cell_type": "code",
   "execution_count": 188,
   "metadata": {},
   "outputs": [
    {
     "data": {
      "text/plain": [
       "\n",
       "\tShapiro-Wilk normality test\n",
       "\n",
       "data:  x\n",
       "W = 0.8788, p-value = 0.2636\n"
      ]
     },
     "metadata": {},
     "output_type": "display_data"
    }
   ],
   "source": [
    "shapiro.test(x)"
   ]
  },
  {
   "cell_type": "markdown",
   "metadata": {},
   "source": [
    "Since p-value > α, \n",
    "\n",
    "Therefore the null hypothesis that the data came from a normally distributed population cannot be rejected. \n",
    "\n",
    "Hence we can apply t-test for testing population mean."
   ]
  },
  {
   "cell_type": "code",
   "execution_count": 189,
   "metadata": {},
   "outputs": [
    {
     "data": {
      "text/plain": [
       "\n",
       "\tOne Sample t-test\n",
       "\n",
       "data:  x\n",
       "t = -0.48795, df = 5, p-value = 0.6462\n",
       "alternative hypothesis: true mean is not equal to 16\n",
       "95 percent confidence interval:\n",
       " 15.68659 16.21341\n",
       "sample estimates:\n",
       "mean of x \n",
       "    15.95 \n"
      ]
     },
     "metadata": {},
     "output_type": "display_data"
    }
   ],
   "source": [
    "t.test(x, mu=16)"
   ]
  },
  {
   "cell_type": "markdown",
   "metadata": {},
   "source": [
    "Interpretation:\n",
    ">t cal = -0.488,\n",
    "\n",
    ">degrees of freedom = 5,\n",
    "\n",
    ">p-value = 0.6462\n",
    "\n",
    "Since p-value > α (0.05), \n",
    "\n",
    "Therefore decision is, do not reject Ho at 5% level of\n",
    "significance.\n",
    ">95% C.I = (15.68659 16.21341)\n",
    "\n",
    ">Point estimate = x bar = 15.95"
   ]
  },
  {
   "cell_type": "markdown",
   "metadata": {},
   "source": [
    "Decision about acceptance or rejection of null hypothesis can be taken on the basis of confidence interval also. \n",
    "\n",
    "In the above example μ 0 = 16 lies within the 95% C.I., \n",
    "\n",
    "hence H0 is accepted at 5% level of significance."
   ]
  },
  {
   "cell_type": "markdown",
   "metadata": {},
   "source": [
    "### To test equality of two population means for two independent normal populations with equal variances:"
   ]
  },
  {
   "cell_type": "markdown",
   "metadata": {},
   "source": [
    "- Check normality of two populations using Shapiro-Wilk normality test or Q-Q plot.\n",
    "- Check for equality of variances using F-test for which R-command is var.test(x, y, ratio = 1, alternative = c(\"two.sided\", \"less\", \"greater\"), conf.level = 0.95)\n",
    "\n",
    "Where\n",
    "x , y: numeric vectors of data values\n",
    "\n",
    "**ratio:** the hypothesized ratio of the population variances of x and y\n",
    "\n",
    "**alternative:** a character string specifying the alternative hypothesis, must be one of \"two.sided\" (default), \"greater\" or \"less\". \n",
    "You can specify just the initial letter\n",
    "\n",
    "**conf.level:** confidence level\n",
    "\n",
    "- t.test(x, y, alt = ”less or greater”, var.equal = T)\n",
    "    Default value of alt is two.sided and var.equal is F."
   ]
  },
  {
   "cell_type": "markdown",
   "metadata": {},
   "source": [
    "###### Problem: Below are given the gain in weights (in lbs) of pigs fed on two diets A and B\n",
    "**Gain in weight**\n",
    "\n",
    "Diet A:\n",
    "**25, 32, 30, 43, 24, 14, 32, 24, 31, 31, 35, 25**\n",
    "\n",
    "Diet B:\n",
    "**44, 34, 22, 10, 47, 31, 40, 30, 32, 35, 18, 21, 35, 29, 22**\n",
    "\n",
    "Test, if the two diets differ significantly as regards their effect on increase in weight. \n",
    "\n",
    "Use LOS 5%."
   ]
  },
  {
   "cell_type": "code",
   "execution_count": 190,
   "metadata": {},
   "outputs": [],
   "source": [
    "x <- c(25,32,30,34,24,14,32,24,30,31,35,25)\n",
    "y <- c(44,34,22,10,47,31,40,30,32,35,18,21,35,29,22)"
   ]
  },
  {
   "cell_type": "code",
   "execution_count": 191,
   "metadata": {},
   "outputs": [
    {
     "data": {
      "text/plain": [
       "\n",
       "\tShapiro-Wilk normality test\n",
       "\n",
       "data:  x\n",
       "W = 0.88753, p-value = 0.1095\n"
      ]
     },
     "metadata": {},
     "output_type": "display_data"
    }
   ],
   "source": [
    "shapiro.test(x)"
   ]
  },
  {
   "cell_type": "markdown",
   "metadata": {},
   "source": [
    "**Conclusion1:**\n",
    "\n",
    "Since p-value > LOS, \n",
    "\n",
    "Therefore null hypothesis of normality of population X is accepted."
   ]
  },
  {
   "cell_type": "code",
   "execution_count": 192,
   "metadata": {},
   "outputs": [
    {
     "data": {
      "text/plain": [
       "\n",
       "\tShapiro-Wilk normality test\n",
       "\n",
       "data:  y\n",
       "W = 0.97722, p-value = 0.947\n"
      ]
     },
     "metadata": {},
     "output_type": "display_data"
    }
   ],
   "source": [
    "shapiro.test(y)"
   ]
  },
  {
   "cell_type": "markdown",
   "metadata": {},
   "source": [
    "**Conclusion2:**\n",
    "\n",
    "Since p-value > LOS, \n",
    "\n",
    "Therefore null hypothesis of normality of population Y is accepted."
   ]
  },
  {
   "cell_type": "code",
   "execution_count": 193,
   "metadata": {},
   "outputs": [
    {
     "data": {
      "text/plain": [
       "\n",
       "\tF test to compare two variances\n",
       "\n",
       "data:  x and y\n",
       "F = 0.343, num df = 11, denom df = 14, p-value = 0.08144\n",
       "alternative hypothesis: true ratio of variances is not equal to 1\n",
       "95 percent confidence interval:\n",
       " 0.1108401 1.1520871\n",
       "sample estimates:\n",
       "ratio of variances \n",
       "         0.3430045 \n"
      ]
     },
     "metadata": {},
     "output_type": "display_data"
    }
   ],
   "source": [
    "var.test(x, y, ratio = 1)"
   ]
  },
  {
   "cell_type": "markdown",
   "metadata": {},
   "source": [
    "#### Conclusion3:\n",
    "\n",
    "Since p-value > LOS, \n",
    "\n",
    "Therefore null hypothesis of equality of two population variances is accepted.\n",
    "\n",
    "Since both the assumptions normality of two populations and equality of two population variances are satisfied therefore we can apply t-test. "
   ]
  },
  {
   "cell_type": "code",
   "execution_count": 194,
   "metadata": {},
   "outputs": [
    {
     "data": {
      "text/plain": [
       "\n",
       "\tTwo Sample t-test\n",
       "\n",
       "data:  x and y\n",
       "t = -0.61028, df = 25, p-value = 0.5472\n",
       "alternative hypothesis: true difference in means is not equal to 0\n",
       "95 percent confidence interval:\n",
       " -8.749507  4.749507\n",
       "sample estimates:\n",
       "mean of x mean of y \n",
       "       28        30 \n"
      ]
     },
     "metadata": {},
     "output_type": "display_data"
    }
   ],
   "source": [
    "t.test(x, y, var.equal = T)"
   ]
  },
  {
   "cell_type": "markdown",
   "metadata": {},
   "source": [
    "#### Final Conclusion: \n",
    "\n",
    "Since p-value > LOS,\n",
    "\n",
    "Therefore null hypothesis of equality of two population means is accepted and we may conclude that two diets do not differ significantly as regards their effect on increase in the weight.\n",
    "\n",
    "**Note:** If assumption of normality of parent population fails, then use non-parametric methods. \n",
    "\n",
    "Also for normal populations, if equality of population variances is rejected by F-test, then usual t-test is not applicable. \n",
    "\n",
    "Instead, Welch’s variant of t-test is used. \n",
    "\n",
    "To carry out this test, R-command is t.test(x, y, mu = 0, alt). \n",
    "\n",
    "In this command argument var.equal is not required, as its default value is FALSE."
   ]
  },
  {
   "cell_type": "markdown",
   "metadata": {},
   "source": [
    "### Paired t-test\n",
    "This test is based on the assumption of normality of population differences.\n",
    "\n",
    "- Check normality of two populations differences using Shapiro-Wilk normality test using R-command shapiro.test(d) where d = x - y\n",
    "- t.test(d, mu = 0, conf.level) or t.test(x, y, paired = T, conf.level)"
   ]
  },
  {
   "cell_type": "markdown",
   "metadata": {},
   "source": [
    "### Problem: \n",
    "Eleven school boys were given a test in mathematics. They were given a month’s tuition and a second test was held at the end of it. Do the marks give evidence that the student’s have benefited by the extra coaching? Use LOS 5%.\n",
    "\n",
    "Marks in test-1: 23, 20, 19, 21, 18, 20, 18, 17, 23, 16, 19<br>\n",
    "Marks in test-2: 24, 19, 22, 18, 20, 22, 20, 20, 23, 20, 17"
   ]
  },
  {
   "cell_type": "code",
   "execution_count": 195,
   "metadata": {},
   "outputs": [],
   "source": [
    "x <- c(23, 20, 19, 21, 18, 20, 18, 17, 23, 16, 19)\n",
    "y <- c(24, 19, 22, 18, 20, 22, 20, 20, 23, 20, 17)\n",
    "d = x -y"
   ]
  },
  {
   "cell_type": "code",
   "execution_count": 196,
   "metadata": {},
   "outputs": [
    {
     "data": {
      "text/html": [
       "<style>\n",
       ".list-inline {list-style: none; margin:0; padding: 0}\n",
       ".list-inline>li {display: inline-block}\n",
       ".list-inline>li:not(:last-child)::after {content: \"\\00b7\"; padding: 0 .5ex}\n",
       "</style>\n",
       "<ol class=list-inline><li>23</li><li>20</li><li>19</li><li>21</li><li>18</li><li>20</li><li>18</li><li>17</li><li>23</li><li>16</li><li>19</li></ol>\n"
      ],
      "text/latex": [
       "\\begin{enumerate*}\n",
       "\\item 23\n",
       "\\item 20\n",
       "\\item 19\n",
       "\\item 21\n",
       "\\item 18\n",
       "\\item 20\n",
       "\\item 18\n",
       "\\item 17\n",
       "\\item 23\n",
       "\\item 16\n",
       "\\item 19\n",
       "\\end{enumerate*}\n"
      ],
      "text/markdown": [
       "1. 23\n",
       "2. 20\n",
       "3. 19\n",
       "4. 21\n",
       "5. 18\n",
       "6. 20\n",
       "7. 18\n",
       "8. 17\n",
       "9. 23\n",
       "10. 16\n",
       "11. 19\n",
       "\n",
       "\n"
      ],
      "text/plain": [
       " [1] 23 20 19 21 18 20 18 17 23 16 19"
      ]
     },
     "metadata": {},
     "output_type": "display_data"
    },
    {
     "data": {
      "text/html": [
       "<style>\n",
       ".list-inline {list-style: none; margin:0; padding: 0}\n",
       ".list-inline>li {display: inline-block}\n",
       ".list-inline>li:not(:last-child)::after {content: \"\\00b7\"; padding: 0 .5ex}\n",
       "</style>\n",
       "<ol class=list-inline><li>24</li><li>19</li><li>22</li><li>18</li><li>20</li><li>22</li><li>20</li><li>20</li><li>23</li><li>20</li><li>17</li></ol>\n"
      ],
      "text/latex": [
       "\\begin{enumerate*}\n",
       "\\item 24\n",
       "\\item 19\n",
       "\\item 22\n",
       "\\item 18\n",
       "\\item 20\n",
       "\\item 22\n",
       "\\item 20\n",
       "\\item 20\n",
       "\\item 23\n",
       "\\item 20\n",
       "\\item 17\n",
       "\\end{enumerate*}\n"
      ],
      "text/markdown": [
       "1. 24\n",
       "2. 19\n",
       "3. 22\n",
       "4. 18\n",
       "5. 20\n",
       "6. 22\n",
       "7. 20\n",
       "8. 20\n",
       "9. 23\n",
       "10. 20\n",
       "11. 17\n",
       "\n",
       "\n"
      ],
      "text/plain": [
       " [1] 24 19 22 18 20 22 20 20 23 20 17"
      ]
     },
     "metadata": {},
     "output_type": "display_data"
    },
    {
     "data": {
      "text/html": [
       "<style>\n",
       ".list-inline {list-style: none; margin:0; padding: 0}\n",
       ".list-inline>li {display: inline-block}\n",
       ".list-inline>li:not(:last-child)::after {content: \"\\00b7\"; padding: 0 .5ex}\n",
       "</style>\n",
       "<ol class=list-inline><li>-1</li><li>1</li><li>-3</li><li>3</li><li>-2</li><li>-2</li><li>-2</li><li>-3</li><li>0</li><li>-4</li><li>2</li></ol>\n"
      ],
      "text/latex": [
       "\\begin{enumerate*}\n",
       "\\item -1\n",
       "\\item 1\n",
       "\\item -3\n",
       "\\item 3\n",
       "\\item -2\n",
       "\\item -2\n",
       "\\item -2\n",
       "\\item -3\n",
       "\\item 0\n",
       "\\item -4\n",
       "\\item 2\n",
       "\\end{enumerate*}\n"
      ],
      "text/markdown": [
       "1. -1\n",
       "2. 1\n",
       "3. -3\n",
       "4. 3\n",
       "5. -2\n",
       "6. -2\n",
       "7. -2\n",
       "8. -3\n",
       "9. 0\n",
       "10. -4\n",
       "11. 2\n",
       "\n",
       "\n"
      ],
      "text/plain": [
       " [1] -1  1 -3  3 -2 -2 -2 -3  0 -4  2"
      ]
     },
     "metadata": {},
     "output_type": "display_data"
    }
   ],
   "source": [
    "x; y; d"
   ]
  },
  {
   "cell_type": "code",
   "execution_count": 197,
   "metadata": {},
   "outputs": [
    {
     "data": {
      "text/plain": [
       "\n",
       "\tShapiro-Wilk normality test\n",
       "\n",
       "data:  d\n",
       "W = 0.93518, p-value = 0.4656\n"
      ]
     },
     "metadata": {},
     "output_type": "display_data"
    }
   ],
   "source": [
    "shapiro.test(d)"
   ]
  },
  {
   "cell_type": "markdown",
   "metadata": {},
   "source": [
    "Conclusion:\n",
    "\n",
    "Since p-value > LOS, \n",
    "\n",
    "Therefore hypothesis of normality of two populations differences is accepted. Hence we can use paired t-test."
   ]
  },
  {
   "cell_type": "code",
   "execution_count": 198,
   "metadata": {},
   "outputs": [
    {
     "data": {
      "text/plain": [
       "\n",
       "\tOne Sample t-test\n",
       "\n",
       "data:  d\n",
       "t = -1.4832, df = 10, p-value = 0.1688\n",
       "alternative hypothesis: true mean is not equal to 0\n",
       "95 percent confidence interval:\n",
       " -2.5022109  0.5022109\n",
       "sample estimates:\n",
       "mean of x \n",
       "       -1 \n"
      ]
     },
     "metadata": {},
     "output_type": "display_data"
    }
   ],
   "source": [
    "t.test(d, mu = 0)"
   ]
  },
  {
   "cell_type": "markdown",
   "metadata": {},
   "source": [
    "##### OR"
   ]
  },
  {
   "cell_type": "code",
   "execution_count": 199,
   "metadata": {},
   "outputs": [
    {
     "data": {
      "text/plain": [
       "\n",
       "\tPaired t-test\n",
       "\n",
       "data:  x and y\n",
       "t = -1.4832, df = 10, p-value = 0.1688\n",
       "alternative hypothesis: true difference in means is not equal to 0\n",
       "95 percent confidence interval:\n",
       " -2.5022109  0.5022109\n",
       "sample estimates:\n",
       "mean of the differences \n",
       "                     -1 \n"
      ]
     },
     "metadata": {},
     "output_type": "display_data"
    }
   ],
   "source": [
    "t.test(x, y, paired = T)"
   ]
  },
  {
   "cell_type": "code",
   "execution_count": 200,
   "metadata": {},
   "outputs": [
    {
     "data": {
      "text/plain": [
       "\n",
       "\tOne Sample t-test\n",
       "\n",
       "data:  d\n",
       "t = -1.4832, df = 10, p-value = 0.1688\n",
       "alternative hypothesis: true mean is not equal to 0\n",
       "99 percent confidence interval:\n",
       " -3.136723  1.136723\n",
       "sample estimates:\n",
       "mean of x \n",
       "       -1 \n"
      ]
     },
     "metadata": {},
     "output_type": "display_data"
    }
   ],
   "source": [
    "t.test(d, mu = 0,conf.level = 0.99) #99% confidence interval"
   ]
  },
  {
   "cell_type": "markdown",
   "metadata": {},
   "source": [
    "#### Final Conclusion: \n",
    "\n",
    "Since p-value > LOS, \n",
    "\n",
    "    Therefore null hypothesis that there is no significant difference between the marks obtained by students before and after tuition is accepted i.e. marks do not give any evidence that the student’s have benefited by the extra coaching."
   ]
  },
  {
   "cell_type": "markdown",
   "metadata": {},
   "source": [
    "#### R as a programming language\n",
    "While R is perhaps best known as a statistical tool for analyzing data or for making graphs, it is also really useful as a simple programming language and compiler. \n",
    "\n",
    "In R, a program is just any group of commands that you wish to run as a set, to achieve some output.\n",
    "\n",
    "#### Using Text Editors and \".R\" Files in R\n",
    "\n",
    "By using a text editor, we can write whole groups of commands and have the computer run them separately or all together. \n",
    "\n",
    "Further, text editors allow you to save your program for\n",
    "later use.\n",
    "\n",
    "There are three different types of windows that are used by R: console, graphics, and text editor windows. \n",
    "\n",
    "The window where you enter line commands is the R Console. When you used the \"plot\" command, it opened a new window, which is the graphics window.\n",
    "\n",
    "Text editor windows are just simple text editors that are smart enough to interact with R.\n",
    "\n",
    "On a PC, go to \"File\" and open \"New script\".\n",
    "\n",
    "To execute commands, either highlights the command(s) or put the cursor anywhere on that line and push the button in upper corner of the main R window for \"Run line or selection.\"\n",
    "\n",
    "Creating a new document (or script) opens a simple text editor in R. \n",
    "You can then enter multiple lines of commands that are not executed until you are ready. \n",
    "\n",
    "And, instead of executing commands one by one, you can execute them all at once or any set of them together. \n",
    "\n",
    "You can also save the file (usually as a “____.R” file) and rerun these commands at a later time.\n",
    "\n",
    "A function is a program in R that can be run using a single command, such as “mean” or “plot”. \n",
    "\n",
    "Such functions might be convenient for you to make if, for example, you want to run the same program over and over, perhaps just changing one or two variables."
   ]
  },
  {
   "cell_type": "markdown",
   "metadata": {},
   "source": [
    "The procedure for writing any other functions is similar, involving three key steps:\n",
    "1. Define the function,\n",
    "2. Load the function into the R session,\n",
    "3. Use the function.\n",
    "\n",
    "For R to be able to execute your function, it needs first to be read into memory. \n",
    "\n",
    "This is just like loading a library, until you do it the functions contained within it cannot be called.\n",
    "\n",
    "There are two methods for loading functions into the memory:\n",
    "\n",
    "1. Copy the function text and paste it into the console\n",
    "2. Use the source() function to load your functions from file.\n",
    "\n",
    "Put your functions into a file with an extension .R and save this file within the R folder in You can then read the function into memory by calling:\n",
    "\n",
    ">source(\"____.R\")\n"
   ]
  },
  {
   "cell_type": "code",
   "execution_count": 201,
   "metadata": {},
   "outputs": [],
   "source": [
    "# factorial1 = function(N)\n",
    "# {\n",
    "#     prod =1\n",
    "#     for (i in 1:N)\n",
    "#     {\n",
    "#         prod = prod * i\n",
    "#     }\n",
    "#     return(prod)\n",
    "# }\n",
    "# ncr = function(n, r)\n",
    "# {\n",
    "#     num = factorial1(n)\n",
    "#     deno1 = factorial1(r)\n",
    "#     deno2 = factorial1(n-r)\n",
    "#     ans = num/(deno1*deno2)\n",
    "#     return(ans)\n",
    "# }\n",
    "# absolute = function(x)\n",
    "# {\n",
    "#     if(x < 0)\n",
    "#     {\n",
    "#         cat(\"Modulus of \", x ,\" = \", -x, \"\\n\")\n",
    "#     }\n",
    "#     else\n",
    "#     {\n",
    "#         cat(\"Modulus of \", x ,\" = \", x, \"\\n\")\n",
    "#     }\n",
    "# }"
   ]
  },
  {
   "cell_type": "markdown",
   "metadata": {},
   "source": [
    "Save above script as say first.R"
   ]
  },
  {
   "cell_type": "code",
   "execution_count": 202,
   "metadata": {},
   "outputs": [],
   "source": [
    "# source('first.R')"
   ]
  },
  {
   "cell_type": "code",
   "execution_count": 203,
   "metadata": {},
   "outputs": [
    {
     "data": {
      "text/html": [
       "10"
      ],
      "text/latex": [
       "10"
      ],
      "text/markdown": [
       "10"
      ],
      "text/plain": [
       "[1] 10"
      ]
     },
     "metadata": {},
     "output_type": "display_data"
    }
   ],
   "source": [
    "ncr(5,3)"
   ]
  },
  {
   "cell_type": "code",
   "execution_count": 204,
   "metadata": {},
   "outputs": [
    {
     "name": "stdout",
     "output_type": "stream",
     "text": [
      "Modulus of  -5  =  5 \n"
     ]
    }
   ],
   "source": [
    "absolute(-5)"
   ]
  },
  {
   "cell_type": "code",
   "execution_count": 205,
   "metadata": {},
   "outputs": [
    {
     "name": "stdout",
     "output_type": "stream",
     "text": [
      "Modulus of  5  =  5 \n"
     ]
    }
   ],
   "source": [
    "absolute(5)"
   ]
  },
  {
   "cell_type": "markdown",
   "metadata": {},
   "source": [
    "## R- Commands for Analysis of variance:\n",
    "#### One way classification, Two way classification"
   ]
  },
  {
   "cell_type": "markdown",
   "metadata": {},
   "source": [
    "#### One-Way ANOVA\n",
    "We are often interested in determining whether the means from more than two populations or groups are equal or not. \n",
    "\n",
    "To test whether the difference in means is statistically significant we can perform analysis of variance (ANOVA) using the R function **aov()**. \n",
    "\n",
    "If the ANOVA F-test shows there is a significant difference in means between the groups we may want to perform multiple comparisons between all pair-wise means to determine how they differ.\n",
    "- The first step in our analysis is to graphically compare the means of the variable of interest across groups.\n",
    "     It is possible to create side-by-side boxplots of measurements organized in groups using the function plot().\n",
    "     >**plot(response ~ factor, data=data_name)**\n",
    "     \n",
    "Where response is the name of the response variable and factor the variable that separates the data into groups.\n",
    " \n",
    "Both variables should be contained in a data frame called\n",
    "data_name.\n",
    "\n",
    "- The second step, the R function aov() can be used for fitting ANOVA models. The general form is\n",
    "    >**aov(response ~ factor, data=data_name)**\n",
    "    \n",
    "Where response represents the response variable and factor the variable that separates the data into groups. Both variables should be contained in the data frame called data_name. \n",
    "\n",
    "Once the ANOVA model is fit, one can look at the results using the summary() function. \n",
    "\n",
    "This produces the standard ANOVA table."
   ]
  },
  {
   "cell_type": "markdown",
   "metadata": {},
   "source": [
    "### Problem:\n",
    "A drug company tested three formulations of a pain relief medicine for migraine headache sufferers. For the experiment 27 volunteers were selected and 9 were randomly assigned to one of three drug formulations. <br>\n",
    "The subjects were instructed to take the drug during their next migraine headache episode and to report their pain on a scale of 1 to 10 (10 being most pain\n",
    "\n",
    ">**Drug A**  4 5 4 3 2 4 3 4 4\n",
    "\n",
    ">**Drug B**  6 8 4 5 4 6 5 8 6\n",
    "\n",
    ">**Drug C**  6 7 6 6 7 5 6 5 5\n",
    "\n",
    "    To make side-by-side boxplots of the response variable “pain” grouped by the factor variable “drug” we must first read in the data into the appropriate format.\n"
   ]
  },
  {
   "cell_type": "code",
   "execution_count": 206,
   "metadata": {},
   "outputs": [],
   "source": [
    "pain = c(4, 5, 4, 3, 2, 4, 3, 4, 4, 6, 8, 4, 5, 4, 6, 5, 8, 6, 6, 7, 6, 6, 7, 5, 6, 5, 5)"
   ]
  },
  {
   "cell_type": "code",
   "execution_count": 207,
   "metadata": {},
   "outputs": [],
   "source": [
    "drug = c(rep(\"A\",9), rep(\"B\",9), rep(\"C\",9))"
   ]
  },
  {
   "cell_type": "code",
   "execution_count": 208,
   "metadata": {},
   "outputs": [
    {
     "data": {
      "text/html": [
       "<table>\n",
       "<caption>A data.frame: 27 × 2</caption>\n",
       "<thead>\n",
       "\t<tr><th scope=col>pain</th><th scope=col>drug</th></tr>\n",
       "\t<tr><th scope=col>&lt;dbl&gt;</th><th scope=col>&lt;fct&gt;</th></tr>\n",
       "</thead>\n",
       "<tbody>\n",
       "\t<tr><td>4</td><td>A</td></tr>\n",
       "\t<tr><td>5</td><td>A</td></tr>\n",
       "\t<tr><td>4</td><td>A</td></tr>\n",
       "\t<tr><td>3</td><td>A</td></tr>\n",
       "\t<tr><td>2</td><td>A</td></tr>\n",
       "\t<tr><td>4</td><td>A</td></tr>\n",
       "\t<tr><td>3</td><td>A</td></tr>\n",
       "\t<tr><td>4</td><td>A</td></tr>\n",
       "\t<tr><td>4</td><td>A</td></tr>\n",
       "\t<tr><td>6</td><td>B</td></tr>\n",
       "\t<tr><td>8</td><td>B</td></tr>\n",
       "\t<tr><td>4</td><td>B</td></tr>\n",
       "\t<tr><td>5</td><td>B</td></tr>\n",
       "\t<tr><td>4</td><td>B</td></tr>\n",
       "\t<tr><td>6</td><td>B</td></tr>\n",
       "\t<tr><td>5</td><td>B</td></tr>\n",
       "\t<tr><td>8</td><td>B</td></tr>\n",
       "\t<tr><td>6</td><td>B</td></tr>\n",
       "\t<tr><td>6</td><td>C</td></tr>\n",
       "\t<tr><td>7</td><td>C</td></tr>\n",
       "\t<tr><td>6</td><td>C</td></tr>\n",
       "\t<tr><td>6</td><td>C</td></tr>\n",
       "\t<tr><td>7</td><td>C</td></tr>\n",
       "\t<tr><td>5</td><td>C</td></tr>\n",
       "\t<tr><td>6</td><td>C</td></tr>\n",
       "\t<tr><td>5</td><td>C</td></tr>\n",
       "\t<tr><td>5</td><td>C</td></tr>\n",
       "</tbody>\n",
       "</table>\n"
      ],
      "text/latex": [
       "A data.frame: 27 × 2\n",
       "\\begin{tabular}{ll}\n",
       " pain & drug\\\\\n",
       " <dbl> & <fct>\\\\\n",
       "\\hline\n",
       "\t 4 & A\\\\\n",
       "\t 5 & A\\\\\n",
       "\t 4 & A\\\\\n",
       "\t 3 & A\\\\\n",
       "\t 2 & A\\\\\n",
       "\t 4 & A\\\\\n",
       "\t 3 & A\\\\\n",
       "\t 4 & A\\\\\n",
       "\t 4 & A\\\\\n",
       "\t 6 & B\\\\\n",
       "\t 8 & B\\\\\n",
       "\t 4 & B\\\\\n",
       "\t 5 & B\\\\\n",
       "\t 4 & B\\\\\n",
       "\t 6 & B\\\\\n",
       "\t 5 & B\\\\\n",
       "\t 8 & B\\\\\n",
       "\t 6 & B\\\\\n",
       "\t 6 & C\\\\\n",
       "\t 7 & C\\\\\n",
       "\t 6 & C\\\\\n",
       "\t 6 & C\\\\\n",
       "\t 7 & C\\\\\n",
       "\t 5 & C\\\\\n",
       "\t 6 & C\\\\\n",
       "\t 5 & C\\\\\n",
       "\t 5 & C\\\\\n",
       "\\end{tabular}\n"
      ],
      "text/markdown": [
       "\n",
       "A data.frame: 27 × 2\n",
       "\n",
       "| pain &lt;dbl&gt; | drug &lt;fct&gt; |\n",
       "|---|---|\n",
       "| 4 | A |\n",
       "| 5 | A |\n",
       "| 4 | A |\n",
       "| 3 | A |\n",
       "| 2 | A |\n",
       "| 4 | A |\n",
       "| 3 | A |\n",
       "| 4 | A |\n",
       "| 4 | A |\n",
       "| 6 | B |\n",
       "| 8 | B |\n",
       "| 4 | B |\n",
       "| 5 | B |\n",
       "| 4 | B |\n",
       "| 6 | B |\n",
       "| 5 | B |\n",
       "| 8 | B |\n",
       "| 6 | B |\n",
       "| 6 | C |\n",
       "| 7 | C |\n",
       "| 6 | C |\n",
       "| 6 | C |\n",
       "| 7 | C |\n",
       "| 5 | C |\n",
       "| 6 | C |\n",
       "| 5 | C |\n",
       "| 5 | C |\n",
       "\n"
      ],
      "text/plain": [
       "   pain drug\n",
       "1  4    A   \n",
       "2  5    A   \n",
       "3  4    A   \n",
       "4  3    A   \n",
       "5  2    A   \n",
       "6  4    A   \n",
       "7  3    A   \n",
       "8  4    A   \n",
       "9  4    A   \n",
       "10 6    B   \n",
       "11 8    B   \n",
       "12 4    B   \n",
       "13 5    B   \n",
       "14 4    B   \n",
       "15 6    B   \n",
       "16 5    B   \n",
       "17 8    B   \n",
       "18 6    B   \n",
       "19 6    C   \n",
       "20 7    C   \n",
       "21 6    C   \n",
       "22 6    C   \n",
       "23 7    C   \n",
       "24 5    C   \n",
       "25 6    C   \n",
       "26 5    C   \n",
       "27 5    C   "
      ]
     },
     "metadata": {},
     "output_type": "display_data"
    }
   ],
   "source": [
    "migraine = data.frame(pain,drug)\n",
    "migraine"
   ]
  },
  {
   "cell_type": "markdown",
   "metadata": {},
   "source": [
    "We can now make the boxplots by typing:"
   ]
  },
  {
   "cell_type": "code",
   "execution_count": 209,
   "metadata": {},
   "outputs": [
    {
     "data": {
      "image/png": "[encoded data removed]",
      "text/plain": [
       "plot without title"
      ]
     },
     "metadata": {
      "image/png": {
       "height": 420,
       "width": 420
      },
      "text/plain": {
       "height": 420,
       "width": 420
      }
     },
     "output_type": "display_data"
    }
   ],
   "source": [
    "plot(pain ~ drug, data = migraine)"
   ]
  },
  {
   "cell_type": "markdown",
   "metadata": {},
   "source": [
    "From the boxplots it appears that the mean pain for drug A is lower than that for drugs B and C.\n",
    "\n",
    "Next, the R function aov() can be used for fitting ANOVA models."
   ]
  },
  {
   "cell_type": "code",
   "execution_count": 210,
   "metadata": {},
   "outputs": [],
   "source": [
    "results = aov(pain ~ drug, data = migraine)"
   ]
  },
  {
   "cell_type": "code",
   "execution_count": 211,
   "metadata": {},
   "outputs": [
    {
     "data": {
      "text/plain": [
       "            Df Sum Sq Mean Sq F value   Pr(>F)    \n",
       "drug         2  28.22  14.111   11.91 0.000256 ***\n",
       "Residuals   24  28.44   1.185                     \n",
       "---\n",
       "Signif. codes:  0 ‘***’ 0.001 ‘**’ 0.01 ‘*’ 0.05 ‘.’ 0.1 ‘ ’ 1"
      ]
     },
     "metadata": {},
     "output_type": "display_data"
    }
   ],
   "source": [
    "summary(results)"
   ]
  },
  {
   "cell_type": "markdown",
   "metadata": {},
   "source": [
    "Studying the output of the **ANOVA** table above we see that the F-statistic is 11.91 with a p-value equal to 0.0003.\n",
    "\n",
    "We clearly reject the null hypothesis of equal means for all three drug groups.\n",
    "\n",
    "The ANOVA F-test answers the question whether there are significant differences in the K population means. \n",
    "\n",
    "However, it does not provide us with any information about how they differ. \n",
    "\n",
    "Therefore when you reject H 0 in ANOVA, additional analyses are required to determine what is driving the difference in means."
   ]
  },
  {
   "cell_type": "markdown",
   "metadata": {},
   "source": [
    "**Multiple comparisons procedure is Tukey‟s method (a.k.a.Tukey's Honest Significance Test). **\n",
    "\n",
    "The function TukeyHSD() creates a set of confidence intervals on the differences between means with the specified family-wise probability of coverage. \n",
    "\n",
    "The general form is\n",
    ">TukeyHSD(x, conf.level = 0.95)\n",
    "\n",
    "Here x is a fitted model object (e.g., an aov fit) and conf.level is the confidence level."
   ]
  },
  {
   "cell_type": "code",
   "execution_count": 212,
   "metadata": {},
   "outputs": [
    {
     "data": {
      "text/plain": [
       "  Tukey multiple comparisons of means\n",
       "    95% family-wise confidence level\n",
       "\n",
       "Fit: aov(formula = pain ~ drug, data = migraine)\n",
       "\n",
       "$drug\n",
       "         diff        lwr      upr     p adj\n",
       "B-A 2.1111111  0.8295028 3.392719 0.0011107\n",
       "C-A 2.2222222  0.9406139 3.503831 0.0006453\n",
       "C-B 0.1111111 -1.1704972 1.392719 0.9745173\n"
      ]
     },
     "metadata": {},
     "output_type": "display_data"
    }
   ],
   "source": [
    "TukeyHSD(results, conf.level = 0.95)"
   ]
  },
  {
   "cell_type": "markdown",
   "metadata": {},
   "source": [
    "These results show that the B-A and C-A differences are significant\n",
    "\n",
    "(p=0.0011 and p=0.00065, respectively), \n",
    "\n",
    "while the C-B difference is not(p=0.97)."
   ]
  },
  {
   "cell_type": "markdown",
   "metadata": {},
   "source": [
    "### Two-Way ANOVA"
   ]
  },
  {
   "cell_type": "markdown",
   "metadata": {},
   "source": [
    "Two-way **ANOVA** is used to compare the means of populations that are classified in two different ways, or the mean responses in an experiment with two factors. \n",
    "\n",
    "We fit two-way **ANOVA** models in R using the function **aov()**.\n",
    "> aov(Response~ FactorA+ FactorB)\n",
    "\n",
    "fits a two-way ANOVA model without interactions.\n",
    "\n",
    "Here both Factor A and Factor B are categorical variables, while Response is quantitative."
   ]
  },
  {
   "attachments": {
    "9.png": {
     "image/png": "[encoded data removed]"
    }
   },
   "cell_type": "markdown",
   "metadata": {},
   "source": [
    "### Problem: \n",
    "A tea company appoints four salesmen A, B, C and D and observes their sales in three seasons – summer, winter and monsoon.\n",
    "\n",
    "The figures (in lakhs) of sales are given in the following table:\n",
    "![9.png](attachment:9.png)\n",
    "\n",
    "i) Do the salesmen significantly differ in performance?\n",
    "\n",
    "ii) Is there significant difference between the seasons?"
   ]
  },
  {
   "cell_type": "code",
   "execution_count": 213,
   "metadata": {},
   "outputs": [],
   "source": [
    "sales = c(36,36,21,35,28,29,31,32,26,28,29,29)"
   ]
  },
  {
   "cell_type": "code",
   "execution_count": 214,
   "metadata": {},
   "outputs": [],
   "source": [
    "f1 = c(rep(1:3, rep(4,3)))"
   ]
  },
  {
   "cell_type": "code",
   "execution_count": 215,
   "metadata": {},
   "outputs": [],
   "source": [
    "f2 = rep(c(\"A\",\"B\",\"C\",\"D\"),3)"
   ]
  },
  {
   "cell_type": "code",
   "execution_count": 216,
   "metadata": {},
   "outputs": [],
   "source": [
    "season = factor(f1)"
   ]
  },
  {
   "cell_type": "code",
   "execution_count": 217,
   "metadata": {},
   "outputs": [],
   "source": [
    "salesmen = factor(f2)"
   ]
  },
  {
   "cell_type": "code",
   "execution_count": 218,
   "metadata": {},
   "outputs": [],
   "source": [
    "ans = aov(sales~ season + salesmen)"
   ]
  },
  {
   "cell_type": "code",
   "execution_count": 219,
   "metadata": {},
   "outputs": [
    {
     "data": {
      "text/plain": [
       "            Df Sum Sq Mean Sq F value Pr(>F)\n",
       "season       2     32   16.00   0.706  0.531\n",
       "salesmen     3     42   14.00   0.618  0.629\n",
       "Residuals    6    136   22.67               "
      ]
     },
     "metadata": {},
     "output_type": "display_data"
    }
   ],
   "source": [
    "summary(ans)"
   ]
  },
  {
   "cell_type": "markdown",
   "metadata": {},
   "source": [
    "### Since p-value > LOS for both factors season and salesmen, therefore H 0 is accepted.\n",
    "    Salesmen do not differ significantly in their performance and also there is no significant difference between seasons."
   ]
  },
  {
   "cell_type": "code",
   "execution_count": null,
   "metadata": {},
   "outputs": [],
   "source": []
  },
  {
   "cell_type": "code",
   "execution_count": null,
   "metadata": {},
   "outputs": [],
   "source": []
  }
 ],
 "metadata": {
  "kernelspec": {
   "display_name": "R",
   "language": "R",
   "name": "ir"
  },
  "language_info": {
   "codemirror_mode": "r",
   "file_extension": ".r",
   "mimetype": "text/x-r-source",
   "name": "R",
   "pygments_lexer": "r",
   "version": "3.6.3"
  }
 },
 "nbformat": 4,
 "nbformat_minor": 2
}
